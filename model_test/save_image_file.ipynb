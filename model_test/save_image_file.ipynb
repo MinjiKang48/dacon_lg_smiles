{
 "cells": [
  {
   "cell_type": "code",
   "execution_count": 1,
   "metadata": {},
   "outputs": [],
   "source": [
    "import numpy as np\n",
    "import h5py\n",
    "from tqdm import tqdm\n",
    "\n",
    "from PIL import Image\n",
    "import torch"
   ]
  },
  {
   "cell_type": "code",
   "execution_count": 2,
   "metadata": {},
   "outputs": [
    {
     "name": "stderr",
     "output_type": "stream",
     "text": [
      "C:\\Users\\minji\\anaconda3\\envs\\lg_smiles\\lib\\site-packages\\ipykernel_launcher.py:1: H5pyDeprecationWarning: The default file mode will change to 'r' (read-only) in h5py 3.0. To suppress this warning, pass the mode you need to h5py.File(), or set the global default h5.get_config().default_file_mode, or set the environment variable H5PY_DEFAULT_READONLY=1. Available modes are: 'r', 'r+', 'w', 'w-'/'x', 'a'. See the docs for details.\n",
      "  \"\"\"Entry point for launching an IPython kernel.\n",
      "100%|███████████████████████████████████████████████████████████████████████████████| 100/100 [00:00<00:00, 348.65it/s]\n"
     ]
    }
   ],
   "source": [
    "f = h5py.File('./backup/train_images.hdf5')\n",
    "dt = h5py.special_dtype(vlen=np.dtype('uint8'))\n",
    "dset = f.create_dataset('images', (100, ), dtype=dt)\n",
    "\n",
    "data_folder = './'\n",
    "data_name = 'train.csv'\n",
    "\n",
    "with open(data_folder + data_name, 'r') as csv_file:\n",
    "    data = csv_file.read()\n",
    "\n",
    "index = 0\n",
    "\n",
    "for line in tqdm(data.split('\\n')[1:101]):\n",
    "    image_id, smiles = line.split(',')\n",
    "    caption = \"<\" + smiles + \">\"\n",
    "    filename = data_folder + \"train/\"+ image_id\n",
    "    #fin = open(filename, 'rb')\n",
    "    #binary_data = fin.read()\n",
    "    dset[index] = np.array(Image.open(filename).resize((224,224))).flatten()\n",
    "    index += 1\n",
    "    \n",
    "    if index % 10000 == 0:\n",
    "        print(index)"
   ]
  },
  {
   "cell_type": "code",
   "execution_count": 7,
   "metadata": {},
   "outputs": [],
   "source": [
    "f.close()"
   ]
  },
  {
   "cell_type": "code",
   "execution_count": 8,
   "metadata": {},
   "outputs": [
    {
     "data": {
      "text/plain": [
       "['images']"
      ]
     },
     "execution_count": 8,
     "metadata": {},
     "output_type": "execute_result"
    }
   ],
   "source": [
    "f = h5py.File('./backup/train_images.hdf5', 'r')\n",
    "list(f.keys())"
   ]
  },
  {
   "cell_type": "code",
   "execution_count": 9,
   "metadata": {},
   "outputs": [
    {
     "data": {
      "text/plain": [
       "(100,)"
      ]
     },
     "execution_count": 9,
     "metadata": {},
     "output_type": "execute_result"
    }
   ],
   "source": [
    "dset = f['images']\n",
    "dset.shape"
   ]
  },
  {
   "cell_type": "code",
   "execution_count": 10,
   "metadata": {},
   "outputs": [
    {
     "data": {
      "text/plain": [
       "dtype('O')"
      ]
     },
     "execution_count": 10,
     "metadata": {},
     "output_type": "execute_result"
    }
   ],
   "source": [
    "dset.dtype"
   ]
  },
  {
   "cell_type": "code",
   "execution_count": 11,
   "metadata": {},
   "outputs": [
    {
     "name": "stderr",
     "output_type": "stream",
     "text": [
      "/home/toc/anaconda3/envs/dacon/lib/python3.7/site-packages/ipykernel_launcher.py:1: H5pyDeprecationWarning: The default file mode will change to 'r' (read-only) in h5py 3.0. To suppress this warning, pass the mode you need to h5py.File(), or set the global default h5.get_config().default_file_mode, or set the environment variable H5PY_DEFAULT_READONLY=1. Available modes are: 'r', 'r+', 'w', 'w-'/'x', 'a'. See the docs for details.\n",
      "  \"\"\"Entry point for launching an IPython kernel.\n",
      " 50%|█████     | 10093/20000 [00:20<00:19, 496.94it/s]"
     ]
    },
    {
     "name": "stdout",
     "output_type": "stream",
     "text": [
      "10000\n"
     ]
    },
    {
     "name": "stderr",
     "output_type": "stream",
     "text": [
      "100%|██████████| 20000/20000 [00:40<00:00, 494.83it/s]"
     ]
    },
    {
     "name": "stdout",
     "output_type": "stream",
     "text": [
      "20000\n"
     ]
    },
    {
     "name": "stderr",
     "output_type": "stream",
     "text": [
      "\n"
     ]
    }
   ],
   "source": [
    "f = h5py.File('./backup/test_images.hdf5')\n",
    "dt = h5py.special_dtype(vlen=np.dtype('uint8'))\n",
    "dset = f.create_dataset('images', (20000, ), dtype=dt)\n",
    "\n",
    "data_folder = './'\n",
    "data_name = 'sample_submission.csv'\n",
    "\n",
    "with open(data_folder + data_name, 'r') as csv_file:\n",
    "    data = csv_file.read()\n",
    "\n",
    "index = 0\n",
    "\n",
    "for line in tqdm(data.split('\\n')[1:-1]):\n",
    "    image_id, smiles = line.split(',')\n",
    "    caption = \"<\" + smiles + \">\"\n",
    "    filename = data_folder + \"test/\"+ image_id\n",
    "    #fin = open(filename, 'rb')\n",
    "    #binary_data = fin.read()\n",
    "    dset[index] = np.array(Image.open(filename).resize((224,224))).flatten()\n",
    "    index += 1\n",
    "    \n",
    "    if index % 10000 == 0:\n",
    "        print(index)"
   ]
  }
 ],
 "metadata": {
  "kernelspec": {
   "display_name": "Python 3",
   "language": "python",
   "name": "python3"
  },
  "language_info": {
   "codemirror_mode": {
    "name": "ipython",
    "version": 3
   },
   "file_extension": ".py",
   "mimetype": "text/x-python",
   "name": "python",
   "nbconvert_exporter": "python",
   "pygments_lexer": "ipython3",
   "version": "3.6.12"
  }
 },
 "nbformat": 4,
 "nbformat_minor": 4
}

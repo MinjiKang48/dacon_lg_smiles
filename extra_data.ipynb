{
 "cells": [
  {
   "cell_type": "code",
   "execution_count": 1,
   "metadata": {},
   "outputs": [],
   "source": [
    "import numpy as np\n",
    "import pandas as pd\n",
    "from tqdm import tqdm\n",
    "from sklearn.utils import shuffle\n",
    "import rdkit\n",
    "from rdkit import Chem\n",
    "from rdkit.Chem import Draw\n",
    "import os "
   ]
  },
  {
   "cell_type": "code",
   "execution_count": 2,
   "metadata": {},
   "outputs": [],
   "source": [
    "import numpy as np\n",
    "import h5py\n",
    "from tqdm import tqdm\n",
    "\n",
    "from PIL import Image\n",
    "import torch"
   ]
  },
  {
   "cell_type": "code",
   "execution_count": 3,
   "metadata": {},
   "outputs": [
    {
     "name": "stdout",
     "output_type": "stream",
     "text": [
      "1.19.1\n",
      "1.1.1\n",
      "2020.03.3\n"
     ]
    }
   ],
   "source": [
    "print(np.__version__)\n",
    "print(pd.__version__)\n",
    "print(rdkit.__version__)"
   ]
  },
  {
   "cell_type": "code",
   "execution_count": 4,
   "metadata": {},
   "outputs": [
    {
     "name": "stderr",
     "output_type": "stream",
     "text": [
      "  0%|          | 0/1000000 [00:00<?, ?it/s]RDKit WARNING: [16:25:56] WARNING: not removing hydrogen atom without neighbors\n",
      "RDKit WARNING: [16:25:56] WARNING: not removing hydrogen atom without neighbors\n",
      "RDKit WARNING: [16:25:56] WARNING: not removing hydrogen atom without neighbors\n",
      "  0%|          | 865/1000000 [00:00<01:55, 8645.95it/s]RDKit WARNING: [16:25:56] WARNING: not removing hydrogen atom without neighbors\n",
      "RDKit WARNING: [16:25:56] WARNING: not removing hydrogen atom without neighbors\n",
      "  0%|          | 1727/1000000 [00:00<01:55, 8637.39it/s]RDKit ERROR: [16:25:56] Explicit valence for atom # 5 Cl, 3, is greater than permitted\n",
      "  0%|          | 2598/1000000 [00:00<01:55, 8658.28it/s]RDKit ERROR: [16:25:56] Explicit valence for atom # 1 Cl, 3, is greater than permitted\n",
      "  0%|          | 3356/1000000 [00:00<02:00, 8302.20it/s]RDKit WARNING: [16:25:56] WARNING: not removing hydrogen atom without neighbors\n",
      "RDKit WARNING: [16:25:56] WARNING: not removing hydrogen atom without neighbors\n",
      "RDKit WARNING: [16:25:56] WARNING: not removing hydrogen atom without neighbors\n",
      "  0%|          | 4975/1000000 [00:00<02:03, 8080.38it/s]RDKit WARNING: [16:25:56] WARNING: not removing hydrogen atom without neighbors\n",
      "RDKit WARNING: [16:25:56] WARNING: not removing hydrogen atom without neighbors\n",
      "RDKit WARNING: [16:25:56] WARNING: not removing hydrogen atom without neighbors\n",
      "RDKit WARNING: [16:25:56] WARNING: not removing hydrogen atom without neighbors\n",
      "RDKit WARNING: [16:25:56] WARNING: not removing hydrogen atom without neighbors\n",
      "RDKit WARNING: [16:25:56] WARNING: not removing hydrogen atom without neighbors\n",
      "RDKit WARNING: [16:25:56] WARNING: not removing hydrogen atom without neighbors\n",
      "  1%|          | 5866/1000000 [00:00<01:59, 8311.74it/s]RDKit WARNING: [16:25:56] WARNING: not removing hydrogen atom without neighbors\n",
      "RDKit WARNING: [16:25:57] WARNING: not removing hydrogen atom without neighbors\n",
      "RDKit WARNING: [16:25:57] WARNING: not removing hydrogen atom without neighbors\n",
      "RDKit WARNING: [16:25:57] WARNING: not removing hydrogen atom without neighbors\n",
      "  1%|          | 6763/1000000 [00:00<01:56, 8496.95it/s]RDKit WARNING: [16:25:57] WARNING: not removing hydrogen atom without neighbors\n",
      "RDKit WARNING: [16:25:57] WARNING: not removing hydrogen atom without neighbors\n",
      "RDKit ERROR: [16:25:57] Explicit valence for atom # 36 Cl, 3, is greater than permitted\n",
      "  1%|          | 9500/1000000 [00:01<01:51, 8915.13it/s]RDKit ERROR: [16:25:57] Explicit valence for atom # 5 Br, 3, is greater than permitted\n",
      "RDKit ERROR: [16:25:57] Explicit valence for atom # 28 Cl, 3, is greater than permitted\n",
      "RDKit ERROR: [16:25:57] Explicit valence for atom # 17 Cl, 3, is greater than permitted\n",
      "RDKit ERROR: [16:25:57] Explicit valence for atom # 1 Br, 3, is greater than permitted\n",
      "  1%|          | 12098/1000000 [00:01<01:55, 8528.34it/s]RDKit WARNING: [16:25:57] WARNING: not removing hydrogen atom without neighbors\n",
      "RDKit WARNING: [16:25:57] WARNING: not removing hydrogen atom without neighbors\n",
      "RDKit ERROR: [16:25:57] Explicit valence for atom # 45 Br, 3, is greater than permitted\n",
      "  1%|▏         | 12955/1000000 [00:01<01:55, 8539.89it/s]RDKit ERROR: [16:25:57] Explicit valence for atom # 8 Cl, 3, is greater than permitted\n",
      "RDKit ERROR: [16:25:57] Explicit valence for atom # 21 Cl, 3, is greater than permitted\n",
      "  1%|▏         | 13807/1000000 [00:01<01:55, 8521.20it/s]RDKit ERROR: [16:25:57] Explicit valence for atom # 1 Br, 3, is greater than permitted\n",
      "  2%|▏         | 15566/1000000 [00:01<01:53, 8658.90it/s]RDKit ERROR: [16:25:58] Explicit valence for atom # 9 Cl, 3, is greater than permitted\n",
      "  2%|▏         | 16436/1000000 [00:01<01:53, 8670.01it/s]RDKit ERROR: [16:25:58] Explicit valence for atom # 1 Br, 3, is greater than permitted\n",
      "  2%|▏         | 17363/1000000 [00:02<01:51, 8839.11it/s]RDKit WARNING: [16:25:58] WARNING: not removing hydrogen atom without neighbors\n",
      "  2%|▏         | 18248/1000000 [00:02<01:51, 8777.75it/s]RDKit WARNING: [16:25:58] WARNING: not removing hydrogen atom without neighbors\n",
      "  2%|▏         | 20029/1000000 [00:02<01:50, 8832.89it/s]RDKit ERROR: [16:25:58] Explicit valence for atom # 22 Cl, 3, is greater than permitted\n",
      "  2%|▏         | 20926/1000000 [00:02<01:50, 8868.46it/s]RDKit ERROR: [16:25:58] Explicit valence for atom # 8 Br, 3, is greater than permitted\n",
      "RDKit WARNING: [16:25:58] WARNING: not removing hydrogen atom without neighbors\n",
      "RDKit WARNING: [16:25:58] WARNING: not removing hydrogen atom without neighbors\n",
      "RDKit WARNING: [16:25:58] WARNING: not removing hydrogen atom without neighbors\n",
      "RDKit WARNING: [16:25:58] WARNING: not removing hydrogen atom without neighbors\n",
      "RDKit WARNING: [16:25:58] WARNING: not removing hydrogen atom without neighbors\n",
      "  2%|▏         | 22701/1000000 [00:02<01:52, 8708.62it/s]RDKit ERROR: [16:25:58] Explicit valence for atom # 8 Cl, 3, is greater than permitted\n",
      "  2%|▏         | 24500/1000000 [00:02<01:50, 8806.26it/s]RDKit ERROR: [16:25:59] Explicit valence for atom # 18 Cl, 3, is greater than permitted\n",
      "RDKit ERROR: [16:25:59] Explicit valence for atom # 8 Cl, 3, is greater than permitted\n",
      "  3%|▎         | 25384/1000000 [00:02<01:50, 8814.44it/s]RDKit WARNING: [16:25:59] WARNING: not removing hydrogen atom without neighbors\n",
      "  3%|▎         | 28054/1000000 [00:03<01:50, 8822.87it/s]RDKit ERROR: [16:25:59] Explicit valence for atom # 2 Si, 8, is greater than permitted\n",
      "RDKit WARNING: [16:25:59] WARNING: not removing hydrogen atom without neighbors\n",
      "  3%|▎         | 28937/1000000 [00:03<01:53, 8571.58it/s]RDKit WARNING: [16:25:59] WARNING: not removing hydrogen atom without neighbors\n",
      "RDKit WARNING: [16:25:59] WARNING: not removing hydrogen atom without neighbors\n",
      "  3%|▎         | 29796/1000000 [00:03<01:55, 8429.44it/s]RDKit ERROR: [16:25:59] Explicit valence for atom # 24 Br, 3, is greater than permitted\n",
      "RDKit WARNING: [16:25:59] WARNING: not removing hydrogen atom without neighbors\n",
      "RDKit WARNING: [16:25:59] WARNING: not removing hydrogen atom without neighbors\n",
      "  3%|▎         | 30668/1000000 [00:03<01:53, 8513.30it/s]RDKit ERROR: [16:25:59] Explicit valence for atom # 1 Br, 3, is greater than permitted\n",
      "  3%|▎         | 31551/1000000 [00:03<01:52, 8602.85it/s]RDKit WARNING: [16:25:59] WARNING: not removing hydrogen atom without neighbors\n",
      "  3%|▎         | 32413/1000000 [00:03<01:53, 8540.80it/s]RDKit WARNING: [16:26:00] WARNING: not removing hydrogen atom without neighbors\n",
      "  3%|▎         | 33285/1000000 [00:03<01:52, 8593.54it/s]RDKit WARNING: [16:26:00] WARNING: not removing hydrogen atom without neighbors\n",
      "RDKit WARNING: [16:26:00] WARNING: not removing hydrogen atom without neighbors\n",
      "  3%|▎         | 34172/1000000 [00:03<01:51, 8673.53it/s]RDKit WARNING: [16:26:00] WARNING: not removing hydrogen atom without neighbors\n",
      "RDKit WARNING: [16:26:00] WARNING: not removing hydrogen atom without neighbors\n",
      "  4%|▎         | 35922/1000000 [00:04<01:51, 8626.22it/s]RDKit WARNING: [16:26:00] WARNING: not removing hydrogen atom without neighbors\n",
      "RDKit WARNING: [16:26:00] WARNING: not removing hydrogen atom without neighbors\n",
      "  4%|▎         | 36792/1000000 [00:04<01:51, 8647.02it/s]RDKit ERROR: [16:26:00] Explicit valence for atom # 12 Cl, 3, is greater than permitted\n",
      "  4%|▍         | 37696/1000000 [00:04<01:49, 8760.37it/s]RDKit WARNING: [16:26:00] WARNING: not removing hydrogen atom without neighbors\n",
      "RDKit ERROR: [16:26:00] Explicit valence for atom # 1 Br, 3, is greater than permitted\n",
      "  4%|▍         | 39494/1000000 [00:04<01:48, 8866.91it/s]RDKit WARNING: [16:26:00] WARNING: not removing hydrogen atom without neighbors\n",
      "RDKit WARNING: [16:26:00] WARNING: not removing hydrogen atom without neighbors\n",
      "RDKit ERROR: [16:26:00] Explicit valence for atom # 11 Br, 3, is greater than permitted\n",
      "  4%|▍         | 40382/1000000 [00:04<01:48, 8856.12it/s]RDKit ERROR: [16:26:00] Explicit valence for atom # 22 Cl, 3, is greater than permitted\n",
      "RDKit WARNING: [16:26:01] WARNING: not removing hydrogen atom without neighbors\n",
      "RDKit WARNING: [16:26:01] WARNING: not removing hydrogen atom without neighbors\n",
      "  4%|▍         | 41268/1000000 [00:04<01:49, 8755.86it/s]RDKit WARNING: [16:26:01] WARNING: not removing hydrogen atom without neighbors\n",
      "RDKit WARNING: [16:26:01] WARNING: not removing hydrogen atom without neighbors\n",
      "  4%|▍         | 43890/1000000 [00:05<01:50, 8690.13it/s]RDKit ERROR: [16:26:01] Explicit valence for atom # 19 Cl, 2, is greater than permitted\n",
      "  4%|▍         | 44783/1000000 [00:05<01:49, 8760.12it/s]RDKit WARNING: [16:26:01] WARNING: not removing hydrogen atom without neighbors\n",
      "RDKit WARNING: [16:26:01] WARNING: not removing hydrogen atom without neighbors\n",
      "  5%|▍         | 45660/1000000 [00:05<01:49, 8720.92it/s]RDKit WARNING: [16:26:01] WARNING: not removing hydrogen atom without neighbors\n",
      "RDKit WARNING: [16:26:01] WARNING: not removing hydrogen atom without neighbors\n",
      "RDKit ERROR: [16:26:01] Explicit valence for atom # 16 Cl, 3, is greater than permitted\n",
      "  5%|▍         | 46535/1000000 [00:05<01:49, 8688.33it/s]RDKit ERROR: [16:26:01] Explicit valence for atom # 1 Br, 3, is greater than permitted\n",
      "  5%|▍         | 47425/1000000 [00:05<01:48, 8740.33it/s]RDKit WARNING: [16:26:01] WARNING: not removing hydrogen atom without neighbors\n",
      "  5%|▌         | 50091/1000000 [00:05<01:48, 8768.68it/s]RDKit WARNING: [16:26:02] WARNING: not removing hydrogen atom without neighbors\n",
      "RDKit ERROR: [16:26:02] Explicit valence for atom # 11 Cl, 3, is greater than permitted\n",
      "RDKit WARNING: [16:26:02] WARNING: not removing hydrogen atom without neighbors\n",
      "RDKit WARNING: [16:26:02] WARNING: not removing hydrogen atom without neighbors\n",
      "RDKit WARNING: [16:26:02] WARNING: not removing hydrogen atom without neighbors\n",
      "RDKit WARNING: [16:26:02] WARNING: not removing hydrogen atom without neighbors\n",
      "RDKit WARNING: [16:26:02] WARNING: not removing hydrogen atom without neighbors\n",
      "RDKit WARNING: [16:26:02] WARNING: not removing hydrogen atom without neighbors\n",
      "RDKit WARNING: [16:26:02] WARNING: not removing hydrogen atom without neighbors\n",
      "RDKit WARNING: [16:26:02] WARNING: not removing hydrogen atom without neighbors\n",
      "  5%|▌         | 51007/1000000 [00:05<01:46, 8881.83it/s]RDKit WARNING: [16:26:02] WARNING: not removing hydrogen atom without neighbors\n",
      "  5%|▌         | 53679/1000000 [00:06<01:47, 8813.74it/s]RDKit ERROR: [16:26:02] Explicit valence for atom # 0 H, 2, is greater than permitted\n",
      "RDKit ERROR: [16:26:02] Explicit valence for atom # 7 Cl, 3, is greater than permitted\n",
      "RDKit ERROR: [16:26:02] Explicit valence for atom # 1 Br, 3, is greater than permitted\n",
      "  6%|▌         | 55483/1000000 [00:06<01:45, 8917.02it/s]RDKit ERROR: [16:26:02] Explicit valence for atom # 20 Cl, 3, is greater than permitted\n",
      "  6%|▌         | 56376/1000000 [00:06<01:45, 8903.83it/s]RDKit ERROR: [16:26:02] Explicit valence for atom # 13 Cl, 3, is greater than permitted\n",
      "RDKit WARNING: [16:26:02] WARNING: not removing hydrogen atom without neighbors\n",
      "RDKit WARNING: [16:26:02] WARNING: not removing hydrogen atom without neighbors\n",
      "  6%|▌         | 57267/1000000 [00:06<01:47, 8742.03it/s]RDKit ERROR: [16:26:02] Explicit valence for atom # 6 Si, 8, is greater than permitted\n",
      "  6%|▌         | 58168/1000000 [00:06<01:46, 8818.62it/s]RDKit WARNING: [16:26:02] WARNING: not removing hydrogen atom without neighbors\n",
      "RDKit WARNING: [16:26:02] WARNING: not removing hydrogen atom without neighbors\n",
      "  6%|▌         | 59051/1000000 [00:06<01:46, 8804.52it/s]RDKit WARNING: [16:26:03] WARNING: not removing hydrogen atom without neighbors\n",
      "RDKit WARNING: [16:26:03] WARNING: not removing hydrogen atom without neighbors\n",
      "RDKit WARNING: [16:26:03] WARNING: not removing hydrogen atom without neighbors\n",
      "RDKit WARNING: [16:26:03] WARNING: not removing hydrogen atom without neighbors\n",
      "RDKit WARNING: [16:26:03] WARNING: not removing hydrogen atom without neighbors\n",
      "RDKit ERROR: [16:26:03] Explicit valence for atom # 9 Cl, 3, is greater than permitted\n",
      "  6%|▌         | 60846/1000000 [00:06<01:46, 8851.02it/s]RDKit WARNING: [16:26:03] WARNING: not removing hydrogen atom without neighbors\n",
      "RDKit ERROR: [16:26:03] Explicit valence for atom # 25 Br, 3, is greater than permitted\n",
      "RDKit WARNING: [16:26:03] WARNING: not removing hydrogen atom without neighbors\n",
      "  6%|▋         | 63537/1000000 [00:07<01:46, 8776.95it/s]RDKit ERROR: [16:26:03] Explicit valence for atom # 1 Cl, 3, is greater than permitted\n",
      "RDKit WARNING: [16:26:03] WARNING: not removing hydrogen atom without neighbors\n",
      "  6%|▋         | 64416/1000000 [00:07<01:46, 8761.76it/s]RDKit ERROR: [16:26:03] Explicit valence for atom # 19 Br, 3, is greater than permitted\n",
      "RDKit ERROR: [16:26:03] Explicit valence for atom # 11 Cl, 3, is greater than permitted\n",
      "RDKit WARNING: [16:26:03] WARNING: not removing hydrogen atom without neighbors\n",
      "  7%|▋         | 65294/1000000 [00:07<01:46, 8765.35it/s]RDKit ERROR: [16:26:03] Explicit valence for atom # 2 Cl, 3, is greater than permitted\n",
      "RDKit ERROR: [16:26:03] Explicit valence for atom # 1 Cl, 3, is greater than permitted\n",
      "  7%|▋         | 66228/1000000 [00:07<01:44, 8929.17it/s]RDKit ERROR: [16:26:03] Explicit valence for atom # 1 Br, 3, is greater than permitted\n",
      "RDKit ERROR: [16:26:03] Explicit valence for atom # 1 H, 2, is greater than permitted\n",
      "  7%|▋         | 67122/1000000 [00:07<01:46, 8748.48it/s]RDKit ERROR: [16:26:04] Explicit valence for atom # 1 Br, 3, is greater than permitted\n",
      "  7%|▋         | 68912/1000000 [00:07<01:45, 8828.52it/s]RDKit ERROR: [16:26:04] Explicit valence for atom # 1 Br, 3, is greater than permitted\n",
      "  7%|▋         | 69796/1000000 [00:07<01:46, 8751.77it/s]RDKit WARNING: [16:26:04] WARNING: not removing hydrogen atom without neighbors\n",
      "RDKit WARNING: [16:26:04] WARNING: not removing hydrogen atom without neighbors\n",
      "RDKit ERROR: [16:26:04] Explicit valence for atom # 16 Cl, 3, is greater than permitted\n",
      "  7%|▋         | 70697/1000000 [00:08<01:45, 8827.27it/s]RDKit ERROR: [16:26:04] Explicit valence for atom # 11 Cl, 5, is greater than permitted\n",
      "RDKit ERROR: [16:26:04] Explicit valence for atom # 2 Cl, 3, is greater than permitted\n",
      "  7%|▋         | 71581/1000000 [00:08<01:47, 8676.68it/s]RDKit WARNING: [16:26:04] WARNING: not removing hydrogen atom without neighbors\n",
      "RDKit ERROR: [16:26:04] Explicit valence for atom # 8 Cl, 3, is greater than permitted\n",
      "RDKit ERROR: [16:26:04] Explicit valence for atom # 11 Cl, 3, is greater than permitted\n",
      "  7%|▋         | 73386/1000000 [00:08<01:44, 8861.01it/s]RDKit ERROR: [16:26:04] Explicit valence for atom # 1 Br, 3, is greater than permitted\n",
      "  7%|▋         | 74295/1000000 [00:08<01:43, 8926.09it/s]RDKit WARNING: [16:26:04] WARNING: not removing hydrogen atom without neighbors\n",
      "RDKit ERROR: [16:26:04] Explicit valence for atom # 3 Cl, 3, is greater than permitted\n",
      "  8%|▊         | 75193/1000000 [00:08<01:43, 8940.24it/s]RDKit ERROR: [16:26:04] Explicit valence for atom # 1 Br, 3, is greater than permitted\n",
      "RDKit ERROR: [16:26:04] Explicit valence for atom # 1 Cl, 3, is greater than permitted\n",
      "RDKit ERROR: [16:26:04] Explicit valence for atom # 30 Cl, 3, is greater than permitted\n",
      "RDKit ERROR: [16:26:04] Explicit valence for atom # 2 Cl, 3, is greater than permitted\n",
      "  8%|▊         | 76088/1000000 [00:08<01:43, 8885.80it/s]RDKit ERROR: [16:26:04] Explicit valence for atom # 1 Br, 3, is greater than permitted\n",
      "RDKit ERROR: [16:26:05] Explicit valence for atom # 5 Br, 3, is greater than permitted\n",
      "RDKit ERROR: [16:26:05] Explicit valence for atom # 18 Cl, 3, is greater than permitted\n",
      "  8%|▊         | 76978/1000000 [00:08<01:43, 8876.12it/s]RDKit WARNING: [16:26:05] WARNING: not removing hydrogen atom without neighbors\n",
      "RDKit WARNING: [16:26:05] WARNING: not removing hydrogen atom without neighbors\n",
      "RDKit WARNING: [16:26:05] WARNING: not removing hydrogen atom without neighbors\n",
      "RDKit ERROR: [16:26:05] Explicit valence for atom # 0 H, 2, is greater than permitted\n",
      "  8%|▊         | 77866/1000000 [00:08<01:46, 8647.61it/s]RDKit ERROR: [16:26:05] Explicit valence for atom # 10 Cl, 3, is greater than permitted\n",
      "RDKit ERROR: [16:26:05] Explicit valence for atom # 1 Br, 3, is greater than permitted\n",
      "  8%|▊         | 81362/1000000 [00:09<01:54, 8018.09it/s]RDKit ERROR: [16:26:05] Explicit valence for atom # 29 Cl, 3, is greater than permitted\n",
      "  8%|▊         | 82259/1000000 [00:09<01:50, 8280.89it/s]RDKit ERROR: [16:26:05] Explicit valence for atom # 6 Cl, 3, is greater than permitted\n",
      "  8%|▊         | 84055/1000000 [00:09<01:50, 8267.31it/s]RDKit ERROR: [16:26:06] Explicit valence for atom # 4 Sn, 6, is greater than permitted\n",
      "  9%|▊         | 85794/1000000 [00:09<01:47, 8475.44it/s]RDKit WARNING: [16:26:06] WARNING: not removing hydrogen atom without neighbors\n",
      "  9%|▊         | 86649/1000000 [00:09<01:47, 8487.01it/s]RDKit ERROR: [16:26:06] Explicit valence for atom # 7 Cl, 3, is greater than permitted\n",
      "  9%|▉         | 87556/1000000 [00:10<01:45, 8652.75it/s]RDKit WARNING: [16:26:06] WARNING: not removing hydrogen atom without neighbors\n",
      "  9%|▉         | 88426/1000000 [00:10<01:45, 8630.85it/s]RDKit WARNING: [16:26:06] WARNING: not removing hydrogen atom without neighbors\n",
      "RDKit ERROR: [16:26:06] Explicit valence for atom # 15 Br, 3, is greater than permitted\n",
      "  9%|▉         | 89305/1000000 [00:10<01:44, 8675.71it/s]RDKit ERROR: [16:26:06] Explicit valence for atom # 1 Br, 3, is greater than permitted\n",
      "RDKit ERROR: [16:26:06] Explicit valence for atom # 7 Si, 8, is greater than permitted\n",
      "RDKit ERROR: [16:26:06] Explicit valence for atom # 12 Cl, 3, is greater than permitted\n",
      "RDKit ERROR: [16:26:06] Explicit valence for atom # 16 Cl, 3, is greater than permitted\n",
      "RDKit ERROR: [16:26:06] Explicit valence for atom # 7 Cl, 3, is greater than permitted\n",
      "  9%|▉         | 90222/1000000 [00:10<01:43, 8817.61it/s]RDKit ERROR: [16:26:06] Explicit valence for atom # 11 Cl, 3, is greater than permitted\n",
      " 10%|▉         | 96519/1000000 [00:11<01:43, 8754.65it/s]RDKit WARNING: [16:26:07] WARNING: not removing hydrogen atom without neighbors\n",
      "RDKit WARNING: [16:26:07] WARNING: not removing hydrogen atom without neighbors\n",
      " 10%|▉         | 98289/1000000 [00:11<01:43, 8692.68it/s]RDKit ERROR: [16:26:07] Explicit valence for atom # 21 Br, 3, is greater than permitted\n",
      "RDKit WARNING: [16:26:07] Conflicting single bond directions around double bond at index 27.\n",
      "RDKit WARNING: [16:26:07]   BondStereo set to STEREONONE and single bond directions set to NONE.\n",
      " 10%|▉         | 99168/1000000 [00:11<01:43, 8718.67it/s]RDKit ERROR: [16:26:07] Explicit valence for atom # 48 Cl, 3, is greater than permitted\n",
      "RDKit ERROR: [16:26:07] Explicit valence for atom # 1 Cl, 3, is greater than permitted\n",
      " 10%|█         | 100920/1000000 [00:11<01:43, 8678.34it/s]RDKit ERROR: [16:26:07] Explicit valence for atom # 26 Br, 3, is greater than permitted\n",
      " 10%|█         | 101801/1000000 [00:11<01:43, 8717.04it/s]RDKit ERROR: [16:26:08] Explicit valence for atom # 8 Cl, 3, is greater than permitted\n",
      " 10%|█         | 102698/1000000 [00:11<01:42, 8790.63it/s]RDKit WARNING: [16:26:08] WARNING: not removing hydrogen atom without neighbors\n",
      "RDKit WARNING: [16:26:08] WARNING: not removing hydrogen atom without neighbors\n",
      "RDKit WARNING: [16:26:08] Conflicting single bond directions around double bond at index 7.\n",
      "RDKit WARNING: [16:26:08]   BondStereo set to STEREONONE and single bond directions set to NONE.\n",
      " 10%|█         | 103600/1000000 [00:11<01:41, 8856.21it/s]RDKit ERROR: [16:26:08] Explicit valence for atom # 18 Cl, 3, is greater than permitted\n",
      "RDKit WARNING: [16:26:08] WARNING: not removing hydrogen atom without neighbors\n",
      "RDKit ERROR: [16:26:08] Explicit valence for atom # 15 Br, 3, is greater than permitted\n",
      " 11%|█         | 105349/1000000 [00:12<01:44, 8589.40it/s]RDKit WARNING: [16:26:08] WARNING: not removing hydrogen atom without neighbors\n",
      "RDKit WARNING: [16:26:08] WARNING: not removing hydrogen atom without neighbors\n",
      "RDKit WARNING: [16:26:08] WARNING: not removing hydrogen atom without neighbors\n",
      " 11%|█         | 106213/1000000 [00:12<01:43, 8599.53it/s]RDKit ERROR: [16:26:08] Explicit valence for atom # 20 Br, 3, is greater than permitted\n",
      " 11%|█         | 107107/1000000 [00:12<01:42, 8698.23it/s]RDKit WARNING: [16:26:08] WARNING: not removing hydrogen atom without neighbors\n",
      "RDKit WARNING: [16:26:08] WARNING: not removing hydrogen atom without neighbors\n",
      " 11%|█         | 107985/1000000 [00:12<01:42, 8719.51it/s]RDKit ERROR: [16:26:08] Explicit valence for atom # 1 Br, 3, is greater than permitted\n",
      "RDKit WARNING: [16:26:08] WARNING: not removing hydrogen atom without neighbors\n",
      "RDKit WARNING: [16:26:08] WARNING: not removing hydrogen atom without neighbors\n",
      "RDKit WARNING: [16:26:08] WARNING: not removing hydrogen atom without neighbors\n",
      "RDKit WARNING: [16:26:08] WARNING: not removing hydrogen atom without neighbors\n",
      " 11%|█         | 108876/1000000 [00:12<01:41, 8773.65it/s]RDKit ERROR: [16:26:08] Explicit valence for atom # 8 Br, 3, is greater than permitted\n",
      "RDKit ERROR: [16:26:08] Explicit valence for atom # 12 Cl, 3, is greater than permitted\n",
      " 11%|█         | 109754/1000000 [00:12<01:41, 8757.34it/s]RDKit WARNING: [16:26:08] WARNING: not removing hydrogen atom without neighbors\n",
      " 11%|█         | 112403/1000000 [00:12<01:40, 8807.25it/s]RDKit ERROR: [16:26:09] Explicit valence for atom # 25 Cl, 3, is greater than permitted\n",
      " 11%|█▏        | 114183/1000000 [00:13<01:40, 8850.62it/s]RDKit WARNING: [16:26:09] WARNING: not removing hydrogen atom without neighbors\n",
      "RDKit ERROR: [16:26:09] Explicit valence for atom # 1 Br, 3, is greater than permitted\n",
      " 12%|█▏        | 115069/1000000 [00:13<01:40, 8797.15it/s]RDKit ERROR: [16:26:09] Explicit valence for atom # 11 Br, 3, is greater than permitted\n",
      "RDKit ERROR: [16:26:09] Explicit valence for atom # 5 Cl, 3, is greater than permitted\n",
      " 12%|█▏        | 116009/1000000 [00:13<01:38, 8969.11it/s]RDKit ERROR: [16:26:09] Explicit valence for atom # 11 Cl, 3, is greater than permitted\n",
      "RDKit ERROR: [16:26:09] Explicit valence for atom # 29 Cl, 3, is greater than permitted\n",
      " 12%|█▏        | 116907/1000000 [00:13<01:40, 8781.97it/s]RDKit ERROR: [16:26:09] Explicit valence for atom # 12 Cl, 3, is greater than permitted\n",
      " 12%|█▏        | 117787/1000000 [00:13<01:40, 8772.61it/s]RDKit ERROR: [16:26:09] Explicit valence for atom # 2 Cl, 3, is greater than permitted\n",
      "RDKit ERROR: [16:26:09] Explicit valence for atom # 1 Br, 3, is greater than permitted\n",
      " 12%|█▏        | 120435/1000000 [00:13<01:41, 8666.87it/s]RDKit WARNING: [16:26:10] WARNING: not removing hydrogen atom without neighbors\n",
      "RDKit WARNING: [16:26:10] WARNING: not removing hydrogen atom without neighbors\n",
      "RDKit WARNING: [16:26:10] WARNING: not removing hydrogen atom without neighbors\n",
      "RDKit ERROR: [16:26:10] Explicit valence for atom # 20 Br, 3, is greater than permitted\n",
      " 12%|█▏        | 121335/1000000 [00:13<01:40, 8759.80it/s]RDKit ERROR: [16:26:10] Explicit valence for atom # 28 Br, 3, is greater than permitted\n",
      "RDKit WARNING: [16:26:10] WARNING: not removing hydrogen atom without neighbors\n",
      " 12%|█▏        | 122244/1000000 [00:14<01:39, 8853.60it/s]RDKit ERROR: [16:26:10] Explicit valence for atom # 8 Br, 3, is greater than permitted\n",
      "RDKit WARNING: [16:26:10] WARNING: not removing hydrogen atom without neighbors\n",
      "RDKit WARNING: [16:26:10] WARNING: not removing hydrogen atom without neighbors\n",
      " 12%|█▏        | 123143/1000000 [00:14<01:38, 8892.54it/s]RDKit WARNING: [16:26:10] WARNING: not removing hydrogen atom without neighbors\n",
      "RDKit WARNING: [16:26:10] WARNING: not removing hydrogen atom without neighbors\n",
      "RDKit WARNING: [16:26:10] WARNING: not removing hydrogen atom without neighbors\n",
      "RDKit ERROR: [16:26:10] Explicit valence for atom # 9 Cl, 5, is greater than permitted\n",
      " 13%|█▎        | 128514/1000000 [00:14<01:38, 8807.24it/s]RDKit ERROR: [16:26:11] Explicit valence for atom # 38 Cl, 3, is greater than permitted\n",
      "RDKit ERROR: [16:26:11] Explicit valence for atom # 12 Cl, 3, is greater than permitted\n",
      " 13%|█▎        | 130251/1000000 [00:14<01:42, 8448.16it/s]RDKit WARNING: [16:26:11] WARNING: not removing hydrogen atom without neighbors\n",
      " 13%|█▎        | 131099/1000000 [00:15<01:43, 8369.04it/s]RDKit WARNING: [16:26:11] WARNING: not removing hydrogen atom without neighbors\n",
      " 13%|█▎        | 131958/1000000 [00:15<01:42, 8433.13it/s]RDKit WARNING: [16:26:11] WARNING: not removing hydrogen atom without neighbors\n",
      " 13%|█▎        | 133670/1000000 [00:15<01:42, 8456.62it/s]RDKit ERROR: [16:26:11] Explicit valence for atom # 12 Cl, 3, is greater than permitted\n",
      " 13%|█▎        | 134524/1000000 [00:15<01:42, 8480.31it/s]RDKit ERROR: [16:26:11] Explicit valence for atom # 0 H, 2, is greater than permitted\n",
      "RDKit ERROR: [16:26:11] Explicit valence for atom # 13 Cl, 3, is greater than permitted\n",
      " 14%|█▎        | 135410/1000000 [00:15<01:40, 8589.48it/s]RDKit ERROR: [16:26:11] Explicit valence for atom # 2 Cl, 3, is greater than permitted\n",
      " 14%|█▎        | 136270/1000000 [00:15<01:41, 8520.52it/s]RDKit ERROR: [16:26:11] Explicit valence for atom # 8 Cl, 3, is greater than permitted\n",
      "RDKit WARNING: [16:26:12] WARNING: not removing hydrogen atom without neighbors\n",
      " 14%|█▎        | 137123/1000000 [00:15<01:41, 8494.22it/s]RDKit WARNING: [16:26:12] WARNING: not removing hydrogen atom without neighbors\n",
      " 14%|█▍        | 137989/1000000 [00:15<01:40, 8542.62it/s]RDKit WARNING: [16:26:12] WARNING: not removing hydrogen atom without neighbors\n",
      " 14%|█▍        | 139780/1000000 [00:16<01:38, 8703.20it/s]RDKit ERROR: [16:26:12] Explicit valence for atom # 26 Br, 3, is greater than permitted\n",
      " 14%|█▍        | 141528/1000000 [00:16<01:40, 8568.71it/s]RDKit WARNING: [16:26:12] WARNING: not removing hydrogen atom without neighbors\n",
      " 14%|█▍        | 142387/1000000 [00:16<01:40, 8501.83it/s]RDKit ERROR: [16:26:12] Explicit valence for atom # 12 Cl, 3, is greater than permitted\n",
      "RDKit WARNING: [16:26:12] WARNING: not removing hydrogen atom without neighbors\n",
      " 14%|█▍        | 143250/1000000 [00:16<01:40, 8539.85it/s]RDKit WARNING: [16:26:12] WARNING: not removing hydrogen atom without neighbors\n",
      " 14%|█▍        | 144112/1000000 [00:16<01:39, 8563.38it/s]RDKit WARNING: [16:26:12] WARNING: not removing hydrogen atom without neighbors\n",
      " 14%|█▍        | 144969/1000000 [00:16<01:40, 8539.15it/s]RDKit ERROR: [16:26:13] Explicit valence for atom # 91 Cl, 3, is greater than permitted\n",
      "RDKit WARNING: [16:26:13] WARNING: not removing hydrogen atom without neighbors\n",
      " 15%|█▍        | 146733/1000000 [00:16<01:38, 8678.29it/s]RDKit WARNING: [16:26:13] WARNING: not removing hydrogen atom without neighbors\n",
      " 15%|█▍        | 147632/1000000 [00:17<01:37, 8759.91it/s]RDKit ERROR: [16:26:13] Explicit valence for atom # 2 Cl, 3, is greater than permitted\n",
      " 15%|█▍        | 149398/1000000 [00:17<01:37, 8711.55it/s]RDKit ERROR: [16:26:13] Explicit valence for atom # 4 Cl, 3, is greater than permitted\n",
      " 15%|█▌        | 150270/1000000 [00:17<01:37, 8694.62it/s]RDKit WARNING: [16:26:13] WARNING: not removing hydrogen atom without neighbors\n",
      "RDKit WARNING: [16:26:13] WARNING: not removing hydrogen atom without neighbors\n",
      "RDKit WARNING: [16:26:13] WARNING: not removing hydrogen atom without neighbors\n",
      " 15%|█▌        | 152006/1000000 [00:17<01:38, 8584.22it/s]RDKit WARNING: [16:26:13] WARNING: not removing hydrogen atom without neighbors\n",
      " 15%|█▌        | 152865/1000000 [00:17<01:39, 8550.20it/s]RDKit ERROR: [16:26:13] Explicit valence for atom # 1 Br, 3, is greater than permitted\n",
      "RDKit WARNING: [16:26:13] WARNING: not removing hydrogen atom without neighbors\n",
      "RDKit WARNING: [16:26:13] WARNING: not removing hydrogen atom without neighbors\n",
      "RDKit WARNING: [16:26:13] WARNING: not removing hydrogen atom without neighbors\n",
      "RDKit WARNING: [16:26:13] WARNING: not removing hydrogen atom without neighbors\n",
      "RDKit ERROR: [16:26:13] Explicit valence for atom # 4 Cl, 3, is greater than permitted\n",
      " 15%|█▌        | 153760/1000000 [00:17<01:37, 8664.83it/s]RDKit WARNING: [16:26:14] WARNING: not removing hydrogen atom without neighbors\n",
      "RDKit WARNING: [16:26:14] WARNING: not removing hydrogen atom without neighbors\n",
      " 15%|█▌        | 154628/1000000 [00:17<01:37, 8652.46it/s]RDKit ERROR: [16:26:14] Explicit valence for atom # 40 Br, 3, is greater than permitted\n",
      " 16%|█▌        | 155603/1000000 [00:17<01:34, 8951.19it/s]RDKit ERROR: [16:26:14] Explicit valence for atom # 1 Br, 3, is greater than permitted\n",
      " 16%|█▌        | 157405/1000000 [00:18<01:34, 8912.26it/s]RDKit ERROR: [16:26:14] Explicit valence for atom # 1 Br, 3, is greater than permitted\n",
      "RDKit ERROR: [16:26:14] Explicit valence for atom # 11 Cl, 3, is greater than permitted\n",
      "RDKit WARNING: [16:26:14] WARNING: not removing hydrogen atom without neighbors\n",
      " 16%|█▌        | 159188/1000000 [00:18<01:35, 8789.22it/s]RDKit WARNING: [16:26:14] WARNING: not removing hydrogen atom without neighbors\n",
      "RDKit WARNING: [16:26:14] WARNING: not removing hydrogen atom without neighbors\n",
      " 16%|█▌        | 160068/1000000 [00:18<01:36, 8741.29it/s]RDKit WARNING: [16:26:14] WARNING: not removing hydrogen atom without neighbors\n",
      "RDKit WARNING: [16:26:14] WARNING: not removing hydrogen atom without neighbors\n",
      "RDKit WARNING: [16:26:14] WARNING: not removing hydrogen atom without neighbors\n",
      "RDKit ERROR: [16:26:14] Explicit valence for atom # 25 Br, 3, is greater than permitted\n",
      "RDKit ERROR: [16:26:14] Explicit valence for atom # 22 Br, 3, is greater than permitted\n",
      "RDKit WARNING: [16:26:14] WARNING: not removing hydrogen atom without neighbors\n",
      "RDKit ERROR: [16:26:14] Explicit valence for atom # 3 Cl, 7, is greater than permitted\n",
      " 16%|█▌        | 160950/1000000 [00:18<01:35, 8764.61it/s]RDKit WARNING: [16:26:14] WARNING: not removing hydrogen atom without neighbors\n",
      " 16%|█▌        | 161836/1000000 [00:18<01:35, 8792.84it/s]RDKit WARNING: [16:26:14] WARNING: not removing hydrogen atom without neighbors\n",
      "RDKit ERROR: [16:26:14] Explicit valence for atom # 9 Cl, 3, is greater than permitted\n",
      " 16%|█▋        | 163617/1000000 [00:18<01:34, 8847.14it/s]RDKit WARNING: [16:26:15] WARNING: not removing hydrogen atom without neighbors\n",
      "RDKit WARNING: [16:26:15] WARNING: not removing hydrogen atom without neighbors\n",
      " 16%|█▋        | 164503/1000000 [00:18<01:35, 8708.77it/s]RDKit WARNING: [16:26:15] WARNING: not removing hydrogen atom without neighbors\n",
      " 17%|█▋        | 167123/1000000 [00:19<01:35, 8682.78it/s]RDKit ERROR: [16:26:15] Explicit valence for atom # 11 Cl, 3, is greater than permitted\n",
      "RDKit WARNING: [16:26:15] WARNING: not removing hydrogen atom without neighbors\n",
      " 17%|█▋        | 167992/1000000 [00:19<01:36, 8599.11it/s]RDKit WARNING: [16:26:15] WARNING: not removing hydrogen atom without neighbors\n",
      " 17%|█▋        | 168890/1000000 [00:19<01:35, 8708.76it/s]RDKit WARNING: [16:26:15] WARNING: not removing hydrogen atom without neighbors\n",
      "RDKit ERROR: [16:26:15] Explicit valence for atom # 9 Br, 3, is greater than permitted\n",
      " 17%|█▋        | 169781/1000000 [00:19<01:34, 8765.32it/s]RDKit ERROR: [16:26:15] Explicit valence for atom # 24 Cl, 3, is greater than permitted\n",
      "RDKit ERROR: [16:26:15] Explicit valence for atom # 11 Cl, 3, is greater than permitted\n",
      " 17%|█▋        | 170659/1000000 [00:19<01:35, 8699.16it/s]RDKit WARNING: [16:26:15] WARNING: not removing hydrogen atom without neighbors\n",
      "RDKit WARNING: [16:26:15] WARNING: not removing hydrogen atom without neighbors\n",
      " 17%|█▋        | 171530/1000000 [00:19<01:35, 8701.11it/s]RDKit ERROR: [16:26:16] Explicit valence for atom # 1 Br, 3, is greater than permitted\n",
      "RDKit ERROR: [16:26:16] Explicit valence for atom # 8 Cl, 3, is greater than permitted\n",
      " 17%|█▋        | 172411/1000000 [00:19<01:34, 8732.97it/s]RDKit WARNING: [16:26:16] WARNING: not removing hydrogen atom without neighbors\n",
      " 17%|█▋        | 173285/1000000 [00:19<01:34, 8729.78it/s]RDKit ERROR: [16:26:16] Explicit valence for atom # 12 Cl, 3, is greater than permitted\n",
      "RDKit WARNING: [16:26:16] WARNING: not removing hydrogen atom without neighbors\n",
      "RDKit ERROR: [16:26:16] Explicit valence for atom # 2 Br, 3, is greater than permitted\n",
      "RDKit WARNING: [16:26:16] WARNING: not removing hydrogen atom without neighbors\n",
      " 18%|█▊        | 175899/1000000 [00:20<01:36, 8578.73it/s]RDKit ERROR: [16:26:16] Explicit valence for atom # 1 Br, 3, is greater than permitted\n",
      "RDKit WARNING: [16:26:16] WARNING: not removing hydrogen atom without neighbors\n",
      " 18%|█▊        | 176797/1000000 [00:20<01:34, 8693.21it/s]RDKit ERROR: [16:26:16] Explicit valence for atom # 21 Br, 3, is greater than permitted\n",
      " 18%|█▊        | 178557/1000000 [00:20<01:34, 8712.00it/s]RDKit ERROR: [16:26:16] Explicit valence for atom # 4 Cl, 3, is greater than permitted\n",
      "RDKit WARNING: [16:26:16] WARNING: not removing hydrogen atom without neighbors\n",
      " 18%|█▊        | 179429/1000000 [00:20<01:35, 8617.29it/s]RDKit ERROR: [16:26:16] Explicit valence for atom # 1 Br, 3, is greater than permitted\n",
      " 18%|█▊        | 181178/1000000 [00:20<01:34, 8676.05it/s]RDKit WARNING: [16:26:17] WARNING: not removing hydrogen atom without neighbors\n",
      "RDKit WARNING: [16:26:17] WARNING: not removing hydrogen atom without neighbors\n",
      "RDKit WARNING: [16:26:17] WARNING: not removing hydrogen atom without neighbors\n",
      " 18%|█▊        | 182984/1000000 [00:21<01:32, 8864.07it/s]RDKit ERROR: [16:26:17] Explicit valence for atom # 10 Cl, 3, is greater than permitted\n",
      " 18%|█▊        | 183872/1000000 [00:21<01:32, 8824.63it/s]RDKit ERROR: [16:26:17] Explicit valence for atom # 22 Cl, 3, is greater than permitted\n",
      " 18%|█▊        | 184756/1000000 [00:21<01:33, 8757.98it/s]RDKit ERROR: [16:26:17] Explicit valence for atom # 9 Cl, 3, is greater than permitted\n",
      "RDKit WARNING: [16:26:17] WARNING: not removing hydrogen atom without neighbors\n",
      " 19%|█▊        | 185654/1000000 [00:21<01:32, 8823.31it/s]RDKit WARNING: [16:26:17] WARNING: not removing hydrogen atom without neighbors\n",
      "RDKit WARNING: [16:26:17] WARNING: not removing hydrogen atom without neighbors\n",
      " 19%|█▊        | 187436/1000000 [00:21<01:31, 8864.65it/s]RDKit WARNING: [16:26:17] WARNING: not removing hydrogen atom without neighbors\n",
      "RDKit ERROR: [16:26:17] Explicit valence for atom # 4 Cl, 3, is greater than permitted\n",
      "RDKit ERROR: [16:26:17] Explicit valence for atom # 4 Br, 3, is greater than permitted\n",
      " 19%|█▉        | 188323/1000000 [00:21<01:33, 8693.29it/s]RDKit WARNING: [16:26:18] WARNING: not removing hydrogen atom without neighbors\n",
      " 19%|█▉        | 189194/1000000 [00:21<01:35, 8526.86it/s]RDKit ERROR: [16:26:18] Explicit valence for atom # 12 Cl, 3, is greater than permitted\n",
      " 19%|█▉        | 190960/1000000 [00:21<01:33, 8695.39it/s]RDKit ERROR: [16:26:18] Explicit valence for atom # 7 Cl, 3, is greater than permitted\n",
      "RDKit ERROR: [16:26:18] Explicit valence for atom # 8 Br, 3, is greater than permitted\n",
      " 19%|█▉        | 191859/1000000 [00:22<01:32, 8781.55it/s]RDKit WARNING: [16:26:18] WARNING: not removing hydrogen atom without neighbors\n",
      "RDKit WARNING: [16:26:18] WARNING: not removing hydrogen atom without neighbors\n",
      "RDKit WARNING: [16:26:18] WARNING: not removing hydrogen atom without neighbors\n",
      "RDKit ERROR: [16:26:18] Explicit valence for atom # 18 Cl, 3, is greater than permitted\n",
      " 19%|█▉        | 192763/1000000 [00:22<01:31, 8856.26it/s]RDKit WARNING: [16:26:18] WARNING: not removing hydrogen atom without neighbors\n",
      "RDKit ERROR: [16:26:18] Explicit valence for atom # 4 Cl, 3, is greater than permitted\n",
      " 19%|█▉        | 193650/1000000 [00:22<01:32, 8763.54it/s]RDKit ERROR: [16:26:18] Explicit valence for atom # 5 Cl, 3, is greater than permitted\n",
      "RDKit WARNING: [16:26:18] WARNING: not removing hydrogen atom without neighbors\n",
      "RDKit WARNING: [16:26:18] WARNING: not removing hydrogen atom without neighbors\n",
      "RDKit ERROR: [16:26:18] Explicit valence for atom # 7 Cl, 3, is greater than permitted\n",
      "RDKit WARNING: [16:26:18] WARNING: not removing hydrogen atom without neighbors\n",
      " 19%|█▉        | 194528/1000000 [00:22<01:33, 8653.48it/s]RDKit ERROR: [16:26:18] Explicit valence for atom # 1 Cl, 3, is greater than permitted\n",
      " 20%|█▉        | 195419/1000000 [00:22<01:32, 8713.92it/s]RDKit ERROR: [16:26:18] Explicit valence for atom # 9 Br, 3, is greater than permitted\n",
      "RDKit WARNING: [16:26:18] WARNING: not removing hydrogen atom without neighbors\n",
      "RDKit WARNING: [16:26:18] WARNING: not removing hydrogen atom without neighbors\n",
      "RDKit WARNING: [16:26:18] WARNING: not removing hydrogen atom without neighbors\n",
      "RDKit WARNING: [16:26:18] WARNING: not removing hydrogen atom without neighbors\n",
      " 20%|█▉        | 196292/1000000 [00:22<01:33, 8581.84it/s]RDKit WARNING: [16:26:18] WARNING: not removing hydrogen atom without neighbors\n",
      "RDKit WARNING: [16:26:18] WARNING: not removing hydrogen atom without neighbors\n",
      "RDKit WARNING: [16:26:18] WARNING: not removing hydrogen atom without neighbors\n",
      " 20%|█▉        | 197215/1000000 [00:22<01:31, 8755.38it/s]RDKit ERROR: [16:26:18] Explicit valence for atom # 13 Cl, 3, is greater than permitted\n",
      "RDKit ERROR: [16:26:19] Explicit valence for atom # 4 Br, 3, is greater than permitted\n",
      " 20%|██        | 201686/1000000 [00:23<01:29, 8877.19it/s]RDKit WARNING: [16:26:19] WARNING: not removing hydrogen atom without neighbors\n",
      "RDKit WARNING: [16:26:19] WARNING: not removing hydrogen atom without neighbors\n",
      " 20%|██        | 202575/1000000 [00:23<01:31, 8704.38it/s]RDKit ERROR: [16:26:19] Explicit valence for atom # 4 Cl, 3, is greater than permitted\n",
      " 20%|██        | 203447/1000000 [00:23<01:31, 8684.29it/s]RDKit ERROR: [16:26:19] Explicit valence for atom # 0 H, 2, is greater than permitted\n",
      "RDKit ERROR: [16:26:19] Explicit valence for atom # 22 Br, 3, is greater than permitted\n",
      " 20%|██        | 204317/1000000 [00:23<02:08, 6194.47it/s]RDKit WARNING: [16:26:19] WARNING: not removing hydrogen atom without neighbors\n",
      " 21%|██        | 206922/1000000 [00:23<01:43, 7644.63it/s]RDKit WARNING: [16:26:20] WARNING: not removing hydrogen atom without neighbors\n",
      "RDKit WARNING: [16:26:20] WARNING: not removing hydrogen atom without neighbors\n",
      "RDKit WARNING: [16:26:20] WARNING: not removing hydrogen atom without neighbors\n",
      " 21%|██        | 207747/1000000 [00:24<01:41, 7814.02it/s]RDKit ERROR: [16:26:20] Explicit valence for atom # 7 Cl, 3, is greater than permitted\n",
      "RDKit ERROR: [16:26:20] Explicit valence for atom # 4 Cl, 3, is greater than permitted\n",
      " 21%|██        | 211241/1000000 [00:24<01:32, 8492.82it/s]RDKit ERROR: [16:26:20] Explicit valence for atom # 5 Cl, 3, is greater than permitted\n",
      "RDKit WARNING: [16:26:20] WARNING: not removing hydrogen atom without neighbors\n",
      " 21%|██        | 212147/1000000 [00:24<01:31, 8654.80it/s]RDKit WARNING: [16:26:20] WARNING: not removing hydrogen atom without neighbors\n",
      "RDKit WARNING: [16:26:20] WARNING: not removing hydrogen atom without neighbors\n",
      "RDKit ERROR: [16:26:20] Explicit valence for atom # 15 Cl, 3, is greater than permitted\n",
      " 21%|██▏       | 213055/1000000 [00:24<01:29, 8777.09it/s]RDKit WARNING: [16:26:20] WARNING: not removing hydrogen atom without neighbors\n",
      " 21%|██▏       | 213940/1000000 [00:24<01:29, 8777.59it/s]RDKit ERROR: [16:26:21] Explicit valence for atom # 26 Cl, 3, is greater than permitted\n",
      "RDKit WARNING: [16:26:21] WARNING: not removing hydrogen atom without neighbors\n",
      " 22%|██▏       | 215744/1000000 [00:24<01:28, 8894.85it/s]RDKit ERROR: [16:26:21] Explicit valence for atom # 1 Br, 3, is greater than permitted\n",
      "RDKit WARNING: [16:26:21] WARNING: not removing hydrogen atom without neighbors\n",
      " 22%|██▏       | 216637/1000000 [00:25<01:29, 8722.94it/s]RDKit WARNING: [16:26:21] WARNING: not removing hydrogen atom without neighbors\n",
      " 22%|██▏       | 218409/1000000 [00:25<01:31, 8587.94it/s]RDKit WARNING: [16:26:21] WARNING: not removing hydrogen atom without neighbors\n",
      "RDKit ERROR: [16:26:21] Explicit valence for atom # 28 Cl, 3, is greater than permitted\n",
      " 22%|██▏       | 219270/1000000 [00:25<01:31, 8505.42it/s]RDKit WARNING: [16:26:21] WARNING: not removing hydrogen atom without neighbors\n",
      "RDKit WARNING: [16:26:21] WARNING: not removing hydrogen atom without neighbors\n",
      " 22%|██▏       | 220970/1000000 [00:25<01:32, 8437.93it/s]RDKit ERROR: [16:26:21] Explicit valence for atom # 1 Cl, 3, is greater than permitted\n",
      "RDKit ERROR: [16:26:21] Explicit valence for atom # 18 Cl, 3, is greater than permitted\n",
      " 22%|██▏       | 221827/1000000 [00:25<01:31, 8472.69it/s]RDKit WARNING: [16:26:21] WARNING: not removing hydrogen atom without neighbors\n",
      "RDKit WARNING: [16:26:21] WARNING: not removing hydrogen atom without neighbors\n",
      "RDKit WARNING: [16:26:21] WARNING: not removing hydrogen atom without neighbors\n",
      " 22%|██▏       | 222741/1000000 [00:25<01:29, 8660.84it/s]RDKit WARNING: [16:26:22] WARNING: not removing hydrogen atom without neighbors\n",
      "RDKit ERROR: [16:26:22] Explicit valence for atom # 3 Cl, 3, is greater than permitted\n",
      " 22%|██▏       | 223609/1000000 [00:25<01:31, 8451.23it/s]RDKit ERROR: [16:26:22] Explicit valence for atom # 14 Br, 3, is greater than permitted\n",
      " 23%|██▎       | 225313/1000000 [00:26<01:34, 8230.95it/s]RDKit ERROR: [16:26:22] Explicit valence for atom # 14 Br, 3, is greater than permitted\n",
      "RDKit WARNING: [16:26:22] WARNING: not removing hydrogen atom without neighbors\n",
      " 23%|██▎       | 226165/1000000 [00:26<01:33, 8315.32it/s]RDKit ERROR: [16:26:22] Explicit valence for atom # 10 Cl, 3, is greater than permitted\n",
      "RDKit WARNING: [16:26:22] WARNING: not removing hydrogen atom without neighbors\n",
      " 23%|██▎       | 227041/1000000 [00:26<01:31, 8443.15it/s]RDKit ERROR: [16:26:22] Explicit valence for atom # 3 Cl, 3, is greater than permitted\n",
      "RDKit WARNING: [16:26:22] WARNING: not removing hydrogen atom without neighbors\n",
      " 23%|██▎       | 228818/1000000 [00:26<01:29, 8659.93it/s]RDKit ERROR: [16:26:22] Explicit valence for atom # 8 Br, 3, is greater than permitted\n",
      " 23%|██▎       | 230550/1000000 [00:26<01:30, 8523.04it/s]RDKit WARNING: [16:26:22] WARNING: not removing hydrogen atom without neighbors\n",
      "RDKit WARNING: [16:26:22] WARNING: not removing hydrogen atom without neighbors\n",
      "RDKit WARNING: [16:26:23] WARNING: not removing hydrogen atom without neighbors\n",
      " 23%|██▎       | 232278/1000000 [00:26<01:32, 8271.46it/s]RDKit WARNING: [16:26:23] WARNING: not removing hydrogen atom without neighbors\n",
      " 23%|██▎       | 233150/1000000 [00:26<01:31, 8400.81it/s]RDKit WARNING: [16:26:23] WARNING: not removing hydrogen atom without neighbors\n",
      "RDKit WARNING: [16:26:23] WARNING: not removing hydrogen atom without neighbors\n",
      " 24%|██▎       | 235707/1000000 [00:27<01:30, 8444.44it/s]RDKit WARNING: [16:26:23] WARNING: not removing hydrogen atom without neighbors\n",
      "RDKit ERROR: [16:26:23] Explicit valence for atom # 10 Cl, 3, is greater than permitted\n",
      " 24%|██▎       | 236617/1000000 [00:27<01:28, 8630.06it/s]RDKit ERROR: [16:26:23] Explicit valence for atom # 23 Cl, 3, is greater than permitted\n",
      " 24%|██▍       | 240107/1000000 [00:27<01:51, 6822.55it/s]RDKit ERROR: [16:26:24] Explicit valence for atom # 1 Br, 3, is greater than permitted\n",
      "RDKit WARNING: [16:26:24] WARNING: not removing hydrogen atom without neighbors\n",
      "RDKit WARNING: [16:26:24] WARNING: not removing hydrogen atom without neighbors\n",
      " 24%|██▍       | 240963/1000000 [00:28<01:44, 7263.98it/s]RDKit WARNING: [16:26:24] WARNING: not removing hydrogen atom without neighbors\n",
      " 24%|██▍       | 242752/1000000 [00:28<01:34, 8004.52it/s]RDKit WARNING: [16:26:24] WARNING: not removing hydrogen atom without neighbors\n",
      "RDKit WARNING: [16:26:24] WARNING: not removing hydrogen atom without neighbors\n",
      " 24%|██▍       | 243623/1000000 [00:28<01:32, 8201.38it/s]RDKit WARNING: [16:26:24] WARNING: not removing hydrogen atom without neighbors\n",
      " 24%|██▍       | 244473/1000000 [00:28<01:31, 8271.96it/s]RDKit WARNING: [16:26:24] WARNING: not removing hydrogen atom without neighbors\n",
      "RDKit ERROR: [16:26:24] Explicit valence for atom # 1 Br, 3, is greater than permitted\n",
      "RDKit ERROR: [16:26:24] Explicit valence for atom # 24 Br, 3, is greater than permitted\n",
      " 25%|██▍       | 245362/1000000 [00:28<01:29, 8443.02it/s]RDKit WARNING: [16:26:24] WARNING: not removing hydrogen atom without neighbors\n",
      " 25%|██▍       | 247126/1000000 [00:28<01:27, 8633.08it/s]RDKit ERROR: [16:26:25] Explicit valence for atom # 12 Br, 3, is greater than permitted\n",
      "RDKit WARNING: [16:26:25] WARNING: not removing hydrogen atom without neighbors\n",
      " 25%|██▍       | 248015/1000000 [00:28<01:26, 8708.42it/s]RDKit WARNING: [16:26:25] WARNING: not removing hydrogen atom without neighbors\n",
      " 25%|██▍       | 248892/1000000 [00:28<01:27, 8554.69it/s]RDKit ERROR: [16:26:25] Explicit valence for atom # 1 H, 2, is greater than permitted\n",
      " 25%|██▌       | 250653/1000000 [00:29<01:27, 8588.32it/s]RDKit ERROR: [16:26:25] Explicit valence for atom # 11 Cl, 5, is greater than permitted\n",
      "RDKit WARNING: [16:26:25] WARNING: not removing hydrogen atom without neighbors\n",
      " 25%|██▌       | 252423/1000000 [00:29<01:25, 8718.39it/s]RDKit WARNING: [16:26:25] WARNING: not removing hydrogen atom without neighbors\n",
      " 25%|██▌       | 254249/1000000 [00:29<01:23, 8933.63it/s]RDKit ERROR: [16:26:25] Explicit valence for atom # 7 Cl, 3, is greater than permitted\n",
      " 26%|██▌       | 255163/1000000 [00:29<01:22, 8993.45it/s]RDKit WARNING: [16:26:25] WARNING: not removing hydrogen atom without neighbors\n",
      " 26%|██▌       | 256080/1000000 [00:29<01:22, 9045.39it/s]RDKit ERROR: [16:26:26] Explicit valence for atom # 1 Br, 3, is greater than permitted\n",
      "RDKit ERROR: [16:26:26] Explicit valence for atom # 13 Br, 3, is greater than permitted\n",
      " 26%|██▌       | 256986/1000000 [00:29<01:23, 8910.90it/s]RDKit WARNING: [16:26:26] WARNING: not removing hydrogen atom without neighbors\n",
      "RDKit WARNING: [16:26:26] WARNING: not removing hydrogen atom without neighbors\n",
      "RDKit WARNING: [16:26:26] WARNING: not removing hydrogen atom without neighbors\n",
      " 26%|██▌       | 258781/1000000 [00:30<01:22, 8945.98it/s]RDKit ERROR: [16:26:26] Explicit valence for atom # 1 Cl, 3, is greater than permitted\n",
      " 26%|██▌       | 259677/1000000 [00:30<01:23, 8891.54it/s]RDKit ERROR: [16:26:26] Explicit valence for atom # 13 Cl, 3, is greater than permitted\n",
      " 26%|██▌       | 260567/1000000 [00:30<01:24, 8766.54it/s]RDKit ERROR: [16:26:26] Explicit valence for atom # 47 Ge, 8, is greater than permitted\n",
      "RDKit WARNING: [16:26:26] WARNING: not removing hydrogen atom without neighbors\n",
      " 26%|██▌       | 261486/1000000 [00:30<01:23, 8885.71it/s]RDKit ERROR: [16:26:26] Explicit valence for atom # 7 Cl, 3, is greater than permitted\n",
      " 26%|██▋       | 263256/1000000 [00:30<01:24, 8737.72it/s]RDKit WARNING: [16:26:26] WARNING: not removing hydrogen atom without neighbors\n",
      "RDKit ERROR: [16:26:26] Explicit valence for atom # 8 Br, 3, is greater than permitted\n",
      " 26%|██▋       | 264183/1000000 [00:30<01:22, 8890.81it/s]RDKit ERROR: [16:26:26] Explicit valence for atom # 17 Cl, 3, is greater than permitted\n",
      "RDKit WARNING: [16:26:27] WARNING: not removing hydrogen atom without neighbors\n",
      "RDKit WARNING: [16:26:27] WARNING: not removing hydrogen atom without neighbors\n",
      " 27%|██▋       | 265075/1000000 [00:30<01:22, 8899.50it/s]RDKit ERROR: [16:26:27] Explicit valence for atom # 20 Br, 3, is greater than permitted\n",
      " 27%|██▋       | 265966/1000000 [00:30<01:22, 8850.30it/s]RDKit WARNING: [16:26:27] WARNING: not removing hydrogen atom without neighbors\n",
      "RDKit WARNING: [16:26:27] WARNING: not removing hydrogen atom without neighbors\n",
      "RDKit WARNING: [16:26:27] WARNING: not removing hydrogen atom without neighbors\n",
      "RDKit WARNING: [16:26:27] WARNING: not removing hydrogen atom without neighbors\n",
      "RDKit WARNING: [16:26:27] WARNING: not removing hydrogen atom without neighbors\n",
      "RDKit WARNING: [16:26:27] WARNING: not removing hydrogen atom without neighbors\n",
      "RDKit WARNING: [16:26:27] WARNING: not removing hydrogen atom without neighbors\n",
      "RDKit WARNING: [16:26:27] WARNING: not removing hydrogen atom without neighbors\n",
      "RDKit WARNING: [16:26:27] WARNING: not removing hydrogen atom without neighbors\n",
      "RDKit ERROR: [16:26:27] Explicit valence for atom # 1 Br, 3, is greater than permitted\n",
      "RDKit WARNING: [16:26:27] WARNING: not removing hydrogen atom without neighbors\n",
      "RDKit ERROR: [16:26:27] Explicit valence for atom # 30 Cl, 3, is greater than permitted\n",
      " 27%|██▋       | 266852/1000000 [00:30<01:23, 8789.14it/s]RDKit ERROR: [16:26:27] Explicit valence for atom # 7 Cl, 3, is greater than permitted\n",
      "RDKit ERROR: [16:26:27] Explicit valence for atom # 2 Cl, 3, is greater than permitted\n",
      "RDKit WARNING: [16:26:27] WARNING: not removing hydrogen atom without neighbors\n",
      "RDKit WARNING: [16:26:27] WARNING: not removing hydrogen atom without neighbors\n",
      "RDKit WARNING: [16:26:27] WARNING: not removing hydrogen atom without neighbors\n",
      " 27%|██▋       | 267732/1000000 [00:31<01:24, 8619.79it/s]RDKit WARNING: [16:26:27] WARNING: not removing hydrogen atom without neighbors\n",
      "RDKit WARNING: [16:26:27] WARNING: not removing hydrogen atom without neighbors\n",
      " 27%|██▋       | 269484/1000000 [00:31<01:24, 8626.24it/s]RDKit ERROR: [16:26:27] Explicit valence for atom # 15 Cl, 3, is greater than permitted\n",
      " 27%|██▋       | 272088/1000000 [00:31<01:41, 7193.26it/s]RDKit ERROR: [16:26:28] Explicit valence for atom # 19 Br, 3, is greater than permitted\n",
      " 27%|██▋       | 272980/1000000 [00:31<01:35, 7634.52it/s]RDKit WARNING: [16:26:28] WARNING: not removing hydrogen atom without neighbors\n",
      " 27%|██▋       | 274698/1000000 [00:32<01:29, 8097.74it/s]RDKit ERROR: [16:26:28] Explicit valence for atom # 0 Si, 8, is greater than permitted\n",
      " 28%|██▊       | 275541/1000000 [00:32<01:28, 8194.49it/s]RDKit ERROR: [16:26:28] Explicit valence for atom # 3 Br, 3, is greater than permitted\n",
      "RDKit WARNING: [16:26:28] WARNING: not removing hydrogen atom without neighbors\n",
      "RDKit ERROR: [16:26:28] Explicit valence for atom # 6 Cl, 3, is greater than permitted\n",
      "RDKit ERROR: [16:26:28] Explicit valence for atom # 13 Cl, 5, is greater than permitted\n",
      " 28%|██▊       | 279006/1000000 [00:32<01:24, 8496.21it/s]RDKit ERROR: [16:26:28] Explicit valence for atom # 6 Cl, 3, is greater than permitted\n",
      " 28%|██▊       | 279865/1000000 [00:32<01:24, 8488.73it/s]RDKit ERROR: [16:26:28] Explicit valence for atom # 6 Cl, 3, is greater than permitted\n",
      " 28%|██▊       | 280720/1000000 [00:32<01:25, 8438.39it/s]RDKit ERROR: [16:26:29] Explicit valence for atom # 2 Cl, 3, is greater than permitted\n",
      "RDKit ERROR: [16:26:29] Explicit valence for atom # 21 Br, 3, is greater than permitted\n",
      " 28%|██▊       | 281583/1000000 [00:32<01:24, 8492.55it/s]RDKit ERROR: [16:26:29] Explicit valence for atom # 15 Br, 3, is greater than permitted\n",
      "RDKit WARNING: [16:26:29] WARNING: not removing hydrogen atom without neighbors\n",
      " 28%|██▊       | 283339/1000000 [00:33<01:23, 8628.91it/s]RDKit ERROR: [16:26:29] Explicit valence for atom # 6 Cl, 3, is greater than permitted\n",
      "RDKit ERROR: [16:26:29] Explicit valence for atom # 4 Cl, 3, is greater than permitted\n",
      " 28%|██▊       | 284258/1000000 [00:33<01:21, 8787.48it/s]RDKit ERROR: [16:26:29] Explicit valence for atom # 6 Cl, 3, is greater than permitted\n",
      "RDKit ERROR: [16:26:29] Explicit valence for atom # 27 Cl, 3, is greater than permitted\n",
      " 29%|██▊       | 285169/1000000 [00:33<01:20, 8879.97it/s]RDKit WARNING: [16:26:29] WARNING: not removing hydrogen atom without neighbors\n",
      " 29%|██▊       | 286059/1000000 [00:33<01:21, 8810.13it/s]RDKit ERROR: [16:26:29] Explicit valence for atom # 8 Cl, 3, is greater than permitted\n",
      "RDKit WARNING: [16:26:29] WARNING: not removing hydrogen atom without neighbors\n",
      " 29%|██▊       | 286942/1000000 [00:33<01:21, 8698.06it/s]RDKit ERROR: [16:26:29] Explicit valence for atom # 2 Cl, 3, is greater than permitted\n",
      " 29%|██▉       | 287821/1000000 [00:33<01:21, 8723.19it/s]RDKit ERROR: [16:26:29] Explicit valence for atom # 24 Cl, 3, is greater than permitted\n",
      "RDKit ERROR: [16:26:29] Explicit valence for atom # 4 Cl, 3, is greater than permitted\n",
      " 29%|██▉       | 288695/1000000 [00:33<01:22, 8670.99it/s]RDKit WARNING: [16:26:30] WARNING: not removing hydrogen atom without neighbors\n",
      " 29%|██▉       | 289567/1000000 [00:33<01:21, 8682.91it/s]RDKit ERROR: [16:26:30] Explicit valence for atom # 18 Cl, 3, is greater than permitted\n",
      " 29%|██▉       | 290436/1000000 [00:33<01:22, 8647.35it/s]RDKit ERROR: [16:26:30] Explicit valence for atom # 43 Cl, 3, is greater than permitted\n",
      "RDKit ERROR: [16:26:30] Explicit valence for atom # 13 Br, 3, is greater than permitted\n",
      " 29%|██▉       | 291333/1000000 [00:33<01:21, 8741.29it/s]RDKit ERROR: [16:26:30] Explicit valence for atom # 17 Br, 3, is greater than permitted\n",
      " 29%|██▉       | 292208/1000000 [00:34<01:22, 8575.64it/s]RDKit WARNING: [16:26:30] WARNING: not removing hydrogen atom without neighbors\n",
      " 29%|██▉       | 293067/1000000 [00:34<01:22, 8579.56it/s]RDKit ERROR: [16:26:30] Explicit valence for atom # 20 Cl, 3, is greater than permitted\n",
      " 29%|██▉       | 293927/1000000 [00:34<01:22, 8583.03it/s]RDKit WARNING: [16:26:30] WARNING: not removing hydrogen atom without neighbors\n",
      " 29%|██▉       | 294786/1000000 [00:34<01:25, 8206.27it/s]RDKit WARNING: [16:26:30] WARNING: not removing hydrogen atom without neighbors\n",
      " 30%|██▉       | 297414/1000000 [00:34<01:21, 8590.77it/s]RDKit WARNING: [16:26:30] WARNING: not removing hydrogen atom without neighbors\n",
      " 30%|██▉       | 299158/1000000 [00:34<01:21, 8649.47it/s]RDKit WARNING: [16:26:31] WARNING: not removing hydrogen atom without neighbors\n",
      "RDKit WARNING: [16:26:31] WARNING: not removing hydrogen atom without neighbors\n",
      " 30%|███       | 300056/1000000 [00:34<01:20, 8744.89it/s]RDKit WARNING: [16:26:31] WARNING: not removing hydrogen atom without neighbors\n",
      " 30%|███       | 300964/1000000 [00:35<01:19, 8842.51it/s]RDKit ERROR: [16:26:31] Explicit valence for atom # 1 Br, 3, is greater than permitted\n",
      " 30%|███       | 301878/1000000 [00:35<01:18, 8928.15it/s]RDKit WARNING: [16:26:31] WARNING: not removing hydrogen atom without neighbors\n",
      " 30%|███       | 302772/1000000 [00:35<01:20, 8713.14it/s]RDKit WARNING: [16:26:31] WARNING: not removing hydrogen atom without neighbors\n",
      "RDKit WARNING: [16:26:31] WARNING: not removing hydrogen atom without neighbors\n",
      " 30%|███       | 303646/1000000 [00:35<01:20, 8695.94it/s]RDKit WARNING: [16:26:31] WARNING: not removing hydrogen atom without neighbors\n",
      " 30%|███       | 304565/1000000 [00:35<01:18, 8838.41it/s]RDKit WARNING: [16:26:31] WARNING: not removing hydrogen atom without neighbors\n",
      "RDKit ERROR: [16:26:31] Explicit valence for atom # 1 Po, 4, is greater than permitted\n",
      "RDKit WARNING: [16:26:31] WARNING: not removing hydrogen atom without neighbors\n",
      " 31%|███       | 305476/1000000 [00:35<01:17, 8915.92it/s]RDKit WARNING: [16:26:31] WARNING: not removing hydrogen atom without neighbors\n",
      "RDKit WARNING: [16:26:31] WARNING: not removing hydrogen atom without neighbors\n",
      "RDKit WARNING: [16:26:31] WARNING: not removing hydrogen atom without neighbors\n",
      "RDKit WARNING: [16:26:31] WARNING: not removing hydrogen atom without neighbors\n",
      "RDKit WARNING: [16:26:31] WARNING: not removing hydrogen atom without neighbors\n",
      " 31%|███       | 306369/1000000 [00:35<01:18, 8877.09it/s]RDKit WARNING: [16:26:31] WARNING: not removing hydrogen atom without neighbors\n",
      "RDKit WARNING: [16:26:31] WARNING: not removing hydrogen atom without neighbors\n",
      " 31%|███       | 307262/1000000 [00:35<01:17, 8892.44it/s]RDKit WARNING: [16:26:32] WARNING: not removing hydrogen atom without neighbors\n",
      " 31%|███       | 309076/1000000 [00:35<01:16, 8984.20it/s]RDKit ERROR: [16:26:32] Explicit valence for atom # 8 Cl, 3, is greater than permitted\n",
      "RDKit ERROR: [16:26:32] Explicit valence for atom # 18 Br, 3, is greater than permitted\n",
      " 31%|███       | 309976/1000000 [00:36<01:45, 6526.22it/s]RDKit ERROR: [16:26:32] Explicit valence for atom # 12 Cl, 3, is greater than permitted\n",
      " 31%|███       | 311748/1000000 [00:36<01:31, 7542.20it/s]RDKit WARNING: [16:26:32] WARNING: not removing hydrogen atom without neighbors\n",
      "RDKit WARNING: [16:26:32] WARNING: not removing hydrogen atom without neighbors\n",
      "RDKit WARNING: [16:26:32] WARNING: not removing hydrogen atom without neighbors\n",
      " 31%|███▏      | 313410/1000000 [00:36<01:27, 7890.69it/s]RDKit WARNING: [16:26:32] WARNING: not removing hydrogen atom without neighbors\n",
      " 31%|███▏      | 314318/1000000 [00:36<01:23, 8212.74it/s]RDKit WARNING: [16:26:33] WARNING: not removing hydrogen atom without neighbors\n",
      " 32%|███▏      | 316060/1000000 [00:36<01:20, 8466.53it/s]RDKit WARNING: [16:26:33] WARNING: not removing hydrogen atom without neighbors\n",
      " 32%|███▏      | 316921/1000000 [00:37<01:20, 8465.37it/s]RDKit ERROR: [16:26:33] Explicit valence for atom # 4 Cl, 3, is greater than permitted\n",
      " 32%|███▏      | 317788/1000000 [00:37<01:20, 8525.65it/s]RDKit WARNING: [16:26:33] WARNING: not removing hydrogen atom without neighbors\n",
      "RDKit WARNING: [16:26:33] WARNING: not removing hydrogen atom without neighbors\n",
      " 32%|███▏      | 319487/1000000 [00:37<01:33, 7311.64it/s]RDKit ERROR: [16:26:33] Explicit valence for atom # 1 Br, 3, is greater than permitted\n",
      "RDKit ERROR: [16:26:33] Explicit valence for atom # 6 Cl, 3, is greater than permitted\n",
      "RDKit WARNING: [16:26:33] WARNING: not removing hydrogen atom without neighbors\n",
      "RDKit WARNING: [16:26:33] WARNING: not removing hydrogen atom without neighbors\n",
      "RDKit WARNING: [16:26:33] WARNING: not removing hydrogen atom without neighbors\n",
      " 32%|███▏      | 320291/1000000 [00:37<01:30, 7514.09it/s]RDKit WARNING: [16:26:33] WARNING: not removing hydrogen atom without neighbors\n",
      " 32%|███▏      | 322893/1000000 [00:37<01:22, 8182.23it/s]RDKit ERROR: [16:26:34] Explicit valence for atom # 1 H, 2, is greater than permitted\n",
      " 32%|███▏      | 323773/1000000 [00:37<01:20, 8357.20it/s]RDKit ERROR: [16:26:34] Explicit valence for atom # 21 Cl, 3, is greater than permitted\n",
      "RDKit ERROR: [16:26:34] Explicit valence for atom # 17 Cl, 3, is greater than permitted\n",
      "RDKit WARNING: [16:26:34] WARNING: not removing hydrogen atom without neighbors\n",
      " 32%|███▏      | 324645/1000000 [00:37<01:19, 8459.89it/s]RDKit WARNING: [16:26:34] WARNING: not removing hydrogen atom without neighbors\n",
      "RDKit ERROR: [16:26:34] Explicit valence for atom # 37 Cl, 3, is greater than permitted\n",
      "RDKit ERROR: [16:26:34] Explicit valence for atom # 22 Cl, 3, is greater than permitted\n",
      " 33%|███▎      | 329037/1000000 [00:38<01:18, 8524.06it/s]RDKit ERROR: [16:26:34] Explicit valence for atom # 24 Br, 3, is greater than permitted\n",
      "RDKit ERROR: [16:26:34] Explicit valence for atom # 5 Cl, 3, is greater than permitted\n",
      " 33%|███▎      | 329919/1000000 [00:38<01:17, 8610.27it/s]RDKit WARNING: [16:26:34] WARNING: not removing hydrogen atom without neighbors\n",
      "RDKit WARNING: [16:26:34] WARNING: not removing hydrogen atom without neighbors\n",
      " 33%|███▎      | 330785/1000000 [00:38<01:17, 8620.07it/s]RDKit ERROR: [16:26:34] Explicit valence for atom # 39 Cl, 3, is greater than permitted\n",
      " 33%|███▎      | 331649/1000000 [00:38<01:17, 8618.44it/s]RDKit WARNING: [16:26:35] WARNING: not removing hydrogen atom without neighbors\n",
      "RDKit ERROR: [16:26:35] Explicit valence for atom # 8 Cl, 3, is greater than permitted\n",
      " 33%|███▎      | 332512/1000000 [00:38<01:17, 8602.36it/s]RDKit WARNING: [16:26:35] WARNING: not removing hydrogen atom without neighbors\n",
      " 33%|███▎      | 333402/1000000 [00:38<01:16, 8688.92it/s]RDKit ERROR: [16:26:35] Explicit valence for atom # 0 H, 2, is greater than permitted\n",
      "RDKit WARNING: [16:26:35] WARNING: not removing hydrogen atom without neighbors\n",
      "RDKit WARNING: [16:26:35] WARNING: not removing hydrogen atom without neighbors\n",
      "RDKit WARNING: [16:26:35] WARNING: not removing hydrogen atom without neighbors\n",
      "RDKit WARNING: [16:26:35] WARNING: not removing hydrogen atom without neighbors\n",
      " 33%|███▎      | 334297/1000000 [00:39<01:15, 8764.24it/s]RDKit WARNING: [16:26:35] WARNING: not removing hydrogen atom without neighbors\n",
      " 34%|███▎      | 335175/1000000 [00:39<01:16, 8682.90it/s]RDKit WARNING: [16:26:35] WARNING: not removing hydrogen atom without neighbors\n",
      " 34%|███▎      | 336044/1000000 [00:39<01:16, 8628.15it/s]RDKit ERROR: [16:26:35] Explicit valence for atom # 9 Cl, 3, is greater than permitted\n",
      " 34%|███▎      | 336943/1000000 [00:39<01:15, 8732.34it/s]RDKit ERROR: [16:26:35] Explicit valence for atom # 1 Br, 3, is greater than permitted\n",
      "RDKit ERROR: [16:26:35] Explicit valence for atom # 1 Cl, 3, is greater than permitted\n",
      "RDKit ERROR: [16:26:35] Explicit valence for atom # 13 Cl, 3, is greater than permitted\n",
      " 34%|███▍      | 338706/1000000 [00:39<01:15, 8760.40it/s]RDKit WARNING: [16:26:35] WARNING: not removing hydrogen atom without neighbors\n",
      "RDKit WARNING: [16:26:35] WARNING: not removing hydrogen atom without neighbors\n",
      " 34%|███▍      | 340457/1000000 [00:39<01:16, 8580.80it/s]RDKit ERROR: [16:26:36] Explicit valence for atom # 6 Cl, 3, is greater than permitted\n",
      " 34%|███▍      | 341341/1000000 [00:39<01:16, 8652.63it/s]RDKit WARNING: [16:26:36] WARNING: not removing hydrogen atom without neighbors\n",
      "RDKit WARNING: [16:26:36] WARNING: not removing hydrogen atom without neighbors\n",
      " 34%|███▍      | 342213/1000000 [00:39<01:15, 8672.26it/s]RDKit ERROR: [16:26:36] Explicit valence for atom # 10 Br, 3, is greater than permitted\n",
      "RDKit ERROR: [16:26:36] Explicit valence for atom # 12 Br, 3, is greater than permitted\n",
      "RDKit ERROR: [16:26:36] Explicit valence for atom # 1 Br, 3, is greater than permitted\n",
      " 34%|███▍      | 343082/1000000 [00:40<01:17, 8423.83it/s]RDKit ERROR: [16:26:36] Explicit valence for atom # 23 Cl, 3, is greater than permitted\n",
      "RDKit ERROR: [16:26:36] Explicit valence for atom # 17 Cl, 3, is greater than permitted\n",
      " 34%|███▍      | 343963/1000000 [00:40<01:16, 8535.82it/s]RDKit ERROR: [16:26:36] Explicit valence for atom # 7 Cl, 3, is greater than permitted\n",
      " 35%|███▍      | 346581/1000000 [00:40<01:15, 8624.93it/s]RDKit WARNING: [16:26:36] WARNING: not removing hydrogen atom without neighbors\n",
      " 35%|███▍      | 347445/1000000 [00:40<01:16, 8533.61it/s]RDKit ERROR: [16:26:36] Explicit valence for atom # 14 Cl, 3, is greater than permitted\n",
      " 35%|███▍      | 348300/1000000 [00:40<01:17, 8377.97it/s]RDKit WARNING: [16:26:37] WARNING: not removing hydrogen atom without neighbors\n",
      "RDKit ERROR: [16:26:37] Explicit valence for atom # 4 Cl, 3, is greater than permitted\n",
      " 35%|███▍      | 349206/1000000 [00:40<01:15, 8571.43it/s]RDKit ERROR: [16:26:37] Explicit valence for atom # 5 Cl, 3, is greater than permitted\n",
      " 35%|███▌      | 350086/1000000 [00:40<01:15, 8637.97it/s]RDKit WARNING: [16:26:37] WARNING: not removing hydrogen atom without neighbors\n",
      "RDKit ERROR: [16:26:37] Explicit valence for atom # 1 Br, 3, is greater than permitted\n",
      " 35%|███▌      | 351823/1000000 [00:41<01:15, 8589.87it/s]RDKit WARNING: [16:26:37] WARNING: not removing hydrogen atom without neighbors\n",
      " 35%|███▌      | 352744/1000000 [00:41<01:13, 8764.77it/s]RDKit WARNING: [16:26:37] WARNING: not removing hydrogen atom without neighbors\n",
      " 35%|███▌      | 353622/1000000 [00:41<01:13, 8765.90it/s]RDKit ERROR: [16:26:37] Explicit valence for atom # 3 Cl, 3, is greater than permitted\n",
      " 35%|███▌      | 354500/1000000 [00:41<01:16, 8442.61it/s]RDKit ERROR: [16:26:37] Explicit valence for atom # 9 Cl, 3, is greater than permitted\n",
      " 36%|███▌      | 357112/1000000 [00:41<01:15, 8466.99it/s]RDKit WARNING: [16:26:38] WARNING: not removing hydrogen atom without neighbors\n",
      " 36%|███▌      | 358022/1000000 [00:41<01:14, 8638.49it/s]RDKit ERROR: [16:26:38] Explicit valence for atom # 34 Cl, 3, is greater than permitted\n",
      " 36%|███▌      | 359764/1000000 [00:42<01:14, 8584.25it/s]RDKit WARNING: [16:26:38] WARNING: not removing hydrogen atom without neighbors\n",
      "RDKit WARNING: [16:26:38] WARNING: not removing hydrogen atom without neighbors\n",
      "RDKit ERROR: [16:26:38] Explicit valence for atom # 28 Cl, 2, is greater than permitted\n",
      " 36%|███▌      | 360624/1000000 [00:42<01:14, 8532.63it/s]RDKit ERROR: [16:26:38] Explicit valence for atom # 5 Cl, 3, is greater than permitted\n",
      "RDKit WARNING: [16:26:38] WARNING: not removing hydrogen atom without neighbors\n",
      " 36%|███▋      | 363343/1000000 [00:42<01:12, 8818.24it/s]RDKit ERROR: [16:26:38] Explicit valence for atom # 7 Cl, 3, is greater than permitted\n",
      "RDKit ERROR: [16:26:38] Explicit valence for atom # 8 Cl, 3, is greater than permitted\n",
      "RDKit ERROR: [16:26:38] Explicit valence for atom # 0 H, 2, is greater than permitted\n",
      " 36%|███▋      | 364226/1000000 [00:42<01:12, 8759.30it/s]RDKit WARNING: [16:26:38] WARNING: not removing hydrogen atom without neighbors\n",
      " 37%|███▋      | 365963/1000000 [00:42<01:13, 8583.87it/s]RDKit WARNING: [16:26:39] WARNING: not removing hydrogen atom without neighbors\n",
      "RDKit WARNING: [16:26:39] WARNING: not removing hydrogen atom without neighbors\n",
      "RDKit WARNING: [16:26:39] WARNING: not removing hydrogen atom without neighbors\n",
      " 37%|███▋      | 366824/1000000 [00:42<01:13, 8590.38it/s]RDKit WARNING: [16:26:39] WARNING: not removing hydrogen atom without neighbors\n",
      "RDKit WARNING: [16:26:39] WARNING: not removing hydrogen atom without neighbors\n",
      "RDKit ERROR: [16:26:39] Explicit valence for atom # 7 Cl, 3, is greater than permitted\n",
      "RDKit WARNING: [16:26:39] WARNING: not removing hydrogen atom without neighbors\n",
      " 37%|███▋      | 367684/1000000 [00:42<01:13, 8552.28it/s]RDKit ERROR: [16:26:39] Explicit valence for atom # 1 Cl, 3, is greater than permitted\n",
      " 37%|███▋      | 370361/1000000 [00:43<01:11, 8792.92it/s]RDKit WARNING: [16:26:39] WARNING: not removing hydrogen atom without neighbors\n",
      " 37%|███▋      | 371245/1000000 [00:43<01:11, 8805.39it/s]RDKit ERROR: [16:26:39] Explicit valence for atom # 7 Cl, 3, is greater than permitted\n",
      " 37%|███▋      | 373013/1000000 [00:43<01:11, 8773.95it/s]RDKit ERROR: [16:26:39] Explicit valence for atom # 7 Br, 3, is greater than permitted\n",
      " 37%|███▋      | 373939/1000000 [00:43<01:10, 8912.15it/s]RDKit WARNING: [16:26:39] WARNING: not removing hydrogen atom without neighbors\n",
      " 37%|███▋      | 374836/1000000 [00:43<01:10, 8927.46it/s]RDKit ERROR: [16:26:40] Explicit valence for atom # 32 Cl, 3, is greater than permitted\n",
      " 38%|███▊      | 375736/1000000 [00:43<01:09, 8946.86it/s]RDKit WARNING: [16:26:40] WARNING: not removing hydrogen atom without neighbors\n",
      "RDKit ERROR: [16:26:40] Explicit valence for atom # 11 Cl, 3, is greater than permitted\n",
      " 38%|███▊      | 376643/1000000 [00:43<01:09, 8981.90it/s]RDKit WARNING: [16:26:40] WARNING: not removing hydrogen atom without neighbors\n",
      " 38%|███▊      | 377542/1000000 [00:44<01:09, 8946.19it/s]RDKit ERROR: [16:26:40] Explicit valence for atom # 15 Br, 3, is greater than permitted\n",
      " 38%|███▊      | 378449/1000000 [00:44<01:09, 8980.91it/s]RDKit ERROR: [16:26:40] Explicit valence for atom # 15 Cl, 3, is greater than permitted\n",
      "RDKit WARNING: [16:26:40] WARNING: not removing hydrogen atom without neighbors\n",
      " 38%|███▊      | 379348/1000000 [00:44<01:09, 8976.67it/s]RDKit WARNING: [16:26:40] WARNING: not removing hydrogen atom without neighbors\n",
      "RDKit WARNING: [16:26:40] WARNING: not removing hydrogen atom without neighbors\n",
      "RDKit WARNING: [16:26:40] WARNING: not removing hydrogen atom without neighbors\n",
      " 38%|███▊      | 382926/1000000 [00:44<01:09, 8867.18it/s]RDKit ERROR: [16:26:40] Explicit valence for atom # 14 Br, 3, is greater than permitted\n",
      "RDKit ERROR: [16:26:41] Explicit valence for atom # 13 Cl, 3, is greater than permitted\n",
      "RDKit WARNING: [16:26:41] WARNING: not removing hydrogen atom without neighbors\n",
      " 38%|███▊      | 383831/1000000 [00:44<01:09, 8919.16it/s]RDKit WARNING: [16:26:41] WARNING: not removing hydrogen atom without neighbors\n",
      "RDKit WARNING: [16:26:41] WARNING: not removing hydrogen atom without neighbors\n",
      " 39%|███▊      | 385605/1000000 [00:44<01:10, 8722.21it/s]RDKit ERROR: [16:26:41] Explicit valence for atom # 19 Cl, 3, is greater than permitted\n",
      " 39%|███▊      | 387358/1000000 [00:45<01:10, 8653.33it/s]RDKit WARNING: [16:26:41] WARNING: not removing hydrogen atom without neighbors\n",
      "RDKit WARNING: [16:26:41] WARNING: not removing hydrogen atom without neighbors\n",
      "RDKit WARNING: [16:26:41] WARNING: not removing hydrogen atom without neighbors\n",
      "RDKit WARNING: [16:26:41] WARNING: not removing hydrogen atom without neighbors\n",
      " 39%|███▉      | 388265/1000000 [00:45<01:09, 8770.80it/s]RDKit ERROR: [16:26:41] Explicit valence for atom # 3 Cl, 3, is greater than permitted\n",
      " 39%|███▉      | 389154/1000000 [00:45<01:09, 8805.25it/s]RDKit WARNING: [16:26:41] WARNING: not removing hydrogen atom without neighbors\n",
      " 39%|███▉      | 390036/1000000 [00:45<01:09, 8737.30it/s]RDKit WARNING: [16:26:41] WARNING: not removing hydrogen atom without neighbors\n",
      " 39%|███▉      | 390911/1000000 [00:45<01:10, 8689.43it/s]RDKit ERROR: [16:26:41] Explicit valence for atom # 34 Cl, 3, is greater than permitted\n",
      "RDKit WARNING: [16:26:41] WARNING: not removing hydrogen atom without neighbors\n",
      "RDKit WARNING: [16:26:41] WARNING: not removing hydrogen atom without neighbors\n",
      " 39%|███▉      | 391781/1000000 [00:45<01:12, 8339.40it/s]RDKit ERROR: [16:26:42] Explicit valence for atom # 11 Cl, 3, is greater than permitted\n",
      " 39%|███▉      | 392632/1000000 [00:45<01:12, 8384.96it/s]RDKit ERROR: [16:26:42] Explicit valence for atom # 1 Cl, 3, is greater than permitted\n",
      " 39%|███▉      | 394350/1000000 [00:46<01:12, 8409.29it/s]RDKit ERROR: [16:26:42] Explicit valence for atom # 1 Cl, 3, is greater than permitted\n",
      " 40%|███▉      | 396095/1000000 [00:46<01:11, 8501.25it/s]RDKit WARNING: [16:26:42] WARNING: not removing hydrogen atom without neighbors\n",
      "RDKit ERROR: [16:26:42] Explicit valence for atom # 6 Br, 3, is greater than permitted\n",
      " 40%|███▉      | 397826/1000000 [00:46<01:11, 8432.18it/s]RDKit ERROR: [16:26:42] Explicit valence for atom # 24 Cl, 3, is greater than permitted\n",
      "RDKit ERROR: [16:26:42] Explicit valence for atom # 18 Br, 3, is greater than permitted\n",
      " 40%|███▉      | 398712/1000000 [00:46<01:10, 8554.36it/s]RDKit WARNING: [16:26:42] WARNING: not removing hydrogen atom without neighbors\n",
      " 40%|███▉      | 399570/1000000 [00:46<01:11, 8443.52it/s]RDKit WARNING: [16:26:42] WARNING: not removing hydrogen atom without neighbors\n",
      "RDKit ERROR: [16:26:42] Explicit valence for atom # 24 Br, 3, is greater than permitted\n",
      "RDKit ERROR: [16:26:42] Explicit valence for atom # 17 Cl, 5, is greater than permitted\n",
      " 40%|████      | 400417/1000000 [00:46<01:11, 8417.62it/s]RDKit ERROR: [16:26:43] Explicit valence for atom # 1 H, 2, is greater than permitted\n",
      "RDKit WARNING: [16:26:43] WARNING: not removing hydrogen atom without neighbors\n",
      "RDKit WARNING: [16:26:43] WARNING: not removing hydrogen atom without neighbors\n",
      " 40%|████      | 401260/1000000 [00:46<01:11, 8330.09it/s]RDKit ERROR: [16:26:43] Explicit valence for atom # 3 Cl, 3, is greater than permitted\n",
      "RDKit WARNING: [16:26:43] WARNING: not removing hydrogen atom without neighbors\n",
      "RDKit WARNING: [16:26:43] WARNING: not removing hydrogen atom without neighbors\n",
      " 40%|████      | 404805/1000000 [00:47<01:08, 8745.26it/s]RDKit WARNING: [16:26:43] WARNING: not removing hydrogen atom without neighbors\n",
      "RDKit WARNING: [16:26:43] WARNING: not removing hydrogen atom without neighbors\n",
      " 41%|████      | 405696/1000000 [00:47<01:07, 8792.88it/s]RDKit WARNING: [16:26:43] WARNING: not removing hydrogen atom without neighbors\n",
      "RDKit WARNING: [16:26:43] WARNING: not removing hydrogen atom without neighbors\n",
      " 41%|████      | 406577/1000000 [00:47<01:07, 8785.88it/s]RDKit ERROR: [16:26:43] Explicit valence for atom # 1 Cl, 3, is greater than permitted\n",
      "RDKit WARNING: [16:26:43] WARNING: not removing hydrogen atom without neighbors\n",
      "RDKit ERROR: [16:26:43] Explicit valence for atom # 7 Cl, 3, is greater than permitted\n",
      " 41%|████      | 408364/1000000 [00:47<01:06, 8837.03it/s]RDKit ERROR: [16:26:43] Explicit valence for atom # 49 Cl, 3, is greater than permitted\n",
      "RDKit WARNING: [16:26:43] WARNING: not removing hydrogen atom without neighbors\n",
      " 41%|████      | 409249/1000000 [00:47<01:07, 8800.92it/s]RDKit WARNING: [16:26:44] WARNING: not removing hydrogen atom without neighbors\n",
      "RDKit WARNING: [16:26:44] WARNING: not removing hydrogen atom without neighbors\n",
      "RDKit ERROR: [16:26:44] Explicit valence for atom # 12 Cl, 3, is greater than permitted\n",
      " 41%|████      | 410130/1000000 [00:47<01:07, 8780.30it/s]RDKit ERROR: [16:26:44] Explicit valence for atom # 23 Br, 3, is greater than permitted\n",
      "RDKit ERROR: [16:26:44] Explicit valence for atom # 6 Cl, 3, is greater than permitted\n",
      "RDKit ERROR: [16:26:44] Explicit valence for atom # 16 Cl, 3, is greater than permitted\n",
      "RDKit WARNING: [16:26:44] WARNING: not removing hydrogen atom without neighbors\n",
      "RDKit WARNING: [16:26:44] WARNING: not removing hydrogen atom without neighbors\n",
      " 41%|████      | 411009/1000000 [00:47<01:11, 8259.43it/s]RDKit WARNING: [16:26:44] WARNING: not removing hydrogen atom without neighbors\n",
      " 41%|████      | 411863/1000000 [00:48<01:10, 8336.98it/s]RDKit ERROR: [16:26:44] Explicit valence for atom # 33 Cl, 3, is greater than permitted\n",
      "RDKit WARNING: [16:26:44] WARNING: not removing hydrogen atom without neighbors\n",
      " 41%|████▏     | 412741/1000000 [00:48<01:09, 8463.85it/s]RDKit WARNING: [16:26:44] WARNING: not removing hydrogen atom without neighbors\n",
      " 41%|████▏     | 414518/1000000 [00:48<01:07, 8689.28it/s]RDKit ERROR: [16:26:44] Explicit valence for atom # 7 Cl, 3, is greater than permitted\n",
      " 42%|████▏     | 416274/1000000 [00:48<01:07, 8694.11it/s]RDKit ERROR: [16:26:44] Explicit valence for atom # 11 Br, 3, is greater than permitted\n",
      "RDKit WARNING: [16:26:44] WARNING: not removing hydrogen atom without neighbors\n",
      "RDKit WARNING: [16:26:44] WARNING: not removing hydrogen atom without neighbors\n",
      "RDKit WARNING: [16:26:44] WARNING: not removing hydrogen atom without neighbors\n",
      " 42%|████▏     | 418089/1000000 [00:48<01:06, 8727.00it/s]RDKit ERROR: [16:26:45] Explicit valence for atom # 11 Cl, 5, is greater than permitted\n",
      "RDKit ERROR: [16:26:45] Explicit valence for atom # 13 Cl, 3, is greater than permitted\n",
      "RDKit WARNING: [16:26:45] WARNING: not removing hydrogen atom without neighbors\n",
      "RDKit WARNING: [16:26:45] WARNING: not removing hydrogen atom without neighbors\n",
      " 42%|████▏     | 419843/1000000 [00:48<01:06, 8707.01it/s]RDKit WARNING: [16:26:45] WARNING: not removing hydrogen atom without neighbors\n",
      " 42%|████▏     | 420715/1000000 [00:49<01:06, 8652.37it/s]RDKit WARNING: [16:26:45] WARNING: not removing hydrogen atom without neighbors\n",
      " 42%|████▏     | 422448/1000000 [00:49<01:07, 8590.88it/s]RDKit ERROR: [16:26:45] Explicit valence for atom # 15 Sn, 6, is greater than permitted\n",
      "RDKit ERROR: [16:26:45] Explicit valence for atom # 1 Br, 3, is greater than permitted\n",
      " 43%|████▎     | 425078/1000000 [00:49<01:32, 6204.18it/s]RDKit ERROR: [16:26:45] Explicit valence for atom # 18 Cl, 3, is greater than permitted\n",
      " 43%|████▎     | 425979/1000000 [00:49<01:23, 6842.60it/s]RDKit WARNING: [16:26:46] WARNING: not removing hydrogen atom without neighbors\n",
      "RDKit WARNING: [16:26:46] WARNING: not removing hydrogen atom without neighbors\n",
      "RDKit WARNING: [16:26:46] WARNING: not removing hydrogen atom without neighbors\n",
      " 43%|████▎     | 426848/1000000 [00:49<01:18, 7306.50it/s]RDKit ERROR: [16:26:46] Explicit valence for atom # 6 Cl, 3, is greater than permitted\n",
      " 43%|████▎     | 427675/1000000 [00:50<01:15, 7570.71it/s]RDKit ERROR: [16:26:46] Explicit valence for atom # 1 H, 2, is greater than permitted\n",
      "RDKit WARNING: [16:26:46] WARNING: not removing hydrogen atom without neighbors\n",
      " 43%|████▎     | 428543/1000000 [00:50<01:12, 7870.22it/s]RDKit WARNING: [16:26:46] WARNING: not removing hydrogen atom without neighbors\n",
      " 43%|████▎     | 429371/1000000 [00:50<01:11, 7953.03it/s]RDKit ERROR: [16:26:46] Explicit valence for atom # 19 Cl, 3, is greater than permitted\n",
      " 43%|████▎     | 432793/1000000 [00:50<01:08, 8319.52it/s]RDKit ERROR: [16:26:46] Explicit valence for atom # 3 Cl, 3, is greater than permitted\n",
      " 43%|████▎     | 433633/1000000 [00:50<01:08, 8304.19it/s]RDKit ERROR: [16:26:47] Explicit valence for atom # 1 Br, 3, is greater than permitted\n",
      "RDKit ERROR: [16:26:47] Explicit valence for atom # 7 Cl, 3, is greater than permitted\n",
      " 43%|████▎     | 434469/1000000 [00:50<01:08, 8264.26it/s]RDKit ERROR: [16:26:47] Explicit valence for atom # 23 Cl, 3, is greater than permitted\n",
      "RDKit WARNING: [16:26:47] WARNING: not removing hydrogen atom without neighbors\n",
      "RDKit ERROR: [16:26:47] Explicit valence for atom # 7 Cl, 3, is greater than permitted\n",
      " 44%|████▎     | 435345/1000000 [00:50<01:07, 8405.06it/s]RDKit ERROR: [16:26:47] Explicit valence for atom # 1 Br, 3, is greater than permitted\n",
      " 44%|████▎     | 436232/1000000 [00:51<01:06, 8538.63it/s]RDKit ERROR: [16:26:47] Explicit valence for atom # 7 Br, 3, is greater than permitted\n",
      " 44%|████▍     | 438821/1000000 [00:51<01:05, 8543.88it/s]RDKit WARNING: [16:26:47] WARNING: not removing hydrogen atom without neighbors\n",
      " 44%|████▍     | 439677/1000000 [00:51<01:06, 8413.98it/s]RDKit WARNING: [16:26:47] WARNING: not removing hydrogen atom without neighbors\n",
      " 44%|████▍     | 440521/1000000 [00:51<01:06, 8421.03it/s]RDKit ERROR: [16:26:47] Explicit valence for atom # 1 Cl, 3, is greater than permitted\n",
      " 44%|████▍     | 443019/1000000 [00:51<01:08, 8158.37it/s]RDKit WARNING: [16:26:48] WARNING: not removing hydrogen atom without neighbors\n",
      " 44%|████▍     | 444723/1000000 [00:52<01:06, 8292.81it/s]RDKit ERROR: [16:26:48] Explicit valence for atom # 12 Cl, 3, is greater than permitted\n",
      " 45%|████▍     | 445560/1000000 [00:52<01:06, 8310.59it/s]RDKit WARNING: [16:26:48] WARNING: not removing hydrogen atom without neighbors\n",
      "RDKit WARNING: [16:26:48] WARNING: not removing hydrogen atom without neighbors\n",
      " 45%|████▍     | 447326/1000000 [00:52<01:04, 8542.86it/s]RDKit ERROR: [16:26:48] Explicit valence for atom # 0 H, 2, is greater than permitted\n",
      " 45%|████▍     | 448182/1000000 [00:52<01:05, 8391.42it/s]RDKit ERROR: [16:26:48] Explicit valence for atom # 13 Br, 3, is greater than permitted\n",
      "RDKit WARNING: [16:26:48] WARNING: not removing hydrogen atom without neighbors\n",
      " 45%|████▍     | 449040/1000000 [00:52<01:05, 8445.46it/s]RDKit ERROR: [16:26:48] Explicit valence for atom # 5 Br, 3, is greater than permitted\n",
      "RDKit ERROR: [16:26:48] Explicit valence for atom # 31 Cl, 3, is greater than permitted\n",
      " 45%|████▌     | 450778/1000000 [00:52<01:04, 8565.98it/s]RDKit WARNING: [16:26:49] WARNING: not removing hydrogen atom without neighbors\n",
      " 45%|████▌     | 451636/1000000 [00:52<01:04, 8556.16it/s]RDKit WARNING: [16:26:49] WARNING: not removing hydrogen atom without neighbors\n",
      " 45%|████▌     | 452493/1000000 [00:52<01:04, 8545.77it/s]RDKit ERROR: [16:26:49] Explicit valence for atom # 1 Br, 3, is greater than permitted\n",
      " 46%|████▌     | 455034/1000000 [00:53<01:36, 5665.12it/s]RDKit ERROR: [16:26:49] Explicit valence for atom # 2 Cl, 3, is greater than permitted\n",
      " 46%|████▌     | 456786/1000000 [00:53<01:18, 6899.54it/s]RDKit WARNING: [16:26:50] WARNING: not removing hydrogen atom without neighbors\n",
      "RDKit WARNING: [16:26:50] WARNING: not removing hydrogen atom without neighbors\n",
      " 46%|████▌     | 457600/1000000 [00:53<01:31, 5917.14it/s]RDKit ERROR: [16:26:50] Explicit valence for atom # 21 Cl, 3, is greater than permitted\n",
      "RDKit WARNING: [16:26:50] WARNING: not removing hydrogen atom without neighbors\n",
      "RDKit WARNING: [16:26:50] WARNING: not removing hydrogen atom without neighbors\n",
      "RDKit WARNING: [16:26:50] WARNING: not removing hydrogen atom without neighbors\n",
      "RDKit WARNING: [16:26:50] WARNING: not removing hydrogen atom without neighbors\n",
      "RDKit WARNING: [16:26:50] WARNING: not removing hydrogen atom without neighbors\n",
      " 46%|████▌     | 462003/1000000 [00:54<01:06, 8133.18it/s]RDKit ERROR: [16:26:50] Explicit valence for atom # 15 Cl, 3, is greater than permitted\n",
      " 46%|████▋     | 462854/1000000 [00:54<01:05, 8215.20it/s]RDKit ERROR: [16:26:50] Explicit valence for atom # 10 Cl, 3, is greater than permitted\n",
      " 47%|████▋     | 465425/1000000 [00:54<01:04, 8332.94it/s]RDKit WARNING: [16:26:51] WARNING: not removing hydrogen atom without neighbors\n",
      " 47%|████▋     | 467126/1000000 [00:55<01:29, 5965.26it/s]RDKit ERROR: [16:26:51] Explicit valence for atom # 4 Cl, 3, is greater than permitted\n",
      "RDKit WARNING: [16:26:51] WARNING: not removing hydrogen atom without neighbors\n",
      "RDKit WARNING: [16:26:51] WARNING: not removing hydrogen atom without neighbors\n",
      "RDKit WARNING: [16:26:51] WARNING: not removing hydrogen atom without neighbors\n",
      "RDKit WARNING: [16:26:51] WARNING: not removing hydrogen atom without neighbors\n",
      "RDKit WARNING: [16:26:51] WARNING: not removing hydrogen atom without neighbors\n",
      " 47%|████▋     | 468918/1000000 [00:55<01:13, 7190.91it/s]RDKit ERROR: [16:26:51] Explicit valence for atom # 26 Br, 3, is greater than permitted\n",
      " 47%|████▋     | 469790/1000000 [00:55<01:09, 7589.01it/s]RDKit ERROR: [16:26:51] Explicit valence for atom # 9 Cl, 3, is greater than permitted\n",
      "RDKit ERROR: [16:26:51] Explicit valence for atom # 5 Cl, 3, is greater than permitted\n",
      " 47%|████▋     | 470692/1000000 [00:55<01:06, 7967.48it/s]RDKit WARNING: [16:26:51] WARNING: not removing hydrogen atom without neighbors\n",
      "RDKit ERROR: [16:26:51] Explicit valence for atom # 9 Cl, 3, is greater than permitted\n",
      " 47%|████▋     | 472393/1000000 [00:55<01:05, 8005.82it/s]RDKit WARNING: [16:26:52] WARNING: could not find number of expected rings. Switching to an approximate ring finding algorithm.\n",
      " 47%|████▋     | 473220/1000000 [00:55<01:05, 8058.70it/s]RDKit ERROR: [16:26:52] Explicit valence for atom # 1 H, 2, is greater than permitted\n",
      " 47%|████▋     | 474135/1000000 [00:56<01:02, 8356.62it/s]RDKit WARNING: [16:26:52] WARNING: not removing hydrogen atom without neighbors\n",
      "RDKit ERROR: [16:26:52] Explicit valence for atom # 8 Cl, 3, is greater than permitted\n",
      " 48%|████▊     | 475005/1000000 [00:56<01:02, 8456.44it/s]RDKit ERROR: [16:26:52] Explicit valence for atom # 7 Cl, 3, is greater than permitted\n",
      "RDKit ERROR: [16:26:52] Explicit valence for atom # 23 Cl, 3, is greater than permitted\n",
      " 48%|████▊     | 475862/1000000 [00:56<01:02, 8388.67it/s]RDKit ERROR: [16:26:52] Explicit valence for atom # 6 Br, 3, is greater than permitted\n",
      "RDKit ERROR: [16:26:52] Explicit valence for atom # 13 Cl, 3, is greater than permitted\n",
      "RDKit ERROR: [16:26:52] Explicit valence for atom # 6 Cl, 3, is greater than permitted\n",
      " 48%|████▊     | 476709/1000000 [00:56<01:12, 7249.81it/s]RDKit ERROR: [16:26:52] Explicit valence for atom # 22 Br, 3, is greater than permitted\n",
      "RDKit ERROR: [16:26:52] Explicit valence for atom # 17 Br, 3, is greater than permitted\n",
      " 48%|████▊     | 477559/1000000 [00:56<01:08, 7575.08it/s]RDKit ERROR: [16:26:52] Explicit valence for atom # 18 Cl, 3, is greater than permitted\n",
      " 48%|████▊     | 480137/1000000 [00:56<01:03, 8195.67it/s]RDKit ERROR: [16:26:53] Explicit valence for atom # 10 Cl, 3, is greater than permitted\n",
      "RDKit ERROR: [16:26:53] Explicit valence for atom # 14 Cl, 3, is greater than permitted\n",
      " 48%|████▊     | 481014/1000000 [00:56<01:02, 8359.35it/s]RDKit ERROR: [16:26:53] Explicit valence for atom # 29 Cl, 3, is greater than permitted\n",
      " 48%|████▊     | 481860/1000000 [00:56<01:01, 8361.34it/s]RDKit WARNING: [16:26:53] WARNING: not removing hydrogen atom without neighbors\n",
      "RDKit WARNING: [16:26:53] WARNING: not removing hydrogen atom without neighbors\n",
      " 48%|████▊     | 484485/1000000 [00:57<01:00, 8568.24it/s]RDKit ERROR: [16:26:53] Explicit valence for atom # 7 Cl, 3, is greater than permitted\n",
      "RDKit ERROR: [16:26:53] Explicit valence for atom # 71 Br, 3, is greater than permitted\n",
      "RDKit WARNING: [16:26:53] WARNING: not removing hydrogen atom without neighbors\n",
      " 49%|████▊     | 486229/1000000 [00:57<01:23, 6165.52it/s]RDKit WARNING: [16:26:53] WARNING: not removing hydrogen atom without neighbors\n",
      "RDKit WARNING: [16:26:53] WARNING: not removing hydrogen atom without neighbors\n",
      "RDKit WARNING: [16:26:53] WARNING: not removing hydrogen atom without neighbors\n",
      "RDKit WARNING: [16:26:53] WARNING: not removing hydrogen atom without neighbors\n",
      " 49%|████▊     | 487132/1000000 [00:57<01:15, 6813.58it/s]RDKit WARNING: [16:26:54] WARNING: not removing hydrogen atom without neighbors\n",
      "RDKit WARNING: [16:26:54] WARNING: not removing hydrogen atom without neighbors\n",
      " 49%|████▉     | 487905/1000000 [00:57<01:16, 6700.43it/s]RDKit WARNING: [16:26:54] WARNING: not removing hydrogen atom without neighbors\n",
      " 49%|████▉     | 488758/1000000 [00:57<01:11, 7160.56it/s]RDKit WARNING: [16:26:54] WARNING: not removing hydrogen atom without neighbors\n",
      "RDKit ERROR: [16:26:54] Explicit valence for atom # 18 Cl, 3, is greater than permitted\n",
      "RDKit ERROR: [16:26:54] Explicit valence for atom # 8 Br, 3, is greater than permitted\n",
      "RDKit ERROR: [16:26:54] Explicit valence for atom # 1 H, 2, is greater than permitted\n",
      " 49%|████▉     | 489581/1000000 [00:58<01:08, 7450.63it/s]RDKit ERROR: [16:26:54] Explicit valence for atom # 37 Br, 3, is greater than permitted\n",
      "RDKit ERROR: [16:26:54] Explicit valence for atom # 16 Cl, 3, is greater than permitted\n",
      "RDKit ERROR: [16:26:54] Explicit valence for atom # 1 Br, 3, is greater than permitted\n",
      "RDKit WARNING: [16:26:54] WARNING: not removing hydrogen atom without neighbors\n",
      " 49%|████▉     | 490442/1000000 [00:58<01:05, 7762.18it/s]RDKit ERROR: [16:26:54] Explicit valence for atom # 17 Cl, 3, is greater than permitted\n",
      "RDKit WARNING: [16:26:54] WARNING: not removing hydrogen atom without neighbors\n",
      " 49%|████▉     | 491326/1000000 [00:58<01:03, 8052.04it/s]RDKit ERROR: [16:26:54] Explicit valence for atom # 9 Cl, 3, is greater than permitted\n",
      " 49%|████▉     | 492987/1000000 [00:58<01:03, 8014.71it/s]RDKit WARNING: [16:26:54] WARNING: not removing hydrogen atom without neighbors\n",
      " 49%|████▉     | 494680/1000000 [00:58<01:01, 8243.75it/s]RDKit WARNING: [16:26:54] WARNING: not removing hydrogen atom without neighbors\n",
      " 50%|████▉     | 495538/1000000 [00:58<01:00, 8340.57it/s]RDKit ERROR: [16:26:55] Explicit valence for atom # 5 Cl, 3, is greater than permitted\n",
      " 50%|████▉     | 498165/1000000 [00:59<00:58, 8635.81it/s]RDKit WARNING: [16:26:55] WARNING: not removing hydrogen atom without neighbors\n",
      "RDKit ERROR: [16:26:55] Explicit valence for atom # 16 Cl, 5, is greater than permitted\n",
      "RDKit ERROR: [16:26:55] Explicit valence for atom # 16 Cl, 3, is greater than permitted\n",
      " 50%|████▉     | 499063/1000000 [00:59<00:57, 8735.50it/s]RDKit WARNING: [16:26:55] WARNING: not removing hydrogen atom without neighbors\n",
      "RDKit ERROR: [16:26:55] Explicit valence for atom # 24 Br, 3, is greater than permitted\n",
      " 50%|████▉     | 499956/1000000 [00:59<00:56, 8786.59it/s]RDKit WARNING: [16:26:55] WARNING: not removing hydrogen atom without neighbors\n",
      " 50%|█████     | 500837/1000000 [00:59<00:56, 8761.11it/s]RDKit ERROR: [16:26:55] Explicit valence for atom # 12 Cl, 3, is greater than permitted\n",
      "RDKit ERROR: [16:26:55] Explicit valence for atom # 13 Cl, 5, is greater than permitted\n",
      " 50%|█████     | 502635/1000000 [00:59<00:56, 8814.78it/s]RDKit ERROR: [16:26:55] Explicit valence for atom # 21 Br, 3, is greater than permitted\n",
      "RDKit ERROR: [16:26:55] Explicit valence for atom # 13 Cl, 3, is greater than permitted\n",
      "RDKit WARNING: [16:26:55] WARNING: not removing hydrogen atom without neighbors\n",
      "RDKit WARNING: [16:26:55] WARNING: not removing hydrogen atom without neighbors\n",
      "RDKit WARNING: [16:26:55] WARNING: not removing hydrogen atom without neighbors\n",
      "RDKit WARNING: [16:26:55] WARNING: not removing hydrogen atom without neighbors\n",
      "RDKit WARNING: [16:26:55] WARNING: not removing hydrogen atom without neighbors\n",
      " 50%|█████     | 503518/1000000 [00:59<00:57, 8649.97it/s]RDKit WARNING: [16:26:55] WARNING: not removing hydrogen atom without neighbors\n",
      " 50%|█████     | 504385/1000000 [00:59<00:57, 8652.18it/s]RDKit WARNING: [16:26:56] WARNING: not removing hydrogen atom without neighbors\n",
      "RDKit WARNING: [16:26:56] WARNING: not removing hydrogen atom without neighbors\n",
      "RDKit WARNING: [16:26:56] WARNING: not removing hydrogen atom without neighbors\n",
      "RDKit WARNING: [16:26:56] WARNING: not removing hydrogen atom without neighbors\n",
      "RDKit WARNING: [16:26:56] WARNING: not removing hydrogen atom without neighbors\n",
      "RDKit WARNING: [16:26:56] WARNING: not removing hydrogen atom without neighbors\n",
      "RDKit ERROR: [16:26:56] Explicit valence for atom # 32 Br, 3, is greater than permitted\n",
      " 51%|█████     | 506146/1000000 [00:59<00:57, 8626.73it/s]RDKit ERROR: [16:26:56] Explicit valence for atom # 2 Cl, 3, is greater than permitted\n",
      " 51%|█████     | 508749/1000000 [01:00<00:57, 8606.33it/s]RDKit ERROR: [16:26:56] Explicit valence for atom # 22 Cl, 3, is greater than permitted\n",
      " 51%|█████     | 510511/1000000 [01:00<00:56, 8697.95it/s]RDKit ERROR: [16:26:56] Explicit valence for atom # 1 Cl, 3, is greater than permitted\n",
      "RDKit ERROR: [16:26:56] Explicit valence for atom # 23 Br, 3, is greater than permitted\n",
      "RDKit WARNING: [16:26:56] WARNING: not removing hydrogen atom without neighbors\n",
      "RDKit WARNING: [16:26:56] WARNING: not removing hydrogen atom without neighbors\n",
      "RDKit WARNING: [16:26:56] WARNING: not removing hydrogen atom without neighbors\n",
      " 51%|█████     | 512257/1000000 [01:00<00:56, 8570.15it/s]RDKit ERROR: [16:26:57] Explicit valence for atom # 3 Cl, 3, is greater than permitted\n",
      " 51%|█████▏    | 513135/1000000 [01:00<00:56, 8627.35it/s]RDKit ERROR: [16:26:57] Explicit valence for atom # 15 Cl, 3, is greater than permitted\n",
      "RDKit ERROR: [16:26:57] Explicit valence for atom # 12 Cl, 3, is greater than permitted\n",
      " 51%|█████▏    | 513999/1000000 [01:00<00:56, 8537.08it/s]RDKit ERROR: [16:26:57] Explicit valence for atom # 53 Cl, 3, is greater than permitted\n",
      "RDKit ERROR: [16:26:57] Explicit valence for atom # 18 Cl, 3, is greater than permitted\n",
      " 51%|█████▏    | 514864/1000000 [01:00<00:56, 8569.22it/s]RDKit ERROR: [16:26:57] Explicit valence for atom # 1 Cl, 3, is greater than permitted\n",
      "RDKit WARNING: [16:26:57] WARNING: not removing hydrogen atom without neighbors\n",
      " 52%|█████▏    | 515722/1000000 [01:01<00:57, 8450.89it/s]RDKit ERROR: [16:26:57] Explicit valence for atom # 21 Cl, 3, is greater than permitted\n",
      "RDKit ERROR: [16:26:57] Explicit valence for atom # 13 Cl, 3, is greater than permitted\n",
      "RDKit WARNING: [16:26:57] WARNING: not removing hydrogen atom without neighbors\n",
      " 52%|█████▏    | 516583/1000000 [01:01<00:56, 8484.95it/s]RDKit ERROR: [16:26:57] Explicit valence for atom # 21 Br, 3, is greater than permitted\n",
      " 52%|█████▏    | 518276/1000000 [01:01<00:57, 8422.70it/s]RDKit WARNING: [16:26:57] WARNING: not removing hydrogen atom without neighbors\n",
      " 52%|█████▏    | 520043/1000000 [01:01<00:55, 8636.17it/s]RDKit ERROR: [16:26:57] Explicit valence for atom # 7 Br, 3, is greater than permitted\n",
      "RDKit WARNING: [16:26:57] WARNING: not removing hydrogen atom without neighbors\n",
      " 52%|█████▏    | 520923/1000000 [01:01<00:55, 8683.37it/s]RDKit ERROR: [16:26:57] Explicit valence for atom # 9 Cl, 3, is greater than permitted\n",
      " 52%|█████▏    | 523539/1000000 [01:02<00:55, 8658.33it/s]RDKit WARNING: [16:26:58] WARNING: not removing hydrogen atom without neighbors\n",
      " 52%|█████▏    | 524447/1000000 [01:02<00:54, 8779.32it/s]RDKit ERROR: [16:26:58] Explicit valence for atom # 24 Cl, 3, is greater than permitted\n",
      " 53%|█████▎    | 527121/1000000 [01:02<00:53, 8766.32it/s]RDKit WARNING: [16:26:58] WARNING: not removing hydrogen atom without neighbors\n",
      "RDKit WARNING: [16:26:58] WARNING: not removing hydrogen atom without neighbors\n",
      " 53%|█████▎    | 529698/1000000 [01:02<00:56, 8276.65it/s]RDKit WARNING: [16:26:59] WARNING: not removing hydrogen atom without neighbors\n",
      " 53%|█████▎    | 531373/1000000 [01:02<00:56, 8325.03it/s]RDKit ERROR: [16:26:59] Explicit valence for atom # 15 Cl, 5, is greater than permitted\n",
      " 53%|█████▎    | 532240/1000000 [01:03<00:55, 8414.70it/s]RDKit WARNING: [16:26:59] WARNING: not removing hydrogen atom without neighbors\n",
      " 53%|█████▎    | 533083/1000000 [01:03<00:55, 8378.52it/s]RDKit WARNING: [16:26:59] WARNING: not removing hydrogen atom without neighbors\n",
      "RDKit WARNING: [16:26:59] WARNING: not removing hydrogen atom without neighbors\n",
      " 54%|█████▎    | 536656/1000000 [01:03<00:52, 8865.66it/s]RDKit ERROR: [16:26:59] Explicit valence for atom # 5 Cl, 3, is greater than permitted\n",
      " 54%|█████▍    | 538465/1000000 [01:03<00:51, 8936.91it/s]RDKit ERROR: [16:27:00] Explicit valence for atom # 6 Br, 3, is greater than permitted\n",
      " 54%|█████▍    | 540278/1000000 [01:03<00:51, 9004.95it/s]RDKit ERROR: [16:27:00] Explicit valence for atom # 5 Cl, 3, is greater than permitted\n",
      " 54%|█████▍    | 541180/1000000 [01:04<01:12, 6305.03it/s]RDKit ERROR: [16:27:00] Explicit valence for atom # 1 Cl, 3, is greater than permitted\n",
      " 54%|█████▍    | 542055/1000000 [01:04<01:06, 6881.55it/s]RDKit WARNING: [16:27:00] WARNING: not removing hydrogen atom without neighbors\n",
      " 54%|█████▍    | 542927/1000000 [01:04<01:02, 7342.36it/s]RDKit ERROR: [16:27:00] Explicit valence for atom # 14 Cl, 3, is greater than permitted\n",
      " 54%|█████▍    | 543809/1000000 [01:04<00:59, 7730.45it/s]RDKit ERROR: [16:27:00] Explicit valence for atom # 1 H, 2, is greater than permitted\n",
      " 55%|█████▍    | 545497/1000000 [01:04<01:14, 6096.18it/s]RDKit WARNING: [16:27:01] WARNING: not removing hydrogen atom without neighbors\n",
      "RDKit ERROR: [16:27:01] Explicit valence for atom # 1 Br, 3, is greater than permitted\n",
      "RDKit ERROR: [16:27:01] Explicit valence for atom # 16 Cl, 3, is greater than permitted\n",
      " 55%|█████▍    | 547251/1000000 [01:05<01:02, 7234.60it/s]RDKit ERROR: [16:27:01] Explicit valence for atom # 1 Br, 3, is greater than permitted\n",
      " 55%|█████▍    | 548964/1000000 [01:05<00:57, 7832.80it/s]RDKit ERROR: [16:27:01] Explicit valence for atom # 20 Br, 3, is greater than permitted\n",
      " 55%|█████▍    | 549841/1000000 [01:05<00:55, 8091.61it/s]RDKit WARNING: [16:27:01] WARNING: not removing hydrogen atom without neighbors\n",
      " 55%|█████▌    | 551571/1000000 [01:05<00:53, 8361.61it/s]RDKit ERROR: [16:27:01] Explicit valence for atom # 8 Cl, 3, is greater than permitted\n",
      "RDKit ERROR: [16:27:01] Explicit valence for atom # 2 Cl, 3, is greater than permitted\n",
      " 55%|█████▌    | 552481/1000000 [01:05<00:52, 8568.75it/s]RDKit WARNING: [16:27:02] WARNING: not removing hydrogen atom without neighbors\n",
      " 55%|█████▌    | 553353/1000000 [01:05<00:52, 8533.82it/s]RDKit ERROR: [16:27:02] Explicit valence for atom # 6 Cl, 3, is greater than permitted\n",
      "RDKit WARNING: [16:27:02] WARNING: not removing hydrogen atom without neighbors\n",
      " 56%|█████▌    | 555137/1000000 [01:06<01:03, 6999.38it/s]RDKit ERROR: [16:27:02] Explicit valence for atom # 7 Cl, 3, is greater than permitted\n",
      " 56%|█████▌    | 555987/1000000 [01:06<01:00, 7389.67it/s]RDKit WARNING: [16:27:02] WARNING: not removing hydrogen atom without neighbors\n",
      "RDKit WARNING: [16:27:02] WARNING: not removing hydrogen atom without neighbors\n",
      " 56%|█████▌    | 561097/1000000 [01:06<01:06, 6628.37it/s]RDKit WARNING: [16:27:03] WARNING: not removing hydrogen atom without neighbors\n",
      "RDKit ERROR: [16:27:03] Explicit valence for atom # 25 Br, 5, is greater than permitted\n",
      " 56%|█████▋    | 562891/1000000 [01:07<00:57, 7625.78it/s]RDKit WARNING: [16:27:03] WARNING: not removing hydrogen atom without neighbors\n",
      " 56%|█████▋    | 563787/1000000 [01:07<00:54, 7981.22it/s]RDKit WARNING: [16:27:03] WARNING: not removing hydrogen atom without neighbors\n",
      " 56%|█████▋    | 564660/1000000 [01:07<00:53, 8190.46it/s]RDKit ERROR: [16:27:03] Explicit valence for atom # 15 Br, 3, is greater than permitted\n",
      "RDKit ERROR: [16:27:03] Explicit valence for atom # 31 Br, 3, is greater than permitted\n",
      " 57%|█████▋    | 567310/1000000 [01:07<00:56, 7628.55it/s]RDKit ERROR: [16:27:03] Explicit valence for atom # 22 Cl, 3, is greater than permitted\n",
      "RDKit WARNING: [16:27:03] WARNING: not removing hydrogen atom without neighbors\n",
      "RDKit WARNING: [16:27:03] WARNING: not removing hydrogen atom without neighbors\n",
      " 57%|█████▋    | 569914/1000000 [01:07<00:52, 8232.59it/s]RDKit WARNING: [16:27:04] WARNING: not removing hydrogen atom without neighbors\n",
      "RDKit WARNING: [16:27:04] WARNING: not removing hydrogen atom without neighbors\n",
      " 57%|█████▋    | 572508/1000000 [01:08<00:50, 8447.88it/s]RDKit WARNING: [16:27:04] Conflicting single bond directions around double bond at index 3.\n",
      "RDKit WARNING: [16:27:04]   BondStereo set to STEREONONE and single bond directions set to NONE.\n",
      " 57%|█████▋    | 573359/1000000 [01:08<00:50, 8383.59it/s]RDKit WARNING: [16:27:04] WARNING: not removing hydrogen atom without neighbors\n",
      " 58%|█████▊    | 577679/1000000 [01:08<00:49, 8558.37it/s]RDKit WARNING: [16:27:05] WARNING: not removing hydrogen atom without neighbors\n",
      "RDKit WARNING: [16:27:05] WARNING: not removing hydrogen atom without neighbors\n",
      "RDKit WARNING: [16:27:05] WARNING: not removing hydrogen atom without neighbors\n",
      " 58%|█████▊    | 578537/1000000 [01:08<00:50, 8399.91it/s]RDKit WARNING: [16:27:05] WARNING: not removing hydrogen atom without neighbors\n",
      " 58%|█████▊    | 579437/1000000 [01:09<00:49, 8569.51it/s]RDKit ERROR: [16:27:05] Explicit valence for atom # 2 Cl, 3, is greater than permitted\n",
      "RDKit WARNING: [16:27:05] WARNING: not removing hydrogen atom without neighbors\n",
      "RDKit WARNING: [16:27:05] WARNING: not removing hydrogen atom without neighbors\n",
      " 58%|█████▊    | 580308/1000000 [01:09<00:48, 8609.39it/s]RDKit ERROR: [16:27:05] Explicit valence for atom # 18 Cl, 3, is greater than permitted\n",
      "RDKit ERROR: [16:27:05] Explicit valence for atom # 1 Cl, 3, is greater than permitted\n",
      "RDKit ERROR: [16:27:05] Explicit valence for atom # 16 Br, 3, is greater than permitted\n",
      " 58%|█████▊    | 582062/1000000 [01:09<00:48, 8680.38it/s]RDKit ERROR: [16:27:05] Explicit valence for atom # 7 Cl, 3, is greater than permitted\n",
      " 58%|█████▊    | 582931/1000000 [01:09<00:48, 8673.31it/s]RDKit WARNING: [16:27:05] WARNING: not removing hydrogen atom without neighbors\n",
      "RDKit WARNING: [16:27:05] WARNING: not removing hydrogen atom without neighbors\n",
      "RDKit WARNING: [16:27:05] WARNING: not removing hydrogen atom without neighbors\n",
      "RDKit WARNING: [16:27:05] WARNING: not removing hydrogen atom without neighbors\n",
      " 58%|█████▊    | 583820/1000000 [01:09<00:47, 8736.46it/s]RDKit WARNING: [16:27:05] WARNING: not removing hydrogen atom without neighbors\n",
      "RDKit WARNING: [16:27:05] WARNING: not removing hydrogen atom without neighbors\n",
      " 59%|█████▊    | 585554/1000000 [01:09<00:49, 8420.68it/s]RDKit ERROR: [16:27:06] Explicit valence for atom # 2 Cl, 3, is greater than permitted\n",
      " 59%|█████▊    | 586404/1000000 [01:09<00:49, 8435.06it/s]RDKit ERROR: [16:27:06] Explicit valence for atom # 7 Br, 3, is greater than permitted\n",
      " 59%|█████▉    | 589048/1000000 [01:10<00:47, 8680.61it/s]RDKit ERROR: [16:27:06] Explicit valence for atom # 1 Br, 3, is greater than permitted\n",
      " 59%|█████▉    | 589917/1000000 [01:10<00:47, 8548.28it/s]RDKit ERROR: [16:27:06] Explicit valence for atom # 1 Br, 3, is greater than permitted\n",
      "RDKit WARNING: [16:27:06] WARNING: not removing hydrogen atom without neighbors\n",
      " 59%|█████▉    | 590786/1000000 [01:10<00:47, 8587.25it/s]RDKit WARNING: [16:27:06] WARNING: not removing hydrogen atom without neighbors\n",
      " 59%|█████▉    | 592529/1000000 [01:10<00:47, 8598.37it/s]RDKit WARNING: [16:27:06] WARNING: not removing hydrogen atom without neighbors\n",
      " 59%|█████▉    | 593404/1000000 [01:10<00:47, 8629.92it/s]RDKit WARNING: [16:27:07] WARNING: not removing hydrogen atom without neighbors\n",
      " 60%|█████▉    | 596022/1000000 [01:10<00:46, 8609.03it/s]RDKit ERROR: [16:27:07] Explicit valence for atom # 1 Br, 3, is greater than permitted\n",
      " 60%|█████▉    | 596913/1000000 [01:11<00:46, 8687.77it/s]RDKit WARNING: [16:27:07] WARNING: not removing hydrogen atom without neighbors\n",
      "RDKit ERROR: [16:27:07] Explicit valence for atom # 1 Br, 3, is greater than permitted\n",
      " 60%|█████▉    | 597783/1000000 [01:11<00:47, 8506.74it/s]RDKit ERROR: [16:27:07] Explicit valence for atom # 18 Cl, 3, is greater than permitted\n",
      "RDKit ERROR: [16:27:07] Explicit valence for atom # 1 Br, 3, is greater than permitted\n",
      "RDKit ERROR: [16:27:07] Explicit valence for atom # 16 Cl, 3, is greater than permitted\n",
      "RDKit ERROR: [16:27:07] Explicit valence for atom # 33 Cl, 3, is greater than permitted\n",
      " 60%|█████▉    | 598635/1000000 [01:11<00:48, 8358.49it/s]RDKit ERROR: [16:27:07] Explicit valence for atom # 1 Br, 3, is greater than permitted\n",
      " 60%|█████▉    | 599498/1000000 [01:11<00:47, 8433.80it/s]RDKit WARNING: [16:27:07] WARNING: not removing hydrogen atom without neighbors\n",
      " 60%|██████    | 600343/1000000 [01:11<00:51, 7821.80it/s]RDKit ERROR: [16:27:07] Explicit valence for atom # 21 Br, 3, is greater than permitted\n",
      " 60%|██████    | 602108/1000000 [01:11<00:47, 8315.95it/s]RDKit ERROR: [16:27:08] Explicit valence for atom # 3 Cl, 5, is greater than permitted\n",
      " 60%|██████    | 602982/1000000 [01:11<00:47, 8437.95it/s]RDKit WARNING: [16:27:08] WARNING: not removing hydrogen atom without neighbors\n",
      "RDKit WARNING: [16:27:08] WARNING: not removing hydrogen atom without neighbors\n",
      "RDKit WARNING: [16:27:08] WARNING: not removing hydrogen atom without neighbors\n",
      " 60%|██████    | 604707/1000000 [01:11<00:46, 8503.92it/s]RDKit WARNING: [16:27:08] WARNING: not removing hydrogen atom without neighbors\n",
      "RDKit WARNING: [16:27:08] WARNING: not removing hydrogen atom without neighbors\n",
      "RDKit ERROR: [16:27:08] Explicit valence for atom # 1 Br, 3, is greater than permitted\n",
      "RDKit ERROR: [16:27:08] Explicit valence for atom # 4 Cl, 3, is greater than permitted\n",
      " 61%|██████    | 605561/1000000 [01:12<00:46, 8479.23it/s]RDKit ERROR: [16:27:08] Explicit valence for atom # 8 Cl, 3, is greater than permitted\n",
      " 61%|██████    | 606412/1000000 [01:12<00:46, 8448.69it/s]RDKit WARNING: [16:27:08] WARNING: not removing hydrogen atom without neighbors\n",
      "RDKit WARNING: [16:27:08] WARNING: not removing hydrogen atom without neighbors\n",
      " 61%|██████    | 608138/1000000 [01:12<00:46, 8484.33it/s]RDKit WARNING: [16:27:08] WARNING: not removing hydrogen atom without neighbors\n",
      " 61%|██████    | 609035/1000000 [01:12<00:45, 8624.08it/s]RDKit ERROR: [16:27:08] Explicit valence for atom # 4 Cl, 3, is greater than permitted\n",
      "RDKit WARNING: [16:27:08] WARNING: not removing hydrogen atom without neighbors\n",
      " 61%|██████    | 609921/1000000 [01:12<00:44, 8692.56it/s]RDKit ERROR: [16:27:08] Explicit valence for atom # 3 Br, 3, is greater than permitted\n",
      " 61%|██████    | 611731/1000000 [01:12<00:43, 8850.13it/s]RDKit WARNING: [16:27:09] WARNING: not removing hydrogen atom without neighbors\n",
      "RDKit WARNING: [16:27:09] WARNING: not removing hydrogen atom without neighbors\n",
      "RDKit ERROR: [16:27:09] Explicit valence for atom # 26 Cl, 3, is greater than permitted\n",
      "RDKit ERROR: [16:27:09] Explicit valence for atom # 6 Cl, 3, is greater than permitted\n",
      " 61%|██████▏   | 613538/1000000 [01:13<00:43, 8885.79it/s]RDKit ERROR: [16:27:09] Explicit valence for atom # 10 Cl, 3, is greater than permitted\n",
      "RDKit WARNING: [16:27:09] WARNING: not removing hydrogen atom without neighbors\n",
      "RDKit WARNING: [16:27:09] WARNING: not removing hydrogen atom without neighbors\n",
      "RDKit WARNING: [16:27:09] WARNING: not removing hydrogen atom without neighbors\n",
      " 62%|██████▏   | 615313/1000000 [01:13<00:44, 8710.86it/s]RDKit ERROR: [16:27:09] Explicit valence for atom # 1 Br, 3, is greater than permitted\n",
      "RDKit WARNING: [16:27:09] WARNING: not removing hydrogen atom without neighbors\n",
      "RDKit WARNING: [16:27:09] WARNING: not removing hydrogen atom without neighbors\n",
      "RDKit WARNING: [16:27:09] WARNING: not removing hydrogen atom without neighbors\n",
      " 62%|██████▏   | 616204/1000000 [01:13<00:43, 8768.86it/s]RDKit ERROR: [16:27:09] Explicit valence for atom # 6 Cl, 3, is greater than permitted\n",
      "RDKit ERROR: [16:27:09] Explicit valence for atom # 25 Br, 3, is greater than permitted\n",
      " 62%|██████▏   | 617096/1000000 [01:13<00:43, 8802.40it/s]RDKit ERROR: [16:27:09] Explicit valence for atom # 24 Cl, 3, is greater than permitted\n",
      " 62%|██████▏   | 617977/1000000 [01:13<00:43, 8783.04it/s]RDKit WARNING: [16:27:09] WARNING: not removing hydrogen atom without neighbors\n",
      " 62%|██████▏   | 618856/1000000 [01:13<00:44, 8564.07it/s]RDKit ERROR: [16:27:09] Explicit valence for atom # 2 Cl, 3, is greater than permitted\n",
      " 62%|██████▏   | 622416/1000000 [01:14<00:43, 8648.89it/s]RDKit WARNING: [16:27:10] WARNING: not removing hydrogen atom without neighbors\n",
      "RDKit WARNING: [16:27:10] WARNING: not removing hydrogen atom without neighbors\n",
      " 62%|██████▏   | 624144/1000000 [01:14<00:43, 8563.21it/s]RDKit ERROR: [16:27:10] Explicit valence for atom # 18 Cl, 3, is greater than permitted\n",
      "RDKit WARNING: [16:27:10] WARNING: not removing hydrogen atom without neighbors\n",
      " 63%|██████▎   | 625002/1000000 [01:14<00:44, 8487.85it/s]RDKit WARNING: [16:27:10] WARNING: not removing hydrogen atom without neighbors\n",
      " 63%|██████▎   | 626746/1000000 [01:14<00:43, 8604.13it/s]RDKit ERROR: [16:27:10] Explicit valence for atom # 12 Cl, 3, is greater than permitted\n",
      "RDKit WARNING: [16:27:10] WARNING: not removing hydrogen atom without neighbors\n",
      " 63%|██████▎   | 627607/1000000 [01:14<00:43, 8540.00it/s]RDKit WARNING: [16:27:10] WARNING: not removing hydrogen atom without neighbors\n",
      " 63%|██████▎   | 628471/1000000 [01:14<00:43, 8567.93it/s]RDKit ERROR: [16:27:11] Explicit valence for atom # 23 Cl, 3, is greater than permitted\n",
      " 63%|██████▎   | 629329/1000000 [01:14<00:43, 8560.99it/s]RDKit ERROR: [16:27:11] Explicit valence for atom # 4 Cl, 3, is greater than permitted\n",
      " 63%|██████▎   | 630223/1000000 [01:14<00:42, 8669.90it/s]RDKit ERROR: [16:27:11] Explicit valence for atom # 12 Cl, 3, is greater than permitted\n",
      "RDKit ERROR: [16:27:11] Explicit valence for atom # 8 Cl, 3, is greater than permitted\n",
      "RDKit ERROR: [16:27:11] Explicit valence for atom # 10 Si, 8, is greater than permitted\n",
      " 63%|██████▎   | 631112/1000000 [01:15<00:42, 8730.95it/s]RDKit ERROR: [16:27:11] Explicit valence for atom # 38 Cl, 3, is greater than permitted\n",
      " 64%|██████▎   | 635481/1000000 [01:15<00:43, 8474.48it/s]RDKit WARNING: [16:27:11] WARNING: not removing hydrogen atom without neighbors\n",
      "RDKit ERROR: [16:27:11] Explicit valence for atom # 27 Cl, 3, is greater than permitted\n",
      "RDKit ERROR: [16:27:11] Explicit valence for atom # 36 Cl, 3, is greater than permitted\n",
      "RDKit WARNING: [16:27:11] WARNING: not removing hydrogen atom without neighbors\n",
      " 64%|██████▎   | 636339/1000000 [01:15<00:42, 8505.68it/s]RDKit ERROR: [16:27:11] Explicit valence for atom # 3 Cl, 3, is greater than permitted\n",
      "RDKit WARNING: [16:27:12] WARNING: not removing hydrogen atom without neighbors\n",
      " 64%|██████▍   | 638140/1000000 [01:15<00:41, 8772.69it/s]RDKit ERROR: [16:27:12] Explicit valence for atom # 32 Cl, 3, is greater than permitted\n",
      "RDKit ERROR: [16:27:12] Explicit valence for atom # 17 Cl, 3, is greater than permitted\n",
      " 64%|██████▍   | 639893/1000000 [01:16<00:41, 8666.30it/s]RDKit ERROR: [16:27:12] Explicit valence for atom # 58 Cl, 3, is greater than permitted\n",
      "RDKit WARNING: [16:27:12] WARNING: not removing hydrogen atom without neighbors\n",
      "RDKit WARNING: [16:27:12] WARNING: not removing hydrogen atom without neighbors\n",
      "RDKit ERROR: [16:27:12] Explicit valence for atom # 18 Br, 3, is greater than permitted\n",
      " 64%|██████▍   | 642532/1000000 [01:16<00:41, 8652.84it/s]RDKit WARNING: [16:27:12] WARNING: not removing hydrogen atom without neighbors\n",
      " 65%|██████▍   | 645956/1000000 [01:16<00:54, 6446.85it/s]RDKit WARNING: [16:27:13] WARNING: not removing hydrogen atom without neighbors\n",
      "RDKit ERROR: [16:27:13] Explicit valence for atom # 2 Cl, 3, is greater than permitted\n",
      " 65%|██████▍   | 647708/1000000 [01:17<00:47, 7466.46it/s]RDKit WARNING: [16:27:13] WARNING: not removing hydrogen atom without neighbors\n",
      " 65%|██████▍   | 648534/1000000 [01:17<00:45, 7685.28it/s]RDKit ERROR: [16:27:13] Explicit valence for atom # 13 Cl, 3, is greater than permitted\n",
      "RDKit ERROR: [16:27:13] Explicit valence for atom # 10 Cl, 3, is greater than permitted\n",
      "RDKit WARNING: [16:27:13] WARNING: not removing hydrogen atom without neighbors\n",
      "RDKit WARNING: [16:27:13] WARNING: not removing hydrogen atom without neighbors\n",
      "RDKit WARNING: [16:27:13] WARNING: not removing hydrogen atom without neighbors\n",
      " 65%|██████▍   | 649364/1000000 [01:17<00:45, 7679.96it/s]RDKit ERROR: [16:27:13] Explicit valence for atom # 9 Cl, 3, is greater than permitted\n",
      " 65%|██████▌   | 650247/1000000 [01:17<00:43, 7991.89it/s]RDKit ERROR: [16:27:13] Explicit valence for atom # 1 Cl, 3, is greater than permitted\n",
      " 65%|██████▌   | 651102/1000000 [01:17<00:42, 8145.08it/s]RDKit ERROR: [16:27:13] Explicit valence for atom # 4 Cl, 3, is greater than permitted\n",
      " 65%|██████▌   | 652001/1000000 [01:17<00:41, 8379.52it/s]RDKit ERROR: [16:27:13] Explicit valence for atom # 2 Cl, 3, is greater than permitted\n",
      " 65%|██████▌   | 652891/1000000 [01:17<00:40, 8528.76it/s]RDKit WARNING: [16:27:14] WARNING: not removing hydrogen atom without neighbors\n",
      " 65%|██████▌   | 653756/1000000 [01:17<00:40, 8548.67it/s]RDKit WARNING: [16:27:14] WARNING: not removing hydrogen atom without neighbors\n",
      " 66%|██████▌   | 656372/1000000 [01:18<00:39, 8652.68it/s]RDKit ERROR: [16:27:14] Explicit valence for atom # 10 S, 8, is greater than permitted\n",
      "RDKit ERROR: [16:27:14] Explicit valence for atom # 1 Br, 3, is greater than permitted\n",
      " 66%|██████▌   | 658094/1000000 [01:18<00:40, 8423.62it/s]RDKit ERROR: [16:27:14] Explicit valence for atom # 0 H, 2, is greater than permitted\n",
      "RDKit WARNING: [16:27:14] WARNING: not removing hydrogen atom without neighbors\n",
      " 66%|██████▌   | 658997/1000000 [01:18<00:39, 8596.29it/s]RDKit WARNING: [16:27:14] WARNING: not removing hydrogen atom without neighbors\n",
      "RDKit ERROR: [16:27:14] Explicit valence for atom # 27 Cl, 3, is greater than permitted\n",
      " 66%|██████▌   | 659859/1000000 [01:18<00:39, 8505.58it/s]RDKit WARNING: [16:27:14] WARNING: not removing hydrogen atom without neighbors\n",
      "RDKit WARNING: [16:27:14] WARNING: not removing hydrogen atom without neighbors\n",
      "RDKit WARNING: [16:27:14] WARNING: not removing hydrogen atom without neighbors\n",
      "RDKit WARNING: [16:27:14] WARNING: not removing hydrogen atom without neighbors\n",
      "RDKit WARNING: [16:27:14] WARNING: not removing hydrogen atom without neighbors\n",
      " 66%|██████▌   | 660712/1000000 [01:18<00:40, 8474.82it/s]RDKit ERROR: [16:27:14] Explicit valence for atom # 9 Cl, 3, is greater than permitted\n",
      "RDKit WARNING: [16:27:14] WARNING: not removing hydrogen atom without neighbors\n",
      " 66%|██████▌   | 661578/1000000 [01:18<00:39, 8528.81it/s]RDKit ERROR: [16:27:15] Explicit valence for atom # 12 Cl, 3, is greater than permitted\n",
      " 66%|██████▌   | 662469/1000000 [01:18<00:39, 8635.02it/s]RDKit ERROR: [16:27:15] Explicit valence for atom # 65 Cl, 3, is greater than permitted\n",
      "RDKit ERROR: [16:27:15] Explicit valence for atom # 2 Cl, 3, is greater than permitted\n",
      "RDKit WARNING: [16:27:15] WARNING: not removing hydrogen atom without neighbors\n",
      "RDKit WARNING: [16:27:15] WARNING: not removing hydrogen atom without neighbors\n",
      " 66%|██████▋   | 664178/1000000 [01:19<00:40, 8366.17it/s]RDKit WARNING: [16:27:15] WARNING: not removing hydrogen atom without neighbors\n",
      " 67%|██████▋   | 666756/1000000 [01:19<00:39, 8499.04it/s]RDKit WARNING: [16:27:15] WARNING: not removing hydrogen atom without neighbors\n",
      "RDKit WARNING: [16:27:15] WARNING: not removing hydrogen atom without neighbors\n",
      "RDKit WARNING: [16:27:15] WARNING: not removing hydrogen atom without neighbors\n",
      " 67%|██████▋   | 667638/1000000 [01:19<00:38, 8591.61it/s]RDKit ERROR: [16:27:15] Explicit valence for atom # 3 Cl, 3, is greater than permitted\n",
      " 67%|██████▋   | 668499/1000000 [01:19<00:38, 8519.39it/s]RDKit WARNING: [16:27:15] WARNING: not removing hydrogen atom without neighbors\n",
      "RDKit WARNING: [16:27:15] WARNING: not removing hydrogen atom without neighbors\n",
      " 67%|██████▋   | 669361/1000000 [01:19<00:38, 8548.57it/s]RDKit ERROR: [16:27:15] Explicit valence for atom # 7 Cl, 3, is greater than permitted\n",
      "RDKit WARNING: [16:27:16] WARNING: not removing hydrogen atom without neighbors\n",
      "RDKit WARNING: [16:27:16] WARNING: not removing hydrogen atom without neighbors\n",
      " 67%|██████▋   | 670262/1000000 [01:19<00:37, 8680.92it/s]RDKit WARNING: [16:27:16] WARNING: not removing hydrogen atom without neighbors\n",
      " 67%|██████▋   | 671132/1000000 [01:19<00:37, 8685.09it/s]RDKit ERROR: [16:27:16] Explicit valence for atom # 4 Cl, 3, is greater than permitted\n",
      " 67%|██████▋   | 672903/1000000 [01:20<00:37, 8611.09it/s]RDKit WARNING: [16:27:16] WARNING: not removing hydrogen atom without neighbors\n",
      " 67%|██████▋   | 674694/1000000 [01:20<00:37, 8770.12it/s]RDKit WARNING: [16:27:16] WARNING: not removing hydrogen atom without neighbors\n",
      " 68%|██████▊   | 675593/1000000 [01:20<00:36, 8832.99it/s]RDKit WARNING: [16:27:16] WARNING: not removing hydrogen atom without neighbors\n",
      "RDKit WARNING: [16:27:16] WARNING: not removing hydrogen atom without neighbors\n",
      "RDKit WARNING: [16:27:16] WARNING: not removing hydrogen atom without neighbors\n",
      "RDKit ERROR: [16:27:16] Explicit valence for atom # 0 H, 2, is greater than permitted\n",
      " 68%|██████▊   | 676477/1000000 [01:20<00:37, 8672.45it/s]RDKit WARNING: [16:27:16] WARNING: not removing hydrogen atom without neighbors\n",
      " 68%|██████▊   | 677346/1000000 [01:20<00:37, 8541.66it/s]RDKit ERROR: [16:27:16] Explicit valence for atom # 3 Cl, 5, is greater than permitted\n",
      "RDKit ERROR: [16:27:16] Explicit valence for atom # 4 Cl, 3, is greater than permitted\n",
      " 68%|██████▊   | 678215/1000000 [01:20<00:37, 8585.00it/s]RDKit WARNING: [16:27:17] WARNING: not removing hydrogen atom without neighbors\n",
      " 68%|██████▊   | 679114/1000000 [01:20<00:36, 8699.68it/s]RDKit ERROR: [16:27:17] Explicit valence for atom # 32 Cl, 3, is greater than permitted\n",
      "RDKit WARNING: [16:27:17] WARNING: not removing hydrogen atom without neighbors\n",
      "RDKit ERROR: [16:27:17] Explicit valence for atom # 18 Br, 3, is greater than permitted\n",
      " 68%|██████▊   | 679985/1000000 [01:20<00:37, 8572.87it/s]RDKit WARNING: [16:27:17] WARNING: not removing hydrogen atom without neighbors\n",
      "RDKit WARNING: [16:27:17] WARNING: not removing hydrogen atom without neighbors\n",
      "RDKit ERROR: [16:27:17] Explicit valence for atom # 16 Br, 3, is greater than permitted\n",
      " 68%|██████▊   | 680852/1000000 [01:20<00:37, 8598.42it/s]RDKit WARNING: [16:27:17] WARNING: not removing hydrogen atom without neighbors\n",
      " 68%|██████▊   | 681764/1000000 [01:21<00:36, 8747.55it/s]RDKit ERROR: [16:27:17] Explicit valence for atom # 1 Cl, 3, is greater than permitted\n",
      "RDKit ERROR: [16:27:17] Explicit valence for atom # 30 Cl, 3, is greater than permitted\n",
      "RDKit WARNING: [16:27:17] WARNING: not removing hydrogen atom without neighbors\n",
      "RDKit ERROR: [16:27:17] Explicit valence for atom # 11 Cl, 3, is greater than permitted\n",
      " 68%|██████▊   | 682640/1000000 [01:21<00:36, 8677.37it/s]RDKit ERROR: [16:27:17] Explicit valence for atom # 3 Cl, 3, is greater than permitted\n",
      " 68%|██████▊   | 684407/1000000 [01:21<00:36, 8741.01it/s]RDKit ERROR: [16:27:17] Explicit valence for atom # 21 Cl, 3, is greater than permitted\n",
      " 69%|██████▊   | 685290/1000000 [01:21<00:35, 8765.06it/s]RDKit ERROR: [16:27:17] Explicit valence for atom # 34 Cl, 3, is greater than permitted\n",
      " 69%|██████▊   | 687117/1000000 [01:21<00:34, 8949.39it/s]RDKit WARNING: [16:27:18] WARNING: not removing hydrogen atom without neighbors\n",
      "RDKit WARNING: [16:27:18] WARNING: not removing hydrogen atom without neighbors\n",
      " 69%|██████▉   | 688013/1000000 [01:21<00:35, 8877.39it/s]RDKit WARNING: [16:27:18] WARNING: not removing hydrogen atom without neighbors\n",
      "RDKit WARNING: [16:27:18] WARNING: not removing hydrogen atom without neighbors\n",
      " 69%|██████▉   | 689818/1000000 [01:22<00:34, 8876.18it/s]RDKit WARNING: [16:27:18] WARNING: not removing hydrogen atom without neighbors\n",
      " 69%|██████▉   | 690707/1000000 [01:22<00:34, 8869.35it/s]RDKit WARNING: [16:27:18] WARNING: not removing hydrogen atom without neighbors\n",
      "RDKit WARNING: [16:27:18] WARNING: not removing hydrogen atom without neighbors\n",
      "RDKit WARNING: [16:27:18] WARNING: not removing hydrogen atom without neighbors\n",
      "RDKit WARNING: [16:27:18] WARNING: not removing hydrogen atom without neighbors\n",
      "RDKit WARNING: [16:27:18] WARNING: not removing hydrogen atom without neighbors\n",
      " 69%|██████▉   | 691595/1000000 [01:22<00:34, 8830.79it/s]RDKit ERROR: [16:27:18] Explicit valence for atom # 12 Cl, 3, is greater than permitted\n",
      "RDKit WARNING: [16:27:18] Conflicting single bond directions around double bond at index 7.\n",
      "RDKit WARNING: [16:27:18]   BondStereo set to STEREONONE and single bond directions set to NONE.\n",
      " 69%|██████▉   | 692479/1000000 [01:22<00:35, 8772.14it/s]RDKit WARNING: [16:27:18] WARNING: not removing hydrogen atom without neighbors\n",
      " 70%|██████▉   | 697700/1000000 [01:22<00:35, 8554.13it/s]RDKit WARNING: [16:27:19] WARNING: not removing hydrogen atom without neighbors\n",
      "RDKit ERROR: [16:27:19] Explicit valence for atom # 1 Br, 3, is greater than permitted\n",
      " 70%|███████   | 701195/1000000 [01:23<00:34, 8614.08it/s]RDKit ERROR: [16:27:19] Explicit valence for atom # 43 Cl, 3, is greater than permitted\n",
      " 70%|███████   | 702058/1000000 [01:23<00:34, 8609.45it/s]RDKit WARNING: [16:27:19] WARNING: not removing hydrogen atom without neighbors\n",
      " 70%|███████   | 702944/1000000 [01:23<00:34, 8683.06it/s]RDKit WARNING: [16:27:19] WARNING: not removing hydrogen atom without neighbors\n",
      " 70%|███████   | 704676/1000000 [01:23<00:34, 8593.46it/s]RDKit WARNING: [16:27:20] Conflicting single bond directions around double bond at index 5.\n",
      "RDKit WARNING: [16:27:20]   BondStereo set to STEREONONE and single bond directions set to NONE.\n",
      " 71%|███████   | 706449/1000000 [01:23<00:33, 8731.69it/s]RDKit ERROR: [16:27:20] Explicit valence for atom # 5 Br, 3, is greater than permitted\n",
      "RDKit ERROR: [16:27:20] Explicit valence for atom # 9 Cl, 3, is greater than permitted\n",
      "RDKit ERROR: [16:27:20] Explicit valence for atom # 7 Cl, 3, is greater than permitted\n",
      "RDKit ERROR: [16:27:20] Explicit valence for atom # 10 Br, 3, is greater than permitted\n",
      " 71%|███████   | 708210/1000000 [01:24<00:33, 8766.02it/s]RDKit ERROR: [16:27:20] Explicit valence for atom # 1 Br, 3, is greater than permitted\n",
      "RDKit ERROR: [16:27:20] Explicit valence for atom # 8 Br, 3, is greater than permitted\n",
      "RDKit WARNING: [16:27:20] WARNING: not removing hydrogen atom without neighbors\n",
      "RDKit ERROR: [16:27:20] Explicit valence for atom # 0 H, 2, is greater than permitted\n",
      " 71%|███████   | 709964/1000000 [01:24<00:33, 8752.95it/s]RDKit ERROR: [16:27:20] Explicit valence for atom # 13 Cl, 3, is greater than permitted\n",
      "RDKit WARNING: [16:27:20] WARNING: not removing hydrogen atom without neighbors\n",
      " 71%|███████   | 710840/1000000 [01:24<00:33, 8727.87it/s]RDKit WARNING: [16:27:20] WARNING: not removing hydrogen atom without neighbors\n",
      " 71%|███████   | 711713/1000000 [01:24<00:33, 8624.65it/s]RDKit ERROR: [16:27:20] Explicit valence for atom # 2 Cl, 3, is greater than permitted\n",
      " 71%|███████▏  | 713414/1000000 [01:24<00:34, 8356.24it/s]RDKit ERROR: [16:27:21] Explicit valence for atom # 20 Cl, 3, is greater than permitted\n",
      " 72%|███████▏  | 715212/1000000 [01:24<00:32, 8649.40it/s]RDKit WARNING: [16:27:21] WARNING: not removing hydrogen atom without neighbors\n",
      "RDKit WARNING: [16:27:21] WARNING: not removing hydrogen atom without neighbors\n",
      "RDKit ERROR: [16:27:21] Explicit valence for atom # 22 Br, 3, is greater than permitted\n",
      " 72%|███████▏  | 716079/1000000 [01:25<00:32, 8641.09it/s]RDKit WARNING: [16:27:21] WARNING: not removing hydrogen atom without neighbors\n",
      " 72%|███████▏  | 717794/1000000 [01:25<00:33, 8387.91it/s]RDKit WARNING: [16:27:21] WARNING: not removing hydrogen atom without neighbors\n",
      "RDKit WARNING: [16:27:21] WARNING: not removing hydrogen atom without neighbors\n",
      " 72%|███████▏  | 718635/1000000 [01:25<00:33, 8393.53it/s]RDKit ERROR: [16:27:21] Explicit valence for atom # 24 Br, 3, is greater than permitted\n",
      " 72%|███████▏  | 719495/1000000 [01:25<00:33, 8453.54it/s]RDKit ERROR: [16:27:21] Explicit valence for atom # 27 Cl, 3, is greater than permitted\n",
      " 72%|███████▏  | 720425/1000000 [01:25<00:32, 8685.47it/s]RDKit ERROR: [16:27:21] Explicit valence for atom # 6 Br, 3, is greater than permitted\n",
      " 72%|███████▏  | 722229/1000000 [01:25<00:31, 8857.81it/s]RDKit WARNING: [16:27:22] WARNING: not removing hydrogen atom without neighbors\n",
      "RDKit WARNING: [16:27:22] WARNING: not removing hydrogen atom without neighbors\n",
      "RDKit WARNING: [16:27:22] WARNING: not removing hydrogen atom without neighbors\n",
      " 72%|███████▏  | 724870/1000000 [01:26<00:31, 8724.10it/s]RDKit WARNING: [16:27:22] WARNING: not removing hydrogen atom without neighbors\n",
      " 73%|███████▎  | 726665/1000000 [01:26<00:31, 8719.62it/s]RDKit WARNING: [16:27:22] WARNING: not removing hydrogen atom without neighbors\n",
      " 73%|███████▎  | 729369/1000000 [01:26<00:31, 8722.84it/s]RDKit ERROR: [16:27:22] Explicit valence for atom # 1 Cl, 3, is greater than permitted\n",
      " 73%|███████▎  | 730243/1000000 [01:26<00:30, 8727.87it/s]RDKit WARNING: [16:27:23] WARNING: not removing hydrogen atom without neighbors\n",
      "RDKit WARNING: [16:27:23] WARNING: not removing hydrogen atom without neighbors\n",
      "RDKit WARNING: [16:27:23] WARNING: not removing hydrogen atom without neighbors\n",
      " 73%|███████▎  | 731117/1000000 [01:26<00:30, 8703.93it/s]RDKit ERROR: [16:27:23] Explicit valence for atom # 8 Br, 3, is greater than permitted\n",
      "RDKit ERROR: [16:27:23] Explicit valence for atom # 6 Br, 3, is greater than permitted\n",
      " 73%|███████▎  | 732022/1000000 [01:26<00:30, 8804.15it/s]RDKit WARNING: [16:27:23] WARNING: not removing hydrogen atom without neighbors\n",
      "RDKit ERROR: [16:27:23] Explicit valence for atom # 7 Cl, 3, is greater than permitted\n",
      "RDKit WARNING: [16:27:23] WARNING: could not find number of expected rings. Switching to an approximate ring finding algorithm.\n",
      " 73%|███████▎  | 732904/1000000 [01:26<00:30, 8700.91it/s]RDKit WARNING: [16:27:23] WARNING: not removing hydrogen atom without neighbors\n",
      "RDKit ERROR: [16:27:23] Explicit valence for atom # 21 Br, 3, is greater than permitted\n",
      " 73%|███████▎  | 733784/1000000 [01:27<00:30, 8728.90it/s]RDKit ERROR: [16:27:23] Explicit valence for atom # 26 Sn, 6, is greater than permitted\n",
      " 73%|███████▎  | 734677/1000000 [01:27<00:30, 8787.18it/s]RDKit WARNING: [16:27:23] WARNING: not removing hydrogen atom without neighbors\n",
      " 74%|███████▎  | 735557/1000000 [01:27<00:30, 8787.30it/s]RDKit ERROR: [16:27:23] Explicit valence for atom # 14 Br, 3, is greater than permitted\n",
      " 74%|███████▍  | 739134/1000000 [01:27<00:30, 8693.05it/s]RDKit WARNING: [16:27:24] WARNING: not removing hydrogen atom without neighbors\n",
      "RDKit WARNING: [16:27:24] WARNING: not removing hydrogen atom without neighbors\n",
      "RDKit WARNING: [16:27:24] WARNING: not removing hydrogen atom without neighbors\n",
      " 74%|███████▍  | 740873/1000000 [01:27<00:29, 8665.92it/s]RDKit WARNING: [16:27:24] WARNING: not removing hydrogen atom without neighbors\n",
      "RDKit WARNING: [16:27:24] WARNING: not removing hydrogen atom without neighbors\n",
      " 74%|███████▍  | 741741/1000000 [01:28<00:30, 8528.21it/s]RDKit WARNING: [16:27:24] WARNING: not removing hydrogen atom without neighbors\n",
      " 74%|███████▍  | 743458/1000000 [01:28<00:30, 8425.74it/s]RDKit ERROR: [16:27:24] Explicit valence for atom # 5 Br, 3, is greater than permitted\n",
      "RDKit ERROR: [16:27:24] Explicit valence for atom # 27 Cl, 3, is greater than permitted\n",
      " 74%|███████▍  | 744391/1000000 [01:28<00:29, 8676.21it/s]RDKit WARNING: [16:27:24] WARNING: not removing hydrogen atom without neighbors\n",
      " 75%|███████▍  | 745308/1000000 [01:28<00:28, 8815.91it/s]RDKit WARNING: [16:27:24] WARNING: not removing hydrogen atom without neighbors\n",
      " 75%|███████▌  | 750578/1000000 [01:29<00:28, 8695.48it/s]RDKit ERROR: [16:27:25] Explicit valence for atom # 7 Cl, 5, is greater than permitted\n",
      "RDKit WARNING: [16:27:25] WARNING: not removing hydrogen atom without neighbors\n",
      "RDKit WARNING: [16:27:25] WARNING: not removing hydrogen atom without neighbors\n",
      "RDKit WARNING: [16:27:25] WARNING: not removing hydrogen atom without neighbors\n",
      " 75%|███████▌  | 751449/1000000 [01:29<00:28, 8683.19it/s]RDKit ERROR: [16:27:25] Explicit valence for atom # 22 Br, 3, is greater than permitted\n",
      "RDKit WARNING: [16:27:25] WARNING: not removing hydrogen atom without neighbors\n",
      " 75%|███████▌  | 753222/1000000 [01:29<00:28, 8687.90it/s]RDKit ERROR: [16:27:25] Explicit valence for atom # 9 Br, 3, is greater than permitted\n",
      "RDKit WARNING: [16:27:25] Conflicting single bond directions around double bond at index 17.\n",
      "RDKit WARNING: [16:27:25]   BondStereo set to STEREONONE and single bond directions set to NONE.\n",
      " 76%|███████▌  | 755847/1000000 [01:29<00:29, 8367.82it/s]RDKit WARNING: [16:27:25] WARNING: not removing hydrogen atom without neighbors\n",
      "RDKit WARNING: [16:27:25] WARNING: not removing hydrogen atom without neighbors\n",
      " 76%|███████▌  | 757584/1000000 [01:29<00:28, 8534.62it/s]RDKit ERROR: [16:27:26] Explicit valence for atom # 23 Br, 3, is greater than permitted\n",
      " 76%|███████▌  | 758458/1000000 [01:29<00:28, 8593.61it/s]RDKit ERROR: [16:27:26] Explicit valence for atom # 7 Cl, 3, is greater than permitted\n",
      "RDKit ERROR: [16:27:26] Explicit valence for atom # 8 Br, 3, is greater than permitted\n",
      "RDKit WARNING: [16:27:26] WARNING: not removing hydrogen atom without neighbors\n",
      "RDKit WARNING: [16:27:26] WARNING: not removing hydrogen atom without neighbors\n",
      "RDKit ERROR: [16:27:26] Explicit valence for atom # 22 Cl, 3, is greater than permitted\n",
      " 76%|███████▌  | 759319/1000000 [01:30<00:28, 8572.46it/s]RDKit ERROR: [16:27:26] Explicit valence for atom # 16 Cl, 3, is greater than permitted\n",
      "RDKit ERROR: [16:27:26] Explicit valence for atom # 19 Cl, 3, is greater than permitted\n",
      " 76%|███████▌  | 761030/1000000 [01:30<00:28, 8393.82it/s]RDKit WARNING: [16:27:26] WARNING: not removing hydrogen atom without neighbors\n",
      " 76%|███████▌  | 761887/1000000 [01:30<00:28, 8445.48it/s]RDKit ERROR: [16:27:26] Explicit valence for atom # 24 Br, 3, is greater than permitted\n",
      " 76%|███████▋  | 762735/1000000 [01:30<00:28, 8454.93it/s]RDKit ERROR: [16:27:26] Explicit valence for atom # 10 Cl, 3, is greater than permitted\n",
      " 76%|███████▋  | 763630/1000000 [01:30<00:27, 8596.62it/s]RDKit ERROR: [16:27:26] Explicit valence for atom # 1 Br, 3, is greater than permitted\n",
      " 76%|███████▋  | 764491/1000000 [01:30<00:27, 8473.93it/s]RDKit WARNING: [16:27:26] WARNING: not removing hydrogen atom without neighbors\n",
      " 77%|███████▋  | 766232/1000000 [01:30<00:27, 8540.00it/s]RDKit ERROR: [16:27:27] Explicit valence for atom # 16 Cl, 3, is greater than permitted\n",
      "RDKit WARNING: [16:27:27] WARNING: not removing hydrogen atom without neighbors\n",
      " 77%|███████▋  | 767087/1000000 [01:30<00:27, 8513.92it/s]RDKit WARNING: [16:27:27] WARNING: not removing hydrogen atom without neighbors\n",
      " 77%|███████▋  | 767952/1000000 [01:31<00:27, 8553.15it/s]RDKit WARNING: [16:27:27] WARNING: not removing hydrogen atom without neighbors\n",
      "RDKit WARNING: [16:27:27] WARNING: not removing hydrogen atom without neighbors\n",
      " 77%|███████▋  | 768835/1000000 [01:31<00:26, 8633.46it/s]RDKit WARNING: [16:27:27] WARNING: not removing hydrogen atom without neighbors\n",
      "RDKit WARNING: [16:27:27] WARNING: not removing hydrogen atom without neighbors\n",
      " 77%|███████▋  | 769743/1000000 [01:31<00:26, 8759.73it/s]RDKit ERROR: [16:27:27] Explicit valence for atom # 7 Br, 3, is greater than permitted\n",
      " 77%|███████▋  | 772416/1000000 [01:31<00:25, 8853.72it/s]RDKit WARNING: [16:27:27] WARNING: not removing hydrogen atom without neighbors\n",
      "RDKit WARNING: [16:27:27] WARNING: not removing hydrogen atom without neighbors\n",
      " 77%|███████▋  | 773324/1000000 [01:31<00:25, 8917.49it/s]RDKit ERROR: [16:27:27] Explicit valence for atom # 12 Cl, 3, is greater than permitted\n",
      "RDKit ERROR: [16:27:27] Explicit valence for atom # 2 Cl, 3, is greater than permitted\n",
      " 77%|███████▋  | 774241/1000000 [01:31<00:25, 8990.78it/s]RDKit WARNING: [16:27:28] WARNING: not removing hydrogen atom without neighbors\n",
      "RDKit WARNING: [16:27:28] WARNING: not removing hydrogen atom without neighbors\n",
      "RDKit WARNING: [16:27:28] WARNING: not removing hydrogen atom without neighbors\n",
      " 78%|███████▊  | 775141/1000000 [01:31<00:25, 8652.71it/s]RDKit ERROR: [16:27:28] Explicit valence for atom # 17 Cl, 3, is greater than permitted\n",
      " 78%|███████▊  | 776018/1000000 [01:31<00:25, 8687.38it/s]RDKit ERROR: [16:27:28] Explicit valence for atom # 10 Cl, 2, is greater than permitted\n",
      " 78%|███████▊  | 776919/1000000 [01:32<00:25, 8777.47it/s]RDKit ERROR: [16:27:28] Explicit valence for atom # 1 Br, 3, is greater than permitted\n",
      "RDKit ERROR: [16:27:28] Explicit valence for atom # 1 Br, 3, is greater than permitted\n",
      " 78%|███████▊  | 777799/1000000 [01:32<00:33, 6709.22it/s]RDKit WARNING: [16:27:28] WARNING: not removing hydrogen atom without neighbors\n",
      " 78%|███████▊  | 779505/1000000 [01:32<00:29, 7533.45it/s]RDKit ERROR: [16:27:28] Explicit valence for atom # 2 Cl, 3, is greater than permitted\n",
      " 78%|███████▊  | 780390/1000000 [01:32<00:27, 7884.05it/s]RDKit ERROR: [16:27:28] Explicit valence for atom # 2 Cl, 3, is greater than permitted\n",
      "RDKit ERROR: [16:27:28] Explicit valence for atom # 25 Cl, 3, is greater than permitted\n",
      " 78%|███████▊  | 781264/1000000 [01:32<00:26, 8121.02it/s]RDKit ERROR: [16:27:28] Explicit valence for atom # 17 Br, 3, is greater than permitted\n",
      "RDKit ERROR: [16:27:29] Explicit valence for atom # 14 Cl, 3, is greater than permitted\n",
      "RDKit ERROR: [16:27:29] Explicit valence for atom # 17 Cl, 3, is greater than permitted\n",
      "RDKit ERROR: [16:27:29] Explicit valence for atom # 5 Cl, 3, is greater than permitted\n",
      " 78%|███████▊  | 782143/1000000 [01:32<00:26, 8308.60it/s]RDKit ERROR: [16:27:29] Explicit valence for atom # 34 Br, 3, is greater than permitted\n",
      " 79%|███████▊  | 785722/1000000 [01:33<00:26, 7937.73it/s]RDKit ERROR: [16:27:29] Explicit valence for atom # 7 Cl, 3, is greater than permitted\n",
      " 79%|███████▊  | 787494/1000000 [01:33<00:25, 8358.32it/s]RDKit ERROR: [16:27:29] Explicit valence for atom # 2 Cl, 3, is greater than permitted\n",
      "RDKit ERROR: [16:27:29] Explicit valence for atom # 2 Cl, 3, is greater than permitted\n",
      "RDKit WARNING: [16:27:29] WARNING: not removing hydrogen atom without neighbors\n",
      " 79%|███████▉  | 789239/1000000 [01:33<00:24, 8445.35it/s]RDKit ERROR: [16:27:29] Explicit valence for atom # 5 Cl, 3, is greater than permitted\n",
      " 79%|███████▉  | 790973/1000000 [01:33<00:24, 8519.49it/s]RDKit ERROR: [16:27:30] Explicit valence for atom # 21 Cl, 3, is greater than permitted\n",
      "RDKit WARNING: [16:27:30] WARNING: not removing hydrogen atom without neighbors\n",
      " 80%|███████▉  | 795394/1000000 [01:34<00:23, 8623.17it/s]RDKit WARNING: [16:27:30] WARNING: not removing hydrogen atom without neighbors\n",
      " 80%|███████▉  | 798084/1000000 [01:34<00:23, 8766.43it/s]RDKit WARNING: [16:27:30] WARNING: not removing hydrogen atom without neighbors\n",
      " 80%|███████▉  | 798962/1000000 [01:34<00:23, 8564.49it/s]RDKit WARNING: [16:27:31] WARNING: not removing hydrogen atom without neighbors\n",
      " 80%|███████▉  | 799821/1000000 [01:34<00:23, 8400.76it/s]RDKit ERROR: [16:27:31] Explicit valence for atom # 1 H, 2, is greater than permitted\n",
      " 80%|████████  | 801528/1000000 [01:35<00:23, 8462.39it/s]RDKit ERROR: [16:27:31] Explicit valence for atom # 17 Cl, 3, is greater than permitted\n",
      " 80%|████████  | 802386/1000000 [01:35<00:23, 8496.24it/s]RDKit WARNING: [16:27:31] WARNING: not removing hydrogen atom without neighbors\n",
      " 80%|████████  | 803245/1000000 [01:35<00:23, 8522.93it/s]RDKit ERROR: [16:27:31] Explicit valence for atom # 2 Cl, 5, is greater than permitted\n",
      " 80%|████████  | 804150/1000000 [01:35<00:22, 8673.92it/s]RDKit WARNING: [16:27:31] WARNING: not removing hydrogen atom without neighbors\n",
      " 81%|████████  | 805026/1000000 [01:35<00:22, 8698.68it/s]RDKit ERROR: [16:27:31] Explicit valence for atom # 36 Br, 3, is greater than permitted\n",
      " 81%|████████  | 805897/1000000 [01:35<00:22, 8613.99it/s]RDKit WARNING: [16:27:31] WARNING: not removing hydrogen atom without neighbors\n",
      "RDKit ERROR: [16:27:31] Explicit valence for atom # 2 Cl, 3, is greater than permitted\n",
      " 81%|████████  | 807613/1000000 [01:35<00:23, 8344.82it/s]RDKit ERROR: [16:27:32] Explicit valence for atom # 23 Cl, 3, is greater than permitted\n",
      "RDKit WARNING: [16:27:32] WARNING: not removing hydrogen atom without neighbors\n",
      "RDKit WARNING: [16:27:32] WARNING: not removing hydrogen atom without neighbors\n",
      " 81%|████████  | 808502/1000000 [01:35<00:22, 8499.39it/s]RDKit ERROR: [16:27:32] Explicit valence for atom # 6 Br, 3, is greater than permitted\n",
      " 81%|████████  | 809354/1000000 [01:35<00:22, 8459.01it/s]RDKit ERROR: [16:27:32] Explicit valence for atom # 15 Cl, 3, is greater than permitted\n",
      "RDKit WARNING: [16:27:32] WARNING: not removing hydrogen atom without neighbors\n",
      " 81%|████████  | 812018/1000000 [01:36<00:21, 8689.63it/s]RDKit WARNING: [16:27:32] WARNING: not removing hydrogen atom without neighbors\n",
      "RDKit WARNING: [16:27:32] WARNING: not removing hydrogen atom without neighbors\n",
      "RDKit WARNING: [16:27:32] WARNING: not removing hydrogen atom without neighbors\n",
      "RDKit WARNING: [16:27:32] WARNING: not removing hydrogen atom without neighbors\n",
      " 81%|████████▏ | 812889/1000000 [01:36<00:21, 8638.61it/s]RDKit ERROR: [16:27:32] Explicit valence for atom # 44 Cl, 3, is greater than permitted\n",
      "RDKit ERROR: [16:27:32] Explicit valence for atom # 3 I, 7, is greater than permitted\n",
      "RDKit WARNING: [16:27:32] WARNING: not removing hydrogen atom without neighbors\n",
      "RDKit WARNING: [16:27:32] WARNING: not removing hydrogen atom without neighbors\n",
      " 81%|████████▏ | 814636/1000000 [01:36<00:21, 8682.36it/s]RDKit WARNING: [16:27:32] WARNING: not removing hydrogen atom without neighbors\n",
      " 82%|████████▏ | 816431/1000000 [01:36<00:20, 8836.14it/s]RDKit ERROR: [16:27:33] Explicit valence for atom # 54 Cl, 3, is greater than permitted\n",
      "RDKit ERROR: [16:27:33] Explicit valence for atom # 22 Cl, 3, is greater than permitted\n",
      " 82%|████████▏ | 817316/1000000 [01:36<00:20, 8832.30it/s]RDKit ERROR: [16:27:33] Explicit valence for atom # 7 Cl, 3, is greater than permitted\n",
      " 82%|████████▏ | 818207/1000000 [01:36<00:20, 8852.60it/s]RDKit ERROR: [16:27:33] Explicit valence for atom # 1 Cl, 3, is greater than permitted\n",
      " 82%|████████▏ | 819969/1000000 [01:37<00:39, 4533.90it/s]RDKit WARNING: [16:27:33] WARNING: not removing hydrogen atom without neighbors\n",
      "RDKit ERROR: [16:27:33] Explicit valence for atom # 0 H, 2, is greater than permitted\n",
      "RDKit ERROR: [16:27:33] Explicit valence for atom # 2 Br, 3, is greater than permitted\n",
      " 82%|████████▏ | 820846/1000000 [01:37<00:33, 5301.48it/s]RDKit ERROR: [16:27:33] Explicit valence for atom # 27 Cl, 3, is greater than permitted\n",
      "RDKit ERROR: [16:27:33] Explicit valence for atom # 18 Cl, 3, is greater than permitted\n",
      " 82%|████████▏ | 821735/1000000 [01:37<00:29, 6030.12it/s]RDKit ERROR: [16:27:34] Explicit valence for atom # 1 Br, 3, is greater than permitted\n",
      " 82%|████████▏ | 823358/1000000 [01:37<00:25, 6949.28it/s]RDKit ERROR: [16:27:34] Explicit valence for atom # 14 Cl, 3, is greater than permitted\n",
      " 83%|████████▎ | 825033/1000000 [01:38<00:23, 7604.70it/s]RDKit ERROR: [16:27:34] Explicit valence for atom # 4 Cl, 3, is greater than permitted\n",
      " 83%|████████▎ | 825889/1000000 [01:38<00:22, 7866.79it/s]RDKit WARNING: [16:27:34] WARNING: not removing hydrogen atom without neighbors\n",
      "RDKit WARNING: [16:27:34] WARNING: not removing hydrogen atom without neighbors\n",
      " 83%|████████▎ | 827550/1000000 [01:38<00:21, 8060.12it/s]RDKit WARNING: [16:27:34] WARNING: not removing hydrogen atom without neighbors\n",
      " 83%|████████▎ | 828407/1000000 [01:38<00:20, 8206.52it/s]RDKit ERROR: [16:27:34] Explicit valence for atom # 12 Cl, 5, is greater than permitted\n",
      " 83%|████████▎ | 829244/1000000 [01:38<00:20, 8236.36it/s]RDKit ERROR: [16:27:34] Explicit valence for atom # 12 Br, 3, is greater than permitted\n",
      "RDKit WARNING: [16:27:34] WARNING: not removing hydrogen atom without neighbors\n",
      " 83%|████████▎ | 831872/1000000 [01:38<00:19, 8589.09it/s]RDKit ERROR: [16:27:35] Explicit valence for atom # 19 Cl, 3, is greater than permitted\n",
      " 83%|████████▎ | 832780/1000000 [01:39<00:19, 8730.65it/s]RDKit WARNING: [16:27:35] WARNING: not removing hydrogen atom without neighbors\n",
      "RDKit WARNING: [16:27:35] WARNING: not removing hydrogen atom without neighbors\n",
      "RDKit WARNING: [16:27:35] WARNING: not removing hydrogen atom without neighbors\n",
      "RDKit WARNING: [16:27:35] WARNING: not removing hydrogen atom without neighbors\n",
      " 83%|████████▎ | 833657/1000000 [01:39<00:19, 8514.70it/s]RDKit ERROR: [16:27:35] Explicit valence for atom # 12 Br, 3, is greater than permitted\n",
      " 83%|████████▎ | 834513/1000000 [01:39<00:19, 8461.49it/s]RDKit ERROR: [16:27:35] Explicit valence for atom # 2 Cl, 3, is greater than permitted\n",
      " 84%|████████▎ | 835362/1000000 [01:39<00:19, 8413.41it/s]RDKit WARNING: [16:27:35] WARNING: not removing hydrogen atom without neighbors\n",
      " 84%|████████▎ | 837070/1000000 [01:39<00:19, 8474.30it/s]RDKit WARNING: [16:27:35] WARNING: not removing hydrogen atom without neighbors\n",
      "RDKit WARNING: [16:27:35] WARNING: not removing hydrogen atom without neighbors\n",
      "RDKit ERROR: [16:27:35] Explicit valence for atom # 5 Cl, 3, is greater than permitted\n",
      " 84%|████████▍ | 837919/1000000 [01:39<00:19, 8425.40it/s]RDKit WARNING: [16:27:35] WARNING: not removing hydrogen atom without neighbors\n",
      "RDKit ERROR: [16:27:35] Explicit valence for atom # 0 H, 2, is greater than permitted\n",
      "RDKit WARNING: [16:27:35] WARNING: not removing hydrogen atom without neighbors\n",
      "RDKit ERROR: [16:27:35] Explicit valence for atom # 29 Cl, 3, is greater than permitted\n",
      " 84%|████████▍ | 838801/1000000 [01:39<00:18, 8539.18it/s]RDKit WARNING: [16:27:36] WARNING: not removing hydrogen atom without neighbors\n",
      " 84%|████████▍ | 839656/1000000 [01:39<00:18, 8446.00it/s]RDKit WARNING: [16:27:36] WARNING: not removing hydrogen atom without neighbors\n",
      " 84%|████████▍ | 840523/1000000 [01:39<00:18, 8510.54it/s]RDKit WARNING: [16:27:36] WARNING: not removing hydrogen atom without neighbors\n",
      "RDKit WARNING: [16:27:36] WARNING: not removing hydrogen atom without neighbors\n",
      " 84%|████████▍ | 841375/1000000 [01:40<00:18, 8511.67it/s]RDKit ERROR: [16:27:36] Explicit valence for atom # 1 Br, 3, is greater than permitted\n",
      " 84%|████████▍ | 842227/1000000 [01:40<00:18, 8492.63it/s]RDKit ERROR: [16:27:36] Explicit valence for atom # 11 Cl, 3, is greater than permitted\n",
      " 84%|████████▍ | 843077/1000000 [01:40<00:18, 8427.03it/s]RDKit WARNING: [16:27:36] WARNING: not removing hydrogen atom without neighbors\n",
      "RDKit WARNING: [16:27:36] WARNING: not removing hydrogen atom without neighbors\n",
      " 84%|████████▍ | 844805/1000000 [01:40<00:18, 8526.56it/s]RDKit ERROR: [16:27:36] Explicit valence for atom # 15 Cl, 3, is greater than permitted\n",
      "RDKit WARNING: [16:27:36] WARNING: not removing hydrogen atom without neighbors\n",
      "RDKit ERROR: [16:27:36] Explicit valence for atom # 14 Cl, 3, is greater than permitted\n",
      " 85%|████████▍ | 848265/1000000 [01:40<00:17, 8493.28it/s]RDKit ERROR: [16:27:37] Explicit valence for atom # 6 Cl, 3, is greater than permitted\n",
      " 85%|████████▍ | 849176/1000000 [01:40<00:17, 8658.96it/s]RDKit ERROR: [16:27:37] Explicit valence for atom # 3 Cl, 3, is greater than permitted\n",
      "RDKit WARNING: [16:27:37] WARNING: not removing hydrogen atom without neighbors\n",
      " 85%|████████▌ | 850900/1000000 [01:41<00:17, 8296.75it/s]RDKit ERROR: [16:27:37] Explicit valence for atom # 14 Cl, 3, is greater than permitted\n",
      " 85%|████████▌ | 852689/1000000 [01:41<00:17, 8610.19it/s]RDKit WARNING: [16:27:37] WARNING: not removing hydrogen atom without neighbors\n",
      "RDKit ERROR: [16:27:37] Explicit valence for atom # 19 Br, 3, is greater than permitted\n",
      " 85%|████████▌ | 854409/1000000 [01:41<00:17, 8399.12it/s]RDKit ERROR: [16:27:37] Explicit valence for atom # 12 Br, 3, is greater than permitted\n",
      "RDKit ERROR: [16:27:37] Explicit valence for atom # 1 Cl, 5, is greater than permitted\n",
      " 86%|████████▌ | 855251/1000000 [01:41<00:17, 8372.10it/s]RDKit WARNING: [16:27:37] WARNING: not removing hydrogen atom without neighbors\n",
      "RDKit WARNING: [16:27:37] WARNING: not removing hydrogen atom without neighbors\n",
      " 86%|████████▌ | 856151/1000000 [01:41<00:16, 8549.42it/s]RDKit WARNING: [16:27:38] WARNING: not removing hydrogen atom without neighbors\n",
      "RDKit WARNING: [16:27:38] WARNING: not removing hydrogen atom without neighbors\n",
      "RDKit WARNING: [16:27:38] WARNING: not removing hydrogen atom without neighbors\n",
      "RDKit ERROR: [16:27:38] Explicit valence for atom # 1 Br, 3, is greater than permitted\n",
      " 86%|████████▌ | 857014/1000000 [01:41<00:16, 8570.16it/s]RDKit WARNING: [16:27:38] WARNING: not removing hydrogen atom without neighbors\n",
      "RDKit WARNING: [16:27:38] WARNING: not removing hydrogen atom without neighbors\n",
      "RDKit WARNING: [16:27:38] WARNING: not removing hydrogen atom without neighbors\n",
      "RDKit ERROR: [16:27:38] Explicit valence for atom # 14 Br, 3, is greater than permitted\n",
      " 86%|████████▌ | 857873/1000000 [01:41<00:16, 8427.14it/s]RDKit WARNING: [16:27:38] WARNING: not removing hydrogen atom without neighbors\n",
      "RDKit WARNING: [16:27:38] WARNING: not removing hydrogen atom without neighbors\n",
      " 86%|████████▌ | 858738/1000000 [01:42<00:16, 8492.59it/s]RDKit WARNING: [16:27:38] WARNING: not removing hydrogen atom without neighbors\n",
      " 86%|████████▌ | 859589/1000000 [01:42<00:16, 8397.87it/s]RDKit WARNING: [16:27:38] WARNING: not removing hydrogen atom without neighbors\n",
      " 86%|████████▌ | 862199/1000000 [01:42<00:16, 8593.91it/s]RDKit WARNING: [16:27:38] WARNING: not removing hydrogen atom without neighbors\n",
      "RDKit WARNING: [16:27:38] WARNING: not removing hydrogen atom without neighbors\n",
      "RDKit ERROR: [16:27:38] Explicit valence for atom # 7 Si, 8, is greater than permitted\n",
      " 86%|████████▋ | 863068/1000000 [01:42<00:15, 8606.95it/s]RDKit ERROR: [16:27:38] Explicit valence for atom # 12 Cl, 3, is greater than permitted\n",
      "RDKit WARNING: [16:27:38] WARNING: not removing hydrogen atom without neighbors\n",
      " 86%|████████▋ | 863930/1000000 [01:42<00:16, 8487.27it/s]RDKit ERROR: [16:27:39] Explicit valence for atom # 29 Cl, 3, is greater than permitted\n",
      " 86%|████████▋ | 864795/1000000 [01:42<00:15, 8534.40it/s]RDKit WARNING: [16:27:39] WARNING: not removing hydrogen atom without neighbors\n",
      " 87%|████████▋ | 865650/1000000 [01:42<00:15, 8534.19it/s]RDKit ERROR: [16:27:39] Explicit valence for atom # 23 Cl, 3, is greater than permitted\n",
      " 87%|████████▋ | 866504/1000000 [01:42<00:15, 8527.65it/s]RDKit ERROR: [16:27:39] Explicit valence for atom # 1 Cl, 3, is greater than permitted\n",
      " 87%|████████▋ | 867388/1000000 [01:43<00:15, 8618.50it/s]RDKit ERROR: [16:27:39] Explicit valence for atom # 1 Br, 3, is greater than permitted\n",
      " 87%|████████▋ | 868251/1000000 [01:43<00:15, 8558.02it/s]RDKit WARNING: [16:27:39] WARNING: not removing hydrogen atom without neighbors\n",
      " 87%|████████▋ | 869119/1000000 [01:43<00:15, 8591.70it/s]RDKit ERROR: [16:27:39] Explicit valence for atom # 10 Cl, 3, is greater than permitted\n",
      "RDKit ERROR: [16:27:39] Explicit valence for atom # 1 H, 2, is greater than permitted\n",
      "RDKit WARNING: [16:27:39] WARNING: not removing hydrogen atom without neighbors\n",
      "RDKit WARNING: [16:27:39] WARNING: not removing hydrogen atom without neighbors\n",
      " 87%|████████▋ | 869979/1000000 [01:43<00:15, 8443.43it/s]RDKit ERROR: [16:27:39] Explicit valence for atom # 8 Cl, 3, is greater than permitted\n",
      " 87%|████████▋ | 873417/1000000 [01:43<00:15, 8386.73it/s]RDKit WARNING: [16:27:40] WARNING: not removing hydrogen atom without neighbors\n",
      " 88%|████████▊ | 875164/1000000 [01:44<00:14, 8555.72it/s]RDKit WARNING: [16:27:40] WARNING: not removing hydrogen atom without neighbors\n",
      " 88%|████████▊ | 876877/1000000 [01:44<00:14, 8514.85it/s]RDKit WARNING: [16:27:40] WARNING: not removing hydrogen atom without neighbors\n",
      "RDKit ERROR: [16:27:40] Explicit valence for atom # 4 Cl, 3, is greater than permitted\n",
      " 88%|████████▊ | 877729/1000000 [01:44<00:14, 8511.21it/s]RDKit WARNING: [16:27:40] WARNING: not removing hydrogen atom without neighbors\n",
      " 88%|████████▊ | 879423/1000000 [01:44<00:14, 8381.39it/s]RDKit ERROR: [16:27:40] Explicit valence for atom # 1 Cl, 3, is greater than permitted\n",
      " 88%|████████▊ | 880288/1000000 [01:44<00:14, 8456.34it/s]RDKit WARNING: [16:27:40] WARNING: not removing hydrogen atom without neighbors\n",
      " 88%|████████▊ | 881165/1000000 [01:44<00:13, 8546.47it/s]RDKit ERROR: [16:27:40] Explicit valence for atom # 14 Cl, 3, is greater than permitted\n",
      "RDKit WARNING: [16:27:41] WARNING: not removing hydrogen atom without neighbors\n",
      "RDKit WARNING: [16:27:41] WARNING: not removing hydrogen atom without neighbors\n",
      " 88%|████████▊ | 882919/1000000 [01:44<00:13, 8665.19it/s]RDKit ERROR: [16:27:41] Explicit valence for atom # 5 Cl, 3, is greater than permitted\n",
      "RDKit WARNING: [16:27:41] WARNING: not removing hydrogen atom without neighbors\n",
      "RDKit ERROR: [16:27:41] Explicit valence for atom # 3 Cl, 3, is greater than permitted\n",
      " 88%|████████▊ | 883786/1000000 [01:45<00:13, 8521.07it/s]RDKit ERROR: [16:27:41] Explicit valence for atom # 7 Cl, 3, is greater than permitted\n",
      "RDKit ERROR: [16:27:41] Explicit valence for atom # 46 Cl, 3, is greater than permitted\n",
      "RDKit WARNING: [16:27:41] WARNING: not removing hydrogen atom without neighbors\n",
      " 88%|████████▊ | 884675/1000000 [01:45<00:13, 8627.26it/s]RDKit ERROR: [16:27:41] Explicit valence for atom # 1 Br, 3, is greater than permitted\n",
      " 89%|████████▊ | 885539/1000000 [01:45<00:13, 8534.47it/s]RDKit ERROR: [16:27:41] Explicit valence for atom # 8 Cl, 3, is greater than permitted\n",
      " 89%|████████▊ | 886416/1000000 [01:45<00:13, 8602.16it/s]RDKit ERROR: [16:27:41] Explicit valence for atom # 1 Br, 3, is greater than permitted\n",
      " 89%|████████▊ | 887277/1000000 [01:45<00:13, 8291.15it/s]RDKit ERROR: [16:27:41] Explicit valence for atom # 4 Cl, 3, is greater than permitted\n",
      " 89%|████████▉ | 888128/1000000 [01:45<00:13, 8353.52it/s]RDKit ERROR: [16:27:41] Explicit valence for atom # 1 Cl, 3, is greater than permitted\n",
      "RDKit WARNING: [16:27:41] WARNING: not removing hydrogen atom without neighbors\n",
      " 89%|████████▉ | 889894/1000000 [01:45<00:12, 8600.89it/s]RDKit ERROR: [16:27:42] Explicit valence for atom # 8 Cl, 3, is greater than permitted\n",
      "RDKit ERROR: [16:27:42] Explicit valence for atom # 8 Br, 3, is greater than permitted\n",
      " 89%|████████▉ | 890757/1000000 [01:45<00:12, 8551.24it/s]RDKit ERROR: [16:27:42] Explicit valence for atom # 1 H, 2, is greater than permitted\n",
      " 89%|████████▉ | 891614/1000000 [01:45<00:13, 8241.66it/s]RDKit WARNING: [16:27:42] WARNING: not removing hydrogen atom without neighbors\n",
      "RDKit ERROR: [16:27:42] Explicit valence for atom # 8 Cl, 3, is greater than permitted\n",
      " 89%|████████▉ | 893367/1000000 [01:46<00:12, 8510.49it/s]RDKit ERROR: [16:27:42] Explicit valence for atom # 0 H, 2, is greater than permitted\n",
      " 90%|████████▉ | 895107/1000000 [01:46<00:12, 8547.89it/s]RDKit ERROR: [16:27:42] Explicit valence for atom # 26 Br, 3, is greater than permitted\n",
      "RDKit WARNING: [16:27:42] WARNING: not removing hydrogen atom without neighbors\n",
      " 90%|████████▉ | 895999/1000000 [01:46<00:12, 8653.83it/s]RDKit ERROR: [16:27:42] Explicit valence for atom # 13 Cl, 7, is greater than permitted\n",
      " 90%|████████▉ | 898637/1000000 [01:46<00:11, 8743.39it/s]RDKit ERROR: [16:27:43] Explicit valence for atom # 22 Br, 3, is greater than permitted\n",
      "RDKit WARNING: [16:27:43] WARNING: not removing hydrogen atom without neighbors\n",
      "RDKit WARNING: [16:27:43] WARNING: not removing hydrogen atom without neighbors\n",
      " 90%|█████████ | 903069/1000000 [01:47<00:11, 8549.28it/s]RDKit ERROR: [16:27:43] Explicit valence for atom # 8 Br, 3, is greater than permitted\n",
      "RDKit ERROR: [16:27:43] Explicit valence for atom # 29 Cl, 3, is greater than permitted\n",
      " 90%|█████████ | 904759/1000000 [01:47<00:11, 8302.98it/s]RDKit WARNING: [16:27:43] WARNING: not removing hydrogen atom without neighbors\n",
      "RDKit WARNING: [16:27:43] WARNING: not removing hydrogen atom without neighbors\n",
      "RDKit WARNING: [16:27:43] WARNING: not removing hydrogen atom without neighbors\n",
      " 91%|█████████ | 905641/1000000 [01:47<00:11, 8451.55it/s]RDKit WARNING: [16:27:43] WARNING: not removing hydrogen atom without neighbors\n",
      " 91%|█████████ | 906548/1000000 [01:47<00:10, 8627.97it/s]RDKit WARNING: [16:27:44] WARNING: not removing hydrogen atom without neighbors\n",
      "RDKit WARNING: [16:27:44] WARNING: not removing hydrogen atom without neighbors\n",
      " 91%|█████████ | 907428/1000000 [01:47<00:10, 8675.93it/s]RDKit WARNING: [16:27:44] WARNING: not removing hydrogen atom without neighbors\n",
      "RDKit WARNING: [16:27:44] WARNING: not removing hydrogen atom without neighbors\n",
      "RDKit WARNING: [16:27:44] WARNING: not removing hydrogen atom without neighbors\n",
      " 91%|█████████ | 908302/1000000 [01:47<00:10, 8691.43it/s]RDKit ERROR: [16:27:44] Explicit valence for atom # 28 Br, 3, is greater than permitted\n",
      " 91%|█████████ | 909173/1000000 [01:47<00:10, 8673.02it/s]RDKit WARNING: [16:27:44] WARNING: not removing hydrogen atom without neighbors\n",
      " 91%|█████████ | 910925/1000000 [01:48<00:10, 8590.11it/s]RDKit WARNING: [16:27:44] WARNING: not removing hydrogen atom without neighbors\n",
      " 91%|█████████▏| 913540/1000000 [01:48<00:10, 8642.01it/s]RDKit ERROR: [16:27:44] Explicit valence for atom # 1 Br, 3, is greater than permitted\n",
      " 91%|█████████▏| 914406/1000000 [01:48<00:09, 8583.54it/s]RDKit ERROR: [16:27:44] Explicit valence for atom # 16 Cl, 3, is greater than permitted\n",
      "RDKit ERROR: [16:27:44] Explicit valence for atom # 15 Cl, 3, is greater than permitted\n",
      " 92%|█████████▏| 916141/1000000 [01:48<00:10, 8305.92it/s]RDKit ERROR: [16:27:45] Explicit valence for atom # 8 Cl, 3, is greater than permitted\n",
      " 92%|█████████▏| 916999/1000000 [01:48<00:09, 8386.29it/s]RDKit ERROR: [16:27:45] Explicit valence for atom # 11 Br, 3, is greater than permitted\n",
      " 92%|█████████▏| 917840/1000000 [01:49<00:09, 8382.23it/s]RDKit ERROR: [16:27:45] Explicit valence for atom # 29 Br, 3, is greater than permitted\n",
      "RDKit WARNING: [16:27:45] WARNING: not removing hydrogen atom without neighbors\n",
      " 92%|█████████▏| 918680/1000000 [01:49<00:10, 8057.27it/s]RDKit WARNING: [16:27:45] WARNING: not removing hydrogen atom without neighbors\n",
      " 92%|█████████▏| 919546/1000000 [01:49<00:09, 8227.46it/s]RDKit ERROR: [16:27:45] Explicit valence for atom # 1 Br, 3, is greater than permitted\n",
      " 92%|█████████▏| 920387/1000000 [01:49<00:09, 8265.87it/s]RDKit WARNING: [16:27:45] WARNING: not removing hydrogen atom without neighbors\n",
      "RDKit WARNING: [16:27:45] WARNING: not removing hydrogen atom without neighbors\n",
      "RDKit WARNING: [16:27:45] WARNING: not removing hydrogen atom without neighbors\n",
      " 92%|█████████▏| 921217/1000000 [01:49<00:09, 8245.38it/s]RDKit ERROR: [16:27:45] Explicit valence for atom # 0 H, 2, is greater than permitted\n",
      " 92%|█████████▏| 922044/1000000 [01:49<00:09, 8183.27it/s]RDKit ERROR: [16:27:45] Explicit valence for atom # 3 Cl, 3, is greater than permitted\n",
      "RDKit WARNING: [16:27:45] WARNING: not removing hydrogen atom without neighbors\n",
      " 92%|█████████▏| 922872/1000000 [01:49<00:09, 8211.39it/s]RDKit WARNING: [16:27:45] WARNING: not removing hydrogen atom without neighbors\n",
      "RDKit WARNING: [16:27:45] WARNING: not removing hydrogen atom without neighbors\n",
      "RDKit ERROR: [16:27:45] Explicit valence for atom # 1 Cl, 3, is greater than permitted\n",
      " 92%|█████████▏| 923709/1000000 [01:49<00:09, 8257.60it/s]RDKit ERROR: [16:27:46] Explicit valence for atom # 1 Cl, 3, is greater than permitted\n",
      "RDKit ERROR: [16:27:46] Explicit valence for atom # 1 Cl, 3, is greater than permitted\n",
      " 92%|█████████▏| 924590/1000000 [01:49<00:08, 8413.67it/s]RDKit ERROR: [16:27:46] Explicit valence for atom # 13 Cl, 3, is greater than permitted\n",
      " 93%|█████████▎| 925440/1000000 [01:49<00:08, 8439.19it/s]RDKit ERROR: [16:27:46] Explicit valence for atom # 16 Br, 3, is greater than permitted\n",
      "RDKit WARNING: [16:27:46] WARNING: not removing hydrogen atom without neighbors\n",
      "RDKit WARNING: [16:27:46] WARNING: not removing hydrogen atom without neighbors\n",
      " 93%|█████████▎| 926285/1000000 [01:50<00:08, 8432.10it/s]RDKit ERROR: [16:27:46] Explicit valence for atom # 5 Cl, 3, is greater than permitted\n",
      " 93%|█████████▎| 927129/1000000 [01:50<00:08, 8153.21it/s]RDKit ERROR: [16:27:46] Explicit valence for atom # 1 Br, 3, is greater than permitted\n",
      " 93%|█████████▎| 927947/1000000 [01:50<00:08, 8096.63it/s]RDKit ERROR: [16:27:46] Explicit valence for atom # 1 H, 2, is greater than permitted\n",
      "RDKit ERROR: [16:27:46] Explicit valence for atom # 11 Cl, 3, is greater than permitted\n",
      " 93%|█████████▎| 928763/1000000 [01:50<00:08, 8110.41it/s]RDKit WARNING: [16:27:46] WARNING: not removing hydrogen atom without neighbors\n",
      "RDKit ERROR: [16:27:46] Explicit valence for atom # 5 Cl, 3, is greater than permitted\n",
      "RDKit WARNING: [16:27:46] WARNING: not removing hydrogen atom without neighbors\n",
      "RDKit WARNING: [16:27:46] WARNING: not removing hydrogen atom without neighbors\n",
      "RDKit WARNING: [16:27:46] WARNING: not removing hydrogen atom without neighbors\n",
      "RDKit WARNING: [16:27:46] WARNING: not removing hydrogen atom without neighbors\n",
      "RDKit WARNING: [16:27:46] WARNING: not removing hydrogen atom without neighbors\n",
      " 93%|█████████▎| 929641/1000000 [01:50<00:08, 8299.25it/s]RDKit ERROR: [16:27:46] Explicit valence for atom # 31 Br, 3, is greater than permitted\n",
      " 93%|█████████▎| 930504/1000000 [01:50<00:08, 8392.99it/s]RDKit ERROR: [16:27:46] Explicit valence for atom # 2 Cl, 3, is greater than permitted\n",
      " 93%|█████████▎| 932211/1000000 [01:50<00:08, 8343.02it/s]RDKit WARNING: [16:27:47] WARNING: not removing hydrogen atom without neighbors\n",
      "RDKit ERROR: [16:27:47] Explicit valence for atom # 25 Cl, 3, is greater than permitted\n",
      " 93%|█████████▎| 933957/1000000 [01:50<00:07, 8520.94it/s]RDKit WARNING: [16:27:47] WARNING: not removing hydrogen atom without neighbors\n",
      "RDKit ERROR: [16:27:47] Explicit valence for atom # 32 Cl, 3, is greater than permitted\n",
      "RDKit ERROR: [16:27:47] Explicit valence for atom # 2 Cl, 3, is greater than permitted\n",
      " 94%|█████████▎| 936525/1000000 [01:51<00:07, 8500.50it/s]RDKit ERROR: [16:27:47] Explicit valence for atom # 12 Cl, 3, is greater than permitted\n",
      "RDKit ERROR: [16:27:47] Explicit valence for atom # 15 Cl, 3, is greater than permitted\n",
      " 94%|█████████▎| 937376/1000000 [01:51<00:07, 8487.07it/s]RDKit ERROR: [16:27:47] Explicit valence for atom # 3 Cl, 3, is greater than permitted\n",
      " 94%|█████████▍| 938260/1000000 [01:51<00:07, 8586.59it/s]RDKit WARNING: [16:27:47] WARNING: not removing hydrogen atom without neighbors\n",
      "RDKit WARNING: [16:27:47] WARNING: not removing hydrogen atom without neighbors\n",
      " 94%|█████████▍| 939120/1000000 [01:51<00:07, 8509.20it/s]RDKit WARNING: [16:27:47] WARNING: not removing hydrogen atom without neighbors\n",
      " 94%|█████████▍| 939972/1000000 [01:51<00:07, 8412.79it/s]RDKit ERROR: [16:27:47] Explicit valence for atom # 18 Cl, 3, is greater than permitted\n",
      "RDKit ERROR: [16:27:47] Explicit valence for atom # 3 Cl, 3, is greater than permitted\n",
      "RDKit ERROR: [16:27:48] Explicit valence for atom # 4 Cl, 3, is greater than permitted\n",
      " 94%|█████████▍| 941741/1000000 [01:51<00:06, 8547.66it/s]RDKit WARNING: [16:27:48] WARNING: not removing hydrogen atom without neighbors\n",
      "RDKit ERROR: [16:27:48] Explicit valence for atom # 8 Cl, 3, is greater than permitted\n",
      " 94%|█████████▍| 942597/1000000 [01:51<00:06, 8427.82it/s]RDKit WARNING: [16:27:48] WARNING: not removing hydrogen atom without neighbors\n",
      "RDKit ERROR: [16:27:48] Explicit valence for atom # 1 Cl, 3, is greater than permitted\n",
      " 94%|█████████▍| 944282/1000000 [01:52<00:06, 8373.63it/s]RDKit WARNING: [16:27:48] WARNING: not removing hydrogen atom without neighbors\n",
      " 95%|█████████▍| 945120/1000000 [01:52<00:06, 8097.90it/s]RDKit WARNING: [16:27:48] WARNING: not removing hydrogen atom without neighbors\n",
      " 95%|█████████▍| 945942/1000000 [01:52<00:06, 8134.09it/s]RDKit ERROR: [16:27:48] Explicit valence for atom # 8 Cl, 3, is greater than permitted\n",
      " 95%|█████████▍| 946818/1000000 [01:52<00:06, 8311.77it/s]RDKit WARNING: [16:27:48] WARNING: not removing hydrogen atom without neighbors\n",
      " 95%|█████████▍| 949436/1000000 [01:52<00:06, 8400.14it/s]RDKit ERROR: [16:27:49] Explicit valence for atom # 9 Br, 3, is greater than permitted\n",
      "RDKit WARNING: [16:27:49] WARNING: not removing hydrogen atom without neighbors\n",
      " 95%|█████████▌| 952038/1000000 [01:53<00:05, 8419.37it/s]RDKit ERROR: [16:27:49] Explicit valence for atom # 1 Cl, 3, is greater than permitted\n",
      " 95%|█████████▌| 952883/1000000 [01:53<00:05, 8421.49it/s]RDKit ERROR: [16:27:49] Explicit valence for atom # 18 Br, 3, is greater than permitted\n",
      " 95%|█████████▌| 954594/1000000 [01:53<00:05, 8443.38it/s]RDKit ERROR: [16:27:49] Explicit valence for atom # 1 Br, 3, is greater than permitted\n",
      "RDKit ERROR: [16:27:49] Explicit valence for atom # 15 Cl, 3, is greater than permitted\n",
      " 96%|█████████▌| 955468/1000000 [01:53<00:05, 8524.91it/s]RDKit ERROR: [16:27:49] Explicit valence for atom # 5 Br, 3, is greater than permitted\n",
      " 96%|█████████▌| 956322/1000000 [01:53<00:05, 8423.57it/s]RDKit WARNING: [16:27:49] WARNING: not removing hydrogen atom without neighbors\n",
      "RDKit ERROR: [16:27:49] Explicit valence for atom # 30 Cl, 3, is greater than permitted\n",
      " 96%|█████████▌| 957197/1000000 [01:53<00:05, 8515.69it/s]RDKit WARNING: [16:27:49] WARNING: not removing hydrogen atom without neighbors\n",
      " 96%|█████████▌| 958903/1000000 [01:53<00:04, 8367.83it/s]RDKit ERROR: [16:27:50] Explicit valence for atom # 9 Cl, 3, is greater than permitted\n",
      "RDKit WARNING: [16:27:50] WARNING: not removing hydrogen atom without neighbors\n",
      "RDKit ERROR: [16:27:50] Explicit valence for atom # 5 Cl, 3, is greater than permitted\n",
      "RDKit ERROR: [16:27:50] Explicit valence for atom # 3 Cl, 3, is greater than permitted\n",
      "RDKit ERROR: [16:27:50] Explicit valence for atom # 3 Cl, 3, is greater than permitted\n",
      "RDKit ERROR: [16:27:50] Explicit valence for atom # 1 Br, 3, is greater than permitted\n",
      " 96%|█████████▌| 959786/1000000 [01:54<00:04, 8500.65it/s]RDKit WARNING: [16:27:50] WARNING: not removing hydrogen atom without neighbors\n",
      "RDKit WARNING: [16:27:50] WARNING: not removing hydrogen atom without neighbors\n",
      " 96%|█████████▌| 960658/1000000 [01:54<00:04, 8564.74it/s]RDKit ERROR: [16:27:50] Explicit valence for atom # 2 Cl, 3, is greater than permitted\n",
      " 96%|█████████▌| 961526/1000000 [01:54<00:04, 8597.95it/s]RDKit WARNING: [16:27:50] WARNING: not removing hydrogen atom without neighbors\n",
      "RDKit WARNING: [16:27:50] WARNING: not removing hydrogen atom without neighbors\n",
      " 96%|█████████▋| 963236/1000000 [01:54<00:04, 8482.12it/s]RDKit WARNING: [16:27:50] WARNING: not removing hydrogen atom without neighbors\n",
      "RDKit ERROR: [16:27:50] Explicit valence for atom # 23 Cl, 3, is greater than permitted\n",
      " 96%|█████████▋| 964940/1000000 [01:54<00:04, 8437.35it/s]RDKit ERROR: [16:27:50] Explicit valence for atom # 24 Br, 3, is greater than permitted\n",
      "RDKit WARNING: [16:27:50] WARNING: not removing hydrogen atom without neighbors\n",
      " 97%|█████████▋| 965871/1000000 [01:54<00:03, 8678.82it/s]RDKit ERROR: [16:27:50] Explicit valence for atom # 18 Cl, 3, is greater than permitted\n",
      "RDKit ERROR: [16:27:50] Explicit valence for atom # 7 Cl, 3, is greater than permitted\n",
      "RDKit WARNING: [16:27:51] WARNING: not removing hydrogen atom without neighbors\n",
      "RDKit WARNING: [16:27:51] WARNING: not removing hydrogen atom without neighbors\n",
      " 97%|█████████▋| 966741/1000000 [01:54<00:03, 8586.48it/s]RDKit WARNING: [16:27:51] WARNING: not removing hydrogen atom without neighbors\n",
      " 97%|█████████▋| 967647/1000000 [01:54<00:03, 8720.96it/s]RDKit ERROR: [16:27:51] Explicit valence for atom # 17 Cl, 3, is greater than permitted\n",
      "RDKit ERROR: [16:27:51] Explicit valence for atom # 1 Br, 3, is greater than permitted\n",
      " 97%|█████████▋| 968521/1000000 [01:55<00:03, 8340.98it/s]RDKit ERROR: [16:27:51] Explicit valence for atom # 37 Cl, 3, is greater than permitted\n",
      "RDKit ERROR: [16:27:51] Explicit valence for atom # 22 Cl, 3, is greater than permitted\n",
      " 97%|█████████▋| 969371/1000000 [01:55<00:03, 8386.89it/s]RDKit ERROR: [16:27:51] Explicit valence for atom # 12 Br, 3, is greater than permitted\n",
      "RDKit WARNING: [16:27:51] WARNING: not removing hydrogen atom without neighbors\n",
      "RDKit ERROR: [16:27:51] Explicit valence for atom # 9 Cl, 3, is greater than permitted\n",
      " 97%|█████████▋| 970289/1000000 [01:55<00:03, 8608.84it/s]RDKit WARNING: [16:27:51] WARNING: not removing hydrogen atom without neighbors\n",
      "RDKit WARNING: [16:27:51] WARNING: not removing hydrogen atom without neighbors\n",
      " 97%|█████████▋| 971187/1000000 [01:55<00:03, 8714.82it/s]RDKit ERROR: [16:27:51] Explicit valence for atom # 5 Cl, 3, is greater than permitted\n",
      " 97%|█████████▋| 972125/1000000 [01:55<00:03, 8903.01it/s]RDKit WARNING: [16:27:51] WARNING: not removing hydrogen atom without neighbors\n",
      "RDKit WARNING: [16:27:51] WARNING: not removing hydrogen atom without neighbors\n",
      "RDKit WARNING: [16:27:51] WARNING: not removing hydrogen atom without neighbors\n",
      "RDKit ERROR: [16:27:51] Explicit valence for atom # 18 Cl, 3, is greater than permitted\n",
      "RDKit WARNING: [16:27:51] WARNING: not removing hydrogen atom without neighbors\n",
      " 97%|█████████▋| 973019/1000000 [01:55<00:03, 8687.25it/s]RDKit ERROR: [16:27:51] Explicit valence for atom # 12 Cl, 3, is greater than permitted\n",
      " 97%|█████████▋| 973909/1000000 [01:55<00:02, 8748.41it/s]RDKit ERROR: [16:27:51] Explicit valence for atom # 10 Cl, 5, is greater than permitted\n",
      " 97%|█████████▋| 974789/1000000 [01:55<00:02, 8761.50it/s]RDKit ERROR: [16:27:52] Explicit valence for atom # 0 H, 2, is greater than permitted\n",
      " 98%|█████████▊| 975681/1000000 [01:55<00:02, 8806.84it/s]RDKit ERROR: [16:27:52] Explicit valence for atom # 1 Br, 3, is greater than permitted\n",
      "RDKit WARNING: [16:27:52] WARNING: not removing hydrogen atom without neighbors\n",
      "RDKit ERROR: [16:27:52] Explicit valence for atom # 6 Cl, 3, is greater than permitted\n",
      " 98%|█████████▊| 976563/1000000 [01:55<00:02, 8420.63it/s]RDKit ERROR: [16:27:52] Explicit valence for atom # 4 Cl, 3, is greater than permitted\n",
      "RDKit WARNING: [16:27:52] WARNING: not removing hydrogen atom without neighbors\n",
      " 98%|█████████▊| 977435/1000000 [01:56<00:02, 8502.41it/s]RDKit ERROR: [16:27:52] Explicit valence for atom # 23 Cl, 3, is greater than permitted\n",
      " 98%|█████████▊| 978309/1000000 [01:56<00:02, 8572.28it/s]RDKit WARNING: [16:27:52] WARNING: not removing hydrogen atom without neighbors\n",
      "RDKit WARNING: [16:27:52] WARNING: not removing hydrogen atom without neighbors\n",
      " 98%|█████████▊| 979169/1000000 [01:56<00:02, 8564.40it/s]RDKit WARNING: [16:27:52] WARNING: not removing hydrogen atom without neighbors\n",
      "RDKit ERROR: [16:27:52] Explicit valence for atom # 12 Br, 3, is greater than permitted\n",
      "RDKit WARNING: [16:27:52] WARNING: not removing hydrogen atom without neighbors\n",
      " 98%|█████████▊| 980051/1000000 [01:56<00:02, 8631.54it/s]RDKit ERROR: [16:27:52] Explicit valence for atom # 4 Cl, 3, is greater than permitted\n",
      " 98%|█████████▊| 982650/1000000 [01:56<00:02, 8532.99it/s]RDKit ERROR: [16:27:52] Explicit valence for atom # 12 Cl, 3, is greater than permitted\n",
      "RDKit ERROR: [16:27:52] Explicit valence for atom # 7 Cl, 3, is greater than permitted\n",
      "RDKit WARNING: [16:27:53] WARNING: not removing hydrogen atom without neighbors\n",
      " 98%|█████████▊| 984357/1000000 [01:56<00:01, 8456.97it/s]RDKit ERROR: [16:27:53] Explicit valence for atom # 1 Br, 3, is greater than permitted\n",
      "RDKit ERROR: [16:27:53] Explicit valence for atom # 5 Cl, 3, is greater than permitted\n",
      "RDKit ERROR: [16:27:53] Explicit valence for atom # 0 H, 2, is greater than permitted\n",
      " 99%|█████████▊| 985223/1000000 [01:56<00:01, 8515.58it/s]RDKit WARNING: [16:27:53] WARNING: not removing hydrogen atom without neighbors\n",
      "RDKit ERROR: [16:27:53] Explicit valence for atom # 24 Cl, 3, is greater than permitted\n",
      " 99%|█████████▊| 986075/1000000 [01:57<00:01, 8498.78it/s]RDKit WARNING: [16:27:53] WARNING: not removing hydrogen atom without neighbors\n",
      " 99%|█████████▊| 986973/1000000 [01:57<00:01, 8636.90it/s]RDKit ERROR: [16:27:53] Explicit valence for atom # 1 H, 2, is greater than permitted\n",
      " 99%|█████████▉| 988708/1000000 [01:57<00:01, 8559.74it/s]RDKit ERROR: [16:27:53] Explicit valence for atom # 10 Cl, 3, is greater than permitted\n",
      " 99%|█████████▉| 989565/1000000 [01:57<00:01, 8536.62it/s]RDKit ERROR: [16:27:53] Explicit valence for atom # 7 Cl, 3, is greater than permitted\n",
      "RDKit WARNING: [16:27:53] WARNING: not removing hydrogen atom without neighbors\n",
      " 99%|█████████▉| 990442/1000000 [01:57<00:01, 8604.04it/s]RDKit ERROR: [16:27:53] Explicit valence for atom # 1 Br, 3, is greater than permitted\n",
      " 99%|█████████▉| 991303/1000000 [01:57<00:01, 8396.28it/s]RDKit ERROR: [16:27:53] Explicit valence for atom # 21 Cl, 3, is greater than permitted\n",
      "RDKit ERROR: [16:27:54] Explicit valence for atom # 28 Cl, 3, is greater than permitted\n",
      "RDKit WARNING: [16:27:54] WARNING: not removing hydrogen atom without neighbors\n",
      "100%|█████████▉| 995652/1000000 [01:58<00:00, 8531.65it/s]RDKit WARNING: [16:27:54] WARNING: not removing hydrogen atom without neighbors\n",
      "RDKit WARNING: [16:27:54] WARNING: not removing hydrogen atom without neighbors\n",
      "RDKit ERROR: [16:27:54] Explicit valence for atom # 7 Cl, 3, is greater than permitted\n",
      "RDKit ERROR: [16:27:54] Explicit valence for atom # 27 Cl, 3, is greater than permitted\n",
      "100%|█████████▉| 997445/1000000 [01:58<00:00, 8725.52it/s]RDKit WARNING: [16:27:54] WARNING: not removing hydrogen atom without neighbors\n",
      "RDKit ERROR: [16:27:54] Explicit valence for atom # 9 Br, 3, is greater than permitted\n",
      "100%|█████████▉| 998340/1000000 [01:58<00:00, 8783.77it/s]RDKit WARNING: [16:27:54] WARNING: not removing hydrogen atom without neighbors\n",
      "100%|█████████▉| 999220/1000000 [01:58<00:00, 8634.08it/s]RDKit ERROR: [16:27:54] Explicit valence for atom # 12 Cl, 3, is greater than permitted\n",
      "RDKit WARNING: [16:27:54] WARNING: not removing hydrogen atom without neighbors\n",
      "RDKit WARNING: [16:27:54] WARNING: not removing hydrogen atom without neighbors\n",
      "100%|██████████| 1000000/1000000 [01:58<00:00, 8425.82it/s]\n"
     ]
    }
   ],
   "source": [
    "smiles_list = list()\n",
    "\n",
    "with open('CID-SMILES', 'r') as smiles:\n",
    "    extra_data = smiles.read()\n",
    "extra_data = extra_data.split('\\n')\n",
    "extra_data = shuffle(extra_data)\n",
    "#shuffled extra_data\n",
    "\n",
    "for line in tqdm(extra_data[:1000000]):\n",
    "    image_id, smiles = line.split('\\t')\n",
    "    m = Chem.MolFromSmiles(smiles)\n",
    "    if m != None:    \n",
    "        smiles_list.append(smiles) #shuffled extra_data in smiles_list\n",
    "        \n",
    "smiles_list = np.array(smiles_list) #convert list to np.array"
   ]
  },
  {
   "cell_type": "code",
   "execution_count": 5,
   "metadata": {},
   "outputs": [
    {
     "data": {
      "text/plain": [
       "(999325,)"
      ]
     },
     "execution_count": 5,
     "metadata": {},
     "output_type": "execute_result"
    }
   ],
   "source": [
    "smiles_list.shape"
   ]
  },
  {
   "cell_type": "code",
   "execution_count": 6,
   "metadata": {},
   "outputs": [
    {
     "name": "stderr",
     "output_type": "stream",
     "text": [
      "100%|██████████| 908765/908765 [00:00<00:00, 2267926.88it/s]\n"
     ]
    }
   ],
   "source": [
    "with open('train.csv', 'r') as train_smiles:\n",
    "    data = train_smiles.read()\n",
    "\n",
    "train_list = list()\n",
    "    \n",
    "for line in tqdm(data.split('\\n')[1:-1]):\n",
    "    image_id, smiles = line.split(',')\n",
    "    train_list.append(smiles)\n",
    "    \n",
    "train_list = np.array(train_list)"
   ]
  },
  {
   "cell_type": "code",
   "execution_count": 7,
   "metadata": {},
   "outputs": [],
   "source": [
    "train_list = np.union1d(train_list, smiles_list) #train_list + smiles_list"
   ]
  },
  {
   "cell_type": "code",
   "execution_count": 8,
   "metadata": {},
   "outputs": [
    {
     "data": {
      "text/plain": [
       "array(['CS(=CC1=CC(=C(C=C1)F)F)(=O)O',\n",
       "       'c1ccc(CN2CCN(Cc3ccccc3)C2c2cccs2)cc1',\n",
       "       'OC(CC(CC(O)(C(F)(F)Cl)C(F)(F)Cl)=NNc1ccccc1)(C(F)(F)Cl)C(F)(F)Cl',\n",
       "       ..., 'CC(C)CNC(=O)Nc1cc(=O)n(C)c(=O)n1C',\n",
       "       'Cc1c(OC(=O)C2CCCCC2)ccc2c3c(c(=O)oc12)CCCC3',\n",
       "       'CCCCOc1c(OC)cccc1C(=O)OCCN(C)C.CI'], dtype='<U1341')"
      ]
     },
     "execution_count": 8,
     "metadata": {},
     "output_type": "execute_result"
    }
   ],
   "source": [
    "train_list = shuffle(train_list)\n",
    "train_list"
   ]
  },
  {
   "cell_type": "code",
   "execution_count": 9,
   "metadata": {},
   "outputs": [
    {
     "name": "stderr",
     "output_type": "stream",
     "text": [
      "1907741it [00:05, 340001.32it/s]\n"
     ]
    }
   ],
   "source": [
    "smiles_dict = {'SMILES':[]}\n",
    "for smiles in tqdm(enumerate(train_list)):\n",
    "    smiles = smiles[1]\n",
    "    smiles_dict['SMILES'].append(smiles)"
   ]
  },
  {
   "cell_type": "code",
   "execution_count": 10,
   "metadata": {},
   "outputs": [],
   "source": [
    "train = pd.DataFrame(smiles_dict)"
   ]
  },
  {
   "cell_type": "code",
   "execution_count": 20,
   "metadata": {},
   "outputs": [],
   "source": [
    "train = train[train['SMILES'].str.len() <= 70]\n",
    "train.index = range(train.shape[0])"
   ]
  },
  {
   "cell_type": "code",
   "execution_count": 21,
   "metadata": {},
   "outputs": [
    {
     "name": "stderr",
     "output_type": "stream",
     "text": [
      "/home/toc/anaconda3/envs/dacon/lib/python3.7/site-packages/ipykernel_launcher.py:1: SettingWithCopyWarning: \n",
      "A value is trying to be set on a copy of a slice from a DataFrame.\n",
      "Try using .loc[row_indexer,col_indexer] = value instead\n",
      "\n",
      "See the caveats in the documentation: https://pandas.pydata.org/pandas-docs/stable/user_guide/indexing.html#returning-a-view-versus-a-copy\n",
      "  \"\"\"Entry point for launching an IPython kernel.\n"
     ]
    },
    {
     "data": {
      "text/html": [
       "<div>\n",
       "<style scoped>\n",
       "    .dataframe tbody tr th:only-of-type {\n",
       "        vertical-align: middle;\n",
       "    }\n",
       "\n",
       "    .dataframe tbody tr th {\n",
       "        vertical-align: top;\n",
       "    }\n",
       "\n",
       "    .dataframe thead th {\n",
       "        text-align: right;\n",
       "    }\n",
       "</style>\n",
       "<table border=\"1\" class=\"dataframe\">\n",
       "  <thead>\n",
       "    <tr style=\"text-align: right;\">\n",
       "      <th></th>\n",
       "      <th>file_name</th>\n",
       "      <th>SMILES</th>\n",
       "    </tr>\n",
       "  </thead>\n",
       "  <tbody>\n",
       "    <tr>\n",
       "      <th>0</th>\n",
       "      <td>train_0.png</td>\n",
       "      <td>CS(=CC1=CC(=C(C=C1)F)F)(=O)O</td>\n",
       "    </tr>\n",
       "    <tr>\n",
       "      <th>1</th>\n",
       "      <td>train_1.png</td>\n",
       "      <td>c1ccc(CN2CCN(Cc3ccccc3)C2c2cccs2)cc1</td>\n",
       "    </tr>\n",
       "    <tr>\n",
       "      <th>2</th>\n",
       "      <td>train_2.png</td>\n",
       "      <td>OC(CC(CC(O)(C(F)(F)Cl)C(F)(F)Cl)=NNc1ccccc1)(C...</td>\n",
       "    </tr>\n",
       "    <tr>\n",
       "      <th>3</th>\n",
       "      <td>train_3.png</td>\n",
       "      <td>C=CCOC1=CC=CC(=C1)C2=NN3C=CC4=CC=CC=C4C3=C2</td>\n",
       "    </tr>\n",
       "    <tr>\n",
       "      <th>4</th>\n",
       "      <td>train_4.png</td>\n",
       "      <td>C1=CC(=C(C=C1C=CC(=O)NC2=NC3=C(O2)C=CC(=C3)Cl)...</td>\n",
       "    </tr>\n",
       "    <tr>\n",
       "      <th>...</th>\n",
       "      <td>...</td>\n",
       "      <td>...</td>\n",
       "    </tr>\n",
       "    <tr>\n",
       "      <th>1753731</th>\n",
       "      <td>train_1753731.png</td>\n",
       "      <td>CCOC(=O)c1[nH]c2ccc(OC)cc2c1NC(=O)CN1CCOCC1</td>\n",
       "    </tr>\n",
       "    <tr>\n",
       "      <th>1753732</th>\n",
       "      <td>train_1753732.png</td>\n",
       "      <td>COC1=CC=CC=C1N2CCN(CC2)C(=O)[C@H](CO)NC(=O)C(=...</td>\n",
       "    </tr>\n",
       "    <tr>\n",
       "      <th>1753733</th>\n",
       "      <td>train_1753733.png</td>\n",
       "      <td>CC(C)CNC(=O)Nc1cc(=O)n(C)c(=O)n1C</td>\n",
       "    </tr>\n",
       "    <tr>\n",
       "      <th>1753734</th>\n",
       "      <td>train_1753734.png</td>\n",
       "      <td>Cc1c(OC(=O)C2CCCCC2)ccc2c3c(c(=O)oc12)CCCC3</td>\n",
       "    </tr>\n",
       "    <tr>\n",
       "      <th>1753735</th>\n",
       "      <td>train_1753735.png</td>\n",
       "      <td>CCCCOc1c(OC)cccc1C(=O)OCCN(C)C.CI</td>\n",
       "    </tr>\n",
       "  </tbody>\n",
       "</table>\n",
       "<p>1753736 rows × 2 columns</p>\n",
       "</div>"
      ],
      "text/plain": [
       "                 file_name                                             SMILES\n",
       "0              train_0.png                       CS(=CC1=CC(=C(C=C1)F)F)(=O)O\n",
       "1              train_1.png               c1ccc(CN2CCN(Cc3ccccc3)C2c2cccs2)cc1\n",
       "2              train_2.png  OC(CC(CC(O)(C(F)(F)Cl)C(F)(F)Cl)=NNc1ccccc1)(C...\n",
       "3              train_3.png        C=CCOC1=CC=CC(=C1)C2=NN3C=CC4=CC=CC=C4C3=C2\n",
       "4              train_4.png  C1=CC(=C(C=C1C=CC(=O)NC2=NC3=C(O2)C=CC(=C3)Cl)...\n",
       "...                    ...                                                ...\n",
       "1753731  train_1753731.png        CCOC(=O)c1[nH]c2ccc(OC)cc2c1NC(=O)CN1CCOCC1\n",
       "1753732  train_1753732.png  COC1=CC=CC=C1N2CCN(CC2)C(=O)[C@H](CO)NC(=O)C(=...\n",
       "1753733  train_1753733.png                  CC(C)CNC(=O)Nc1cc(=O)n(C)c(=O)n1C\n",
       "1753734  train_1753734.png        Cc1c(OC(=O)C2CCCCC2)ccc2c3c(c(=O)oc12)CCCC3\n",
       "1753735  train_1753735.png                  CCCCOc1c(OC)cccc1C(=O)OCCN(C)C.CI\n",
       "\n",
       "[1753736 rows x 2 columns]"
      ]
     },
     "execution_count": 21,
     "metadata": {},
     "output_type": "execute_result"
    }
   ],
   "source": [
    "train['file_name'] = 'train_' + train.index.astype('str') + '.png'\n",
    "train = train[['file_name', 'SMILES']]\n",
    "train"
   ]
  },
  {
   "cell_type": "code",
   "execution_count": 24,
   "metadata": {},
   "outputs": [],
   "source": [
    "if not (os.path.isdir('extra_train(2)')): #train dir이 없다면 train dir 생성\n",
    "    os.makedirs(os.path.join('extra_train(2)'))"
   ]
  },
  {
   "cell_type": "code",
   "execution_count": 25,
   "metadata": {},
   "outputs": [],
   "source": [
    "path = './extra_train(2)/'"
   ]
  },
  {
   "cell_type": "code",
   "execution_count": 26,
   "metadata": {},
   "outputs": [
    {
     "name": "stderr",
     "output_type": "stream",
     "text": [
      "96it [00:00, 153.66it/s]RDKit WARNING: [00:03:59] WARNING: not removing hydrogen atom without neighbors\n",
      "881it [00:05, 154.10it/s]RDKit WARNING: [00:04:04] WARNING: not removing hydrogen atom without neighbors\n",
      "3233it [00:20, 157.81it/s]RDKit WARNING: [00:04:19] WARNING: not removing hydrogen atom without neighbors\n",
      "3249it [00:20, 157.79it/s]RDKit WARNING: [00:04:19] WARNING: not removing hydrogen atom without neighbors\n",
      "4134it [00:26, 154.28it/s]RDKit WARNING: [00:04:25] WARNING: not removing hydrogen atom without neighbors\n",
      "7008it [00:45, 151.94it/s]RDKit WARNING: [00:04:43] WARNING: not removing hydrogen atom without neighbors\n",
      "8470it [00:54, 155.94it/s]RDKit WARNING: [00:04:53] WARNING: not removing hydrogen atom without neighbors\n",
      "10640it [01:08, 153.64it/s]RDKit WARNING: [00:05:07] WARNING: not removing hydrogen atom without neighbors\n",
      "11717it [01:15, 157.09it/s]RDKit WARNING: [00:05:14] WARNING: not removing hydrogen atom without neighbors\n",
      "11878it [01:16, 148.52it/s]RDKit WARNING: [00:05:15] WARNING: not removing hydrogen atom without neighbors\n",
      "13293it [01:25, 154.58it/s]RDKit WARNING: [00:05:24] WARNING: not removing hydrogen atom without neighbors\n",
      "14126it [01:31, 153.98it/s]RDKit WARNING: [00:05:29] WARNING: not removing hydrogen atom without neighbors\n",
      "15200it [01:38, 153.69it/s]RDKit WARNING: [00:05:36] WARNING: not removing hydrogen atom without neighbors\n",
      "16594it [01:47, 153.93it/s]RDKit WARNING: [00:05:45] WARNING: not removing hydrogen atom without neighbors\n",
      "16643it [01:47, 155.96it/s]RDKit WARNING: [00:05:46] WARNING: not removing hydrogen atom without neighbors\n",
      "17750it [01:54, 155.58it/s]RDKit WARNING: [00:05:53] WARNING: not removing hydrogen atom without neighbors\n",
      "24271it [02:36, 151.70it/s]RDKit WARNING: [00:06:35] WARNING: not removing hydrogen atom without neighbors\n",
      "25282it [02:43, 154.55it/s]RDKit WARNING: [00:06:42] WARNING: not removing hydrogen atom without neighbors\n",
      "29322it [03:09, 153.20it/s]RDKit WARNING: [00:07:08] WARNING: not removing hydrogen atom without neighbors\n",
      "29805it [03:12, 153.09it/s]RDKit WARNING: [00:07:11] WARNING: not removing hydrogen atom without neighbors\n",
      "30351it [03:16, 155.13it/s]RDKit WARNING: [00:07:14] WARNING: not removing hydrogen atom without neighbors\n",
      "RDKit WARNING: [00:07:14] WARNING: not removing hydrogen atom without neighbors\n",
      "31008it [03:20, 154.15it/s]RDKit WARNING: [00:07:19] WARNING: not removing hydrogen atom without neighbors\n",
      "RDKit WARNING: [00:07:19] WARNING: not removing hydrogen atom without neighbors\n",
      "34379it [03:42, 153.70it/s]RDKit WARNING: [00:07:40] WARNING: not removing hydrogen atom without neighbors\n",
      "37089it [03:59, 156.34it/s]RDKit WARNING: [00:07:58] WARNING: not removing hydrogen atom without neighbors\n",
      "37974it [04:05, 155.97it/s]RDKit WARNING: [00:08:04] WARNING: not removing hydrogen atom without neighbors\n",
      "39242it [04:13, 156.51it/s]RDKit WARNING: [00:08:12] WARNING: not removing hydrogen atom without neighbors\n",
      "RDKit WARNING: [00:08:12] WARNING: not removing hydrogen atom without neighbors\n",
      "39629it [04:16, 152.38it/s]RDKit WARNING: [00:08:14] WARNING: not removing hydrogen atom without neighbors\n",
      "42164it [04:32, 153.05it/s]RDKit WARNING: [00:08:31] WARNING: not removing hydrogen atom without neighbors\n",
      "RDKit WARNING: [00:08:31] WARNING: not removing hydrogen atom without neighbors\n",
      "RDKit WARNING: [00:08:31] WARNING: not removing hydrogen atom without neighbors\n",
      "43015it [04:37, 156.82it/s]RDKit WARNING: [00:08:36] WARNING: not removing hydrogen atom without neighbors\n",
      "45020it [04:50, 153.50it/s]RDKit WARNING: [00:08:49] WARNING: not removing hydrogen atom without neighbors\n",
      "45196it [04:52, 153.28it/s]RDKit WARNING: [00:08:50] WARNING: not removing hydrogen atom without neighbors\n",
      "46607it [05:01, 155.56it/s]RDKit WARNING: [00:08:59] WARNING: not removing hydrogen atom without neighbors\n",
      "47701it [05:08, 154.03it/s]RDKit WARNING: [00:09:06] WARNING: not removing hydrogen atom without neighbors\n",
      "49399it [05:19, 155.42it/s]RDKit WARNING: [00:09:17] WARNING: not removing hydrogen atom without neighbors\n",
      "RDKit WARNING: [00:09:17] WARNING: not removing hydrogen atom without neighbors\n",
      "49719it [05:21, 155.54it/s]RDKit WARNING: [00:09:19] WARNING: not removing hydrogen atom without neighbors\n",
      "52414it [05:38, 154.18it/s]RDKit WARNING: [00:09:37] WARNING: not removing hydrogen atom without neighbors\n",
      "56938it [06:08, 154.46it/s]RDKit WARNING: [00:10:06] WARNING: not removing hydrogen atom without neighbors\n",
      "59125it [06:22, 155.47it/s]RDKit WARNING: [00:10:20] WARNING: not removing hydrogen atom without neighbors\n",
      "RDKit WARNING: [00:10:20] WARNING: not removing hydrogen atom without neighbors\n",
      "59927it [06:27, 153.68it/s]RDKit WARNING: [00:10:26] WARNING: not removing hydrogen atom without neighbors\n",
      "60635it [06:31, 155.15it/s]RDKit WARNING: [00:10:30] WARNING: not removing hydrogen atom without neighbors\n",
      "60940it [06:33, 154.52it/s]RDKit WARNING: [00:10:32] WARNING: not removing hydrogen atom without neighbors\n",
      "62497it [06:44, 154.05it/s]RDKit WARNING: [00:10:42] WARNING: not removing hydrogen atom without neighbors\n",
      "63127it [06:48, 157.37it/s]RDKit WARNING: [00:10:46] WARNING: not removing hydrogen atom without neighbors\n",
      "RDKit WARNING: [00:10:46] WARNING: not removing hydrogen atom without neighbors\n",
      "64107it [06:54, 153.73it/s]RDKit WARNING: [00:10:53] WARNING: not removing hydrogen atom without neighbors\n",
      "RDKit WARNING: [00:10:53] WARNING: not removing hydrogen atom without neighbors\n",
      "67325it [07:15, 157.29it/s]RDKit WARNING: [00:11:13] WARNING: not removing hydrogen atom without neighbors\n",
      "69498it [07:29, 154.85it/s]RDKit WARNING: [00:11:27] WARNING: not removing hydrogen atom without neighbors\n",
      "69530it [07:29, 156.03it/s]RDKit WARNING: [00:11:27] WARNING: not removing hydrogen atom without neighbors\n",
      "72737it [07:49, 156.80it/s]RDKit WARNING: [00:11:48] WARNING: not removing hydrogen atom without neighbors\n",
      "78561it [08:27, 158.15it/s]RDKit WARNING: [00:12:26] WARNING: not removing hydrogen atom without neighbors\n",
      "RDKit WARNING: [00:12:26] WARNING: not removing hydrogen atom without neighbors\n",
      "79170it [08:31, 157.40it/s]RDKit WARNING: [00:12:30] WARNING: not removing hydrogen atom without neighbors\n",
      "RDKit WARNING: [00:12:30] WARNING: not removing hydrogen atom without neighbors\n",
      "RDKit WARNING: [00:12:30] WARNING: not removing hydrogen atom without neighbors\n",
      "80669it [08:40, 155.10it/s]RDKit WARNING: [00:12:39] WARNING: not removing hydrogen atom without neighbors\n",
      "81038it [08:43, 152.83it/s]RDKit WARNING: [00:12:41] WARNING: not removing hydrogen atom without neighbors\n",
      "RDKit WARNING: [00:12:41] WARNING: not removing hydrogen atom without neighbors\n",
      "81616it [08:47, 157.44it/s]RDKit WARNING: [00:12:45] WARNING: not removing hydrogen atom without neighbors\n",
      "82243it [08:51, 154.86it/s]RDKit WARNING: [00:12:49] WARNING: not removing hydrogen atom without neighbors\n",
      "83418it [08:58, 155.97it/s]RDKit WARNING: [00:12:57] WARNING: not removing hydrogen atom without neighbors\n",
      "85103it [09:09, 155.49it/s]RDKit WARNING: [00:13:08] WARNING: not removing hydrogen atom without neighbors\n",
      "85905it [09:14, 152.95it/s]RDKit WARNING: [00:13:13] WARNING: not removing hydrogen atom without neighbors\n",
      "87015it [09:21, 157.27it/s]RDKit WARNING: [00:13:20] WARNING: not removing hydrogen atom without neighbors\n",
      "89044it [09:34, 159.87it/s]RDKit WARNING: [00:13:33] WARNING: not removing hydrogen atom without neighbors\n",
      "91066it [09:47, 154.10it/s]RDKit WARNING: [00:13:46] WARNING: not removing hydrogen atom without neighbors\n",
      "91768it [09:51, 154.68it/s]RDKit WARNING: [00:13:50] WARNING: not removing hydrogen atom without neighbors\n",
      "92458it [09:56, 155.08it/s]RDKit WARNING: [00:13:55] WARNING: not removing hydrogen atom without neighbors\n",
      "93981it [10:06, 155.02it/s]RDKit WARNING: [00:14:05] WARNING: not removing hydrogen atom without neighbors\n",
      "94446it [10:09, 154.29it/s]RDKit WARNING: [00:14:07] WARNING: not removing hydrogen atom without neighbors\n",
      "96369it [10:21, 154.63it/s]RDKit WARNING: [00:14:20] WARNING: not removing hydrogen atom without neighbors\n",
      "97476it [10:28, 145.81it/s]RDKit WARNING: [00:14:27] WARNING: not removing hydrogen atom without neighbors\n",
      "106020it [11:24, 152.87it/s]RDKit WARNING: [00:15:22] WARNING: not removing hydrogen atom without neighbors\n",
      "107722it [11:35, 152.90it/s]RDKit WARNING: [00:15:33] WARNING: not removing hydrogen atom without neighbors\n",
      "113808it [12:14, 154.89it/s]RDKit WARNING: [00:16:13] WARNING: not removing hydrogen atom without neighbors\n",
      "118066it [12:42, 156.16it/s]RDKit WARNING: [00:16:40] WARNING: not removing hydrogen atom without neighbors\n",
      "120703it [12:59, 149.74it/s]RDKit WARNING: [00:16:57] WARNING: not removing hydrogen atom without neighbors\n",
      "RDKit WARNING: [00:16:57] WARNING: not removing hydrogen atom without neighbors\n",
      "123501it [13:17, 157.58it/s]RDKit WARNING: [00:17:15] WARNING: not removing hydrogen atom without neighbors\n",
      "124419it [13:22, 156.03it/s]RDKit WARNING: [00:17:21] WARNING: not removing hydrogen atom without neighbors\n",
      "124562it [13:23, 152.28it/s]RDKit WARNING: [00:17:22] WARNING: not removing hydrogen atom without neighbors\n",
      "125045it [13:27, 152.35it/s]RDKit WARNING: [00:17:25] WARNING: not removing hydrogen atom without neighbors\n",
      "125526it [13:30, 154.68it/s]RDKit WARNING: [00:17:28] WARNING: not removing hydrogen atom without neighbors\n",
      "128121it [13:46, 154.63it/s]RDKit WARNING: [00:17:45] WARNING: not removing hydrogen atom without neighbors\n",
      "129851it [13:58, 156.34it/s]RDKit WARNING: [00:17:56] WARNING: not removing hydrogen atom without neighbors\n",
      "132390it [14:14, 154.96it/s]RDKit WARNING: [00:18:13] WARNING: not removing hydrogen atom without neighbors\n",
      "132599it [14:15, 153.35it/s]RDKit WARNING: [00:18:14] WARNING: not removing hydrogen atom without neighbors\n",
      "136167it [14:38, 155.55it/s]RDKit WARNING: [00:18:37] WARNING: not removing hydrogen atom without neighbors\n",
      "139117it [14:58, 154.50it/s]RDKit WARNING: [00:18:56] WARNING: not removing hydrogen atom without neighbors\n",
      "140693it [15:08, 154.60it/s]RDKit WARNING: [00:19:06] WARNING: not removing hydrogen atom without neighbors\n",
      "141015it [15:10, 155.93it/s]RDKit WARNING: [00:19:08] WARNING: not removing hydrogen atom without neighbors\n",
      "142265it [15:18, 157.11it/s]RDKit WARNING: [00:19:17] WARNING: not removing hydrogen atom without neighbors\n",
      "142378it [15:19, 156.96it/s]RDKit WARNING: [00:19:17] WARNING: not removing hydrogen atom without neighbors\n",
      "146199it [15:43, 154.58it/s]RDKit WARNING: [00:19:42] WARNING: not removing hydrogen atom without neighbors\n",
      "149469it [16:04, 156.49it/s]RDKit WARNING: [00:20:03] WARNING: not removing hydrogen atom without neighbors\n",
      "151138it [16:15, 152.70it/s]RDKit WARNING: [00:20:14] WARNING: not removing hydrogen atom without neighbors\n",
      "RDKit WARNING: [00:20:14] WARNING: not removing hydrogen atom without neighbors\n",
      "151411it [16:17, 156.84it/s]RDKit WARNING: [00:20:16] WARNING: not removing hydrogen atom without neighbors\n",
      "153431it [16:30, 154.24it/s]RDKit WARNING: [00:20:29] WARNING: not removing hydrogen atom without neighbors\n",
      "154248it [16:35, 156.21it/s]RDKit WARNING: [00:20:34] WARNING: not removing hydrogen atom without neighbors\n",
      "155434it [16:43, 154.56it/s]RDKit WARNING: [00:20:42] WARNING: not removing hydrogen atom without neighbors\n",
      "158803it [17:05, 155.28it/s]RDKit WARNING: [00:21:04] WARNING: not removing hydrogen atom without neighbors\n",
      "160182it [17:14, 148.53it/s]RDKit WARNING: [00:21:13] WARNING: not removing hydrogen atom without neighbors\n",
      "RDKit WARNING: [00:21:13] WARNING: not removing hydrogen atom without neighbors\n",
      "160775it [17:18, 155.27it/s]RDKit WARNING: [00:21:16] WARNING: not removing hydrogen atom without neighbors\n",
      "162412it [17:28, 154.95it/s]RDKit WARNING: [00:21:27] WARNING: not removing hydrogen atom without neighbors\n",
      "162540it [17:29, 152.73it/s]RDKit WARNING: [00:21:28] WARNING: not removing hydrogen atom without neighbors\n",
      "163502it [17:35, 153.96it/s]RDKit WARNING: [00:21:34] WARNING: not removing hydrogen atom without neighbors\n",
      "164527it [17:42, 155.64it/s]RDKit WARNING: [00:21:41] WARNING: not removing hydrogen atom without neighbors\n",
      "165522it [17:48, 156.62it/s]RDKit WARNING: [00:21:47] WARNING: not removing hydrogen atom without neighbors\n",
      "RDKit WARNING: [00:21:47] WARNING: not removing hydrogen atom without neighbors\n",
      "165634it [17:49, 153.95it/s]RDKit WARNING: [00:21:48] WARNING: not removing hydrogen atom without neighbors\n",
      "166837it [17:57, 154.98it/s]RDKit WARNING: [00:21:56] WARNING: not removing hydrogen atom without neighbors\n",
      "168423it [18:07, 155.81it/s]RDKit WARNING: [00:22:06] WARNING: not removing hydrogen atom without neighbors\n",
      "168455it [18:07, 154.79it/s]RDKit WARNING: [00:22:06] WARNING: not removing hydrogen atom without neighbors\n",
      "168952it [18:11, 154.51it/s]RDKit WARNING: [00:22:09] WARNING: not removing hydrogen atom without neighbors\n",
      "170731it [18:22, 153.31it/s]RDKit WARNING: [00:22:21] WARNING: not removing hydrogen atom without neighbors\n",
      "171502it [18:27, 153.39it/s]RDKit WARNING: [00:22:26] WARNING: not removing hydrogen atom without neighbors\n",
      "171518it [18:27, 152.74it/s]RDKit WARNING: [00:22:26] WARNING: not removing hydrogen atom without neighbors\n",
      "174713it [18:48, 155.39it/s]RDKit WARNING: [00:22:47] WARNING: not removing hydrogen atom without neighbors\n",
      "175786it [18:55, 155.08it/s]RDKit WARNING: [00:22:54] WARNING: not removing hydrogen atom without neighbors\n",
      "177948it [19:09, 147.98it/s]RDKit WARNING: [00:23:08] WARNING: not removing hydrogen atom without neighbors\n",
      "178140it [19:10, 154.05it/s]RDKit WARNING: [00:23:09] WARNING: not removing hydrogen atom without neighbors\n",
      "179693it [19:20, 155.13it/s]RDKit WARNING: [00:23:19] WARNING: not removing hydrogen atom without neighbors\n",
      "181860it [19:34, 152.40it/s]RDKit WARNING: [00:23:33] WARNING: not removing hydrogen atom without neighbors\n",
      "183770it [19:47, 156.39it/s]RDKit WARNING: [00:23:45] WARNING: not removing hydrogen atom without neighbors\n",
      "186819it [20:07, 155.90it/s]RDKit WARNING: [00:24:05] WARNING: not removing hydrogen atom without neighbors\n",
      "188724it [20:19, 150.28it/s]RDKit WARNING: [00:24:18] WARNING: not removing hydrogen atom without neighbors\n",
      "189396it [20:23, 154.88it/s]RDKit WARNING: [00:24:22] WARNING: not removing hydrogen atom without neighbors\n",
      "190535it [20:31, 154.87it/s]RDKit WARNING: [00:24:29] WARNING: not removing hydrogen atom without neighbors\n",
      "190615it [20:31, 153.81it/s]RDKit WARNING: [00:24:30] WARNING: not removing hydrogen atom without neighbors\n",
      "191354it [20:36, 153.80it/s]RDKit WARNING: [00:24:35] WARNING: not removing hydrogen atom without neighbors\n",
      "RDKit WARNING: [00:24:35] WARNING: not removing hydrogen atom without neighbors\n",
      "195491it [21:03, 155.21it/s]RDKit WARNING: [00:25:02] WARNING: not removing hydrogen atom without neighbors\n",
      "RDKit WARNING: [00:25:02] WARNING: not removing hydrogen atom without neighbors\n",
      "196152it [21:07, 153.56it/s]RDKit WARNING: [00:25:06] WARNING: not removing hydrogen atom without neighbors\n",
      "196877it [21:12, 153.44it/s]RDKit WARNING: [00:25:10] WARNING: not removing hydrogen atom without neighbors\n",
      "197859it [21:18, 155.00it/s]RDKit WARNING: [00:25:17] WARNING: not removing hydrogen atom without neighbors\n",
      "198324it [21:21, 154.80it/s]RDKit WARNING: [00:25:20] WARNING: not removing hydrogen atom without neighbors\n",
      "RDKit WARNING: [00:25:20] WARNING: not removing hydrogen atom without neighbors\n",
      "RDKit WARNING: [00:25:20] WARNING: not removing hydrogen atom without neighbors\n",
      "201359it [21:41, 155.80it/s]RDKit WARNING: [00:25:39] WARNING: not removing hydrogen atom without neighbors\n",
      "202835it [21:50, 156.68it/s]RDKit WARNING: [00:25:49] WARNING: not removing hydrogen atom without neighbors\n",
      "202995it [21:51, 154.94it/s]RDKit WARNING: [00:25:50] WARNING: not removing hydrogen atom without neighbors\n",
      "203431it [21:54, 149.83it/s]RDKit WARNING: [00:25:53] WARNING: not removing hydrogen atom without neighbors\n",
      "203835it [21:57, 156.13it/s]RDKit WARNING: [00:25:55] WARNING: not removing hydrogen atom without neighbors\n",
      "204862it [22:03, 154.94it/s]RDKit WARNING: [00:26:02] WARNING: not removing hydrogen atom without neighbors\n",
      "207766it [22:22, 155.13it/s]RDKit WARNING: [00:26:21] WARNING: not removing hydrogen atom without neighbors\n",
      "209370it [22:32, 155.77it/s]RDKit WARNING: [00:26:31] WARNING: not removing hydrogen atom without neighbors\n",
      "210332it [22:39, 152.92it/s]RDKit WARNING: [00:26:37] WARNING: not removing hydrogen atom without neighbors\n",
      "216046it [23:16, 153.23it/s]RDKit WARNING: [00:27:14] WARNING: not removing hydrogen atom without neighbors\n",
      "217904it [23:28, 154.89it/s]RDKit WARNING: [00:27:26] WARNING: not removing hydrogen atom without neighbors\n",
      "221917it [23:54, 154.42it/s]RDKit WARNING: [00:27:52] WARNING: not removing hydrogen atom without neighbors\n",
      "223553it [24:04, 147.71it/s]RDKit WARNING: [00:28:03] WARNING: not removing hydrogen atom without neighbors\n",
      "224341it [24:09, 150.18it/s]RDKit WARNING: [00:28:08] WARNING: not removing hydrogen atom without neighbors\n",
      "225512it [24:17, 154.73it/s]RDKit WARNING: [00:28:16] WARNING: not removing hydrogen atom without neighbors\n",
      "227035it [24:27, 155.91it/s]RDKit WARNING: [00:28:25] WARNING: not removing hydrogen atom without neighbors\n",
      "228529it [24:36, 154.97it/s]RDKit WARNING: [00:28:35] WARNING: not removing hydrogen atom without neighbors\n",
      "229684it [24:44, 153.79it/s]RDKit WARNING: [00:28:43] WARNING: not removing hydrogen atom without neighbors\n",
      "231322it [24:54, 151.84it/s]RDKit WARNING: [00:28:53] WARNING: not removing hydrogen atom without neighbors\n",
      "232496it [25:02, 155.26it/s]RDKit WARNING: [00:29:01] WARNING: not removing hydrogen atom without neighbors\n",
      "233542it [25:09, 155.09it/s]RDKit WARNING: [00:29:07] WARNING: not removing hydrogen atom without neighbors\n",
      "234714it [25:16, 156.90it/s]RDKit WARNING: [00:29:15] WARNING: not removing hydrogen atom without neighbors\n",
      "235292it [25:20, 153.82it/s]RDKit WARNING: [00:29:19] WARNING: not removing hydrogen atom without neighbors\n",
      "236624it [25:29, 155.22it/s]RDKit WARNING: [00:29:27] WARNING: not removing hydrogen atom without neighbors\n",
      "238018it [25:38, 153.03it/s]RDKit WARNING: [00:29:36] WARNING: not removing hydrogen atom without neighbors\n",
      "238162it [25:39, 156.04it/s]RDKit WARNING: [00:29:37] WARNING: not removing hydrogen atom without neighbors\n",
      "238820it [25:43, 155.13it/s]RDKit WARNING: [00:29:42] WARNING: not removing hydrogen atom without neighbors\n",
      "241102it [25:58, 154.45it/s]RDKit WARNING: [00:29:56] WARNING: not removing hydrogen atom without neighbors\n",
      "241183it [25:58, 154.79it/s]RDKit WARNING: [00:29:57] WARNING: not removing hydrogen atom without neighbors\n",
      "245498it [26:26, 156.13it/s]RDKit WARNING: [00:30:25] WARNING: not removing hydrogen atom without neighbors\n",
      "246686it [26:34, 157.28it/s]RDKit WARNING: [00:30:32] WARNING: not removing hydrogen atom without neighbors\n",
      "247279it [26:37, 155.79it/s]RDKit WARNING: [00:30:36] WARNING: not removing hydrogen atom without neighbors\n",
      "247615it [26:40, 152.07it/s]RDKit WARNING: [00:30:38] WARNING: not removing hydrogen atom without neighbors\n",
      "249287it [26:50, 156.62it/s]RDKit WARNING: [00:30:49] WARNING: not removing hydrogen atom without neighbors\n",
      "249929it [26:55, 152.18it/s]RDKit WARNING: [00:30:53] WARNING: not removing hydrogen atom without neighbors\n",
      "251522it [27:05, 153.97it/s]RDKit WARNING: [00:31:04] WARNING: not removing hydrogen atom without neighbors\n",
      "253238it [27:16, 154.25it/s]RDKit WARNING: [00:31:15] WARNING: not removing hydrogen atom without neighbors\n",
      "253767it [27:19, 149.51it/s]RDKit WARNING: [00:31:18] WARNING: not removing hydrogen atom without neighbors\n",
      "254568it [27:25, 151.57it/s]RDKit WARNING: [00:31:23] WARNING: not removing hydrogen atom without neighbors\n",
      "258403it [27:49, 148.95it/s]RDKit WARNING: [00:31:48] WARNING: not removing hydrogen atom without neighbors\n",
      "258436it [27:50, 152.40it/s]RDKit WARNING: [00:31:48] WARNING: not removing hydrogen atom without neighbors\n",
      "259771it [27:58, 155.86it/s]RDKit WARNING: [00:31:57] WARNING: not removing hydrogen atom without neighbors\n",
      "RDKit WARNING: [00:31:57] WARNING: not removing hydrogen atom without neighbors\n",
      "RDKit WARNING: [00:31:57] WARNING: not removing hydrogen atom without neighbors\n",
      "261536it [28:10, 151.40it/s]RDKit WARNING: [00:32:08] WARNING: not removing hydrogen atom without neighbors\n",
      "262580it [28:16, 153.61it/s]RDKit WARNING: [00:32:15] WARNING: not removing hydrogen atom without neighbors\n",
      "RDKit WARNING: [00:32:15] WARNING: not removing hydrogen atom without neighbors\n",
      "263029it [28:19, 147.00it/s]RDKit WARNING: [00:32:18] WARNING: not removing hydrogen atom without neighbors\n",
      "263157it [28:20, 154.96it/s]RDKit WARNING: [00:32:19] WARNING: not removing hydrogen atom without neighbors\n",
      "264346it [28:28, 153.63it/s]RDKit WARNING: [00:32:27] WARNING: not removing hydrogen atom without neighbors\n",
      "RDKit WARNING: [00:32:27] WARNING: not removing hydrogen atom without neighbors\n",
      "267636it [28:49, 157.79it/s]RDKit WARNING: [00:32:48] WARNING: not removing hydrogen atom without neighbors\n",
      "269641it [29:02, 155.32it/s]RDKit WARNING: [00:33:01] WARNING: not removing hydrogen atom without neighbors\n",
      "270202it [29:06, 155.71it/s]RDKit WARNING: [00:33:04] WARNING: not removing hydrogen atom without neighbors\n",
      "270554it [29:08, 155.39it/s]RDKit WARNING: [00:33:07] WARNING: not removing hydrogen atom without neighbors\n",
      "271165it [29:12, 156.33it/s]RDKit WARNING: [00:33:11] WARNING: not removing hydrogen atom without neighbors\n",
      "272146it [29:18, 156.23it/s]RDKit WARNING: [00:33:17] WARNING: not removing hydrogen atom without neighbors\n",
      "RDKit WARNING: [00:33:17] WARNING: not removing hydrogen atom without neighbors\n",
      "RDKit WARNING: [00:33:17] WARNING: not removing hydrogen atom without neighbors\n",
      "272290it [29:19, 155.83it/s]RDKit WARNING: [00:33:18] WARNING: not removing hydrogen atom without neighbors\n",
      "276750it [29:48, 163.29it/s]RDKit WARNING: [00:33:46] WARNING: not removing hydrogen atom without neighbors\n",
      "279316it [30:04, 159.49it/s]RDKit WARNING: [00:34:02] WARNING: not removing hydrogen atom without neighbors\n",
      "281651it [30:18, 158.41it/s]RDKit WARNING: [00:34:17] WARNING: not removing hydrogen atom without neighbors\n",
      "283850it [30:32, 157.64it/s]RDKit WARNING: [00:34:31] WARNING: not removing hydrogen atom without neighbors\n",
      "289820it [31:10, 156.39it/s]RDKit WARNING: [00:35:08] WARNING: not removing hydrogen atom without neighbors\n",
      "291426it [31:20, 156.37it/s]RDKit WARNING: [00:35:19] WARNING: not removing hydrogen atom without neighbors\n",
      "292276it [31:25, 157.91it/s]RDKit WARNING: [00:35:24] WARNING: not removing hydrogen atom without neighbors\n",
      "RDKit WARNING: [00:35:24] WARNING: not removing hydrogen atom without neighbors\n",
      "294702it [31:40, 157.85it/s]RDKit WARNING: [00:35:39] WARNING: not removing hydrogen atom without neighbors\n",
      "297093it [31:55, 161.31it/s]RDKit WARNING: [00:35:54] WARNING: not removing hydrogen atom without neighbors\n",
      "299164it [32:09, 160.69it/s]RDKit WARNING: [00:36:07] WARNING: not removing hydrogen atom without neighbors\n",
      "299525it [32:11, 158.08it/s]RDKit WARNING: [00:36:09] WARNING: not removing hydrogen atom without neighbors\n",
      "300423it [32:16, 159.23it/s]RDKit WARNING: [00:36:15] WARNING: not removing hydrogen atom without neighbors\n",
      "301559it [32:24, 160.19it/s]RDKit WARNING: [00:36:22] WARNING: not removing hydrogen atom without neighbors\n",
      "RDKit WARNING: [00:36:22] WARNING: not removing hydrogen atom without neighbors\n",
      "RDKit WARNING: [00:36:22] WARNING: not removing hydrogen atom without neighbors\n",
      "303841it [32:38, 160.05it/s]RDKit WARNING: [00:36:37] WARNING: not removing hydrogen atom without neighbors\n",
      "303926it [32:38, 160.32it/s]RDKit WARNING: [00:36:37] WARNING: not removing hydrogen atom without neighbors\n",
      "306951it [32:58, 153.88it/s]RDKit WARNING: [00:36:57] WARNING: not removing hydrogen atom without neighbors\n",
      "308316it [33:07, 154.35it/s]RDKit WARNING: [00:37:06] WARNING: not removing hydrogen atom without neighbors\n",
      "309780it [33:16, 158.31it/s]RDKit WARNING: [00:37:15] WARNING: not removing hydrogen atom without neighbors\n",
      "310294it [33:20, 153.99it/s]RDKit WARNING: [00:37:18] WARNING: not removing hydrogen atom without neighbors\n",
      "311242it [33:26, 155.52it/s]RDKit WARNING: [00:37:24] WARNING: not removing hydrogen atom without neighbors\n",
      "312428it [33:33, 154.83it/s]RDKit WARNING: [00:37:32] WARNING: not removing hydrogen atom without neighbors\n",
      "313168it [33:38, 154.26it/s]RDKit WARNING: [00:37:37] WARNING: not removing hydrogen atom without neighbors\n",
      "314571it [33:47, 153.73it/s]RDKit WARNING: [00:37:46] WARNING: not removing hydrogen atom without neighbors\n",
      "316062it [33:57, 154.89it/s]RDKit WARNING: [00:37:56] WARNING: not removing hydrogen atom without neighbors\n",
      "317456it [34:06, 156.43it/s]RDKit WARNING: [00:38:05] WARNING: not removing hydrogen atom without neighbors\n",
      "318806it [34:15, 155.42it/s]RDKit WARNING: [00:38:13] WARNING: not removing hydrogen atom without neighbors\n",
      "319546it [34:19, 154.22it/s]RDKit WARNING: [00:38:18] WARNING: not removing hydrogen atom without neighbors\n",
      "RDKit WARNING: [00:38:18] WARNING: not removing hydrogen atom without neighbors\n",
      "320718it [34:27, 155.15it/s]RDKit WARNING: [00:38:26] WARNING: not removing hydrogen atom without neighbors\n",
      "321839it [34:34, 153.79it/s]RDKit WARNING: [00:38:33] WARNING: not removing hydrogen atom without neighbors\n",
      "322624it [34:39, 155.19it/s]RDKit WARNING: [00:38:38] WARNING: not removing hydrogen atom without neighbors\n",
      "324211it [34:50, 155.54it/s]RDKit WARNING: [00:38:48] WARNING: not removing hydrogen atom without neighbors\n",
      "329506it [35:24, 155.85it/s]RDKit WARNING: [00:39:23] WARNING: not removing hydrogen atom without neighbors\n",
      "333054it [35:47, 155.82it/s]RDKit WARNING: [00:39:45] WARNING: not removing hydrogen atom without neighbors\n",
      "336657it [36:10, 160.12it/s]RDKit WARNING: [00:40:08] WARNING: not removing hydrogen atom without neighbors\n",
      "338527it [36:21, 157.82it/s]RDKit WARNING: [00:40:20] WARNING: not removing hydrogen atom without neighbors\n",
      "341276it [36:39, 160.53it/s]RDKit WARNING: [00:40:37] WARNING: not removing hydrogen atom without neighbors\n",
      "341723it [36:41, 158.31it/s]RDKit WARNING: [00:40:40] WARNING: not removing hydrogen atom without neighbors\n",
      "342110it [36:44, 160.31it/s]RDKit WARNING: [00:40:43] WARNING: not removing hydrogen atom without neighbors\n",
      "342324it [36:45, 156.64it/s]RDKit WARNING: [00:40:44] WARNING: not removing hydrogen atom without neighbors\n",
      "342862it [36:49, 158.02it/s]RDKit WARNING: [00:40:47] WARNING: not removing hydrogen atom without neighbors\n",
      "343662it [36:54, 159.63it/s]RDKit WARNING: [00:40:52] WARNING: not removing hydrogen atom without neighbors\n",
      "344614it [37:00, 159.28it/s]RDKit WARNING: [00:40:58] WARNING: not removing hydrogen atom without neighbors\n",
      "346829it [37:14, 160.53it/s]RDKit WARNING: [00:41:12] WARNING: not removing hydrogen atom without neighbors\n",
      "347031it [37:15, 161.14it/s]RDKit WARNING: [00:41:14] WARNING: not removing hydrogen atom without neighbors\n",
      "347383it [37:17, 159.05it/s]RDKit WARNING: [00:41:16] WARNING: not removing hydrogen atom without neighbors\n",
      "349065it [37:28, 161.43it/s]RDKit WARNING: [00:41:26] WARNING: not removing hydrogen atom without neighbors\n",
      "349677it [37:31, 158.06it/s]RDKit WARNING: [00:41:30] WARNING: not removing hydrogen atom without neighbors\n",
      "351541it [37:43, 159.54it/s]RDKit WARNING: [00:41:42] WARNING: not removing hydrogen atom without neighbors\n",
      "352615it [37:50, 160.82it/s]RDKit WARNING: [00:41:49] WARNING: not removing hydrogen atom without neighbors\n",
      "353737it [37:57, 160.31it/s]RDKit WARNING: [00:41:56] WARNING: not removing hydrogen atom without neighbors\n",
      "355370it [38:07, 154.62it/s]RDKit WARNING: [00:42:06] WARNING: not removing hydrogen atom without neighbors\n",
      "RDKit WARNING: [00:42:06] WARNING: not removing hydrogen atom without neighbors\n",
      "359561it [38:34, 159.68it/s]RDKit WARNING: [00:42:32] WARNING: not removing hydrogen atom without neighbors\n",
      "360801it [38:41, 159.90it/s]RDKit WARNING: [00:42:40] WARNING: not removing hydrogen atom without neighbors\n",
      "362065it [38:49, 160.97it/s]RDKit WARNING: [00:42:48] WARNING: not removing hydrogen atom without neighbors\n",
      "363975it [39:01, 158.19it/s]RDKit WARNING: [00:43:00] WARNING: not removing hydrogen atom without neighbors\n",
      "365305it [39:10, 146.93it/s]RDKit WARNING: [00:43:09] WARNING: not removing hydrogen atom without neighbors\n",
      "365418it [39:11, 154.63it/s]RDKit WARNING: [00:43:10] WARNING: not removing hydrogen atom without neighbors\n",
      "368018it [39:28, 157.05it/s]RDKit WARNING: [00:43:26] WARNING: not removing hydrogen atom without neighbors\n",
      "369090it [39:35, 154.34it/s]RDKit WARNING: [00:43:33] WARNING: not removing hydrogen atom without neighbors\n",
      "370198it [39:42, 153.57it/s]RDKit WARNING: [00:43:40] WARNING: not removing hydrogen atom without neighbors\n",
      "370263it [39:42, 156.02it/s]RDKit WARNING: [00:43:41] WARNING: not removing hydrogen atom without neighbors\n",
      "374539it [40:10, 159.73it/s]RDKit WARNING: [00:44:09] WARNING: not removing hydrogen atom without neighbors\n",
      "374837it [40:12, 158.09it/s]RDKit WARNING: [00:44:10] WARNING: not removing hydrogen atom without neighbors\n",
      "375331it [40:15, 161.54it/s]RDKit WARNING: [00:44:14] WARNING: not removing hydrogen atom without neighbors\n",
      "RDKit WARNING: [00:44:14] WARNING: not removing hydrogen atom without neighbors\n",
      "RDKit WARNING: [00:44:14] WARNING: not removing hydrogen atom without neighbors\n",
      "375849it [40:18, 159.10it/s]RDKit WARNING: [00:44:17] WARNING: not removing hydrogen atom without neighbors\n",
      "376414it [40:22, 160.47it/s]RDKit WARNING: [00:44:20] WARNING: not removing hydrogen atom without neighbors\n",
      "377408it [40:28, 160.42it/s]RDKit WARNING: [00:44:27] WARNING: not removing hydrogen atom without neighbors\n",
      "380174it [40:45, 158.92it/s]RDKit WARNING: [00:44:44] WARNING: not removing hydrogen atom without neighbors\n",
      "383454it [41:06, 159.81it/s]RDKit WARNING: [00:45:05] WARNING: not removing hydrogen atom without neighbors\n",
      "383640it [41:07, 158.98it/s]RDKit WARNING: [00:45:06] WARNING: not removing hydrogen atom without neighbors\n",
      "383758it [41:08, 162.24it/s]RDKit WARNING: [00:45:06] WARNING: not removing hydrogen atom without neighbors\n",
      "383775it [41:08, 160.36it/s]RDKit WARNING: [00:45:07] WARNING: not removing hydrogen atom without neighbors\n",
      "384437it [41:12, 159.75it/s]RDKit WARNING: [00:45:11] WARNING: not removing hydrogen atom without neighbors\n",
      "387034it [41:29, 155.18it/s]RDKit WARNING: [00:45:27] WARNING: not removing hydrogen atom without neighbors\n",
      "388030it [41:35, 156.44it/s]RDKit WARNING: [00:45:34] WARNING: not removing hydrogen atom without neighbors\n",
      "390244it [41:49, 160.25it/s]RDKit WARNING: [00:45:48] WARNING: not removing hydrogen atom without neighbors\n",
      "RDKit WARNING: [00:45:48] WARNING: not removing hydrogen atom without neighbors\n",
      "391173it [41:55, 159.97it/s]RDKit WARNING: [00:45:54] WARNING: not removing hydrogen atom without neighbors\n",
      "391700it [41:58, 158.20it/s]RDKit WARNING: [00:45:57] WARNING: not removing hydrogen atom without neighbors\n",
      "RDKit WARNING: [00:45:57] WARNING: not removing hydrogen atom without neighbors\n",
      "391732it [41:58, 158.33it/s]RDKit WARNING: [00:45:57] WARNING: not removing hydrogen atom without neighbors\n",
      "393361it [42:09, 159.76it/s]RDKit WARNING: [00:46:07] WARNING: not removing hydrogen atom without neighbors\n",
      "395047it [42:19, 161.34it/s]RDKit WARNING: [00:46:18] WARNING: not removing hydrogen atom without neighbors\n",
      "398033it [42:38, 161.47it/s]RDKit WARNING: [00:46:37] WARNING: not removing hydrogen atom without neighbors\n",
      "398460it [42:41, 156.74it/s]RDKit WARNING: [00:46:39] WARNING: not removing hydrogen atom without neighbors\n",
      "399990it [42:50, 153.94it/s]RDKit WARNING: [00:46:49] WARNING: not removing hydrogen atom without neighbors\n",
      "403542it [43:13, 158.35it/s]RDKit WARNING: [00:47:11] WARNING: not removing hydrogen atom without neighbors\n",
      "405202it [43:23, 158.06it/s]RDKit WARNING: [00:47:22] WARNING: not removing hydrogen atom without neighbors\n",
      "406308it [43:30, 160.29it/s]RDKit WARNING: [00:47:29] WARNING: not removing hydrogen atom without neighbors\n",
      "408226it [43:42, 154.79it/s]RDKit WARNING: [00:47:41] WARNING: not removing hydrogen atom without neighbors\n",
      "409768it [43:52, 155.88it/s]RDKit WARNING: [00:47:51] WARNING: not removing hydrogen atom without neighbors\n",
      "RDKit WARNING: [00:47:51] WARNING: not removing hydrogen atom without neighbors\n",
      "410622it [43:58, 156.24it/s]RDKit WARNING: [00:47:56] WARNING: not removing hydrogen atom without neighbors\n",
      "411665it [44:05, 156.87it/s]RDKit WARNING: [00:48:03] WARNING: not removing hydrogen atom without neighbors\n",
      "412866it [44:12, 155.35it/s]RDKit WARNING: [00:48:11] WARNING: not removing hydrogen atom without neighbors\n",
      "414647it [44:24, 159.26it/s]RDKit WARNING: [00:48:22] WARNING: not removing hydrogen atom without neighbors\n",
      "421464it [45:07, 155.64it/s]RDKit WARNING: [00:49:05] WARNING: not removing hydrogen atom without neighbors\n",
      "423055it [45:17, 157.79it/s]RDKit WARNING: [00:49:16] WARNING: not removing hydrogen atom without neighbors\n",
      "423504it [45:20, 154.19it/s]RDKit WARNING: [00:49:18] WARNING: not removing hydrogen atom without neighbors\n",
      "427422it [45:45, 161.67it/s]RDKit WARNING: [00:49:43] WARNING: not removing hydrogen atom without neighbors\n",
      "430262it [46:02, 159.17it/s]RDKit WARNING: [00:50:01] WARNING: not removing hydrogen atom without neighbors\n",
      "430441it [46:04, 157.96it/s]RDKit WARNING: [00:50:02] WARNING: not removing hydrogen atom without neighbors\n",
      "431079it [46:08, 159.20it/s]RDKit WARNING: [00:50:06] WARNING: not removing hydrogen atom without neighbors\n",
      "431846it [46:12, 160.76it/s]RDKit WARNING: [00:50:11] WARNING: not removing hydrogen atom without neighbors\n",
      "433064it [46:20, 159.09it/s]RDKit WARNING: [00:50:19] WARNING: not removing hydrogen atom without neighbors\n",
      "433880it [46:25, 158.39it/s]RDKit WARNING: [00:50:24] WARNING: not removing hydrogen atom without neighbors\n",
      "434028it [46:26, 158.60it/s]RDKit WARNING: [00:50:25] WARNING: not removing hydrogen atom without neighbors\n",
      "RDKit WARNING: [00:50:25] WARNING: not removing hydrogen atom without neighbors\n",
      "436591it [46:42, 153.26it/s]RDKit WARNING: [00:50:41] WARNING: not removing hydrogen atom without neighbors\n",
      "437105it [46:46, 152.18it/s]RDKit WARNING: [00:50:45] WARNING: not removing hydrogen atom without neighbors\n",
      "440870it [47:10, 154.15it/s]RDKit WARNING: [00:51:09] WARNING: not removing hydrogen atom without neighbors\n",
      "441255it [47:13, 154.27it/s]RDKit WARNING: [00:51:11] WARNING: not removing hydrogen atom without neighbors\n",
      "442913it [47:23, 155.61it/s]RDKit WARNING: [00:51:22] WARNING: not removing hydrogen atom without neighbors\n",
      "RDKit WARNING: [00:51:22] WARNING: not removing hydrogen atom without neighbors\n",
      "444166it [47:32, 155.24it/s]RDKit WARNING: [00:51:30] WARNING: not removing hydrogen atom without neighbors\n",
      "451527it [48:18, 159.05it/s]RDKit WARNING: [00:52:17] WARNING: not removing hydrogen atom without neighbors\n",
      "451860it [48:20, 159.50it/s]RDKit WARNING: [00:52:19] WARNING: not removing hydrogen atom without neighbors\n",
      "451959it [48:21, 159.27it/s]RDKit WARNING: [00:52:20] WARNING: not removing hydrogen atom without neighbors\n",
      "452176it [48:22, 159.64it/s]RDKit WARNING: [00:52:21] WARNING: not removing hydrogen atom without neighbors\n",
      "452992it [48:28, 159.14it/s]RDKit WARNING: [00:52:26] WARNING: not removing hydrogen atom without neighbors\n",
      "453726it [48:32, 158.27it/s]RDKit WARNING: [00:52:31] WARNING: not removing hydrogen atom without neighbors\n",
      "RDKit WARNING: [00:52:31] WARNING: not removing hydrogen atom without neighbors\n",
      "453791it [48:33, 158.72it/s]RDKit WARNING: [00:52:31] WARNING: not removing hydrogen atom without neighbors\n",
      "454833it [48:39, 156.33it/s]RDKit WARNING: [00:52:38] WARNING: not removing hydrogen atom without neighbors\n",
      "457511it [48:57, 154.63it/s]RDKit WARNING: [00:52:55] WARNING: not removing hydrogen atom without neighbors\n",
      "458056it [49:00, 151.77it/s]RDKit WARNING: [00:52:59] WARNING: not removing hydrogen atom without neighbors\n",
      "458954it [49:06, 152.52it/s]RDKit WARNING: [00:53:05] WARNING: not removing hydrogen atom without neighbors\n",
      "460814it [49:18, 158.39it/s]RDKit WARNING: [00:53:16] WARNING: not removing hydrogen atom without neighbors\n",
      "463521it [49:35, 159.78it/s]RDKit WARNING: [00:53:33] WARNING: not removing hydrogen atom without neighbors\n",
      "465090it [49:45, 160.84it/s]RDKit WARNING: [00:53:43] WARNING: not removing hydrogen atom without neighbors\n",
      "465305it [49:46, 157.26it/s]RDKit WARNING: [00:53:45] WARNING: not removing hydrogen atom without neighbors\n",
      "465620it [49:48, 157.99it/s]RDKit WARNING: [00:53:47] WARNING: not removing hydrogen atom without neighbors\n",
      "466037it [49:51, 155.77it/s]RDKit WARNING: [00:53:49] WARNING: not removing hydrogen atom without neighbors\n",
      "466319it [49:52, 158.13it/s]RDKit WARNING: [00:53:51] WARNING: not removing hydrogen atom without neighbors\n",
      "467087it [49:57, 158.60it/s]RDKit WARNING: [00:53:56] WARNING: not removing hydrogen atom without neighbors\n",
      "467186it [49:58, 159.40it/s]RDKit WARNING: [00:53:57] WARNING: not removing hydrogen atom without neighbors\n",
      "467287it [49:59, 159.68it/s]RDKit WARNING: [00:53:57] WARNING: not removing hydrogen atom without neighbors\n",
      "468344it [50:05, 160.83it/s]RDKit WARNING: [00:54:04] WARNING: not removing hydrogen atom without neighbors\n",
      "471699it [50:26, 158.71it/s]RDKit WARNING: [00:54:25] WARNING: not removing hydrogen atom without neighbors\n",
      "471834it [50:27, 155.70it/s]RDKit WARNING: [00:54:26] WARNING: not removing hydrogen atom without neighbors\n",
      "472017it [50:28, 159.79it/s]RDKit WARNING: [00:54:27] WARNING: not removing hydrogen atom without neighbors\n",
      "472260it [50:30, 158.64it/s]RDKit WARNING: [00:54:29] WARNING: not removing hydrogen atom without neighbors\n",
      "473963it [50:41, 158.61it/s]RDKit WARNING: [00:54:39] WARNING: not removing hydrogen atom without neighbors\n",
      "RDKit WARNING: [00:54:39] WARNING: not removing hydrogen atom without neighbors\n",
      "479651it [51:17, 160.36it/s]RDKit WARNING: [00:55:16] WARNING: not removing hydrogen atom without neighbors\n",
      "480198it [51:21, 150.75it/s]RDKit WARNING: [00:55:19] WARNING: not removing hydrogen atom without neighbors\n",
      "480299it [51:21, 159.17it/s]RDKit WARNING: [00:55:20] WARNING: not removing hydrogen atom without neighbors\n",
      "480332it [51:22, 159.26it/s]RDKit WARNING: [00:55:20] WARNING: not removing hydrogen atom without neighbors\n",
      "480866it [51:25, 157.62it/s]RDKit WARNING: [00:55:24] WARNING: not removing hydrogen atom without neighbors\n",
      "481820it [51:31, 156.39it/s]RDKit WARNING: [00:55:30] WARNING: not removing hydrogen atom without neighbors\n",
      "483033it [51:39, 157.83it/s]RDKit WARNING: [00:55:37] WARNING: not removing hydrogen atom without neighbors\n",
      "483678it [51:43, 159.33it/s]RDKit WARNING: [00:55:41] WARNING: not removing hydrogen atom without neighbors\n",
      "488119it [52:11, 158.41it/s]RDKit WARNING: [00:56:09] WARNING: not removing hydrogen atom without neighbors\n",
      "488251it [52:11, 159.55it/s]RDKit WARNING: [00:56:10] WARNING: not removing hydrogen atom without neighbors\n",
      "489599it [52:20, 157.78it/s]RDKit WARNING: [00:56:19] WARNING: not removing hydrogen atom without neighbors\n",
      "489824it [52:21, 156.03it/s]RDKit WARNING: [00:56:20] WARNING: not removing hydrogen atom without neighbors\n",
      "492098it [52:36, 160.04it/s]RDKit WARNING: [00:56:34] WARNING: not removing hydrogen atom without neighbors\n",
      "RDKit WARNING: [00:56:34] WARNING: not removing hydrogen atom without neighbors\n",
      "492905it [52:41, 162.00it/s]RDKit WARNING: [00:56:39] WARNING: not removing hydrogen atom without neighbors\n",
      "494320it [52:50, 160.27it/s]RDKit WARNING: [00:56:48] WARNING: not removing hydrogen atom without neighbors\n",
      "497335it [53:09, 158.97it/s]RDKit WARNING: [00:57:07] WARNING: not removing hydrogen atom without neighbors\n",
      "510661it [54:32, 160.24it/s]RDKit WARNING: [00:58:31] WARNING: not removing hydrogen atom without neighbors\n",
      "RDKit WARNING: [00:58:31] WARNING: not removing hydrogen atom without neighbors\n",
      "511193it [54:36, 159.90it/s]RDKit WARNING: [00:58:34] WARNING: not removing hydrogen atom without neighbors\n",
      "511209it [54:36, 151.73it/s]RDKit WARNING: [00:58:35] WARNING: not removing hydrogen atom without neighbors\n",
      "516001it [55:06, 151.92it/s]RDKit WARNING: [00:59:05] WARNING: not removing hydrogen atom without neighbors\n",
      "RDKit WARNING: [00:59:05] WARNING: not removing hydrogen atom without neighbors\n",
      "517591it [55:17, 153.39it/s]RDKit WARNING: [00:59:15] WARNING: not removing hydrogen atom without neighbors\n",
      "517928it [55:19, 153.32it/s]RDKit WARNING: [00:59:17] WARNING: not removing hydrogen atom without neighbors\n",
      "520750it [55:37, 154.90it/s]RDKit WARNING: [00:59:36] WARNING: not removing hydrogen atom without neighbors\n",
      "521134it [55:40, 155.91it/s]RDKit WARNING: [00:59:38] WARNING: not removing hydrogen atom without neighbors\n",
      "521663it [55:43, 155.25it/s]RDKit WARNING: [00:59:42] WARNING: not removing hydrogen atom without neighbors\n",
      "522946it [55:51, 151.32it/s]RDKit WARNING: [00:59:50] WARNING: not removing hydrogen atom without neighbors\n",
      "523443it [55:54, 155.55it/s]RDKit WARNING: [00:59:53] WARNING: not removing hydrogen atom without neighbors\n",
      "524261it [56:00, 154.56it/s]RDKit WARNING: [00:59:58] WARNING: not removing hydrogen atom without neighbors\n",
      "528044it [56:24, 155.18it/s]RDKit WARNING: [01:00:23] WARNING: not removing hydrogen atom without neighbors\n",
      "528430it [56:27, 154.90it/s]RDKit WARNING: [01:00:26] WARNING: not removing hydrogen atom without neighbors\n",
      "RDKit WARNING: [01:00:26] WARNING: not removing hydrogen atom without neighbors\n",
      "RDKit WARNING: [01:00:26] WARNING: not removing hydrogen atom without neighbors\n",
      "530044it [56:37, 160.18it/s]RDKit WARNING: [01:00:36] WARNING: not removing hydrogen atom without neighbors\n",
      "531757it [56:48, 156.88it/s]RDKit WARNING: [01:00:47] WARNING: not removing hydrogen atom without neighbors\n",
      "533503it [56:59, 160.81it/s]RDKit WARNING: [01:00:58] WARNING: not removing hydrogen atom without neighbors\n",
      "535513it [57:12, 158.59it/s]RDKit WARNING: [01:01:10] WARNING: not removing hydrogen atom without neighbors\n",
      "535629it [57:12, 159.38it/s]RDKit WARNING: [01:01:11] WARNING: not removing hydrogen atom without neighbors\n",
      "536640it [57:19, 162.19it/s]RDKit WARNING: [01:01:17] WARNING: not removing hydrogen atom without neighbors\n",
      "538047it [57:28, 158.55it/s]RDKit WARNING: [01:01:26] WARNING: not removing hydrogen atom without neighbors\n",
      "541120it [57:47, 153.28it/s]RDKit WARNING: [01:01:46] WARNING: not removing hydrogen atom without neighbors\n",
      "541248it [57:48, 154.18it/s]RDKit WARNING: [01:01:47] WARNING: not removing hydrogen atom without neighbors\n",
      "542773it [57:58, 155.82it/s]RDKit WARNING: [01:01:57] WARNING: not removing hydrogen atom without neighbors\n",
      "544666it [58:10, 152.19it/s]RDKit WARNING: [01:02:09] WARNING: not removing hydrogen atom without neighbors\n",
      "544682it [58:10, 152.57it/s]RDKit WARNING: [01:02:09] WARNING: not removing hydrogen atom without neighbors\n",
      "549507it [58:42, 153.49it/s]RDKit WARNING: [01:02:40] WARNING: not removing hydrogen atom without neighbors\n",
      "551194it [58:53, 156.11it/s]RDKit WARNING: [01:02:51] WARNING: not removing hydrogen atom without neighbors\n",
      "552013it [58:58, 153.34it/s]RDKit WARNING: [01:02:56] WARNING: not removing hydrogen atom without neighbors\n",
      "552318it [59:00, 154.39it/s]RDKit WARNING: [01:02:59] WARNING: not removing hydrogen atom without neighbors\n",
      "552623it [59:02, 154.11it/s]RDKit WARNING: [01:03:01] WARNING: not removing hydrogen atom without neighbors\n",
      "553295it [59:06, 153.12it/s]RDKit WARNING: [01:03:05] WARNING: not removing hydrogen atom without neighbors\n",
      "556071it [59:24, 154.49it/s]RDKit WARNING: [01:03:23] WARNING: not removing hydrogen atom without neighbors\n",
      "RDKit WARNING: [01:03:23] WARNING: not removing hydrogen atom without neighbors\n",
      "556986it [59:30, 153.68it/s]RDKit WARNING: [01:03:29] WARNING: not removing hydrogen atom without neighbors\n",
      "557194it [59:31, 153.99it/s]RDKit WARNING: [01:03:30] WARNING: not removing hydrogen atom without neighbors\n",
      "558800it [59:42, 155.25it/s]RDKit WARNING: [01:03:40] WARNING: not removing hydrogen atom without neighbors\n",
      "RDKit WARNING: [01:03:40] WARNING: not removing hydrogen atom without neighbors\n",
      "559905it [59:49, 153.89it/s]RDKit WARNING: [01:03:48] WARNING: not removing hydrogen atom without neighbors\n",
      "561045it [59:56, 155.38it/s]RDKit WARNING: [01:03:55] WARNING: not removing hydrogen atom without neighbors\n",
      "562734it [1:00:07, 155.64it/s]RDKit WARNING: [01:04:06] WARNING: not removing hydrogen atom without neighbors\n",
      "563154it [1:00:10, 155.60it/s]RDKit WARNING: [01:04:09] WARNING: not removing hydrogen atom without neighbors\n",
      "563698it [1:00:13, 150.99it/s]RDKit WARNING: [01:04:12] WARNING: not removing hydrogen atom without neighbors\n",
      "RDKit WARNING: [01:04:12] WARNING: not removing hydrogen atom without neighbors\n",
      "566352it [1:00:30, 160.81it/s]RDKit WARNING: [01:04:29] WARNING: not removing hydrogen atom without neighbors\n",
      "566638it [1:00:32, 159.62it/s]RDKit WARNING: [01:04:31] WARNING: not removing hydrogen atom without neighbors\n",
      "570129it [1:00:54, 156.40it/s]RDKit WARNING: [01:04:53] WARNING: not removing hydrogen atom without neighbors\n",
      "571349it [1:01:02, 153.14it/s]RDKit WARNING: [01:05:01] WARNING: not removing hydrogen atom without neighbors\n",
      "571942it [1:01:06, 154.91it/s]RDKit WARNING: [01:05:04] WARNING: not removing hydrogen atom without neighbors\n",
      "571974it [1:01:06, 154.34it/s]RDKit WARNING: [01:05:05] WARNING: not removing hydrogen atom without neighbors\n",
      "573274it [1:01:14, 154.97it/s]RDKit WARNING: [01:05:13] WARNING: not removing hydrogen atom without neighbors\n",
      "573997it [1:01:19, 154.48it/s]RDKit WARNING: [01:05:18] WARNING: not removing hydrogen atom without neighbors\n",
      "575136it [1:01:26, 153.38it/s]RDKit WARNING: [01:05:25] WARNING: not removing hydrogen atom without neighbors\n",
      "576357it [1:01:34, 152.39it/s]RDKit WARNING: [01:05:33] WARNING: not removing hydrogen atom without neighbors\n",
      "576438it [1:01:35, 154.61it/s]RDKit WARNING: [01:05:33] WARNING: not removing hydrogen atom without neighbors\n",
      "577798it [1:01:44, 153.36it/s]RDKit WARNING: [01:05:42] WARNING: not removing hydrogen atom without neighbors\n",
      "RDKit WARNING: [01:05:42] WARNING: not removing hydrogen atom without neighbors\n",
      "578715it [1:01:50, 155.10it/s]RDKit WARNING: [01:05:48] WARNING: not removing hydrogen atom without neighbors\n",
      "579420it [1:01:54, 154.02it/s]RDKit WARNING: [01:05:53] WARNING: not removing hydrogen atom without neighbors\n",
      "580691it [1:02:02, 153.21it/s]RDKit WARNING: [01:06:01] WARNING: not removing hydrogen atom without neighbors\n",
      "583802it [1:02:22, 155.22it/s]RDKit WARNING: [01:06:21] WARNING: not removing hydrogen atom without neighbors\n",
      "584173it [1:02:25, 155.29it/s]RDKit WARNING: [01:06:24] WARNING: not removing hydrogen atom without neighbors\n",
      "584334it [1:02:26, 154.22it/s]RDKit WARNING: [01:06:25] WARNING: not removing hydrogen atom without neighbors\n",
      "584382it [1:02:26, 153.65it/s]RDKit WARNING: [01:06:25] WARNING: not removing hydrogen atom without neighbors\n",
      "585201it [1:02:31, 148.06it/s]RDKit WARNING: [01:06:30] WARNING: not removing hydrogen atom without neighbors\n",
      "587093it [1:02:44, 154.08it/s]RDKit WARNING: [01:06:42] WARNING: not removing hydrogen atom without neighbors\n",
      "587142it [1:02:44, 155.16it/s]RDKit WARNING: [01:06:43] WARNING: not removing hydrogen atom without neighbors\n",
      "589260it [1:02:58, 156.00it/s]RDKit WARNING: [01:06:56] WARNING: not removing hydrogen atom without neighbors\n",
      "591107it [1:03:10, 154.72it/s]RDKit WARNING: [01:07:08] WARNING: not removing hydrogen atom without neighbors\n",
      "591667it [1:03:13, 155.64it/s]RDKit WARNING: [01:07:12] WARNING: not removing hydrogen atom without neighbors\n",
      "592726it [1:03:20, 154.62it/s]RDKit WARNING: [01:07:19] WARNING: not removing hydrogen atom without neighbors\n",
      "595713it [1:03:39, 153.96it/s]RDKit WARNING: [01:07:38] WARNING: not removing hydrogen atom without neighbors\n",
      "596226it [1:03:43, 154.76it/s]RDKit WARNING: [01:07:41] WARNING: not removing hydrogen atom without neighbors\n",
      "597754it [1:03:53, 156.11it/s]RDKit WARNING: [01:07:51] WARNING: not removing hydrogen atom without neighbors\n",
      "601883it [1:04:19, 155.29it/s]RDKit WARNING: [01:08:18] WARNING: not removing hydrogen atom without neighbors\n",
      "602640it [1:04:24, 156.00it/s]RDKit WARNING: [01:08:23] WARNING: not removing hydrogen atom without neighbors\n",
      "604857it [1:04:38, 152.64it/s]RDKit WARNING: [01:08:37] WARNING: not removing hydrogen atom without neighbors\n",
      "606143it [1:04:47, 149.17it/s]RDKit WARNING: [01:08:45] WARNING: not removing hydrogen atom without neighbors\n",
      "608151it [1:05:00, 155.99it/s]RDKit WARNING: [01:08:58] WARNING: not removing hydrogen atom without neighbors\n",
      "611986it [1:05:24, 154.88it/s]RDKit WARNING: [01:09:23] WARNING: not removing hydrogen atom without neighbors\n",
      "613157it [1:05:32, 153.34it/s]RDKit WARNING: [01:09:31] WARNING: not removing hydrogen atom without neighbors\n",
      "614779it [1:05:42, 153.93it/s]RDKit WARNING: [01:09:41] WARNING: not removing hydrogen atom without neighbors\n",
      "615147it [1:05:45, 153.88it/s]RDKit WARNING: [01:09:44] WARNING: not removing hydrogen atom without neighbors\n",
      "RDKit WARNING: [01:09:44] WARNING: not removing hydrogen atom without neighbors\n",
      "615211it [1:05:45, 153.67it/s]RDKit WARNING: [01:09:44] WARNING: not removing hydrogen atom without neighbors\n",
      "615983it [1:05:50, 155.90it/s]RDKit WARNING: [01:09:49] WARNING: not removing hydrogen atom without neighbors\n",
      "616786it [1:05:55, 157.33it/s]RDKit WARNING: [01:09:54] WARNING: not removing hydrogen atom without neighbors\n",
      "617750it [1:06:02, 156.40it/s]RDKit WARNING: [01:10:00] WARNING: not removing hydrogen atom without neighbors\n",
      "621290it [1:06:24, 155.29it/s]RDKit WARNING: [01:10:23] WARNING: not removing hydrogen atom without neighbors\n",
      "621419it [1:06:25, 155.67it/s]RDKit WARNING: [01:10:24] WARNING: not removing hydrogen atom without neighbors\n",
      "625825it [1:06:54, 155.60it/s]RDKit WARNING: [01:10:52] WARNING: not removing hydrogen atom without neighbors\n",
      "626483it [1:06:58, 152.42it/s]RDKit WARNING: [01:10:57] WARNING: not removing hydrogen atom without neighbors\n",
      "627398it [1:07:04, 155.79it/s]RDKit WARNING: [01:11:03] WARNING: not removing hydrogen atom without neighbors\n",
      "629659it [1:07:18, 160.19it/s]RDKit WARNING: [01:11:17] WARNING: not removing hydrogen atom without neighbors\n",
      "629970it [1:07:20, 159.50it/s]RDKit WARNING: [01:11:19] WARNING: not removing hydrogen atom without neighbors\n",
      "630674it [1:07:25, 160.32it/s]RDKit WARNING: [01:11:24] WARNING: not removing hydrogen atom without neighbors\n",
      "636449it [1:08:01, 159.79it/s]RDKit WARNING: [01:12:00] WARNING: not removing hydrogen atom without neighbors\n",
      "638229it [1:08:12, 159.09it/s]RDKit WARNING: [01:12:11] WARNING: not removing hydrogen atom without neighbors\n",
      "642183it [1:08:38, 154.36it/s]RDKit WARNING: [01:12:36] WARNING: not removing hydrogen atom without neighbors\n",
      "644932it [1:08:56, 157.19it/s]RDKit WARNING: [01:12:54] WARNING: not removing hydrogen atom without neighbors\n",
      "644964it [1:08:56, 156.47it/s]RDKit WARNING: [01:12:54] WARNING: not removing hydrogen atom without neighbors\n",
      "647484it [1:09:12, 151.30it/s]RDKit WARNING: [01:13:11] WARNING: not removing hydrogen atom without neighbors\n",
      "647742it [1:09:14, 155.26it/s]RDKit WARNING: [01:13:13] WARNING: not removing hydrogen atom without neighbors\n",
      "649234it [1:09:23, 155.14it/s]RDKit WARNING: [01:13:22] WARNING: not removing hydrogen atom without neighbors\n",
      "650630it [1:09:32, 154.87it/s]RDKit WARNING: [01:13:31] WARNING: not removing hydrogen atom without neighbors\n",
      "RDKit WARNING: [01:13:31] WARNING: not removing hydrogen atom without neighbors\n",
      "651241it [1:09:36, 153.99it/s]RDKit WARNING: [01:13:35] WARNING: not removing hydrogen atom without neighbors\n",
      "655639it [1:10:05, 154.69it/s]RDKit WARNING: [01:14:03] WARNING: not removing hydrogen atom without neighbors\n",
      "656521it [1:10:10, 155.37it/s]RDKit WARNING: [01:14:09] WARNING: not removing hydrogen atom without neighbors\n",
      "656859it [1:10:13, 154.07it/s]RDKit WARNING: [01:14:11] WARNING: not removing hydrogen atom without neighbors\n",
      "657809it [1:10:19, 155.93it/s]RDKit WARNING: [01:14:17] WARNING: not removing hydrogen atom without neighbors\n",
      "659044it [1:10:27, 154.76it/s]RDKit WARNING: [01:14:25] WARNING: not removing hydrogen atom without neighbors\n",
      "RDKit WARNING: [01:14:25] WARNING: not removing hydrogen atom without neighbors\n",
      "659941it [1:10:33, 153.50it/s]RDKit WARNING: [01:14:31] WARNING: not removing hydrogen atom without neighbors\n",
      "661850it [1:10:45, 154.96it/s]RDKit WARNING: [01:14:44] WARNING: not removing hydrogen atom without neighbors\n",
      "RDKit WARNING: [01:14:44] WARNING: not removing hydrogen atom without neighbors\n",
      "661898it [1:10:45, 154.49it/s]RDKit WARNING: [01:14:44] WARNING: not removing hydrogen atom without neighbors\n",
      "663020it [1:10:53, 153.07it/s]RDKit WARNING: [01:14:51] WARNING: not removing hydrogen atom without neighbors\n",
      "663197it [1:10:54, 155.49it/s]RDKit WARNING: [01:14:52] WARNING: not removing hydrogen atom without neighbors\n",
      "665683it [1:11:10, 152.86it/s]RDKit WARNING: [01:15:09] WARNING: not removing hydrogen atom without neighbors\n",
      "665827it [1:11:11, 155.27it/s]RDKit WARNING: [01:15:09] WARNING: not removing hydrogen atom without neighbors\n",
      "666564it [1:11:16, 152.52it/s]RDKit WARNING: [01:15:14] WARNING: not removing hydrogen atom without neighbors\n",
      "666982it [1:11:18, 153.04it/s]RDKit WARNING: [01:15:17] WARNING: not removing hydrogen atom without neighbors\n",
      "668446it [1:11:28, 155.67it/s]RDKit WARNING: [01:15:26] WARNING: not removing hydrogen atom without neighbors\n",
      "669106it [1:11:32, 155.22it/s]RDKit WARNING: [01:15:31] WARNING: not removing hydrogen atom without neighbors\n",
      "674634it [1:12:08, 154.71it/s]RDKit WARNING: [01:16:06] WARNING: not removing hydrogen atom without neighbors\n",
      "676349it [1:12:19, 159.52it/s]RDKit WARNING: [01:16:17] WARNING: not removing hydrogen atom without neighbors\n",
      "677914it [1:12:28, 158.49it/s]RDKit WARNING: [01:16:27] WARNING: not removing hydrogen atom without neighbors\n",
      "679956it [1:12:41, 159.15it/s]RDKit WARNING: [01:16:40] WARNING: not removing hydrogen atom without neighbors\n",
      "682372it [1:12:57, 156.27it/s]RDKit WARNING: [01:16:56] WARNING: not removing hydrogen atom without neighbors\n",
      "683527it [1:13:04, 156.78it/s]RDKit WARNING: [01:17:03] WARNING: not removing hydrogen atom without neighbors\n",
      "683559it [1:13:05, 155.70it/s]RDKit WARNING: [01:17:03] WARNING: not removing hydrogen atom without neighbors\n",
      "683816it [1:13:06, 155.49it/s]RDKit WARNING: [01:17:05] WARNING: not removing hydrogen atom without neighbors\n",
      "685081it [1:13:14, 154.05it/s]RDKit WARNING: [01:17:13] WARNING: not removing hydrogen atom without neighbors\n",
      "687314it [1:13:29, 155.43it/s]RDKit WARNING: [01:17:28] WARNING: not removing hydrogen atom without neighbors\n",
      "688166it [1:13:34, 156.46it/s]RDKit WARNING: [01:17:33] WARNING: not removing hydrogen atom without neighbors\n",
      "689687it [1:13:44, 155.10it/s]RDKit WARNING: [01:17:43] WARNING: not removing hydrogen atom without neighbors\n",
      "690810it [1:13:51, 151.44it/s]RDKit WARNING: [01:17:50] WARNING: not removing hydrogen atom without neighbors\n",
      "691242it [1:13:54, 154.93it/s]RDKit WARNING: [01:17:53] WARNING: not removing hydrogen atom without neighbors\n",
      "RDKit WARNING: [01:17:53] WARNING: not removing hydrogen atom without neighbors\n",
      "693277it [1:14:07, 162.44it/s]RDKit WARNING: [01:18:06] WARNING: not removing hydrogen atom without neighbors\n",
      "696278it [1:14:26, 159.86it/s]RDKit WARNING: [01:18:25] WARNING: not removing hydrogen atom without neighbors\n",
      "696896it [1:14:30, 159.32it/s]RDKit WARNING: [01:18:29] WARNING: not removing hydrogen atom without neighbors\n",
      "697216it [1:14:32, 159.00it/s]RDKit WARNING: [01:18:31] WARNING: not removing hydrogen atom without neighbors\n",
      "RDKit WARNING: [01:18:31] WARNING: not removing hydrogen atom without neighbors\n",
      "697250it [1:14:32, 160.51it/s]RDKit WARNING: [01:18:31] WARNING: not removing hydrogen atom without neighbors\n",
      "697783it [1:14:36, 158.46it/s]RDKit WARNING: [01:18:34] WARNING: not removing hydrogen atom without neighbors\n",
      "699596it [1:14:47, 158.39it/s]RDKit WARNING: [01:18:46] WARNING: not removing hydrogen atom without neighbors\n",
      "700797it [1:14:55, 153.52it/s]RDKit WARNING: [01:18:54] WARNING: not removing hydrogen atom without neighbors\n",
      "RDKit WARNING: [01:18:54] WARNING: not removing hydrogen atom without neighbors\n",
      "701842it [1:15:02, 156.01it/s]RDKit WARNING: [01:19:00] WARNING: not removing hydrogen atom without neighbors\n",
      "703417it [1:15:12, 155.95it/s]RDKit WARNING: [01:19:10] WARNING: not removing hydrogen atom without neighbors\n",
      "703882it [1:15:15, 155.29it/s]RDKit WARNING: [01:19:13] WARNING: not removing hydrogen atom without neighbors\n",
      "704379it [1:15:18, 153.25it/s]RDKit WARNING: [01:19:17] WARNING: not removing hydrogen atom without neighbors\n",
      "706084it [1:15:29, 156.57it/s]RDKit WARNING: [01:19:28] WARNING: not removing hydrogen atom without neighbors\n",
      "709359it [1:15:50, 154.37it/s]RDKit WARNING: [01:19:49] WARNING: not removing hydrogen atom without neighbors\n",
      "709439it [1:15:51, 155.90it/s]RDKit WARNING: [01:19:49] WARNING: not removing hydrogen atom without neighbors\n",
      "709551it [1:15:51, 155.26it/s]RDKit WARNING: [01:19:50] WARNING: not removing hydrogen atom without neighbors\n",
      "710369it [1:15:57, 155.00it/s]RDKit WARNING: [01:19:55] WARNING: not removing hydrogen atom without neighbors\n",
      "710513it [1:15:58, 151.13it/s]RDKit WARNING: [01:19:56] WARNING: not removing hydrogen atom without neighbors\n",
      "711317it [1:16:03, 151.80it/s]RDKit WARNING: [01:20:02] WARNING: not removing hydrogen atom without neighbors\n",
      "718168it [1:16:47, 155.03it/s]RDKit WARNING: [01:20:46] WARNING: not removing hydrogen atom without neighbors\n",
      "721215it [1:17:07, 154.29it/s]RDKit WARNING: [01:21:05] WARNING: not removing hydrogen atom without neighbors\n",
      "723352it [1:17:20, 157.76it/s]RDKit WARNING: [01:21:19] WARNING: not removing hydrogen atom without neighbors\n",
      "RDKit WARNING: [01:21:19] WARNING: not removing hydrogen atom without neighbors\n",
      "RDKit WARNING: [01:21:19] WARNING: not removing hydrogen atom without neighbors\n",
      "RDKit WARNING: [01:21:19] WARNING: not removing hydrogen atom without neighbors\n",
      "725374it [1:17:33, 154.24it/s]RDKit WARNING: [01:21:32] WARNING: not removing hydrogen atom without neighbors\n",
      "RDKit WARNING: [01:21:32] WARNING: not removing hydrogen atom without neighbors\n",
      "RDKit WARNING: [01:21:32] WARNING: not removing hydrogen atom without neighbors\n",
      "725778it [1:17:36, 153.52it/s]RDKit WARNING: [01:21:35] WARNING: not removing hydrogen atom without neighbors\n",
      "728502it [1:17:54, 155.67it/s]RDKit WARNING: [01:21:52] WARNING: not removing hydrogen atom without neighbors\n",
      "730263it [1:18:05, 154.10it/s]RDKit WARNING: [01:22:04] WARNING: not removing hydrogen atom without neighbors\n",
      "732639it [1:18:20, 157.43it/s]RDKit WARNING: [01:22:19] WARNING: not removing hydrogen atom without neighbors\n",
      "734132it [1:18:30, 155.77it/s]RDKit WARNING: [01:22:29] WARNING: not removing hydrogen atom without neighbors\n",
      "736061it [1:18:42, 155.51it/s]RDKit WARNING: [01:22:41] WARNING: not removing hydrogen atom without neighbors\n",
      "736496it [1:18:45, 155.56it/s]RDKit WARNING: [01:22:44] WARNING: not removing hydrogen atom without neighbors\n",
      "RDKit WARNING: [01:22:44] WARNING: not removing hydrogen atom without neighbors\n",
      "736561it [1:18:46, 154.61it/s]RDKit WARNING: [01:22:44] WARNING: not removing hydrogen atom without neighbors\n",
      "736657it [1:18:46, 156.58it/s]RDKit WARNING: [01:22:45] WARNING: not removing hydrogen atom without neighbors\n",
      "739571it [1:19:05, 156.86it/s]RDKit WARNING: [01:23:04] WARNING: not removing hydrogen atom without neighbors\n",
      "741438it [1:19:17, 155.93it/s]RDKit WARNING: [01:23:16] WARNING: not removing hydrogen atom without neighbors\n",
      "741600it [1:19:18, 151.95it/s]RDKit WARNING: [01:23:17] WARNING: not removing hydrogen atom without neighbors\n",
      "RDKit WARNING: [01:23:17] WARNING: not removing hydrogen atom without neighbors\n",
      "RDKit WARNING: [01:23:17] WARNING: not removing hydrogen atom without neighbors\n",
      "741908it [1:19:20, 155.39it/s]RDKit WARNING: [01:23:19] WARNING: not removing hydrogen atom without neighbors\n",
      "743983it [1:19:33, 155.23it/s]RDKit WARNING: [01:23:32] WARNING: not removing hydrogen atom without neighbors\n",
      "745315it [1:19:42, 155.98it/s]RDKit WARNING: [01:23:41] WARNING: not removing hydrogen atom without neighbors\n",
      "745896it [1:19:46, 155.87it/s]RDKit WARNING: [01:23:44] WARNING: not removing hydrogen atom without neighbors\n",
      "749414it [1:20:08, 155.02it/s]RDKit WARNING: [01:24:07] WARNING: not removing hydrogen atom without neighbors\n",
      "RDKit WARNING: [01:24:07] WARNING: not removing hydrogen atom without neighbors\n",
      "749736it [1:20:10, 153.53it/s]RDKit WARNING: [01:24:09] WARNING: not removing hydrogen atom without neighbors\n",
      "749928it [1:20:12, 155.60it/s]RDKit WARNING: [01:24:10] WARNING: not removing hydrogen atom without neighbors\n",
      "750941it [1:20:18, 153.32it/s]RDKit WARNING: [01:24:17] WARNING: not removing hydrogen atom without neighbors\n",
      "754409it [1:20:40, 156.71it/s]RDKit WARNING: [01:24:39] WARNING: not removing hydrogen atom without neighbors\n",
      "755053it [1:20:45, 155.67it/s]RDKit WARNING: [01:24:43] WARNING: not removing hydrogen atom without neighbors\n",
      "755438it [1:20:47, 157.60it/s]RDKit WARNING: [01:24:46] WARNING: not removing hydrogen atom without neighbors\n",
      "757286it [1:20:59, 155.17it/s]RDKit WARNING: [01:24:58] WARNING: not removing hydrogen atom without neighbors\n",
      "761418it [1:21:25, 156.53it/s]RDKit WARNING: [01:25:24] WARNING: not removing hydrogen atom without neighbors\n",
      "766260it [1:21:57, 153.25it/s]RDKit WARNING: [01:25:55] WARNING: not removing hydrogen atom without neighbors\n",
      "767098it [1:22:02, 154.80it/s]RDKit WARNING: [01:26:01] WARNING: not removing hydrogen atom without neighbors\n",
      "769168it [1:22:16, 154.55it/s]RDKit WARNING: [01:26:14] WARNING: not removing hydrogen atom without neighbors\n",
      "769457it [1:22:17, 157.06it/s]RDKit WARNING: [01:26:16] WARNING: not removing hydrogen atom without neighbors\n",
      "RDKit WARNING: [01:26:16] WARNING: not removing hydrogen atom without neighbors\n",
      "RDKit WARNING: [01:26:16] WARNING: not removing hydrogen atom without neighbors\n",
      "769634it [1:22:19, 154.59it/s]RDKit WARNING: [01:26:17] WARNING: not removing hydrogen atom without neighbors\n",
      "769683it [1:22:19, 155.94it/s]RDKit WARNING: [01:26:18] WARNING: not removing hydrogen atom without neighbors\n",
      "RDKit WARNING: [01:26:18] WARNING: not removing hydrogen atom without neighbors\n",
      "771739it [1:22:32, 154.75it/s]RDKit WARNING: [01:26:31] WARNING: not removing hydrogen atom without neighbors\n",
      "773105it [1:22:41, 156.74it/s]RDKit WARNING: [01:26:40] WARNING: not removing hydrogen atom without neighbors\n",
      "RDKit WARNING: [01:26:40] WARNING: not removing hydrogen atom without neighbors\n",
      "RDKit WARNING: [01:26:40] WARNING: not removing hydrogen atom without neighbors\n",
      "RDKit WARNING: [01:26:40] WARNING: not removing hydrogen atom without neighbors\n",
      "775802it [1:22:58, 154.14it/s]RDKit WARNING: [01:26:57] WARNING: not removing hydrogen atom without neighbors\n",
      "776061it [1:23:00, 156.45it/s]RDKit WARNING: [01:26:59] WARNING: not removing hydrogen atom without neighbors\n",
      "777202it [1:23:07, 156.45it/s]RDKit WARNING: [01:27:06] WARNING: not removing hydrogen atom without neighbors\n",
      "780763it [1:23:30, 152.21it/s]RDKit WARNING: [01:27:29] WARNING: not removing hydrogen atom without neighbors\n",
      "780908it [1:23:31, 156.92it/s]RDKit WARNING: [01:27:30] WARNING: not removing hydrogen atom without neighbors\n",
      "781777it [1:23:37, 154.93it/s]RDKit WARNING: [01:27:36] WARNING: not removing hydrogen atom without neighbors\n",
      "782131it [1:23:39, 155.78it/s]RDKit WARNING: [01:27:38] WARNING: not removing hydrogen atom without neighbors\n",
      "782308it [1:23:40, 156.57it/s]RDKit WARNING: [01:27:39] WARNING: not removing hydrogen atom without neighbors\n",
      "RDKit WARNING: [01:27:39] WARNING: not removing hydrogen atom without neighbors\n",
      "783465it [1:23:48, 154.49it/s]RDKit WARNING: [01:27:47] WARNING: not removing hydrogen atom without neighbors\n",
      "783593it [1:23:49, 154.38it/s]RDKit WARNING: [01:27:47] WARNING: not removing hydrogen atom without neighbors\n",
      "784541it [1:23:55, 155.21it/s]RDKit WARNING: [01:27:54] WARNING: not removing hydrogen atom without neighbors\n",
      "785352it [1:24:00, 159.15it/s]RDKit WARNING: [01:27:59] WARNING: not removing hydrogen atom without neighbors\n",
      "RDKit WARNING: [01:27:59] WARNING: not removing hydrogen atom without neighbors\n",
      "785516it [1:24:01, 158.98it/s]RDKit WARNING: [01:28:00] WARNING: not removing hydrogen atom without neighbors\n",
      "787700it [1:24:15, 160.59it/s]RDKit WARNING: [01:28:13] WARNING: not removing hydrogen atom without neighbors\n",
      "788900it [1:24:22, 158.62it/s]RDKit WARNING: [01:28:21] WARNING: not removing hydrogen atom without neighbors\n",
      "RDKit WARNING: [01:28:21] WARNING: not removing hydrogen atom without neighbors\n",
      "789129it [1:24:24, 160.06it/s]RDKit WARNING: [01:28:23] WARNING: not removing hydrogen atom without neighbors\n",
      "789313it [1:24:25, 160.11it/s]RDKit WARNING: [01:28:24] WARNING: not removing hydrogen atom without neighbors\n",
      "790203it [1:24:31, 160.14it/s]RDKit WARNING: [01:28:29] WARNING: not removing hydrogen atom without neighbors\n",
      "791559it [1:24:39, 159.06it/s]RDKit WARNING: [01:28:38] WARNING: not removing hydrogen atom without neighbors\n",
      "RDKit WARNING: [01:28:38] WARNING: not removing hydrogen atom without neighbors\n",
      "794427it [1:24:58, 154.60it/s]RDKit WARNING: [01:28:56] WARNING: not removing hydrogen atom without neighbors\n",
      "794715it [1:24:59, 153.96it/s]RDKit WARNING: [01:28:58] WARNING: not removing hydrogen atom without neighbors\n",
      "795708it [1:25:06, 155.90it/s]RDKit WARNING: [01:29:05] WARNING: not removing hydrogen atom without neighbors\n",
      "796752it [1:25:13, 154.80it/s]RDKit WARNING: [01:29:11] WARNING: not removing hydrogen atom without neighbors\n",
      "797809it [1:25:19, 154.19it/s]RDKit WARNING: [01:29:18] WARNING: not removing hydrogen atom without neighbors\n",
      "799430it [1:25:30, 157.05it/s]RDKit WARNING: [01:29:29] WARNING: not removing hydrogen atom without neighbors\n",
      "RDKit WARNING: [01:29:29] WARNING: not removing hydrogen atom without neighbors\n",
      "799591it [1:25:31, 153.52it/s]RDKit WARNING: [01:29:30] WARNING: not removing hydrogen atom without neighbors\n",
      "804849it [1:26:05, 155.06it/s]RDKit WARNING: [01:30:04] WARNING: not removing hydrogen atom without neighbors\n",
      "806007it [1:26:13, 154.59it/s]RDKit WARNING: [01:30:11] WARNING: not removing hydrogen atom without neighbors\n",
      "RDKit WARNING: [01:30:11] WARNING: not removing hydrogen atom without neighbors\n",
      "RDKit WARNING: [01:30:11] WARNING: not removing hydrogen atom without neighbors\n",
      "806279it [1:26:14, 155.09it/s]RDKit WARNING: [01:30:13] WARNING: not removing hydrogen atom without neighbors\n",
      "RDKit WARNING: [01:30:13] WARNING: not removing hydrogen atom without neighbors\n",
      "806520it [1:26:16, 155.54it/s]RDKit WARNING: [01:30:15] WARNING: not removing hydrogen atom without neighbors\n",
      "809474it [1:26:35, 153.81it/s]RDKit WARNING: [01:30:34] WARNING: not removing hydrogen atom without neighbors\n",
      "810052it [1:26:39, 155.17it/s]RDKit WARNING: [01:30:38] WARNING: not removing hydrogen atom without neighbors\n",
      "810438it [1:26:41, 158.37it/s]RDKit WARNING: [01:30:40] WARNING: not removing hydrogen atom without neighbors\n",
      "810502it [1:26:42, 155.77it/s]RDKit WARNING: [01:30:40] WARNING: not removing hydrogen atom without neighbors\n",
      "813886it [1:27:04, 149.77it/s]RDKit WARNING: [01:31:02] WARNING: not removing hydrogen atom without neighbors\n",
      "815827it [1:27:16, 153.75it/s]RDKit WARNING: [01:31:15] WARNING: not removing hydrogen atom without neighbors\n",
      "816486it [1:27:20, 155.40it/s]RDKit WARNING: [01:31:19] WARNING: not removing hydrogen atom without neighbors\n",
      "821151it [1:27:51, 153.67it/s]RDKit WARNING: [01:31:49] WARNING: not removing hydrogen atom without neighbors\n",
      "821728it [1:27:54, 155.07it/s]RDKit WARNING: [01:31:53] WARNING: not removing hydrogen atom without neighbors\n",
      "RDKit WARNING: [01:31:53] WARNING: not removing hydrogen atom without neighbors\n",
      "823412it [1:28:05, 155.19it/s]RDKit WARNING: [01:32:04] WARNING: not removing hydrogen atom without neighbors\n",
      "RDKit WARNING: [01:32:04] WARNING: not removing hydrogen atom without neighbors\n",
      "823780it [1:28:08, 154.84it/s]RDKit WARNING: [01:32:06] WARNING: not removing hydrogen atom without neighbors\n",
      "824581it [1:28:13, 154.93it/s]RDKit WARNING: [01:32:12] WARNING: not removing hydrogen atom without neighbors\n",
      "RDKit WARNING: [01:32:12] WARNING: not removing hydrogen atom without neighbors\n",
      "829222it [1:28:43, 150.66it/s]RDKit WARNING: [01:32:42] WARNING: not removing hydrogen atom without neighbors\n",
      "830731it [1:28:53, 155.57it/s]RDKit WARNING: [01:32:51] WARNING: not removing hydrogen atom without neighbors\n",
      "831067it [1:28:55, 154.27it/s]RDKit WARNING: [01:32:54] WARNING: not removing hydrogen atom without neighbors\n",
      "837510it [1:29:36, 157.04it/s]RDKit WARNING: [01:33:35] WARNING: not removing hydrogen atom without neighbors\n",
      "839442it [1:29:49, 150.62it/s]RDKit WARNING: [01:33:48] WARNING: not removing hydrogen atom without neighbors\n",
      "840391it [1:29:55, 155.42it/s]RDKit WARNING: [01:33:54] WARNING: not removing hydrogen atom without neighbors\n",
      "RDKit WARNING: [01:33:54] WARNING: not removing hydrogen atom without neighbors\n",
      "842751it [1:30:10, 156.36it/s]RDKit WARNING: [01:34:09] WARNING: not removing hydrogen atom without neighbors\n",
      "843008it [1:30:12, 155.32it/s]RDKit WARNING: [01:34:11] WARNING: not removing hydrogen atom without neighbors\n",
      "843873it [1:30:17, 154.58it/s]RDKit WARNING: [01:34:16] WARNING: not removing hydrogen atom without neighbors\n",
      "844547it [1:30:22, 157.48it/s]RDKit WARNING: [01:34:21] WARNING: not removing hydrogen atom without neighbors\n",
      "845254it [1:30:26, 155.85it/s]RDKit WARNING: [01:34:25] WARNING: not removing hydrogen atom without neighbors\n",
      "845366it [1:30:27, 154.48it/s]RDKit WARNING: [01:34:26] WARNING: not removing hydrogen atom without neighbors\n",
      "847300it [1:30:40, 154.66it/s]RDKit WARNING: [01:34:38] WARNING: not removing hydrogen atom without neighbors\n",
      "850692it [1:31:02, 155.59it/s]RDKit WARNING: [01:35:00] WARNING: not removing hydrogen atom without neighbors\n",
      "854205it [1:31:24, 152.87it/s]RDKit WARNING: [01:35:23] WARNING: not removing hydrogen atom without neighbors\n",
      "856249it [1:31:38, 154.67it/s]RDKit WARNING: [01:35:36] WARNING: not removing hydrogen atom without neighbors\n",
      "858702it [1:31:53, 155.18it/s]RDKit WARNING: [01:35:52] WARNING: not removing hydrogen atom without neighbors\n",
      "RDKit WARNING: [01:35:52] WARNING: not removing hydrogen atom without neighbors\n",
      "RDKit WARNING: [01:35:52] WARNING: not removing hydrogen atom without neighbors\n",
      "RDKit WARNING: [01:35:52] WARNING: not removing hydrogen atom without neighbors\n",
      "RDKit WARNING: [01:35:52] WARNING: not removing hydrogen atom without neighbors\n",
      "858974it [1:31:55, 153.65it/s]RDKit WARNING: [01:35:54] WARNING: not removing hydrogen atom without neighbors\n",
      "860992it [1:32:08, 153.07it/s]RDKit WARNING: [01:36:07] WARNING: not removing hydrogen atom without neighbors\n",
      "861461it [1:32:11, 155.86it/s]RDKit WARNING: [01:36:10] WARNING: not removing hydrogen atom without neighbors\n",
      "863178it [1:32:22, 155.67it/s]RDKit WARNING: [01:36:21] WARNING: not removing hydrogen atom without neighbors\n",
      "865043it [1:32:34, 158.13it/s]RDKit WARNING: [01:36:33] WARNING: not removing hydrogen atom without neighbors\n",
      "866104it [1:32:41, 155.89it/s]RDKit WARNING: [01:36:40] WARNING: not removing hydrogen atom without neighbors\n",
      "867068it [1:32:47, 153.71it/s]RDKit WARNING: [01:36:46] WARNING: not removing hydrogen atom without neighbors\n",
      "869317it [1:33:02, 156.32it/s]RDKit WARNING: [01:37:01] WARNING: not removing hydrogen atom without neighbors\n",
      "870856it [1:33:12, 156.29it/s]RDKit WARNING: [01:37:11] WARNING: not removing hydrogen atom without neighbors\n",
      "872605it [1:33:23, 153.60it/s]RDKit WARNING: [01:37:22] WARNING: not removing hydrogen atom without neighbors\n",
      "872670it [1:33:24, 156.59it/s]RDKit WARNING: [01:37:22] WARNING: not removing hydrogen atom without neighbors\n",
      "874978it [1:33:38, 157.00it/s]RDKit WARNING: [01:37:37] WARNING: not removing hydrogen atom without neighbors\n",
      "875795it [1:33:44, 154.33it/s]RDKit WARNING: [01:37:43] WARNING: not removing hydrogen atom without neighbors\n",
      "876389it [1:33:48, 156.45it/s]RDKit WARNING: [01:37:46] WARNING: not removing hydrogen atom without neighbors\n",
      "876615it [1:33:49, 149.68it/s]RDKit WARNING: [01:37:48] WARNING: not removing hydrogen atom without neighbors\n",
      "877259it [1:33:53, 155.97it/s]RDKit WARNING: [01:37:52] WARNING: not removing hydrogen atom without neighbors\n",
      "878720it [1:34:03, 156.71it/s]RDKit WARNING: [01:38:01] WARNING: not removing hydrogen atom without neighbors\n",
      "883689it [1:34:35, 155.06it/s]RDKit WARNING: [01:38:34] WARNING: not removing hydrogen atom without neighbors\n",
      "885614it [1:34:47, 155.92it/s]RDKit WARNING: [01:38:46] WARNING: not removing hydrogen atom without neighbors\n",
      "890947it [1:35:22, 154.62it/s]RDKit WARNING: [01:39:21] WARNING: not removing hydrogen atom without neighbors\n",
      "891811it [1:35:27, 153.79it/s]RDKit WARNING: [01:39:26] WARNING: not removing hydrogen atom without neighbors\n",
      "892420it [1:35:31, 155.39it/s]RDKit WARNING: [01:39:30] WARNING: not removing hydrogen atom without neighbors\n",
      "894638it [1:35:46, 156.41it/s]RDKit WARNING: [01:39:44] WARNING: not removing hydrogen atom without neighbors\n",
      "895649it [1:35:52, 154.00it/s]RDKit WARNING: [01:39:51] WARNING: not removing hydrogen atom without neighbors\n",
      "RDKit WARNING: [01:39:51] WARNING: not removing hydrogen atom without neighbors\n",
      "RDKit WARNING: [01:39:51] WARNING: not removing hydrogen atom without neighbors\n",
      "895986it [1:35:55, 151.23it/s]RDKit WARNING: [01:39:53] WARNING: not removing hydrogen atom without neighbors\n",
      "896869it [1:36:00, 155.87it/s]RDKit WARNING: [01:39:59] WARNING: not removing hydrogen atom without neighbors\n",
      "896933it [1:36:01, 155.21it/s]RDKit WARNING: [01:39:59] WARNING: not removing hydrogen atom without neighbors\n",
      "897398it [1:36:04, 154.70it/s]RDKit WARNING: [01:40:02] WARNING: not removing hydrogen atom without neighbors\n",
      "RDKit WARNING: [01:40:02] WARNING: not removing hydrogen atom without neighbors\n",
      "899260it [1:36:16, 153.82it/s]RDKit WARNING: [01:40:14] WARNING: not removing hydrogen atom without neighbors\n",
      "899404it [1:36:17, 157.11it/s]RDKit WARNING: [01:40:15] WARNING: not removing hydrogen atom without neighbors\n",
      "901169it [1:36:28, 155.20it/s]RDKit WARNING: [01:40:27] WARNING: not removing hydrogen atom without neighbors\n",
      "RDKit WARNING: [01:40:27] WARNING: not removing hydrogen atom without neighbors\n",
      "RDKit WARNING: [01:40:27] WARNING: not removing hydrogen atom without neighbors\n",
      "904029it [1:36:46, 155.32it/s]RDKit WARNING: [01:40:45] WARNING: not removing hydrogen atom without neighbors\n",
      "904254it [1:36:48, 154.68it/s]RDKit WARNING: [01:40:47] WARNING: not removing hydrogen atom without neighbors\n",
      "904270it [1:36:48, 154.55it/s]RDKit WARNING: [01:40:47] WARNING: not removing hydrogen atom without neighbors\n",
      "906562it [1:37:03, 155.23it/s]RDKit WARNING: [01:41:02] WARNING: not removing hydrogen atom without neighbors\n",
      "910961it [1:37:31, 152.93it/s]RDKit WARNING: [01:41:30] WARNING: not removing hydrogen atom without neighbors\n",
      "RDKit WARNING: [01:41:30] WARNING: not removing hydrogen atom without neighbors\n",
      "RDKit WARNING: [01:41:30] WARNING: not removing hydrogen atom without neighbors\n",
      "915838it [1:38:03, 155.48it/s]RDKit WARNING: [01:42:02] WARNING: not removing hydrogen atom without neighbors\n",
      "916593it [1:38:08, 154.05it/s]RDKit WARNING: [01:42:07] WARNING: not removing hydrogen atom without neighbors\n",
      "917350it [1:38:13, 156.94it/s]RDKit WARNING: [01:42:11] WARNING: not removing hydrogen atom without neighbors\n",
      "RDKit WARNING: [01:42:11] WARNING: not removing hydrogen atom without neighbors\n",
      "918696it [1:38:21, 154.33it/s]RDKit WARNING: [01:42:20] WARNING: not removing hydrogen atom without neighbors\n",
      "RDKit WARNING: [01:42:20] WARNING: not removing hydrogen atom without neighbors\n",
      "919514it [1:38:27, 157.42it/s]RDKit WARNING: [01:42:25] WARNING: not removing hydrogen atom without neighbors\n",
      "922790it [1:38:48, 153.81it/s]RDKit WARNING: [01:42:47] WARNING: not removing hydrogen atom without neighbors\n",
      "926802it [1:39:14, 154.73it/s]RDKit WARNING: [01:43:13] WARNING: not removing hydrogen atom without neighbors\n",
      "928468it [1:39:25, 152.03it/s]RDKit WARNING: [01:43:23] WARNING: not removing hydrogen atom without neighbors\n",
      "929526it [1:39:32, 154.12it/s]RDKit WARNING: [01:43:30] WARNING: not removing hydrogen atom without neighbors\n",
      "930231it [1:39:36, 155.96it/s]RDKit WARNING: [01:43:35] WARNING: not removing hydrogen atom without neighbors\n",
      "RDKit WARNING: [01:43:35] WARNING: not removing hydrogen atom without neighbors\n",
      "930584it [1:39:38, 158.18it/s]RDKit WARNING: [01:43:37] WARNING: not removing hydrogen atom without neighbors\n",
      "933134it [1:39:55, 152.13it/s]RDKit WARNING: [01:43:54] WARNING: not removing hydrogen atom without neighbors\n",
      "934321it [1:40:03, 154.23it/s]RDKit WARNING: [01:44:01] WARNING: not removing hydrogen atom without neighbors\n",
      "RDKit WARNING: [01:44:01] WARNING: not removing hydrogen atom without neighbors\n",
      "934930it [1:40:07, 155.90it/s]RDKit WARNING: [01:44:05] WARNING: not removing hydrogen atom without neighbors\n",
      "935717it [1:40:12, 153.68it/s]RDKit WARNING: [01:44:10] WARNING: not removing hydrogen atom without neighbors\n",
      "940466it [1:40:42, 156.01it/s]RDKit WARNING: [01:44:41] WARNING: not removing hydrogen atom without neighbors\n",
      "941525it [1:40:49, 156.62it/s]RDKit WARNING: [01:44:48] WARNING: not removing hydrogen atom without neighbors\n",
      "RDKit WARNING: [01:44:48] WARNING: not removing hydrogen atom without neighbors\n",
      "941622it [1:40:50, 154.11it/s]RDKit WARNING: [01:44:49] WARNING: not removing hydrogen atom without neighbors\n",
      "948167it [1:41:32, 155.35it/s]RDKit WARNING: [01:45:31] WARNING: not removing hydrogen atom without neighbors\n",
      "949915it [1:41:44, 156.28it/s]RDKit WARNING: [01:45:42] WARNING: not removing hydrogen atom without neighbors\n",
      "951919it [1:41:57, 154.96it/s]RDKit WARNING: [01:45:55] WARNING: not removing hydrogen atom without neighbors\n",
      "952272it [1:41:59, 154.35it/s]RDKit WARNING: [01:45:58] WARNING: not removing hydrogen atom without neighbors\n",
      "952384it [1:42:00, 153.89it/s]RDKit WARNING: [01:45:58] WARNING: not removing hydrogen atom without neighbors\n",
      "955051it [1:42:17, 156.16it/s]RDKit WARNING: [01:46:16] WARNING: not removing hydrogen atom without neighbors\n",
      "956854it [1:42:28, 156.28it/s]RDKit WARNING: [01:46:27] WARNING: not removing hydrogen atom without neighbors\n",
      "956870it [1:42:29, 155.16it/s]RDKit WARNING: [01:46:27] WARNING: not removing hydrogen atom without neighbors\n",
      "960826it [1:42:54, 157.69it/s]RDKit WARNING: [01:46:53] WARNING: not removing hydrogen atom without neighbors\n",
      "961290it [1:42:57, 156.52it/s]RDKit WARNING: [01:46:56] WARNING: not removing hydrogen atom without neighbors\n",
      "961482it [1:42:58, 155.51it/s]RDKit WARNING: [01:46:57] WARNING: not removing hydrogen atom without neighbors\n",
      "963701it [1:43:13, 155.30it/s]RDKit WARNING: [01:47:11] WARNING: not removing hydrogen atom without neighbors\n",
      "964375it [1:43:17, 155.11it/s]RDKit WARNING: [01:47:16] WARNING: not removing hydrogen atom without neighbors\n",
      "966502it [1:43:31, 154.85it/s]RDKit WARNING: [01:47:29] WARNING: not removing hydrogen atom without neighbors\n",
      "967917it [1:43:40, 147.76it/s]RDKit WARNING: [01:47:39] WARNING: not removing hydrogen atom without neighbors\n",
      "969621it [1:43:51, 156.77it/s]RDKit WARNING: [01:47:50] WARNING: not removing hydrogen atom without neighbors\n",
      "971293it [1:44:02, 157.38it/s]RDKit WARNING: [01:48:00] WARNING: not removing hydrogen atom without neighbors\n",
      "971453it [1:44:03, 156.82it/s]RDKit WARNING: [01:48:01] WARNING: not removing hydrogen atom without neighbors\n",
      "972784it [1:44:11, 153.25it/s]RDKit WARNING: [01:48:10] WARNING: not removing hydrogen atom without neighbors\n",
      "RDKit WARNING: [01:48:10] WARNING: not removing hydrogen atom without neighbors\n",
      "RDKit WARNING: [01:48:10] WARNING: not removing hydrogen atom without neighbors\n",
      "973026it [1:44:13, 155.87it/s]RDKit WARNING: [01:48:11] WARNING: not removing hydrogen atom without neighbors\n",
      "974952it [1:44:25, 150.62it/s]RDKit WARNING: [01:48:24] WARNING: not removing hydrogen atom without neighbors\n",
      "975273it [1:44:27, 156.41it/s]RDKit WARNING: [01:48:26] WARNING: not removing hydrogen atom without neighbors\n",
      "978469it [1:44:48, 157.25it/s]RDKit WARNING: [01:48:47] WARNING: not removing hydrogen atom without neighbors\n",
      "978696it [1:44:49, 157.80it/s]RDKit WARNING: [01:48:48] WARNING: not removing hydrogen atom without neighbors\n",
      "979789it [1:44:56, 156.16it/s]RDKit WARNING: [01:48:55] WARNING: not removing hydrogen atom without neighbors\n",
      "RDKit WARNING: [01:48:55] WARNING: not removing hydrogen atom without neighbors\n",
      "980496it [1:45:01, 154.31it/s]RDKit WARNING: [01:49:00] WARNING: not removing hydrogen atom without neighbors\n",
      "983439it [1:45:20, 156.39it/s]RDKit WARNING: [01:49:19] WARNING: not removing hydrogen atom without neighbors\n",
      "987953it [1:45:49, 153.63it/s]RDKit WARNING: [01:49:48] WARNING: not removing hydrogen atom without neighbors\n",
      "992655it [1:46:19, 158.80it/s]RDKit WARNING: [01:50:18] WARNING: not removing hydrogen atom without neighbors\n",
      "993247it [1:46:23, 153.61it/s]RDKit WARNING: [01:50:22] WARNING: not removing hydrogen atom without neighbors\n",
      "995239it [1:46:36, 156.94it/s]RDKit WARNING: [01:50:35] WARNING: not removing hydrogen atom without neighbors\n",
      "996973it [1:46:47, 160.31it/s]RDKit WARNING: [01:50:46] WARNING: not removing hydrogen atom without neighbors\n",
      "997625it [1:46:51, 159.75it/s]RDKit WARNING: [01:50:50] WARNING: not removing hydrogen atom without neighbors\n",
      "999424it [1:47:02, 160.40it/s]RDKit WARNING: [01:51:01] WARNING: not removing hydrogen atom without neighbors\n",
      "999811it [1:47:05, 159.07it/s]RDKit WARNING: [01:51:03] WARNING: not removing hydrogen atom without neighbors\n",
      "1000421it [1:47:09, 157.71it/s]RDKit WARNING: [01:51:07] WARNING: not removing hydrogen atom without neighbors\n",
      "1004354it [1:47:34, 153.61it/s]RDKit WARNING: [01:51:32] WARNING: not removing hydrogen atom without neighbors\n",
      "RDKit WARNING: [01:51:32] WARNING: not removing hydrogen atom without neighbors\n",
      "1005366it [1:47:40, 155.24it/s]RDKit WARNING: [01:51:39] WARNING: not removing hydrogen atom without neighbors\n",
      "1010533it [1:48:14, 155.16it/s]RDKit WARNING: [01:52:12] WARNING: not removing hydrogen atom without neighbors\n",
      "1012622it [1:48:27, 151.66it/s]RDKit WARNING: [01:52:26] WARNING: not removing hydrogen atom without neighbors\n",
      "RDKit WARNING: [01:52:26] WARNING: not removing hydrogen atom without neighbors\n",
      "1014581it [1:48:40, 156.65it/s]RDKit WARNING: [01:52:38] WARNING: not removing hydrogen atom without neighbors\n",
      "1015641it [1:48:47, 153.66it/s]RDKit WARNING: [01:52:45] WARNING: not removing hydrogen atom without neighbors\n",
      "1016253it [1:48:50, 150.70it/s]RDKit WARNING: [01:52:49] WARNING: not removing hydrogen atom without neighbors\n",
      "1017474it [1:48:58, 155.30it/s]RDKit WARNING: [01:52:57] WARNING: not removing hydrogen atom without neighbors\n",
      "RDKit WARNING: [01:52:57] WARNING: not removing hydrogen atom without neighbors\n",
      "1018148it [1:49:03, 156.61it/s]RDKit WARNING: [01:53:01] WARNING: not removing hydrogen atom without neighbors\n",
      "1019816it [1:49:13, 152.32it/s]RDKit WARNING: [01:53:12] WARNING: not removing hydrogen atom without neighbors\n",
      "1022259it [1:49:29, 155.04it/s]RDKit WARNING: [01:53:28] WARNING: not removing hydrogen atom without neighbors\n",
      "1022565it [1:49:31, 153.64it/s]RDKit WARNING: [01:53:30] WARNING: not removing hydrogen atom without neighbors\n",
      "1022967it [1:49:34, 157.07it/s]RDKit WARNING: [01:53:32] WARNING: not removing hydrogen atom without neighbors\n",
      "1026436it [1:49:56, 154.50it/s]RDKit WARNING: [01:53:55] WARNING: not removing hydrogen atom without neighbors\n",
      "1031000it [1:50:26, 154.24it/s]RDKit WARNING: [01:54:24] WARNING: not removing hydrogen atom without neighbors\n",
      "1033365it [1:50:41, 152.51it/s]RDKit WARNING: [01:54:40] WARNING: not removing hydrogen atom without neighbors\n",
      "RDKit WARNING: [01:54:40] WARNING: not removing hydrogen atom without neighbors\n",
      "1033846it [1:50:44, 154.92it/s]RDKit WARNING: [01:54:43] WARNING: not removing hydrogen atom without neighbors\n",
      "1034038it [1:50:45, 155.64it/s]RDKit WARNING: [01:54:44] WARNING: not removing hydrogen atom without neighbors\n",
      "1035274it [1:50:53, 154.88it/s]RDKit WARNING: [01:54:52] WARNING: not removing hydrogen atom without neighbors\n",
      "1037024it [1:51:04, 158.35it/s]RDKit WARNING: [01:55:03] WARNING: not removing hydrogen atom without neighbors\n",
      "1037202it [1:51:06, 150.64it/s]RDKit WARNING: [01:55:04] WARNING: not removing hydrogen atom without neighbors\n",
      "1037972it [1:51:11, 150.69it/s]RDKit WARNING: [01:55:09] WARNING: not removing hydrogen atom without neighbors\n",
      "RDKit WARNING: [01:55:09] WARNING: not removing hydrogen atom without neighbors\n",
      "1038924it [1:51:17, 157.35it/s]RDKit WARNING: [01:55:15] WARNING: not removing hydrogen atom without neighbors\n",
      "1039150it [1:51:18, 156.10it/s]RDKit WARNING: [01:55:17] WARNING: not removing hydrogen atom without neighbors\n",
      "1040518it [1:51:27, 156.75it/s]RDKit WARNING: [01:55:26] WARNING: not removing hydrogen atom without neighbors\n",
      "1040710it [1:51:28, 155.99it/s]RDKit WARNING: [01:55:27] WARNING: not removing hydrogen atom without neighbors\n",
      "1042385it [1:51:39, 158.70it/s]RDKit WARNING: [01:55:38] WARNING: not removing hydrogen atom without neighbors\n",
      "1042610it [1:51:40, 157.67it/s]RDKit WARNING: [01:55:39] WARNING: not removing hydrogen atom without neighbors\n",
      "1043992it [1:51:49, 152.35it/s]RDKit WARNING: [01:55:48] WARNING: not removing hydrogen atom without neighbors\n",
      "1044463it [1:51:52, 157.30it/s]RDKit WARNING: [01:55:51] WARNING: not removing hydrogen atom without neighbors\n",
      "RDKit WARNING: [01:55:51] WARNING: not removing hydrogen atom without neighbors\n",
      "1046529it [1:52:06, 155.54it/s]RDKit WARNING: [01:56:05] WARNING: not removing hydrogen atom without neighbors\n",
      "1049993it [1:52:28, 157.28it/s]RDKit WARNING: [01:56:27] WARNING: not removing hydrogen atom without neighbors\n",
      "1050121it [1:52:29, 154.05it/s]RDKit WARNING: [01:56:28] WARNING: not removing hydrogen atom without neighbors\n",
      "1050778it [1:52:34, 156.78it/s]RDKit WARNING: [01:56:32] WARNING: not removing hydrogen atom without neighbors\n",
      "1051759it [1:52:40, 155.01it/s]RDKit WARNING: [01:56:39] WARNING: not removing hydrogen atom without neighbors\n",
      "1053161it [1:52:49, 155.68it/s]RDKit WARNING: [01:56:48] WARNING: not removing hydrogen atom without neighbors\n",
      "1060391it [1:53:35, 155.43it/s]RDKit WARNING: [01:57:34] WARNING: not removing hydrogen atom without neighbors\n",
      "RDKit WARNING: [01:57:34] WARNING: not removing hydrogen atom without neighbors\n",
      "RDKit WARNING: [01:57:34] WARNING: not removing hydrogen atom without neighbors\n",
      "1060633it [1:53:37, 156.88it/s]RDKit WARNING: [01:57:36] WARNING: not removing hydrogen atom without neighbors\n",
      "1062130it [1:53:47, 154.34it/s]RDKit WARNING: [01:57:45] WARNING: not removing hydrogen atom without neighbors\n",
      "1063626it [1:53:56, 154.49it/s]RDKit WARNING: [01:57:55] WARNING: not removing hydrogen atom without neighbors\n",
      "1065092it [1:54:06, 149.30it/s]RDKit WARNING: [01:58:05] WARNING: not removing hydrogen atom without neighbors\n",
      "1066620it [1:54:16, 146.95it/s]RDKit WARNING: [01:58:14] WARNING: not removing hydrogen atom without neighbors\n",
      "1069078it [1:54:32, 154.29it/s]RDKit WARNING: [01:58:30] WARNING: not removing hydrogen atom without neighbors\n",
      "1069158it [1:54:32, 152.87it/s]RDKit WARNING: [01:58:31] WARNING: not removing hydrogen atom without neighbors\n",
      "1071886it [1:54:50, 155.02it/s]RDKit WARNING: [01:58:48] WARNING: not removing hydrogen atom without neighbors\n",
      "1077900it [1:55:28, 155.38it/s]RDKit WARNING: [01:59:27] WARNING: not removing hydrogen atom without neighbors\n",
      "RDKit WARNING: [01:59:27] WARNING: not removing hydrogen atom without neighbors\n",
      "1078172it [1:55:30, 152.22it/s]RDKit WARNING: [01:59:29] WARNING: not removing hydrogen atom without neighbors\n",
      "1078636it [1:55:33, 156.88it/s]RDKit WARNING: [01:59:32] WARNING: not removing hydrogen atom without neighbors\n",
      "1078764it [1:55:34, 153.57it/s]RDKit WARNING: [01:59:33] WARNING: not removing hydrogen atom without neighbors\n",
      "1084505it [1:56:11, 151.27it/s]RDKit WARNING: [02:00:10] WARNING: not removing hydrogen atom without neighbors\n",
      "1084971it [1:56:14, 153.59it/s]RDKit WARNING: [02:00:13] WARNING: not removing hydrogen atom without neighbors\n",
      "1085100it [1:56:15, 155.47it/s]RDKit WARNING: [02:00:14] WARNING: not removing hydrogen atom without neighbors\n",
      "1085228it [1:56:16, 148.49it/s]RDKit WARNING: [02:00:14] WARNING: not removing hydrogen atom without neighbors\n",
      "1088052it [1:56:34, 154.23it/s]RDKit WARNING: [02:00:33] WARNING: not removing hydrogen atom without neighbors\n",
      "RDKit WARNING: [02:00:33] WARNING: not removing hydrogen atom without neighbors\n",
      "RDKit WARNING: [02:00:33] WARNING: not removing hydrogen atom without neighbors\n",
      "1088692it [1:56:38, 155.24it/s]RDKit WARNING: [02:00:37] WARNING: not removing hydrogen atom without neighbors\n",
      "1091353it [1:56:55, 155.34it/s]RDKit WARNING: [02:00:54] WARNING: not removing hydrogen atom without neighbors\n",
      "RDKit WARNING: [02:00:54] WARNING: not removing hydrogen atom without neighbors\n",
      "RDKit WARNING: [02:00:54] WARNING: not removing hydrogen atom without neighbors\n",
      "1093629it [1:57:10, 155.35it/s]RDKit WARNING: [02:01:09] WARNING: not removing hydrogen atom without neighbors\n",
      "1093949it [1:57:12, 153.59it/s]RDKit WARNING: [02:01:11] WARNING: not removing hydrogen atom without neighbors\n",
      "1100037it [1:57:51, 161.23it/s]RDKit WARNING: [02:01:49] WARNING: not removing hydrogen atom without neighbors\n",
      "RDKit WARNING: [02:01:49] WARNING: not removing hydrogen atom without neighbors\n",
      "1102556it [1:58:07, 158.38it/s]RDKit WARNING: [02:02:05] WARNING: not removing hydrogen atom without neighbors\n",
      "1103668it [1:58:14, 155.36it/s]RDKit WARNING: [02:02:12] WARNING: not removing hydrogen atom without neighbors\n",
      "1103797it [1:58:14, 154.97it/s]RDKit WARNING: [02:02:13] WARNING: not removing hydrogen atom without neighbors\n",
      "1107636it [1:58:39, 154.60it/s]RDKit WARNING: [02:02:38] WARNING: not removing hydrogen atom without neighbors\n",
      "1109223it [1:58:50, 153.20it/s]RDKit WARNING: [02:02:48] WARNING: not removing hydrogen atom without neighbors\n",
      "1109977it [1:58:54, 157.36it/s]RDKit WARNING: [02:02:53] WARNING: not removing hydrogen atom without neighbors\n",
      "1112241it [1:59:09, 153.53it/s]RDKit WARNING: [02:03:08] WARNING: not removing hydrogen atom without neighbors\n",
      "1112321it [1:59:10, 152.98it/s]RDKit WARNING: [02:03:08] WARNING: not removing hydrogen atom without neighbors\n",
      "1113589it [1:59:18, 154.15it/s]RDKit WARNING: [02:03:16] WARNING: not removing hydrogen atom without neighbors\n",
      "1115446it [1:59:30, 154.65it/s]RDKit WARNING: [02:03:28] WARNING: not removing hydrogen atom without neighbors\n",
      "1117352it [1:59:42, 153.30it/s]RDKit WARNING: [02:03:41] WARNING: not removing hydrogen atom without neighbors\n",
      "1117944it [1:59:46, 154.14it/s]RDKit WARNING: [02:03:44] WARNING: not removing hydrogen atom without neighbors\n",
      "1119264it [1:59:54, 154.61it/s]RDKit WARNING: [02:03:53] WARNING: not removing hydrogen atom without neighbors\n",
      "1120725it [2:00:04, 152.62it/s]RDKit WARNING: [02:04:02] WARNING: not removing hydrogen atom without neighbors\n",
      "1121061it [2:00:06, 154.14it/s]RDKit WARNING: [02:04:05] WARNING: not removing hydrogen atom without neighbors\n",
      "1122056it [2:00:12, 154.75it/s]RDKit WARNING: [02:04:11] WARNING: not removing hydrogen atom without neighbors\n",
      "RDKit WARNING: [02:04:11] WARNING: not removing hydrogen atom without neighbors\n",
      "1124603it [2:00:29, 154.09it/s]RDKit WARNING: [02:04:28] WARNING: not removing hydrogen atom without neighbors\n",
      "1124732it [2:00:30, 155.55it/s]RDKit WARNING: [02:04:28] WARNING: not removing hydrogen atom without neighbors\n",
      "1126543it [2:00:41, 151.30it/s]RDKit WARNING: [02:04:40] WARNING: not removing hydrogen atom without neighbors\n",
      "1128533it [2:00:54, 156.04it/s]RDKit WARNING: [02:04:53] WARNING: not removing hydrogen atom without neighbors\n",
      "1131758it [2:01:15, 156.60it/s]RDKit WARNING: [02:05:14] WARNING: not removing hydrogen atom without neighbors\n",
      "1133526it [2:01:27, 154.76it/s]RDKit WARNING: [02:05:25] WARNING: not removing hydrogen atom without neighbors\n",
      "1134105it [2:01:30, 154.70it/s]RDKit WARNING: [02:05:29] WARNING: not removing hydrogen atom without neighbors\n",
      "1134298it [2:01:32, 153.19it/s]RDKit WARNING: [02:05:30] WARNING: not removing hydrogen atom without neighbors\n",
      "1134826it [2:01:35, 154.82it/s]RDKit WARNING: [02:05:34] WARNING: not removing hydrogen atom without neighbors\n",
      "1136526it [2:01:46, 155.28it/s]RDKit WARNING: [02:05:45] WARNING: not removing hydrogen atom without neighbors\n",
      "1138564it [2:01:59, 155.04it/s]RDKit WARNING: [02:05:58] WARNING: not removing hydrogen atom without neighbors\n",
      "1140745it [2:02:13, 152.36it/s]RDKit WARNING: [02:06:12] WARNING: not removing hydrogen atom without neighbors\n",
      "1143944it [2:02:34, 155.82it/s]RDKit WARNING: [02:06:33] WARNING: not removing hydrogen atom without neighbors\n",
      "1144729it [2:02:39, 155.85it/s]RDKit WARNING: [02:06:38] WARNING: not removing hydrogen atom without neighbors\n",
      "RDKit WARNING: [02:06:38] WARNING: not removing hydrogen atom without neighbors\n",
      "1145578it [2:02:45, 155.18it/s]RDKit WARNING: [02:06:43] WARNING: not removing hydrogen atom without neighbors\n",
      "1145882it [2:02:47, 153.66it/s]RDKit WARNING: [02:06:45] WARNING: not removing hydrogen atom without neighbors\n",
      "1147614it [2:02:58, 156.25it/s]RDKit WARNING: [02:06:57] WARNING: not removing hydrogen atom without neighbors\n",
      "1148208it [2:03:02, 154.74it/s]RDKit WARNING: [02:07:00] WARNING: not removing hydrogen atom without neighbors\n",
      "1149044it [2:03:07, 155.13it/s]RDKit WARNING: [02:07:06] WARNING: not removing hydrogen atom without neighbors\n",
      "1149716it [2:03:12, 147.72it/s]RDKit WARNING: [02:07:10] WARNING: not removing hydrogen atom without neighbors\n",
      "RDKit WARNING: [02:07:10] WARNING: not removing hydrogen atom without neighbors\n",
      "1150197it [2:03:15, 156.53it/s]RDKit WARNING: [02:07:13] WARNING: not removing hydrogen atom without neighbors\n",
      "1152121it [2:03:27, 153.88it/s]RDKit WARNING: [02:07:26] WARNING: not removing hydrogen atom without neighbors\n",
      "1157125it [2:03:59, 157.13it/s]RDKit WARNING: [02:07:58] Conflicting single bond directions around double bond at index 5.\n",
      "RDKit WARNING: [02:07:58]   BondStereo set to STEREONONE and single bond directions set to NONE.\n",
      "1158344it [2:04:07, 155.02it/s]RDKit WARNING: [02:08:06] WARNING: not removing hydrogen atom without neighbors\n",
      "1158696it [2:04:10, 154.36it/s]RDKit WARNING: [02:08:08] WARNING: not removing hydrogen atom without neighbors\n",
      "1161214it [2:04:26, 154.98it/s]RDKit WARNING: [02:08:25] WARNING: not removing hydrogen atom without neighbors\n",
      "1162448it [2:04:34, 154.23it/s]RDKit WARNING: [02:08:33] WARNING: not removing hydrogen atom without neighbors\n",
      "1162464it [2:04:34, 153.43it/s]RDKit WARNING: [02:08:33] WARNING: not removing hydrogen atom without neighbors\n",
      "1164616it [2:04:48, 153.97it/s]RDKit WARNING: [02:08:47] WARNING: not removing hydrogen atom without neighbors\n",
      "1165145it [2:04:51, 154.22it/s]RDKit WARNING: [02:08:50] WARNING: not removing hydrogen atom without neighbors\n",
      "1165738it [2:04:55, 153.35it/s]RDKit WARNING: [02:08:54] WARNING: not removing hydrogen atom without neighbors\n",
      "1166075it [2:04:57, 154.12it/s]RDKit WARNING: [02:08:56] WARNING: not removing hydrogen atom without neighbors\n",
      "1166269it [2:04:59, 155.25it/s]RDKit WARNING: [02:08:57] WARNING: not removing hydrogen atom without neighbors\n",
      "RDKit WARNING: [02:08:57] WARNING: not removing hydrogen atom without neighbors\n",
      "RDKit WARNING: [02:08:57] WARNING: not removing hydrogen atom without neighbors\n",
      "1171421it [2:05:32, 150.09it/s]RDKit WARNING: [02:09:31] WARNING: not removing hydrogen atom without neighbors\n",
      "1172016it [2:05:36, 154.26it/s]RDKit WARNING: [02:09:35] WARNING: not removing hydrogen atom without neighbors\n",
      "1177291it [2:06:10, 152.67it/s]RDKit WARNING: [02:10:09] WARNING: not removing hydrogen atom without neighbors\n",
      "1177387it [2:06:11, 152.87it/s]RDKit WARNING: [02:10:09] WARNING: not removing hydrogen atom without neighbors\n",
      "1178030it [2:06:15, 152.85it/s]RDKit WARNING: [02:10:14] WARNING: not removing hydrogen atom without neighbors\n",
      "1179072it [2:06:22, 155.62it/s]RDKit WARNING: [02:10:20] WARNING: not removing hydrogen atom without neighbors\n",
      "1179472it [2:06:24, 154.64it/s]RDKit WARNING: [02:10:23] WARNING: not removing hydrogen atom without neighbors\n",
      "1179809it [2:06:26, 152.88it/s]RDKit WARNING: [02:10:25] WARNING: not removing hydrogen atom without neighbors\n",
      "1184899it [2:06:59, 154.37it/s]RDKit WARNING: [02:10:58] WARNING: not removing hydrogen atom without neighbors\n",
      "1185252it [2:07:02, 153.12it/s]RDKit WARNING: [02:11:00] WARNING: not removing hydrogen atom without neighbors\n",
      "1185848it [2:07:05, 156.21it/s]RDKit WARNING: [02:11:04] WARNING: not removing hydrogen atom without neighbors\n",
      "1187100it [2:07:14, 155.01it/s]RDKit WARNING: [02:11:12] WARNING: not removing hydrogen atom without neighbors\n",
      "RDKit WARNING: [02:11:12] WARNING: not removing hydrogen atom without neighbors\n",
      "1187551it [2:07:16, 155.14it/s]RDKit WARNING: [02:11:15] WARNING: not removing hydrogen atom without neighbors\n",
      "1189396it [2:07:28, 156.64it/s]RDKit WARNING: [02:11:27] WARNING: not removing hydrogen atom without neighbors\n",
      "1191968it [2:07:45, 154.55it/s]RDKit WARNING: [02:11:44] WARNING: not removing hydrogen atom without neighbors\n",
      "1193010it [2:07:52, 145.61it/s]RDKit WARNING: [02:11:50] WARNING: not removing hydrogen atom without neighbors\n",
      "1196026it [2:08:11, 156.38it/s]RDKit WARNING: [02:12:10] WARNING: not removing hydrogen atom without neighbors\n",
      "1199334it [2:08:32, 156.19it/s]RDKit WARNING: [02:12:31] WARNING: not removing hydrogen atom without neighbors\n",
      "1199970it [2:08:36, 158.70it/s]RDKit WARNING: [02:12:35] WARNING: not removing hydrogen atom without neighbors\n",
      "1201461it [2:08:46, 160.05it/s]RDKit WARNING: [02:12:44] WARNING: not removing hydrogen atom without neighbors\n",
      "RDKit WARNING: [02:12:44] WARNING: not removing hydrogen atom without neighbors\n",
      "1202104it [2:08:50, 159.68it/s]RDKit WARNING: [02:12:48] WARNING: not removing hydrogen atom without neighbors\n",
      "1205588it [2:09:12, 158.48it/s]RDKit WARNING: [02:13:10] WARNING: not removing hydrogen atom without neighbors\n",
      "1206718it [2:09:19, 158.41it/s]RDKit WARNING: [02:13:17] WARNING: not removing hydrogen atom without neighbors\n",
      "1207886it [2:09:26, 156.69it/s]RDKit WARNING: [02:13:25] WARNING: not removing hydrogen atom without neighbors\n",
      "1208378it [2:09:29, 156.87it/s]RDKit WARNING: [02:13:28] WARNING: not removing hydrogen atom without neighbors\n",
      "1209224it [2:09:34, 157.66it/s]RDKit WARNING: [02:13:33] WARNING: not removing hydrogen atom without neighbors\n",
      "1215826it [2:10:17, 156.66it/s]RDKit WARNING: [02:14:15] WARNING: not removing hydrogen atom without neighbors\n",
      "1218992it [2:10:37, 151.40it/s]RDKit WARNING: [02:14:36] WARNING: not removing hydrogen atom without neighbors\n",
      "1220741it [2:10:48, 155.21it/s]RDKit WARNING: [02:14:47] WARNING: not removing hydrogen atom without neighbors\n",
      "1220789it [2:10:49, 154.25it/s]RDKit WARNING: [02:14:47] WARNING: not removing hydrogen atom without neighbors\n",
      "RDKit WARNING: [02:14:47] WARNING: not removing hydrogen atom without neighbors\n",
      "1223003it [2:11:03, 154.86it/s]RDKit WARNING: [02:15:02] WARNING: not removing hydrogen atom without neighbors\n",
      "1223179it [2:11:04, 153.87it/s]RDKit WARNING: [02:15:03] WARNING: not removing hydrogen atom without neighbors\n",
      "RDKit WARNING: [02:15:03] WARNING: not removing hydrogen atom without neighbors\n",
      "1225154it [2:11:17, 156.21it/s]RDKit WARNING: [02:15:16] WARNING: not removing hydrogen atom without neighbors\n",
      "1225282it [2:11:18, 153.76it/s]RDKit WARNING: [02:15:16] WARNING: not removing hydrogen atom without neighbors\n",
      "1226420it [2:11:25, 153.43it/s]RDKit WARNING: [02:15:24] WARNING: not removing hydrogen atom without neighbors\n",
      "1227706it [2:11:33, 155.46it/s]RDKit WARNING: [02:15:32] WARNING: not removing hydrogen atom without neighbors\n",
      "1230996it [2:11:55, 156.27it/s]RDKit WARNING: [02:15:53] WARNING: not removing hydrogen atom without neighbors\n",
      "1231174it [2:11:56, 157.93it/s]RDKit WARNING: [02:15:55] WARNING: not removing hydrogen atom without neighbors\n",
      "1234121it [2:12:15, 152.79it/s]RDKit WARNING: [02:16:14] WARNING: not removing hydrogen atom without neighbors\n",
      "1237075it [2:12:34, 154.34it/s]RDKit WARNING: [02:16:33] WARNING: not removing hydrogen atom without neighbors\n",
      "1239565it [2:12:50, 155.52it/s]RDKit WARNING: [02:16:49] WARNING: not removing hydrogen atom without neighbors\n",
      "1241204it [2:13:01, 154.14it/s]RDKit WARNING: [02:16:59] WARNING: not removing hydrogen atom without neighbors\n",
      "1242234it [2:13:07, 154.40it/s]RDKit WARNING: [02:17:06] WARNING: not removing hydrogen atom without neighbors\n",
      "1243567it [2:13:16, 154.67it/s]RDKit WARNING: [02:17:15] WARNING: not removing hydrogen atom without neighbors\n",
      "RDKit WARNING: [02:17:15] WARNING: not removing hydrogen atom without neighbors\n",
      "RDKit WARNING: [02:17:15] WARNING: not removing hydrogen atom without neighbors\n",
      "1244497it [2:13:22, 157.24it/s]RDKit WARNING: [02:17:21] WARNING: not removing hydrogen atom without neighbors\n",
      "1244993it [2:13:25, 153.98it/s]RDKit WARNING: [02:17:24] WARNING: not removing hydrogen atom without neighbors\n",
      "1247931it [2:13:44, 154.45it/s]RDKit WARNING: [02:17:43] WARNING: not removing hydrogen atom without neighbors\n",
      "RDKit WARNING: [02:17:43] WARNING: not removing hydrogen atom without neighbors\n",
      "1249085it [2:13:52, 153.04it/s]RDKit WARNING: [02:17:50] WARNING: not removing hydrogen atom without neighbors\n",
      "1249359it [2:13:54, 155.84it/s]RDKit WARNING: [02:17:52] WARNING: not removing hydrogen atom without neighbors\n",
      "RDKit WARNING: [02:17:52] WARNING: not removing hydrogen atom without neighbors\n",
      "RDKit WARNING: [02:17:52] WARNING: not removing hydrogen atom without neighbors\n",
      "RDKit WARNING: [02:17:52] WARNING: not removing hydrogen atom without neighbors\n",
      "1249488it [2:13:54, 156.12it/s]RDKit WARNING: [02:17:53] WARNING: not removing hydrogen atom without neighbors\n",
      "1251992it [2:14:11, 155.63it/s]RDKit WARNING: [02:18:09] WARNING: not removing hydrogen atom without neighbors\n",
      "1252602it [2:14:15, 154.30it/s]RDKit WARNING: [02:18:13] WARNING: not removing hydrogen atom without neighbors\n",
      "1253052it [2:14:17, 155.87it/s]RDKit WARNING: [02:18:16] WARNING: not removing hydrogen atom without neighbors\n",
      "1254558it [2:14:27, 154.86it/s]RDKit WARNING: [02:18:26] WARNING: not removing hydrogen atom without neighbors\n",
      "1256435it [2:14:39, 156.07it/s]RDKit WARNING: [02:18:38] WARNING: not removing hydrogen atom without neighbors\n",
      "1258055it [2:14:50, 156.75it/s]RDKit WARNING: [02:18:49] WARNING: not removing hydrogen atom without neighbors\n",
      "1260961it [2:15:09, 154.05it/s]RDKit WARNING: [02:19:07] WARNING: not removing hydrogen atom without neighbors\n",
      "1261586it [2:15:13, 153.20it/s]RDKit WARNING: [02:19:11] WARNING: not removing hydrogen atom without neighbors\n",
      "1263949it [2:15:28, 153.97it/s]RDKit WARNING: [02:19:27] WARNING: not removing hydrogen atom without neighbors\n",
      "1264046it [2:15:29, 153.99it/s]RDKit WARNING: [02:19:27] WARNING: not removing hydrogen atom without neighbors\n",
      "RDKit WARNING: [02:19:27] WARNING: not removing hydrogen atom without neighbors\n",
      "1266809it [2:15:46, 157.94it/s]RDKit WARNING: [02:19:45] WARNING: not removing hydrogen atom without neighbors\n",
      "1266857it [2:15:47, 153.57it/s]RDKit WARNING: [02:19:45] WARNING: not removing hydrogen atom without neighbors\n",
      "1269814it [2:16:06, 157.32it/s]RDKit WARNING: [02:20:05] WARNING: not removing hydrogen atom without neighbors\n",
      "1274166it [2:16:34, 154.43it/s]RDKit WARNING: [02:20:33] WARNING: not removing hydrogen atom without neighbors\n",
      "1276738it [2:16:51, 155.91it/s]RDKit WARNING: [02:20:49] WARNING: not removing hydrogen atom without neighbors\n",
      "1277703it [2:16:57, 154.94it/s]RDKit WARNING: [02:20:56] WARNING: not removing hydrogen atom without neighbors\n",
      "1280717it [2:17:16, 156.69it/s]RDKit WARNING: [02:21:15] WARNING: not removing hydrogen atom without neighbors\n",
      "1282111it [2:17:26, 153.57it/s]RDKit WARNING: [02:21:24] WARNING: not removing hydrogen atom without neighbors\n",
      "1282287it [2:17:27, 155.01it/s]RDKit WARNING: [02:21:25] WARNING: not removing hydrogen atom without neighbors\n",
      "1283650it [2:17:35, 153.06it/s]RDKit WARNING: [02:21:34] WARNING: not removing hydrogen atom without neighbors\n",
      "1284371it [2:17:40, 153.50it/s]RDKit WARNING: [02:21:39] WARNING: not removing hydrogen atom without neighbors\n",
      "RDKit WARNING: [02:21:39] WARNING: not removing hydrogen atom without neighbors\n",
      "RDKit WARNING: [02:21:39] WARNING: not removing hydrogen atom without neighbors\n",
      "1285543it [2:17:48, 154.31it/s]RDKit WARNING: [02:21:46] WARNING: not removing hydrogen atom without neighbors\n",
      "1288308it [2:18:06, 156.70it/s]RDKit WARNING: [02:22:04] WARNING: not removing hydrogen atom without neighbors\n",
      "1288452it [2:18:07, 153.16it/s]RDKit WARNING: [02:22:05] WARNING: not removing hydrogen atom without neighbors\n",
      "1289446it [2:18:13, 153.26it/s]RDKit WARNING: [02:22:12] WARNING: not removing hydrogen atom without neighbors\n",
      "1289975it [2:18:16, 153.53it/s]RDKit WARNING: [02:22:15] WARNING: not removing hydrogen atom without neighbors\n",
      "1290167it [2:18:18, 154.65it/s]RDKit WARNING: [02:22:16] WARNING: not removing hydrogen atom without neighbors\n",
      "1293618it [2:18:40, 155.91it/s]RDKit WARNING: [02:22:39] WARNING: not removing hydrogen atom without neighbors\n",
      "RDKit WARNING: [02:22:39] WARNING: not removing hydrogen atom without neighbors\n",
      "1294870it [2:18:48, 154.43it/s]RDKit WARNING: [02:22:47] WARNING: not removing hydrogen atom without neighbors\n",
      "1297262it [2:19:03, 153.83it/s]RDKit WARNING: [02:23:02] WARNING: not removing hydrogen atom without neighbors\n",
      "1297486it [2:19:05, 153.78it/s]RDKit WARNING: [02:23:04] WARNING: not removing hydrogen atom without neighbors\n",
      "1297695it [2:19:06, 155.17it/s]RDKit WARNING: [02:23:05] WARNING: not removing hydrogen atom without neighbors\n",
      "1299030it [2:19:15, 154.26it/s]RDKit WARNING: [02:23:14] WARNING: not removing hydrogen atom without neighbors\n",
      "1299062it [2:19:15, 156.22it/s]RDKit WARNING: [02:23:14] WARNING: not removing hydrogen atom without neighbors\n",
      "1299286it [2:19:17, 153.28it/s]RDKit WARNING: [02:23:15] WARNING: not removing hydrogen atom without neighbors\n",
      "1299848it [2:19:20, 153.82it/s]RDKit WARNING: [02:23:19] WARNING: not removing hydrogen atom without neighbors\n",
      "1300474it [2:19:24, 153.20it/s]RDKit WARNING: [02:23:23] WARNING: not removing hydrogen atom without neighbors\n",
      "1301519it [2:19:31, 152.31it/s]RDKit WARNING: [02:23:30] WARNING: not removing hydrogen atom without neighbors\n",
      "1301999it [2:19:34, 152.09it/s]RDKit WARNING: [02:23:33] WARNING: not removing hydrogen atom without neighbors\n",
      "1304581it [2:19:51, 153.82it/s]RDKit WARNING: [02:23:49] WARNING: not removing hydrogen atom without neighbors\n",
      "RDKit WARNING: [02:23:49] WARNING: not removing hydrogen atom without neighbors\n",
      "RDKit WARNING: [02:23:49] WARNING: not removing hydrogen atom without neighbors\n",
      "1304839it [2:19:52, 154.75it/s]RDKit WARNING: [02:23:51] WARNING: not removing hydrogen atom without neighbors\n",
      "1305866it [2:19:59, 156.03it/s]RDKit WARNING: [02:23:58] WARNING: not removing hydrogen atom without neighbors\n",
      "1310935it [2:20:32, 155.87it/s]RDKit WARNING: [02:24:31] WARNING: not removing hydrogen atom without neighbors\n",
      "1311112it [2:20:33, 153.62it/s]RDKit WARNING: [02:24:32] WARNING: not removing hydrogen atom without neighbors\n",
      "1311658it [2:20:37, 155.85it/s]RDKit WARNING: [02:24:35] WARNING: not removing hydrogen atom without neighbors\n",
      "1312572it [2:20:42, 156.31it/s]RDKit WARNING: [02:24:41] WARNING: not removing hydrogen atom without neighbors\n",
      "1315028it [2:20:58, 154.06it/s]RDKit WARNING: [02:24:57] WARNING: not removing hydrogen atom without neighbors\n",
      "1318300it [2:21:20, 154.89it/s]RDKit WARNING: [02:25:18] WARNING: not removing hydrogen atom without neighbors\n",
      "1319815it [2:21:29, 156.65it/s]RDKit WARNING: [02:25:28] WARNING: not removing hydrogen atom without neighbors\n",
      "1322936it [2:21:49, 156.34it/s]RDKit WARNING: [02:25:48] WARNING: not removing hydrogen atom without neighbors\n",
      "RDKit WARNING: [02:25:48] WARNING: not removing hydrogen atom without neighbors\n",
      "RDKit WARNING: [02:25:48] WARNING: not removing hydrogen atom without neighbors\n",
      "RDKit WARNING: [02:25:48] WARNING: not removing hydrogen atom without neighbors\n",
      "RDKit WARNING: [02:25:48] WARNING: not removing hydrogen atom without neighbors\n",
      "1323176it [2:21:51, 155.21it/s]RDKit WARNING: [02:25:50] WARNING: not removing hydrogen atom without neighbors\n",
      "1324973it [2:22:03, 152.76it/s]RDKit WARNING: [02:26:01] WARNING: not removing hydrogen atom without neighbors\n",
      "1324989it [2:22:03, 146.26it/s]RDKit WARNING: [02:26:01] WARNING: not removing hydrogen atom without neighbors\n",
      "1326050it [2:22:10, 155.23it/s]RDKit WARNING: [02:26:08] WARNING: not removing hydrogen atom without neighbors\n",
      "1327076it [2:22:16, 152.28it/s]RDKit WARNING: [02:26:15] WARNING: not removing hydrogen atom without neighbors\n",
      "1329849it [2:22:34, 152.72it/s]RDKit WARNING: [02:26:33] WARNING: not removing hydrogen atom without neighbors\n",
      "1332434it [2:22:51, 155.46it/s]RDKit WARNING: [02:26:50] WARNING: not removing hydrogen atom without neighbors\n",
      "1332546it [2:22:52, 155.15it/s]RDKit WARNING: [02:26:50] WARNING: not removing hydrogen atom without neighbors\n",
      "1333061it [2:22:55, 154.00it/s]RDKit WARNING: [02:26:54] WARNING: not removing hydrogen atom without neighbors\n",
      "1336378it [2:23:16, 155.52it/s]RDKit WARNING: [02:27:15] WARNING: not removing hydrogen atom without neighbors\n",
      "1337294it [2:23:22, 154.33it/s]RDKit WARNING: [02:27:21] WARNING: not removing hydrogen atom without neighbors\n",
      "1338911it [2:23:33, 149.52it/s]RDKit WARNING: [02:27:32] WARNING: not removing hydrogen atom without neighbors\n",
      "1340389it [2:23:42, 155.46it/s]RDKit WARNING: [02:27:41] WARNING: not removing hydrogen atom without neighbors\n",
      "1340649it [2:23:44, 157.67it/s]RDKit WARNING: [02:27:43] WARNING: not removing hydrogen atom without neighbors\n",
      "1340697it [2:23:44, 156.39it/s]RDKit WARNING: [02:27:43] WARNING: not removing hydrogen atom without neighbors\n",
      "RDKit WARNING: [02:27:43] WARNING: not removing hydrogen atom without neighbors\n",
      "1341916it [2:23:52, 153.32it/s]RDKit WARNING: [02:27:51] WARNING: not removing hydrogen atom without neighbors\n",
      "1348207it [2:24:33, 148.49it/s]RDKit WARNING: [02:28:32] WARNING: not removing hydrogen atom without neighbors\n",
      "1349680it [2:24:43, 155.00it/s]RDKit WARNING: [02:28:41] WARNING: not removing hydrogen atom without neighbors\n",
      "1350098it [2:24:45, 154.12it/s]RDKit WARNING: [02:28:44] WARNING: not removing hydrogen atom without neighbors\n",
      "1350514it [2:24:48, 148.04it/s]RDKit WARNING: [02:28:47] WARNING: not removing hydrogen atom without neighbors\n",
      "1354941it [2:25:17, 154.97it/s]RDKit WARNING: [02:29:15] WARNING: not removing hydrogen atom without neighbors\n",
      "RDKit WARNING: [02:29:15] WARNING: not removing hydrogen atom without neighbors\n",
      "1355359it [2:25:19, 155.21it/s]RDKit WARNING: [02:29:18] WARNING: not removing hydrogen atom without neighbors\n",
      "1355873it [2:25:23, 155.41it/s]RDKit WARNING: [02:29:21] WARNING: not removing hydrogen atom without neighbors\n",
      "1355937it [2:25:23, 155.49it/s]RDKit WARNING: [02:29:22] WARNING: not removing hydrogen atom without neighbors\n",
      "1355954it [2:25:23, 157.02it/s]RDKit WARNING: [02:29:22] WARNING: not removing hydrogen atom without neighbors\n",
      "1358153it [2:25:37, 155.34it/s]RDKit WARNING: [02:29:36] WARNING: not removing hydrogen atom without neighbors\n",
      "1359387it [2:25:45, 153.71it/s]RDKit WARNING: [02:29:44] WARNING: not removing hydrogen atom without neighbors\n",
      "RDKit WARNING: [02:29:44] WARNING: not removing hydrogen atom without neighbors\n",
      "1360402it [2:25:52, 154.57it/s]RDKit WARNING: [02:29:51] WARNING: not removing hydrogen atom without neighbors\n",
      "1361461it [2:25:59, 154.48it/s]RDKit WARNING: [02:29:58] WARNING: not removing hydrogen atom without neighbors\n",
      "1364284it [2:26:17, 155.20it/s]RDKit WARNING: [02:30:16] WARNING: not removing hydrogen atom without neighbors\n",
      "1365474it [2:26:25, 157.20it/s]RDKit WARNING: [02:30:24] WARNING: not removing hydrogen atom without neighbors\n",
      "1367885it [2:26:40, 155.03it/s]RDKit WARNING: [02:30:39] WARNING: not removing hydrogen atom without neighbors\n",
      "1371621it [2:27:05, 152.39it/s]RDKit WARNING: [02:31:03] WARNING: not removing hydrogen atom without neighbors\n",
      "1372248it [2:27:09, 152.47it/s]RDKit WARNING: [02:31:07] WARNING: not removing hydrogen atom without neighbors\n",
      "1372361it [2:27:09, 155.41it/s]RDKit WARNING: [02:31:08] WARNING: not removing hydrogen atom without neighbors\n",
      "1372957it [2:27:13, 147.34it/s]RDKit WARNING: [02:31:12] WARNING: not removing hydrogen atom without neighbors\n",
      "1373760it [2:27:19, 151.81it/s]RDKit WARNING: [02:31:17] WARNING: not removing hydrogen atom without neighbors\n",
      "1373874it [2:27:19, 154.32it/s]RDKit WARNING: [02:31:18] WARNING: not removing hydrogen atom without neighbors\n",
      "1378141it [2:27:47, 155.32it/s]RDKit WARNING: [02:31:46] WARNING: not removing hydrogen atom without neighbors\n",
      "RDKit WARNING: [02:31:46] WARNING: not removing hydrogen atom without neighbors\n",
      "RDKit WARNING: [02:31:46] WARNING: not removing hydrogen atom without neighbors\n",
      "RDKit WARNING: [02:31:46] WARNING: not removing hydrogen atom without neighbors\n",
      "RDKit WARNING: [02:31:46] WARNING: not removing hydrogen atom without neighbors\n",
      "RDKit WARNING: [02:31:46] WARNING: not removing hydrogen atom without neighbors\n",
      "1378157it [2:27:47, 154.25it/s]RDKit WARNING: [02:31:46] WARNING: not removing hydrogen atom without neighbors\n",
      "1380997it [2:28:05, 154.34it/s]RDKit WARNING: [02:32:04] WARNING: not removing hydrogen atom without neighbors\n",
      "1381398it [2:28:08, 155.09it/s]RDKit WARNING: [02:32:07] WARNING: not removing hydrogen atom without neighbors\n",
      "1382827it [2:28:17, 154.03it/s]RDKit WARNING: [02:32:16] WARNING: not removing hydrogen atom without neighbors\n",
      "1385030it [2:28:31, 156.69it/s]RDKit WARNING: [02:32:30] WARNING: not removing hydrogen atom without neighbors\n",
      "1385625it [2:28:35, 153.95it/s]RDKit WARNING: [02:32:34] WARNING: not removing hydrogen atom without neighbors\n",
      "1387582it [2:28:48, 155.88it/s]RDKit WARNING: [02:32:47] WARNING: not removing hydrogen atom without neighbors\n",
      "1388063it [2:28:51, 153.19it/s]RDKit WARNING: [02:32:50] WARNING: not removing hydrogen atom without neighbors\n",
      "1390776it [2:29:09, 154.34it/s]RDKit WARNING: [02:33:07] WARNING: not removing hydrogen atom without neighbors\n",
      "1390793it [2:29:09, 156.59it/s]RDKit WARNING: [02:33:07] WARNING: not removing hydrogen atom without neighbors\n",
      "1391193it [2:29:11, 154.49it/s]RDKit WARNING: [02:33:10] WARNING: not removing hydrogen atom without neighbors\n",
      "1393486it [2:29:26, 160.99it/s]RDKit WARNING: [02:33:25] WARNING: not removing hydrogen atom without neighbors\n",
      "1394480it [2:29:32, 159.86it/s]RDKit WARNING: [02:33:31] WARNING: not removing hydrogen atom without neighbors\n",
      "1394871it [2:29:35, 158.13it/s]RDKit WARNING: [02:33:33] WARNING: not removing hydrogen atom without neighbors\n",
      "1397772it [2:29:53, 164.06it/s]RDKit WARNING: [02:33:52] WARNING: not removing hydrogen atom without neighbors\n",
      "1403357it [2:30:28, 160.79it/s]RDKit WARNING: [02:34:27] WARNING: not removing hydrogen atom without neighbors\n",
      "1404189it [2:30:33, 156.02it/s]RDKit WARNING: [02:34:32] WARNING: not removing hydrogen atom without neighbors\n",
      "1405103it [2:30:39, 153.91it/s]RDKit WARNING: [02:34:38] WARNING: not removing hydrogen atom without neighbors\n",
      "1406480it [2:30:48, 150.67it/s]RDKit WARNING: [02:34:47] WARNING: not removing hydrogen atom without neighbors\n",
      "1408533it [2:31:02, 155.82it/s]RDKit WARNING: [02:35:00] WARNING: not removing hydrogen atom without neighbors\n",
      "1409252it [2:31:06, 155.90it/s]RDKit WARNING: [02:35:05] WARNING: not removing hydrogen atom without neighbors\n",
      "1411896it [2:31:23, 155.55it/s]RDKit WARNING: [02:35:22] WARNING: not removing hydrogen atom without neighbors\n",
      "1412216it [2:31:26, 153.25it/s]RDKit WARNING: [02:35:24] WARNING: not removing hydrogen atom without neighbors\n",
      "1413273it [2:31:32, 154.08it/s]RDKit WARNING: [02:35:31] WARNING: not removing hydrogen atom without neighbors\n",
      "1413433it [2:31:33, 156.16it/s]RDKit WARNING: [02:35:32] WARNING: not removing hydrogen atom without neighbors\n",
      "1415213it [2:31:45, 153.17it/s]RDKit WARNING: [02:35:44] WARNING: not removing hydrogen atom without neighbors\n",
      "RDKit WARNING: [02:35:44] WARNING: not removing hydrogen atom without neighbors\n",
      "1415325it [2:31:46, 155.32it/s]RDKit WARNING: [02:35:44] WARNING: not removing hydrogen atom without neighbors\n",
      "1421600it [2:32:26, 153.48it/s]RDKit WARNING: [02:36:25] WARNING: not removing hydrogen atom without neighbors\n",
      "1421809it [2:32:28, 155.52it/s]RDKit WARNING: [02:36:26] WARNING: not removing hydrogen atom without neighbors\n",
      "1422082it [2:32:29, 153.84it/s]RDKit WARNING: [02:36:28] WARNING: not removing hydrogen atom without neighbors\n",
      "1422483it [2:32:32, 154.98it/s]RDKit WARNING: [02:36:31] WARNING: not removing hydrogen atom without neighbors\n",
      "1424926it [2:32:48, 153.27it/s]RDKit WARNING: [02:36:47] WARNING: not removing hydrogen atom without neighbors\n",
      "1425216it [2:32:50, 156.49it/s]RDKit WARNING: [02:36:48] WARNING: not removing hydrogen atom without neighbors\n",
      "1425552it [2:32:52, 155.91it/s]RDKit WARNING: [02:36:51] WARNING: not removing hydrogen atom without neighbors\n",
      "1425730it [2:32:53, 156.60it/s]RDKit WARNING: [02:36:52] WARNING: not removing hydrogen atom without neighbors\n",
      "1426580it [2:32:58, 154.14it/s]RDKit WARNING: [02:36:57] WARNING: not removing hydrogen atom without neighbors\n",
      "1428219it [2:33:09, 156.34it/s]RDKit WARNING: [02:37:08] WARNING: not removing hydrogen atom without neighbors\n",
      "1430401it [2:33:23, 155.19it/s]RDKit WARNING: [02:37:22] WARNING: not removing hydrogen atom without neighbors\n",
      "1432966it [2:33:40, 154.56it/s]RDKit WARNING: [02:37:38] WARNING: not removing hydrogen atom without neighbors\n",
      "1434898it [2:33:52, 155.20it/s]RDKit WARNING: [02:37:51] WARNING: not removing hydrogen atom without neighbors\n",
      "1437510it [2:34:09, 151.82it/s]RDKit WARNING: [02:38:08] WARNING: not removing hydrogen atom without neighbors\n",
      "1442013it [2:34:38, 155.92it/s]RDKit WARNING: [02:38:37] WARNING: not removing hydrogen atom without neighbors\n",
      "1443296it [2:34:46, 154.27it/s]RDKit WARNING: [02:38:45] WARNING: not removing hydrogen atom without neighbors\n",
      "1443360it [2:34:47, 153.97it/s]RDKit WARNING: [02:38:45] WARNING: not removing hydrogen atom without neighbors\n",
      "1443876it [2:34:50, 155.65it/s]RDKit WARNING: [02:38:49] WARNING: not removing hydrogen atom without neighbors\n",
      "1444039it [2:34:51, 157.13it/s]RDKit WARNING: [02:38:50] WARNING: not removing hydrogen atom without neighbors\n",
      "1446980it [2:35:10, 152.94it/s]RDKit WARNING: [02:39:09] WARNING: not removing hydrogen atom without neighbors\n",
      "1448587it [2:35:20, 155.73it/s]RDKit WARNING: [02:39:19] WARNING: not removing hydrogen atom without neighbors\n",
      "1450884it [2:35:35, 155.83it/s]RDKit WARNING: [02:39:34] WARNING: not removing hydrogen atom without neighbors\n",
      "1451061it [2:35:36, 157.82it/s]RDKit WARNING: [02:39:35] WARNING: not removing hydrogen atom without neighbors\n",
      "1455915it [2:36:08, 155.91it/s]RDKit WARNING: [02:40:06] WARNING: not removing hydrogen atom without neighbors\n",
      "1458023it [2:36:21, 153.73it/s]RDKit WARNING: [02:40:20] WARNING: not removing hydrogen atom without neighbors\n",
      "1462184it [2:36:48, 155.26it/s]RDKit WARNING: [02:40:47] WARNING: not removing hydrogen atom without neighbors\n",
      "1462488it [2:36:50, 155.18it/s]RDKit WARNING: [02:40:49] WARNING: not removing hydrogen atom without neighbors\n",
      "1462504it [2:36:50, 155.10it/s]RDKit WARNING: [02:40:49] WARNING: not removing hydrogen atom without neighbors\n",
      "1467447it [2:37:22, 154.15it/s]RDKit WARNING: [02:41:21] WARNING: not removing hydrogen atom without neighbors\n",
      "1468474it [2:37:29, 154.78it/s]RDKit WARNING: [02:41:27] WARNING: not removing hydrogen atom without neighbors\n",
      "1469984it [2:37:38, 157.08it/s]RDKit WARNING: [02:41:37] WARNING: not removing hydrogen atom without neighbors\n",
      "RDKit WARNING: [02:41:37] WARNING: not removing hydrogen atom without neighbors\n",
      "1472158it [2:37:52, 155.96it/s]RDKit WARNING: [02:41:51] WARNING: not removing hydrogen atom without neighbors\n",
      "1472965it [2:37:58, 156.97it/s]RDKit WARNING: [02:41:56] WARNING: not removing hydrogen atom without neighbors\n",
      "RDKit WARNING: [02:41:56] WARNING: not removing hydrogen atom without neighbors\n",
      "1473318it [2:38:00, 152.31it/s]RDKit WARNING: [02:41:58] WARNING: not removing hydrogen atom without neighbors\n",
      "1475314it [2:38:13, 153.50it/s]RDKit WARNING: [02:42:11] WARNING: not removing hydrogen atom without neighbors\n",
      "1475993it [2:38:17, 156.02it/s]RDKit WARNING: [02:42:16] WARNING: not removing hydrogen atom without neighbors\n",
      "1476057it [2:38:17, 156.55it/s]RDKit WARNING: [02:42:16] WARNING: not removing hydrogen atom without neighbors\n",
      "RDKit WARNING: [02:42:16] WARNING: not removing hydrogen atom without neighbors\n",
      "1479455it [2:38:39, 145.25it/s]RDKit WARNING: [02:42:38] WARNING: not removing hydrogen atom without neighbors\n",
      "1481358it [2:38:52, 154.15it/s]RDKit WARNING: [02:42:50] WARNING: not removing hydrogen atom without neighbors\n",
      "1482898it [2:39:01, 153.17it/s]RDKit WARNING: [02:43:00] WARNING: not removing hydrogen atom without neighbors\n",
      "1487719it [2:39:33, 156.17it/s]RDKit WARNING: [02:43:31] WARNING: not removing hydrogen atom without neighbors\n",
      "1488073it [2:39:35, 152.94it/s]RDKit WARNING: [02:43:34] WARNING: not removing hydrogen atom without neighbors\n",
      "1488153it [2:39:35, 155.38it/s]RDKit WARNING: [02:43:34] WARNING: not removing hydrogen atom without neighbors\n",
      "1489999it [2:39:47, 155.64it/s]RDKit WARNING: [02:43:46] WARNING: not removing hydrogen atom without neighbors\n",
      "1490113it [2:39:48, 157.72it/s]RDKit WARNING: [02:43:47] WARNING: not removing hydrogen atom without neighbors\n",
      "1491047it [2:39:54, 155.13it/s]RDKit WARNING: [02:43:53] WARNING: not removing hydrogen atom without neighbors\n",
      "1493693it [2:40:11, 155.21it/s]RDKit WARNING: [02:44:10] WARNING: not removing hydrogen atom without neighbors\n",
      "1494830it [2:40:18, 154.77it/s]RDKit WARNING: [02:44:17] WARNING: not removing hydrogen atom without neighbors\n",
      "1495071it [2:40:20, 154.16it/s]RDKit WARNING: [02:44:19] WARNING: not removing hydrogen atom without neighbors\n",
      "1495938it [2:40:26, 155.44it/s]RDKit WARNING: [02:44:24] WARNING: not removing hydrogen atom without neighbors\n",
      "1498703it [2:40:43, 156.97it/s]RDKit WARNING: [02:44:42] WARNING: not removing hydrogen atom without neighbors\n",
      "1498865it [2:40:44, 157.77it/s]RDKit WARNING: [02:44:43] WARNING: not removing hydrogen atom without neighbors\n",
      "1499426it [2:40:48, 153.65it/s]RDKit WARNING: [02:44:47] WARNING: not removing hydrogen atom without neighbors\n",
      "1500695it [2:40:56, 157.12it/s]RDKit WARNING: [02:44:55] WARNING: not removing hydrogen atom without neighbors\n",
      "1505502it [2:41:27, 158.81it/s]RDKit WARNING: [02:45:26] WARNING: not removing hydrogen atom without neighbors\n",
      "1507626it [2:41:41, 155.38it/s]RDKit WARNING: [02:45:40] WARNING: not removing hydrogen atom without neighbors\n",
      "1509297it [2:41:52, 157.03it/s]RDKit WARNING: [02:45:50] WARNING: not removing hydrogen atom without neighbors\n",
      "1513027it [2:42:16, 155.64it/s]RDKit WARNING: [02:46:14] WARNING: not removing hydrogen atom without neighbors\n",
      "RDKit WARNING: [02:46:14] WARNING: not removing hydrogen atom without neighbors\n",
      "1513780it [2:42:21, 155.56it/s]RDKit WARNING: [02:46:19] WARNING: not removing hydrogen atom without neighbors\n",
      "RDKit WARNING: [02:46:19] WARNING: not removing hydrogen atom without neighbors\n",
      "1513972it [2:42:22, 153.34it/s]RDKit WARNING: [02:46:21] WARNING: not removing hydrogen atom without neighbors\n",
      "1515385it [2:42:31, 154.82it/s]RDKit WARNING: [02:46:30] WARNING: not removing hydrogen atom without neighbors\n",
      "1515547it [2:42:32, 158.56it/s]RDKit WARNING: [02:46:31] WARNING: not removing hydrogen atom without neighbors\n",
      "1518120it [2:42:49, 153.99it/s]RDKit WARNING: [02:46:47] WARNING: not removing hydrogen atom without neighbors\n",
      "1520308it [2:43:03, 155.35it/s]RDKit WARNING: [02:47:01] WARNING: not removing hydrogen atom without neighbors\n",
      "1521079it [2:43:08, 154.25it/s]RDKit WARNING: [02:47:06] WARNING: not removing hydrogen atom without neighbors\n",
      "1523487it [2:43:23, 154.51it/s]RDKit WARNING: [02:47:22] WARNING: not removing hydrogen atom without neighbors\n",
      "RDKit WARNING: [02:47:22] WARNING: not removing hydrogen atom without neighbors\n",
      "1524227it [2:43:28, 156.46it/s]RDKit WARNING: [02:47:27] WARNING: not removing hydrogen atom without neighbors\n",
      "1524579it [2:43:30, 154.01it/s]RDKit WARNING: [02:47:29] WARNING: not removing hydrogen atom without neighbors\n",
      "1530135it [2:44:06, 155.68it/s]RDKit WARNING: [02:48:05] WARNING: not removing hydrogen atom without neighbors\n",
      "1532990it [2:44:25, 155.75it/s]RDKit WARNING: [02:48:23] WARNING: not removing hydrogen atom without neighbors\n",
      "RDKit WARNING: [02:48:23] WARNING: not removing hydrogen atom without neighbors\n",
      "RDKit WARNING: [02:48:23] WARNING: not removing hydrogen atom without neighbors\n",
      "1533599it [2:44:28, 155.10it/s]RDKit WARNING: [02:48:27] WARNING: not removing hydrogen atom without neighbors\n",
      "1534837it [2:44:36, 152.87it/s]RDKit WARNING: [02:48:35] WARNING: not removing hydrogen atom without neighbors\n",
      "1536218it [2:44:45, 157.50it/s]RDKit WARNING: [02:48:44] WARNING: not removing hydrogen atom without neighbors\n",
      "1536812it [2:44:49, 154.02it/s]RDKit WARNING: [02:48:48] WARNING: not removing hydrogen atom without neighbors\n",
      "1539537it [2:45:07, 153.30it/s]RDKit WARNING: [02:49:06] WARNING: not removing hydrogen atom without neighbors\n",
      "RDKit WARNING: [02:49:06] WARNING: not removing hydrogen atom without neighbors\n",
      "1540352it [2:45:12, 153.53it/s]RDKit WARNING: [02:49:11] WARNING: not removing hydrogen atom without neighbors\n",
      "1540593it [2:45:14, 153.94it/s]RDKit WARNING: [02:49:13] WARNING: not removing hydrogen atom without neighbors\n",
      "1540913it [2:45:16, 154.15it/s]RDKit WARNING: [02:49:15] WARNING: not removing hydrogen atom without neighbors\n",
      "1543435it [2:45:32, 156.48it/s]RDKit WARNING: [02:49:31] WARNING: not removing hydrogen atom without neighbors\n",
      "1546462it [2:45:52, 154.96it/s]RDKit WARNING: [02:49:51] WARNING: not removing hydrogen atom without neighbors\n",
      "RDKit WARNING: [02:49:51] WARNING: not removing hydrogen atom without neighbors\n",
      "1547217it [2:45:57, 155.21it/s]RDKit WARNING: [02:49:56] WARNING: not removing hydrogen atom without neighbors\n",
      "1548467it [2:46:05, 152.22it/s]RDKit WARNING: [02:50:04] WARNING: not removing hydrogen atom without neighbors\n",
      "1551432it [2:46:24, 153.91it/s]RDKit WARNING: [02:50:23] WARNING: not removing hydrogen atom without neighbors\n",
      "RDKit WARNING: [02:50:23] WARNING: not removing hydrogen atom without neighbors\n",
      "1553424it [2:46:37, 154.48it/s]RDKit WARNING: [02:50:36] WARNING: not removing hydrogen atom without neighbors\n",
      "1553730it [2:46:39, 155.27it/s]RDKit WARNING: [02:50:38] WARNING: not removing hydrogen atom without neighbors\n",
      "1554002it [2:46:41, 155.00it/s]RDKit WARNING: [02:50:40] WARNING: not removing hydrogen atom without neighbors\n",
      "1557086it [2:47:01, 154.84it/s]RDKit WARNING: [02:51:00] WARNING: not removing hydrogen atom without neighbors\n",
      "1557295it [2:47:02, 156.77it/s]RDKit WARNING: [02:51:01] WARNING: not removing hydrogen atom without neighbors\n",
      "1558418it [2:47:09, 156.95it/s]RDKit WARNING: [02:51:08] WARNING: not removing hydrogen atom without neighbors\n",
      "1558546it [2:47:10, 154.22it/s]RDKit WARNING: [02:51:09] WARNING: not removing hydrogen atom without neighbors\n",
      "RDKit WARNING: [02:51:09] WARNING: not removing hydrogen atom without neighbors\n",
      "1559380it [2:47:16, 154.72it/s]RDKit WARNING: [02:51:14] WARNING: not removing hydrogen atom without neighbors\n",
      "1559620it [2:47:17, 155.71it/s]RDKit WARNING: [02:51:16] WARNING: not removing hydrogen atom without neighbors\n",
      "1559732it [2:47:18, 154.15it/s]RDKit WARNING: [02:51:17] WARNING: not removing hydrogen atom without neighbors\n",
      "RDKit WARNING: [02:51:17] WARNING: not removing hydrogen atom without neighbors\n",
      "1563918it [2:47:45, 147.82it/s]RDKit WARNING: [02:51:44] WARNING: not removing hydrogen atom without neighbors\n",
      "1567699it [2:48:09, 154.83it/s]RDKit WARNING: [02:52:08] WARNING: not removing hydrogen atom without neighbors\n",
      "1567875it [2:48:11, 154.84it/s]RDKit WARNING: [02:52:09] WARNING: not removing hydrogen atom without neighbors\n",
      "1569541it [2:48:21, 153.40it/s]RDKit WARNING: [02:52:20] WARNING: not removing hydrogen atom without neighbors\n",
      "1570806it [2:48:30, 154.90it/s]RDKit WARNING: [02:52:28] WARNING: not removing hydrogen atom without neighbors\n",
      "1571769it [2:48:36, 153.87it/s]RDKit WARNING: [02:52:35] WARNING: not removing hydrogen atom without neighbors\n",
      "1571913it [2:48:37, 153.19it/s]RDKit WARNING: [02:52:36] WARNING: not removing hydrogen atom without neighbors\n",
      "1572235it [2:48:39, 154.24it/s]RDKit WARNING: [02:52:38] WARNING: not removing hydrogen atom without neighbors\n",
      "1575314it [2:48:59, 152.70it/s]RDKit WARNING: [02:52:58] WARNING: not removing hydrogen atom without neighbors\n",
      "1575939it [2:49:03, 153.65it/s]RDKit WARNING: [02:53:02] WARNING: not removing hydrogen atom without neighbors\n",
      "1576805it [2:49:08, 151.90it/s]RDKit WARNING: [02:53:07] WARNING: not removing hydrogen atom without neighbors\n",
      "1580780it [2:49:34, 153.64it/s]RDKit WARNING: [02:53:32] WARNING: not removing hydrogen atom without neighbors\n",
      "RDKit WARNING: [02:53:32] WARNING: not removing hydrogen atom without neighbors\n",
      "1582894it [2:49:47, 156.38it/s]RDKit WARNING: [02:53:46] WARNING: not removing hydrogen atom without neighbors\n",
      "1585512it [2:50:04, 155.07it/s]RDKit WARNING: [02:54:03] WARNING: not removing hydrogen atom without neighbors\n",
      "1589260it [2:50:28, 155.44it/s]RDKit WARNING: [02:54:27] WARNING: not removing hydrogen atom without neighbors\n",
      "1591922it [2:50:45, 154.21it/s]RDKit WARNING: [02:54:44] WARNING: not removing hydrogen atom without neighbors\n",
      "1592162it [2:50:47, 154.51it/s]RDKit WARNING: [02:54:46] WARNING: not removing hydrogen atom without neighbors\n",
      "1595106it [2:51:06, 153.58it/s]RDKit WARNING: [02:55:05] WARNING: not removing hydrogen atom without neighbors\n",
      "1597195it [2:51:19, 151.89it/s]RDKit WARNING: [02:55:18] WARNING: not removing hydrogen atom without neighbors\n",
      "1599786it [2:51:36, 156.64it/s]RDKit WARNING: [02:55:35] WARNING: not removing hydrogen atom without neighbors\n",
      "1601186it [2:51:45, 157.41it/s]RDKit WARNING: [02:55:44] WARNING: not removing hydrogen atom without neighbors\n",
      "1605724it [2:52:14, 157.05it/s]RDKit WARNING: [02:56:13] WARNING: not removing hydrogen atom without neighbors\n",
      "1607654it [2:52:27, 150.90it/s]RDKit WARNING: [02:56:26] WARNING: not removing hydrogen atom without neighbors\n",
      "1611240it [2:52:50, 156.49it/s]RDKit WARNING: [02:56:49] WARNING: not removing hydrogen atom without neighbors\n",
      "1618644it [2:53:38, 155.70it/s]RDKit WARNING: [02:57:36] WARNING: not removing hydrogen atom without neighbors\n",
      "RDKit WARNING: [02:57:36] WARNING: not removing hydrogen atom without neighbors\n",
      "1619128it [2:53:41, 154.16it/s]RDKit WARNING: [02:57:39] WARNING: not removing hydrogen atom without neighbors\n",
      "1619768it [2:53:45, 152.25it/s]RDKit WARNING: [02:57:44] WARNING: not removing hydrogen atom without neighbors\n",
      "1622982it [2:54:06, 151.60it/s]RDKit WARNING: [02:58:04] WARNING: not removing hydrogen atom without neighbors\n",
      "1624536it [2:54:16, 148.78it/s]RDKit WARNING: [02:58:14] WARNING: not removing hydrogen atom without neighbors\n",
      "1624986it [2:54:19, 154.48it/s]RDKit WARNING: [02:58:17] WARNING: not removing hydrogen atom without neighbors\n",
      "1625918it [2:54:25, 153.32it/s]RDKit WARNING: [02:58:23] WARNING: not removing hydrogen atom without neighbors\n",
      "1627603it [2:54:35, 156.05it/s]RDKit WARNING: [02:58:34] WARNING: not removing hydrogen atom without neighbors\n",
      "1628761it [2:54:43, 155.21it/s]RDKit WARNING: [02:58:42] WARNING: not removing hydrogen atom without neighbors\n",
      "1629677it [2:54:49, 153.25it/s]RDKit WARNING: [02:58:48] WARNING: not removing hydrogen atom without neighbors\n",
      "1630469it [2:54:54, 156.81it/s]RDKit WARNING: [02:58:53] WARNING: not removing hydrogen atom without neighbors\n",
      "1632222it [2:55:05, 156.66it/s]RDKit WARNING: [02:59:04] WARNING: not removing hydrogen atom without neighbors\n",
      "1632833it [2:55:09, 156.06it/s]RDKit WARNING: [02:59:08] WARNING: not removing hydrogen atom without neighbors\n",
      "1633059it [2:55:11, 151.50it/s]RDKit WARNING: [02:59:09] WARNING: not removing hydrogen atom without neighbors\n",
      "1633622it [2:55:14, 155.37it/s]RDKit WARNING: [02:59:13] WARNING: not removing hydrogen atom without neighbors\n",
      "1634537it [2:55:20, 158.98it/s]RDKit WARNING: [02:59:19] WARNING: not removing hydrogen atom without neighbors\n",
      "RDKit WARNING: [02:59:19] WARNING: not removing hydrogen atom without neighbors\n",
      "1638104it [2:55:43, 154.46it/s]RDKit WARNING: [02:59:42] Conflicting single bond directions around double bond at index 7.\n",
      "RDKit WARNING: [02:59:42]   BondStereo set to STEREONONE and single bond directions set to NONE.\n",
      "1638169it [2:55:44, 155.34it/s]RDKit WARNING: [02:59:42] WARNING: not removing hydrogen atom without neighbors\n",
      "1638410it [2:55:45, 156.03it/s]RDKit WARNING: [02:59:44] WARNING: not removing hydrogen atom without neighbors\n",
      "1639086it [2:55:49, 154.89it/s]RDKit WARNING: [02:59:48] WARNING: not removing hydrogen atom without neighbors\n",
      "1640469it [2:55:58, 155.56it/s]RDKit WARNING: [02:59:57] WARNING: not removing hydrogen atom without neighbors\n",
      "1640485it [2:55:58, 154.40it/s]RDKit WARNING: [02:59:57] WARNING: not removing hydrogen atom without neighbors\n",
      "1640998it [2:56:02, 156.79it/s]RDKit WARNING: [03:00:00] WARNING: not removing hydrogen atom without neighbors\n",
      "RDKit WARNING: [03:00:00] WARNING: not removing hydrogen atom without neighbors\n",
      "1646574it [2:56:38, 157.58it/s]RDKit WARNING: [03:00:37] WARNING: not removing hydrogen atom without neighbors\n",
      "1651133it [2:57:07, 155.25it/s]RDKit WARNING: [03:01:06] WARNING: not removing hydrogen atom without neighbors\n",
      "1651245it [2:57:08, 155.21it/s]RDKit WARNING: [03:01:07] WARNING: not removing hydrogen atom without neighbors\n",
      "1651535it [2:57:10, 156.86it/s]RDKit WARNING: [03:01:08] WARNING: not removing hydrogen atom without neighbors\n",
      "1654057it [2:57:26, 154.14it/s]RDKit WARNING: [03:01:25] WARNING: not removing hydrogen atom without neighbors\n",
      "1654717it [2:57:30, 154.40it/s]RDKit WARNING: [03:01:29] WARNING: not removing hydrogen atom without neighbors\n",
      "1658221it [2:57:53, 156.63it/s]RDKit WARNING: [03:01:52] WARNING: not removing hydrogen atom without neighbors\n",
      "1659636it [2:58:02, 153.66it/s]RDKit WARNING: [03:02:01] WARNING: not removing hydrogen atom without neighbors\n",
      "1660278it [2:58:06, 153.01it/s]RDKit WARNING: [03:02:05] WARNING: not removing hydrogen atom without neighbors\n",
      "1660599it [2:58:08, 154.52it/s]RDKit WARNING: [03:02:07] WARNING: not removing hydrogen atom without neighbors\n",
      "1663254it [2:58:25, 156.58it/s]RDKit WARNING: [03:02:24] WARNING: not removing hydrogen atom without neighbors\n",
      "1666897it [2:58:49, 155.48it/s]RDKit WARNING: [03:02:48] WARNING: not removing hydrogen atom without neighbors\n",
      "1668119it [2:58:57, 156.02it/s]RDKit WARNING: [03:02:55] WARNING: not removing hydrogen atom without neighbors\n",
      "1668263it [2:58:58, 155.97it/s]RDKit WARNING: [03:02:56] WARNING: not removing hydrogen atom without neighbors\n",
      "RDKit WARNING: [03:02:56] WARNING: not removing hydrogen atom without neighbors\n",
      "1670686it [2:59:13, 157.10it/s]RDKit WARNING: [03:03:12] WARNING: not removing hydrogen atom without neighbors\n",
      "1671280it [2:59:17, 154.78it/s]RDKit WARNING: [03:03:16] WARNING: not removing hydrogen atom without neighbors\n",
      "1672036it [2:59:22, 155.24it/s]RDKit WARNING: [03:03:21] WARNING: not removing hydrogen atom without neighbors\n",
      "1672277it [2:59:24, 155.13it/s]RDKit WARNING: [03:03:22] WARNING: not removing hydrogen atom without neighbors\n",
      "1673278it [2:59:30, 156.14it/s]RDKit WARNING: [03:03:29] WARNING: not removing hydrogen atom without neighbors\n",
      "1679477it [3:00:10, 154.07it/s]RDKit WARNING: [03:04:09] WARNING: not removing hydrogen atom without neighbors\n",
      "1682981it [3:00:33, 152.95it/s]RDKit WARNING: [03:04:32] WARNING: not removing hydrogen atom without neighbors\n",
      "1685203it [3:00:47, 154.72it/s]RDKit WARNING: [03:04:46] WARNING: not removing hydrogen atom without neighbors\n",
      "1687567it [3:01:03, 154.86it/s]RDKit WARNING: [03:05:01] WARNING: not removing hydrogen atom without neighbors\n",
      "1689545it [3:01:15, 156.11it/s]RDKit WARNING: [03:05:14] WARNING: not removing hydrogen atom without neighbors\n",
      "RDKit WARNING: [03:05:14] WARNING: not removing hydrogen atom without neighbors\n",
      "1689738it [3:01:17, 151.07it/s]RDKit WARNING: [03:05:15] WARNING: not removing hydrogen atom without neighbors\n",
      "1690989it [3:01:25, 152.84it/s]RDKit WARNING: [03:05:23] WARNING: not removing hydrogen atom without neighbors\n",
      "RDKit WARNING: [03:05:23] WARNING: not removing hydrogen atom without neighbors\n",
      "1692292it [3:01:33, 155.05it/s]RDKit WARNING: [03:05:32] WARNING: not removing hydrogen atom without neighbors\n",
      "1698540it [3:02:13, 155.17it/s]RDKit WARNING: [03:06:12] WARNING: not removing hydrogen atom without neighbors\n",
      "1699005it [3:02:17, 155.08it/s]RDKit WARNING: [03:06:15] WARNING: not removing hydrogen atom without neighbors\n",
      "1700323it [3:02:25, 155.60it/s]RDKit WARNING: [03:06:24] WARNING: not removing hydrogen atom without neighbors\n",
      "1705004it [3:02:55, 152.97it/s]RDKit WARNING: [03:06:54] WARNING: not removing hydrogen atom without neighbors\n",
      "1705820it [3:03:01, 153.52it/s]RDKit WARNING: [03:06:59] WARNING: not removing hydrogen atom without neighbors\n",
      "1706397it [3:03:04, 152.51it/s]RDKit WARNING: [03:07:03] WARNING: not removing hydrogen atom without neighbors\n",
      "1709603it [3:03:25, 154.78it/s]RDKit WARNING: [03:07:24] WARNING: not removing hydrogen atom without neighbors\n",
      "1709684it [3:03:26, 157.17it/s]RDKit WARNING: [03:07:24] WARNING: not removing hydrogen atom without neighbors\n",
      "1710615it [3:03:32, 152.70it/s]RDKit WARNING: [03:07:30] WARNING: not removing hydrogen atom without neighbors\n",
      "1711207it [3:03:36, 153.36it/s]RDKit WARNING: [03:07:34] WARNING: not removing hydrogen atom without neighbors\n",
      "1714063it [3:03:54, 155.42it/s]RDKit WARNING: [03:07:53] WARNING: not removing hydrogen atom without neighbors\n",
      "1714159it [3:03:55, 154.50it/s]RDKit WARNING: [03:07:54] WARNING: not removing hydrogen atom without neighbors\n",
      "RDKit WARNING: [03:07:54] WARNING: not removing hydrogen atom without neighbors\n",
      "1716855it [3:04:12, 154.28it/s]RDKit WARNING: [03:08:11] WARNING: not removing hydrogen atom without neighbors\n",
      "1717785it [3:04:18, 154.91it/s]RDKit WARNING: [03:08:17] WARNING: not removing hydrogen atom without neighbors\n",
      "1719070it [3:04:27, 153.95it/s]RDKit WARNING: [03:08:25] WARNING: not removing hydrogen atom without neighbors\n",
      "1720737it [3:04:37, 154.56it/s]RDKit WARNING: [03:08:36] WARNING: not removing hydrogen atom without neighbors\n",
      "1723771it [3:04:57, 154.82it/s]RDKit WARNING: [03:08:56] WARNING: not removing hydrogen atom without neighbors\n",
      "1724027it [3:04:59, 156.21it/s]RDKit WARNING: [03:08:57] WARNING: not removing hydrogen atom without neighbors\n",
      "RDKit WARNING: [03:08:57] WARNING: not removing hydrogen atom without neighbors\n",
      "1724444it [3:05:01, 155.36it/s]RDKit WARNING: [03:09:00] WARNING: not removing hydrogen atom without neighbors\n",
      "RDKit WARNING: [03:09:00] WARNING: not removing hydrogen atom without neighbors\n",
      "RDKit WARNING: [03:09:00] WARNING: not removing hydrogen atom without neighbors\n",
      "1727865it [3:05:24, 157.63it/s]RDKit WARNING: [03:09:22] WARNING: not removing hydrogen atom without neighbors\n",
      "1728684it [3:05:29, 154.92it/s]RDKit WARNING: [03:09:27] WARNING: not removing hydrogen atom without neighbors\n",
      "1729824it [3:05:36, 153.84it/s]RDKit WARNING: [03:09:35] WARNING: not removing hydrogen atom without neighbors\n",
      "RDKit WARNING: [03:09:35] WARNING: not removing hydrogen atom without neighbors\n",
      "1731805it [3:05:49, 155.30it/s]RDKit WARNING: [03:09:48] WARNING: not removing hydrogen atom without neighbors\n",
      "1733570it [3:06:00, 154.19it/s]RDKit WARNING: [03:09:59] WARNING: not removing hydrogen atom without neighbors\n",
      "1734164it [3:06:04, 155.30it/s]RDKit WARNING: [03:10:03] WARNING: not removing hydrogen atom without neighbors\n",
      "1735981it [3:06:16, 153.93it/s]RDKit WARNING: [03:10:15] WARNING: not removing hydrogen atom without neighbors\n",
      "1736285it [3:06:18, 155.01it/s]RDKit WARNING: [03:10:17] WARNING: not removing hydrogen atom without neighbors\n",
      "1736961it [3:06:22, 153.53it/s]RDKit WARNING: [03:10:21] WARNING: not removing hydrogen atom without neighbors\n",
      "1739647it [3:06:40, 154.23it/s]RDKit WARNING: [03:10:38] WARNING: not removing hydrogen atom without neighbors\n",
      "RDKit WARNING: [03:10:38] WARNING: not removing hydrogen atom without neighbors\n",
      "RDKit WARNING: [03:10:38] WARNING: not removing hydrogen atom without neighbors\n",
      "1743607it [3:07:05, 156.37it/s]RDKit WARNING: [03:11:04] WARNING: not removing hydrogen atom without neighbors\n",
      "RDKit WARNING: [03:11:04] WARNING: not removing hydrogen atom without neighbors\n",
      "RDKit WARNING: [03:11:04] WARNING: not removing hydrogen atom without neighbors\n",
      "1744442it [3:07:11, 151.72it/s]RDKit WARNING: [03:11:10] WARNING: not removing hydrogen atom without neighbors\n",
      "1745888it [3:07:20, 153.37it/s]RDKit WARNING: [03:11:19] WARNING: not removing hydrogen atom without neighbors\n",
      "1747571it [3:07:31, 155.58it/s]RDKit WARNING: [03:11:30] WARNING: not removing hydrogen atom without neighbors\n",
      "1748132it [3:07:35, 154.50it/s]RDKit WARNING: [03:11:33] WARNING: not removing hydrogen atom without neighbors\n",
      "1748244it [3:07:35, 154.37it/s]RDKit WARNING: [03:11:34] WARNING: not removing hydrogen atom without neighbors\n",
      "1749974it [3:07:47, 147.96it/s]RDKit WARNING: [03:11:45] WARNING: not removing hydrogen atom without neighbors\n",
      "RDKit WARNING: [03:11:45] WARNING: not removing hydrogen atom without neighbors\n",
      "1750551it [3:07:50, 154.61it/s]RDKit WARNING: [03:11:49] WARNING: not removing hydrogen atom without neighbors\n",
      "1750968it [3:07:53, 153.57it/s]RDKit WARNING: [03:11:52] WARNING: not removing hydrogen atom without neighbors\n",
      "RDKit WARNING: [03:11:52] WARNING: not removing hydrogen atom without neighbors\n",
      "RDKit WARNING: [03:11:52] WARNING: not removing hydrogen atom without neighbors\n",
      "1752714it [3:08:05, 154.09it/s]RDKit WARNING: [03:12:03] WARNING: not removing hydrogen atom without neighbors\n",
      "1753736it [3:08:11, 155.31it/s]\n"
     ]
    }
   ],
   "source": [
    "for idx, row in tqdm(train.iterrows()):\n",
    "    file = row['file_name']\n",
    "    smiles = row['SMILES']\n",
    "    m = Chem.MolFromSmiles(smiles)\n",
    "    if m != None:\n",
    "        img = Draw.MolToImage(m, size=(300,300))\n",
    "        img.save(path+file)"
   ]
  },
  {
   "cell_type": "code",
   "execution_count": 27,
   "metadata": {},
   "outputs": [],
   "source": [
    "import csv"
   ]
  },
  {
   "cell_type": "code",
   "execution_count": 28,
   "metadata": {},
   "outputs": [
    {
     "name": "stderr",
     "output_type": "stream",
     "text": [
      "1753736it [01:34, 18624.31it/s]\n"
     ]
    }
   ],
   "source": [
    "with open('./extra_train(2).csv', 'w', newline='') as extra_train:\n",
    "    datawriter = csv.writer(extra_train)\n",
    "    \n",
    "    datawriter.writerow(['file_name', 'SMILES'])\n",
    "    for idx, row in tqdm(train.iterrows()):\n",
    "        file = row['file_name']\n",
    "        smiles = row['SMILES']\n",
    "        datawriter.writerow([file, smiles])"
   ]
  },
  {
   "cell_type": "code",
   "execution_count": null,
   "metadata": {},
   "outputs": [
    {
     "name": "stderr",
     "output_type": "stream",
     "text": [
      "/home/toc/anaconda3/envs/dacon/lib/python3.7/site-packages/ipykernel_launcher.py:1: H5pyDeprecationWarning: The default file mode will change to 'r' (read-only) in h5py 3.0. To suppress this warning, pass the mode you need to h5py.File(), or set the global default h5.get_config().default_file_mode, or set the environment variable H5PY_DEFAULT_READONLY=1. Available modes are: 'r', 'r+', 'w', 'w-'/'x', 'a'. See the docs for details.\n",
      "  \"\"\"Entry point for launching an IPython kernel.\n",
      "  1%|          | 10084/1753736 [00:17<50:42, 573.10it/s]"
     ]
    },
    {
     "name": "stdout",
     "output_type": "stream",
     "text": [
      "10000\n"
     ]
    },
    {
     "name": "stderr",
     "output_type": "stream",
     "text": [
      "  1%|          | 20108/1753736 [00:35<51:08, 564.98it/s]"
     ]
    },
    {
     "name": "stdout",
     "output_type": "stream",
     "text": [
      "20000\n"
     ]
    },
    {
     "name": "stderr",
     "output_type": "stream",
     "text": [
      "  2%|▏         | 30081/1753736 [00:52<50:05, 573.52it/s]"
     ]
    },
    {
     "name": "stdout",
     "output_type": "stream",
     "text": [
      "30000\n"
     ]
    },
    {
     "name": "stderr",
     "output_type": "stream",
     "text": [
      "  2%|▏         | 40110/1753736 [01:10<49:51, 572.88it/s]  "
     ]
    },
    {
     "name": "stdout",
     "output_type": "stream",
     "text": [
      "40000\n"
     ]
    },
    {
     "name": "stderr",
     "output_type": "stream",
     "text": [
      "  3%|▎         | 50085/1753736 [01:27<49:31, 573.26it/s]"
     ]
    },
    {
     "name": "stdout",
     "output_type": "stream",
     "text": [
      "50000\n"
     ]
    },
    {
     "name": "stderr",
     "output_type": "stream",
     "text": [
      "  3%|▎         | 60058/1753736 [01:45<49:15, 573.09it/s]"
     ]
    },
    {
     "name": "stdout",
     "output_type": "stream",
     "text": [
      "60000\n"
     ]
    },
    {
     "name": "stderr",
     "output_type": "stream",
     "text": [
      "  4%|▍         | 70091/1753736 [02:02<48:56, 573.42it/s]"
     ]
    },
    {
     "name": "stdout",
     "output_type": "stream",
     "text": [
      "70000\n"
     ]
    },
    {
     "name": "stderr",
     "output_type": "stream",
     "text": [
      "  5%|▍         | 80058/1753736 [02:20<48:44, 572.23it/s]  "
     ]
    },
    {
     "name": "stdout",
     "output_type": "stream",
     "text": [
      "80000\n"
     ]
    },
    {
     "name": "stderr",
     "output_type": "stream",
     "text": [
      "  5%|▌         | 90089/1753736 [02:37<48:30, 571.62it/s]"
     ]
    },
    {
     "name": "stdout",
     "output_type": "stream",
     "text": [
      "90000\n"
     ]
    },
    {
     "name": "stderr",
     "output_type": "stream",
     "text": [
      "  6%|▌         | 100065/1753736 [02:55<48:10, 572.07it/s]"
     ]
    },
    {
     "name": "stdout",
     "output_type": "stream",
     "text": [
      "100000\n"
     ]
    },
    {
     "name": "stderr",
     "output_type": "stream",
     "text": [
      "  6%|▋         | 110094/1753736 [03:13<47:44, 573.81it/s]"
     ]
    },
    {
     "name": "stdout",
     "output_type": "stream",
     "text": [
      "110000\n"
     ]
    },
    {
     "name": "stderr",
     "output_type": "stream",
     "text": [
      "  7%|▋         | 120067/1753736 [03:30<47:25, 574.04it/s]"
     ]
    },
    {
     "name": "stdout",
     "output_type": "stream",
     "text": [
      "120000\n"
     ]
    },
    {
     "name": "stderr",
     "output_type": "stream",
     "text": [
      "  7%|▋         | 130090/1753736 [03:48<47:24, 570.81it/s]  "
     ]
    },
    {
     "name": "stdout",
     "output_type": "stream",
     "text": [
      "130000\n"
     ]
    },
    {
     "name": "stderr",
     "output_type": "stream",
     "text": [
      "  8%|▊         | 140060/1753736 [04:05<47:06, 570.93it/s]"
     ]
    },
    {
     "name": "stdout",
     "output_type": "stream",
     "text": [
      "140000\n"
     ]
    },
    {
     "name": "stderr",
     "output_type": "stream",
     "text": [
      "  9%|▊         | 150081/1753736 [04:23<46:45, 571.55it/s]"
     ]
    },
    {
     "name": "stdout",
     "output_type": "stream",
     "text": [
      "150000\n"
     ]
    },
    {
     "name": "stderr",
     "output_type": "stream",
     "text": [
      "  9%|▉         | 160113/1753736 [04:40<46:27, 571.74it/s]"
     ]
    },
    {
     "name": "stdout",
     "output_type": "stream",
     "text": [
      "160000\n"
     ]
    },
    {
     "name": "stderr",
     "output_type": "stream",
     "text": [
      " 10%|▉         | 170067/1753736 [04:58<46:12, 571.19it/s]"
     ]
    },
    {
     "name": "stdout",
     "output_type": "stream",
     "text": [
      "170000\n"
     ]
    },
    {
     "name": "stderr",
     "output_type": "stream",
     "text": [
      " 10%|█         | 180092/1753736 [05:15<46:26, 564.67it/s]"
     ]
    },
    {
     "name": "stdout",
     "output_type": "stream",
     "text": [
      "180000\n"
     ]
    },
    {
     "name": "stderr",
     "output_type": "stream",
     "text": [
      " 11%|█         | 190114/1753736 [05:33<45:41, 570.27it/s]"
     ]
    },
    {
     "name": "stdout",
     "output_type": "stream",
     "text": [
      "190000\n"
     ]
    },
    {
     "name": "stderr",
     "output_type": "stream",
     "text": [
      " 11%|█▏        | 200072/1753736 [05:51<45:23, 570.42it/s]"
     ]
    },
    {
     "name": "stdout",
     "output_type": "stream",
     "text": [
      "200000\n"
     ]
    },
    {
     "name": "stderr",
     "output_type": "stream",
     "text": [
      " 12%|█▏        | 210075/1753736 [06:08<45:07, 570.05it/s]"
     ]
    },
    {
     "name": "stdout",
     "output_type": "stream",
     "text": [
      "210000\n"
     ]
    },
    {
     "name": "stderr",
     "output_type": "stream",
     "text": [
      " 13%|█▎        | 220084/1753736 [06:26<44:44, 571.24it/s]"
     ]
    },
    {
     "name": "stdout",
     "output_type": "stream",
     "text": [
      "220000\n"
     ]
    },
    {
     "name": "stderr",
     "output_type": "stream",
     "text": [
      " 13%|█▎        | 230110/1753736 [06:43<44:26, 571.44it/s]"
     ]
    },
    {
     "name": "stdout",
     "output_type": "stream",
     "text": [
      "230000\n"
     ]
    },
    {
     "name": "stderr",
     "output_type": "stream",
     "text": [
      " 14%|█▎        | 240067/1753736 [07:01<44:07, 571.68it/s]"
     ]
    },
    {
     "name": "stdout",
     "output_type": "stream",
     "text": [
      "240000\n"
     ]
    },
    {
     "name": "stderr",
     "output_type": "stream",
     "text": [
      " 14%|█▍        | 250085/1753736 [07:19<43:55, 570.57it/s]"
     ]
    },
    {
     "name": "stdout",
     "output_type": "stream",
     "text": [
      "250000\n"
     ]
    },
    {
     "name": "stderr",
     "output_type": "stream",
     "text": [
      " 15%|█▍        | 260085/1753736 [07:36<43:42, 569.46it/s]"
     ]
    },
    {
     "name": "stdout",
     "output_type": "stream",
     "text": [
      "260000\n"
     ]
    },
    {
     "name": "stderr",
     "output_type": "stream",
     "text": [
      " 15%|█▌        | 270097/1753736 [07:54<43:35, 567.15it/s]"
     ]
    },
    {
     "name": "stdout",
     "output_type": "stream",
     "text": [
      "270000\n"
     ]
    },
    {
     "name": "stderr",
     "output_type": "stream",
     "text": [
      " 16%|█▌        | 280106/1753736 [08:12<43:53, 559.51it/s]"
     ]
    },
    {
     "name": "stdout",
     "output_type": "stream",
     "text": [
      "280000\n"
     ]
    },
    {
     "name": "stderr",
     "output_type": "stream",
     "text": [
      " 17%|█▋        | 290075/1753736 [08:29<42:48, 569.87it/s]  "
     ]
    },
    {
     "name": "stdout",
     "output_type": "stream",
     "text": [
      "290000\n"
     ]
    },
    {
     "name": "stderr",
     "output_type": "stream",
     "text": [
      " 17%|█▋        | 300099/1753736 [08:47<43:03, 562.61it/s]"
     ]
    },
    {
     "name": "stdout",
     "output_type": "stream",
     "text": [
      "300000\n"
     ]
    },
    {
     "name": "stderr",
     "output_type": "stream",
     "text": [
      " 18%|█▊        | 310075/1753736 [09:05<42:12, 569.95it/s]"
     ]
    },
    {
     "name": "stdout",
     "output_type": "stream",
     "text": [
      "310000\n"
     ]
    },
    {
     "name": "stderr",
     "output_type": "stream",
     "text": [
      " 18%|█▊        | 320061/1753736 [09:22<42:07, 567.34it/s]"
     ]
    },
    {
     "name": "stdout",
     "output_type": "stream",
     "text": [
      "320000\n"
     ]
    },
    {
     "name": "stderr",
     "output_type": "stream",
     "text": [
      " 19%|█▉        | 330070/1753736 [09:40<41:35, 570.55it/s]"
     ]
    },
    {
     "name": "stdout",
     "output_type": "stream",
     "text": [
      "330000\n"
     ]
    },
    {
     "name": "stderr",
     "output_type": "stream",
     "text": [
      " 19%|█▉        | 340085/1753736 [09:58<41:12, 571.72it/s]"
     ]
    },
    {
     "name": "stdout",
     "output_type": "stream",
     "text": [
      "340000\n"
     ]
    },
    {
     "name": "stderr",
     "output_type": "stream",
     "text": [
      " 20%|█▉        | 350086/1753736 [10:15<41:04, 569.49it/s]  "
     ]
    },
    {
     "name": "stdout",
     "output_type": "stream",
     "text": [
      "350000\n"
     ]
    },
    {
     "name": "stderr",
     "output_type": "stream",
     "text": [
      " 21%|██        | 360109/1753736 [10:33<40:58, 566.85it/s]"
     ]
    },
    {
     "name": "stdout",
     "output_type": "stream",
     "text": [
      "360000\n"
     ]
    },
    {
     "name": "stderr",
     "output_type": "stream",
     "text": [
      " 21%|██        | 370105/1753736 [10:51<40:15, 572.71it/s]"
     ]
    },
    {
     "name": "stdout",
     "output_type": "stream",
     "text": [
      "370000\n"
     ]
    },
    {
     "name": "stderr",
     "output_type": "stream",
     "text": [
      " 22%|██▏       | 380113/1753736 [11:08<40:07, 570.66it/s]"
     ]
    },
    {
     "name": "stdout",
     "output_type": "stream",
     "text": [
      "380000\n"
     ]
    },
    {
     "name": "stderr",
     "output_type": "stream",
     "text": [
      " 22%|██▏       | 390079/1753736 [11:26<39:44, 571.87it/s]"
     ]
    },
    {
     "name": "stdout",
     "output_type": "stream",
     "text": [
      "390000\n"
     ]
    },
    {
     "name": "stderr",
     "output_type": "stream",
     "text": [
      " 23%|██▎       | 400098/1753736 [11:43<39:23, 572.67it/s]  "
     ]
    },
    {
     "name": "stdout",
     "output_type": "stream",
     "text": [
      "400000\n"
     ]
    },
    {
     "name": "stderr",
     "output_type": "stream",
     "text": [
      " 23%|██▎       | 410103/1753736 [12:01<39:04, 572.99it/s]"
     ]
    },
    {
     "name": "stdout",
     "output_type": "stream",
     "text": [
      "410000\n"
     ]
    },
    {
     "name": "stderr",
     "output_type": "stream",
     "text": [
      " 24%|██▍       | 420115/1753736 [12:19<38:44, 573.71it/s]"
     ]
    },
    {
     "name": "stdout",
     "output_type": "stream",
     "text": [
      "420000\n"
     ]
    },
    {
     "name": "stderr",
     "output_type": "stream",
     "text": [
      " 25%|██▍       | 430064/1753736 [12:36<38:27, 573.72it/s]"
     ]
    },
    {
     "name": "stdout",
     "output_type": "stream",
     "text": [
      "430000\n"
     ]
    },
    {
     "name": "stderr",
     "output_type": "stream",
     "text": [
      " 25%|██▌       | 440091/1753736 [12:54<38:08, 574.11it/s]"
     ]
    },
    {
     "name": "stdout",
     "output_type": "stream",
     "text": [
      "440000\n"
     ]
    },
    {
     "name": "stderr",
     "output_type": "stream",
     "text": [
      " 26%|██▌       | 450058/1753736 [13:11<37:52, 573.73it/s]"
     ]
    },
    {
     "name": "stdout",
     "output_type": "stream",
     "text": [
      "450000\n"
     ]
    },
    {
     "name": "stderr",
     "output_type": "stream",
     "text": [
      " 26%|██▌       | 460081/1753736 [13:29<37:37, 572.93it/s]"
     ]
    },
    {
     "name": "stdout",
     "output_type": "stream",
     "text": [
      "460000\n"
     ]
    },
    {
     "name": "stderr",
     "output_type": "stream",
     "text": [
      " 27%|██▋       | 470106/1753736 [13:47<37:22, 572.46it/s]"
     ]
    },
    {
     "name": "stdout",
     "output_type": "stream",
     "text": [
      "470000\n"
     ]
    },
    {
     "name": "stderr",
     "output_type": "stream",
     "text": [
      " 27%|██▋       | 480080/1753736 [14:04<36:59, 573.92it/s]"
     ]
    },
    {
     "name": "stdout",
     "output_type": "stream",
     "text": [
      "480000\n"
     ]
    },
    {
     "name": "stderr",
     "output_type": "stream",
     "text": [
      " 28%|██▊       | 490107/1753736 [14:22<36:40, 574.26it/s]"
     ]
    },
    {
     "name": "stdout",
     "output_type": "stream",
     "text": [
      "490000\n"
     ]
    },
    {
     "name": "stderr",
     "output_type": "stream",
     "text": [
      " 29%|██▊       | 500075/1753736 [14:39<36:30, 572.36it/s]"
     ]
    },
    {
     "name": "stdout",
     "output_type": "stream",
     "text": [
      "500000\n"
     ]
    },
    {
     "name": "stderr",
     "output_type": "stream",
     "text": [
      " 29%|██▉       | 510090/1753736 [14:57<36:07, 573.75it/s]"
     ]
    },
    {
     "name": "stdout",
     "output_type": "stream",
     "text": [
      "510000\n"
     ]
    },
    {
     "name": "stderr",
     "output_type": "stream",
     "text": [
      " 30%|██▉       | 520102/1753736 [15:14<36:16, 566.79it/s]"
     ]
    },
    {
     "name": "stdout",
     "output_type": "stream",
     "text": [
      "520000\n"
     ]
    },
    {
     "name": "stderr",
     "output_type": "stream",
     "text": [
      " 30%|███       | 530099/1753736 [15:32<37:01, 550.84it/s]"
     ]
    },
    {
     "name": "stdout",
     "output_type": "stream",
     "text": [
      "530000\n"
     ]
    },
    {
     "name": "stderr",
     "output_type": "stream",
     "text": [
      " 31%|███       | 540071/1753736 [15:49<35:25, 570.94it/s]"
     ]
    },
    {
     "name": "stdout",
     "output_type": "stream",
     "text": [
      "540000\n"
     ]
    },
    {
     "name": "stderr",
     "output_type": "stream",
     "text": [
      " 31%|███▏      | 550082/1753736 [16:07<36:07, 555.20it/s]"
     ]
    },
    {
     "name": "stdout",
     "output_type": "stream",
     "text": [
      "550000\n"
     ]
    },
    {
     "name": "stderr",
     "output_type": "stream",
     "text": [
      " 32%|███▏      | 560084/1753736 [16:25<34:57, 568.96it/s]"
     ]
    },
    {
     "name": "stdout",
     "output_type": "stream",
     "text": [
      "560000\n"
     ]
    },
    {
     "name": "stderr",
     "output_type": "stream",
     "text": [
      " 33%|███▎      | 570100/1753736 [16:43<34:48, 566.81it/s]"
     ]
    },
    {
     "name": "stdout",
     "output_type": "stream",
     "text": [
      "570000\n"
     ]
    },
    {
     "name": "stderr",
     "output_type": "stream",
     "text": [
      " 33%|███▎      | 580107/1753736 [17:00<34:19, 569.88it/s]"
     ]
    },
    {
     "name": "stdout",
     "output_type": "stream",
     "text": [
      "580000\n"
     ]
    },
    {
     "name": "stderr",
     "output_type": "stream",
     "text": [
      " 34%|███▎      | 590107/1753736 [17:18<34:11, 567.16it/s]"
     ]
    },
    {
     "name": "stdout",
     "output_type": "stream",
     "text": [
      "590000\n"
     ]
    },
    {
     "name": "stderr",
     "output_type": "stream",
     "text": [
      " 34%|███▍      | 600113/1753736 [17:36<33:44, 569.74it/s]"
     ]
    },
    {
     "name": "stdout",
     "output_type": "stream",
     "text": [
      "600000\n"
     ]
    },
    {
     "name": "stderr",
     "output_type": "stream",
     "text": [
      " 35%|███▍      | 610077/1753736 [17:53<33:24, 570.52it/s]"
     ]
    },
    {
     "name": "stdout",
     "output_type": "stream",
     "text": [
      "610000\n"
     ]
    },
    {
     "name": "stderr",
     "output_type": "stream",
     "text": [
      " 35%|███▌      | 620079/1753736 [18:11<33:11, 569.34it/s]"
     ]
    },
    {
     "name": "stdout",
     "output_type": "stream",
     "text": [
      "620000\n"
     ]
    },
    {
     "name": "stderr",
     "output_type": "stream",
     "text": [
      " 36%|███▌      | 630099/1753736 [18:28<32:48, 570.72it/s]"
     ]
    },
    {
     "name": "stdout",
     "output_type": "stream",
     "text": [
      "630000\n"
     ]
    },
    {
     "name": "stderr",
     "output_type": "stream",
     "text": [
      " 36%|███▋      | 640111/1753736 [18:46<32:35, 569.56it/s]"
     ]
    },
    {
     "name": "stdout",
     "output_type": "stream",
     "text": [
      "640000\n"
     ]
    },
    {
     "name": "stderr",
     "output_type": "stream",
     "text": [
      " 37%|███▋      | 650111/1753736 [19:04<32:33, 564.90it/s]"
     ]
    },
    {
     "name": "stdout",
     "output_type": "stream",
     "text": [
      "650000\n"
     ]
    },
    {
     "name": "stderr",
     "output_type": "stream",
     "text": [
      " 38%|███▊      | 660072/1753736 [19:21<31:54, 571.23it/s]"
     ]
    },
    {
     "name": "stdout",
     "output_type": "stream",
     "text": [
      "660000\n"
     ]
    },
    {
     "name": "stderr",
     "output_type": "stream",
     "text": [
      " 38%|███▊      | 670083/1753736 [19:39<31:36, 571.29it/s]"
     ]
    },
    {
     "name": "stdout",
     "output_type": "stream",
     "text": [
      "670000\n"
     ]
    },
    {
     "name": "stderr",
     "output_type": "stream",
     "text": [
      " 39%|███▉      | 680097/1753736 [19:56<31:30, 567.91it/s]"
     ]
    },
    {
     "name": "stdout",
     "output_type": "stream",
     "text": [
      "680000\n"
     ]
    },
    {
     "name": "stderr",
     "output_type": "stream",
     "text": [
      " 39%|███▉      | 690084/1753736 [20:14<31:10, 568.53it/s]"
     ]
    },
    {
     "name": "stdout",
     "output_type": "stream",
     "text": [
      "690000\n"
     ]
    },
    {
     "name": "stderr",
     "output_type": "stream",
     "text": [
      " 40%|███▉      | 700111/1753736 [20:32<30:51, 569.19it/s]"
     ]
    },
    {
     "name": "stdout",
     "output_type": "stream",
     "text": [
      "700000\n"
     ]
    },
    {
     "name": "stderr",
     "output_type": "stream",
     "text": [
      " 40%|████      | 710079/1753736 [20:49<30:31, 569.73it/s]"
     ]
    },
    {
     "name": "stdout",
     "output_type": "stream",
     "text": [
      "710000\n"
     ]
    },
    {
     "name": "stderr",
     "output_type": "stream",
     "text": [
      " 41%|████      | 720109/1753736 [21:07<30:12, 570.17it/s]"
     ]
    },
    {
     "name": "stdout",
     "output_type": "stream",
     "text": [
      "720000\n"
     ]
    },
    {
     "name": "stderr",
     "output_type": "stream",
     "text": [
      " 42%|████▏     | 730078/1753736 [21:25<29:47, 572.63it/s]"
     ]
    },
    {
     "name": "stdout",
     "output_type": "stream",
     "text": [
      "730000\n"
     ]
    },
    {
     "name": "stderr",
     "output_type": "stream",
     "text": [
      " 42%|████▏     | 740087/1753736 [21:42<29:57, 563.99it/s]"
     ]
    },
    {
     "name": "stdout",
     "output_type": "stream",
     "text": [
      "740000\n"
     ]
    },
    {
     "name": "stderr",
     "output_type": "stream",
     "text": [
      " 43%|████▎     | 750073/1753736 [22:00<29:26, 568.02it/s]"
     ]
    },
    {
     "name": "stdout",
     "output_type": "stream",
     "text": [
      "750000\n"
     ]
    },
    {
     "name": "stderr",
     "output_type": "stream",
     "text": [
      " 43%|████▎     | 760082/1753736 [22:18<29:32, 560.61it/s]"
     ]
    },
    {
     "name": "stdout",
     "output_type": "stream",
     "text": [
      "760000\n"
     ]
    },
    {
     "name": "stderr",
     "output_type": "stream",
     "text": [
      " 44%|████▍     | 770089/1753736 [22:36<28:46, 569.79it/s]"
     ]
    },
    {
     "name": "stdout",
     "output_type": "stream",
     "text": [
      "770000\n"
     ]
    },
    {
     "name": "stderr",
     "output_type": "stream",
     "text": [
      " 44%|████▍     | 780108/1753736 [22:53<28:33, 568.32it/s]"
     ]
    },
    {
     "name": "stdout",
     "output_type": "stream",
     "text": [
      "780000\n"
     ]
    },
    {
     "name": "stderr",
     "output_type": "stream",
     "text": [
      " 45%|████▌     | 790074/1753736 [23:11<28:12, 569.49it/s]"
     ]
    },
    {
     "name": "stdout",
     "output_type": "stream",
     "text": [
      "790000\n"
     ]
    },
    {
     "name": "stderr",
     "output_type": "stream",
     "text": [
      " 46%|████▌     | 800072/1753736 [23:29<28:01, 567.03it/s]"
     ]
    },
    {
     "name": "stdout",
     "output_type": "stream",
     "text": [
      "800000\n"
     ]
    },
    {
     "name": "stderr",
     "output_type": "stream",
     "text": [
      " 46%|████▌     | 810112/1753736 [23:46<27:40, 568.27it/s]"
     ]
    },
    {
     "name": "stdout",
     "output_type": "stream",
     "text": [
      "810000\n"
     ]
    },
    {
     "name": "stderr",
     "output_type": "stream",
     "text": [
      " 47%|████▋     | 820070/1753736 [24:04<27:23, 568.26it/s]"
     ]
    },
    {
     "name": "stdout",
     "output_type": "stream",
     "text": [
      "820000\n"
     ]
    },
    {
     "name": "stderr",
     "output_type": "stream",
     "text": [
      " 47%|████▋     | 830089/1753736 [24:22<27:07, 567.43it/s]"
     ]
    },
    {
     "name": "stdout",
     "output_type": "stream",
     "text": [
      "830000\n"
     ]
    },
    {
     "name": "stderr",
     "output_type": "stream",
     "text": [
      " 48%|████▊     | 840109/1753736 [24:39<26:43, 569.93it/s]"
     ]
    },
    {
     "name": "stdout",
     "output_type": "stream",
     "text": [
      "840000\n"
     ]
    },
    {
     "name": "stderr",
     "output_type": "stream",
     "text": [
      " 48%|████▊     | 850074/1753736 [24:57<26:28, 569.06it/s]"
     ]
    },
    {
     "name": "stdout",
     "output_type": "stream",
     "text": [
      "850000\n"
     ]
    },
    {
     "name": "stderr",
     "output_type": "stream",
     "text": [
      " 49%|████▉     | 860102/1753736 [25:15<26:18, 565.98it/s]"
     ]
    },
    {
     "name": "stdout",
     "output_type": "stream",
     "text": [
      "860000\n"
     ]
    },
    {
     "name": "stderr",
     "output_type": "stream",
     "text": [
      " 50%|████▉     | 870079/1753736 [25:33<26:01, 565.75it/s]"
     ]
    },
    {
     "name": "stdout",
     "output_type": "stream",
     "text": [
      "870000\n"
     ]
    },
    {
     "name": "stderr",
     "output_type": "stream",
     "text": [
      " 50%|█████     | 880058/1753736 [25:50<25:39, 567.56it/s]"
     ]
    },
    {
     "name": "stdout",
     "output_type": "stream",
     "text": [
      "880000\n"
     ]
    },
    {
     "name": "stderr",
     "output_type": "stream",
     "text": [
      " 51%|█████     | 890059/1753736 [26:08<26:09, 550.42it/s]"
     ]
    },
    {
     "name": "stdout",
     "output_type": "stream",
     "text": [
      "890000\n"
     ]
    },
    {
     "name": "stderr",
     "output_type": "stream",
     "text": [
      " 51%|█████▏    | 900092/1753736 [26:26<25:00, 569.01it/s]"
     ]
    },
    {
     "name": "stdout",
     "output_type": "stream",
     "text": [
      "900000\n"
     ]
    },
    {
     "name": "stderr",
     "output_type": "stream",
     "text": [
      " 52%|█████▏    | 910089/1753736 [26:43<25:12, 557.74it/s]"
     ]
    },
    {
     "name": "stdout",
     "output_type": "stream",
     "text": [
      "910000\n"
     ]
    },
    {
     "name": "stderr",
     "output_type": "stream",
     "text": [
      " 52%|█████▏    | 920101/1753736 [27:01<24:23, 569.55it/s]"
     ]
    },
    {
     "name": "stdout",
     "output_type": "stream",
     "text": [
      "920000\n"
     ]
    },
    {
     "name": "stderr",
     "output_type": "stream",
     "text": [
      " 53%|█████▎    | 930093/1753736 [27:19<24:22, 563.04it/s]"
     ]
    },
    {
     "name": "stdout",
     "output_type": "stream",
     "text": [
      "930000\n"
     ]
    },
    {
     "name": "stderr",
     "output_type": "stream",
     "text": [
      " 54%|█████▎    | 940092/1753736 [27:36<23:50, 568.68it/s]"
     ]
    },
    {
     "name": "stdout",
     "output_type": "stream",
     "text": [
      "940000\n"
     ]
    },
    {
     "name": "stderr",
     "output_type": "stream",
     "text": [
      " 54%|█████▍    | 950082/1753736 [27:54<23:36, 567.23it/s]"
     ]
    },
    {
     "name": "stdout",
     "output_type": "stream",
     "text": [
      "950000\n"
     ]
    },
    {
     "name": "stderr",
     "output_type": "stream",
     "text": [
      " 55%|█████▍    | 960064/1753736 [28:12<23:14, 569.30it/s]"
     ]
    },
    {
     "name": "stdout",
     "output_type": "stream",
     "text": [
      "960000\n"
     ]
    },
    {
     "name": "stderr",
     "output_type": "stream",
     "text": [
      " 55%|█████▌    | 970109/1753736 [28:29<22:58, 568.42it/s]"
     ]
    },
    {
     "name": "stdout",
     "output_type": "stream",
     "text": [
      "970000\n"
     ]
    },
    {
     "name": "stderr",
     "output_type": "stream",
     "text": [
      " 56%|█████▌    | 980072/1753736 [28:47<22:41, 568.10it/s]"
     ]
    },
    {
     "name": "stdout",
     "output_type": "stream",
     "text": [
      "980000\n"
     ]
    },
    {
     "name": "stderr",
     "output_type": "stream",
     "text": [
      " 56%|█████▋    | 990113/1753736 [29:05<22:22, 568.85it/s]"
     ]
    },
    {
     "name": "stdout",
     "output_type": "stream",
     "text": [
      "990000\n"
     ]
    },
    {
     "name": "stderr",
     "output_type": "stream",
     "text": [
      " 57%|█████▋    | 1000084/1753736 [29:22<22:04, 568.86it/s]"
     ]
    },
    {
     "name": "stdout",
     "output_type": "stream",
     "text": [
      "1000000\n"
     ]
    },
    {
     "name": "stderr",
     "output_type": "stream",
     "text": [
      " 58%|█████▊    | 1010078/1753736 [29:40<21:48, 568.52it/s]"
     ]
    },
    {
     "name": "stdout",
     "output_type": "stream",
     "text": [
      "1010000\n"
     ]
    },
    {
     "name": "stderr",
     "output_type": "stream",
     "text": [
      " 58%|█████▊    | 1020095/1753736 [29:58<21:32, 567.71it/s]"
     ]
    },
    {
     "name": "stdout",
     "output_type": "stream",
     "text": [
      "1020000\n"
     ]
    },
    {
     "name": "stderr",
     "output_type": "stream",
     "text": [
      " 59%|█████▊    | 1030061/1753736 [30:15<21:14, 567.87it/s]"
     ]
    },
    {
     "name": "stdout",
     "output_type": "stream",
     "text": [
      "1030000\n"
     ]
    },
    {
     "name": "stderr",
     "output_type": "stream",
     "text": [
      " 59%|█████▉    | 1040077/1753736 [30:33<20:53, 569.36it/s]"
     ]
    },
    {
     "name": "stdout",
     "output_type": "stream",
     "text": [
      "1040000\n"
     ]
    },
    {
     "name": "stderr",
     "output_type": "stream",
     "text": [
      " 60%|█████▉    | 1050065/1753736 [30:51<20:33, 570.53it/s]"
     ]
    },
    {
     "name": "stdout",
     "output_type": "stream",
     "text": [
      "1050000\n"
     ]
    },
    {
     "name": "stderr",
     "output_type": "stream",
     "text": [
      " 60%|██████    | 1060092/1753736 [31:08<21:04, 548.35it/s]"
     ]
    },
    {
     "name": "stdout",
     "output_type": "stream",
     "text": [
      "1060000\n"
     ]
    },
    {
     "name": "stderr",
     "output_type": "stream",
     "text": [
      " 61%|██████    | 1070095/1753736 [31:26<19:57, 570.86it/s]"
     ]
    },
    {
     "name": "stdout",
     "output_type": "stream",
     "text": [
      "1070000\n"
     ]
    },
    {
     "name": "stderr",
     "output_type": "stream",
     "text": [
      " 62%|██████▏   | 1080110/1753736 [31:44<20:12, 555.46it/s]"
     ]
    },
    {
     "name": "stdout",
     "output_type": "stream",
     "text": [
      "1080000\n"
     ]
    },
    {
     "name": "stderr",
     "output_type": "stream",
     "text": [
      " 62%|██████▏   | 1090062/1753736 [32:01<19:27, 568.48it/s]"
     ]
    },
    {
     "name": "stdout",
     "output_type": "stream",
     "text": [
      "1090000\n"
     ]
    },
    {
     "name": "stderr",
     "output_type": "stream",
     "text": [
      " 63%|██████▎   | 1100113/1753736 [32:19<19:06, 569.92it/s]"
     ]
    },
    {
     "name": "stdout",
     "output_type": "stream",
     "text": [
      "1100000\n"
     ]
    },
    {
     "name": "stderr",
     "output_type": "stream",
     "text": [
      " 63%|██████▎   | 1110062/1753736 [32:36<18:49, 569.77it/s]"
     ]
    },
    {
     "name": "stdout",
     "output_type": "stream",
     "text": [
      "1110000\n"
     ]
    },
    {
     "name": "stderr",
     "output_type": "stream",
     "text": [
      " 64%|██████▍   | 1120078/1753736 [32:54<18:30, 570.73it/s]"
     ]
    },
    {
     "name": "stdout",
     "output_type": "stream",
     "text": [
      "1120000\n"
     ]
    },
    {
     "name": "stderr",
     "output_type": "stream",
     "text": [
      " 64%|██████▍   | 1128307/1753736 [33:08<18:15, 570.79it/s]"
     ]
    }
   ],
   "source": [
    "f = h5py.File('./backup/extra_train(2)_images.hdf5')\n",
    "dt = h5py.special_dtype(vlen=np.dtype('uint8'))\n",
    "dset = f.create_dataset('images', (1907741, ), dtype=dt)\n",
    "\n",
    "data_folder = './'\n",
    "data_name = 'extra_train(2).csv'\n",
    "\n",
    "with open(data_folder + data_name, 'r') as csv_file:\n",
    "    data = csv_file.read()\n",
    "\n",
    "index = 0\n",
    "\n",
    "for line in tqdm(data.split('\\n')[1:-1]):\n",
    "    image_id, smiles = line.split(',')\n",
    "    caption = \"<\" + smiles + \">\"\n",
    "    filename = data_folder + \"extra_train(2)/\"+ image_id\n",
    "    #fin = open(filename, 'rb')\n",
    "    #binary_data = fin.read()\n",
    "    dset[index] = np.array(Image.open(filename).resize((224,224))).flatten()\n",
    "    index += 1\n",
    "    \n",
    "    if index % 10000 == 0:\n",
    "        print(index)"
   ]
  },
  {
   "cell_type": "code",
   "execution_count": null,
   "metadata": {},
   "outputs": [],
   "source": []
  }
 ],
 "metadata": {
  "kernelspec": {
   "display_name": "Python 3",
   "language": "python",
   "name": "python3"
  },
  "language_info": {
   "codemirror_mode": {
    "name": "ipython",
    "version": 3
   },
   "file_extension": ".py",
   "mimetype": "text/x-python",
   "name": "python",
   "nbconvert_exporter": "python",
   "pygments_lexer": "ipython3",
   "version": "3.6.12"
  }
 },
 "nbformat": 4,
 "nbformat_minor": 4
}

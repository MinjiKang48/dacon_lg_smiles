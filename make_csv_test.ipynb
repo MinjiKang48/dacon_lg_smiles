{
 "cells": [
  {
   "cell_type": "code",
   "execution_count": 20,
   "metadata": {},
   "outputs": [],
   "source": [
    "import csv"
   ]
  },
  {
   "cell_type": "code",
   "execution_count": 21,
   "metadata": {},
   "outputs": [],
   "source": [
    "with open('./extra_train.csv', 'w', newline='') as extra_train:\n",
    "    datawriter = csv.writer(extra_train)\n",
    "    \n",
    "    datawriter.writerow(('file_name', 'SMILES'))\n",
    "    file = 'train_0.png'    \n",
    "    smiles = 'CCc1(N)c1'\n",
    "    datawriter.writerow([file, smiles])\n",
    "    file = 'train_1.png'\n",
    "    smiles = 'CCCC'\n",
    "    datawriter.writerow([file, smiles])"
   ]
  },
  {
   "cell_type": "code",
   "execution_count": null,
   "metadata": {},
   "outputs": [],
   "source": []
  }
 ],
 "metadata": {
  "kernelspec": {
   "display_name": "Python 3",
   "language": "python",
   "name": "python3"
  },
  "language_info": {
   "codemirror_mode": {
    "name": "ipython",
    "version": 3
   },
   "file_extension": ".py",
   "mimetype": "text/x-python",
   "name": "python",
   "nbconvert_exporter": "python",
   "pygments_lexer": "ipython3",
   "version": "3.6.12"
  }
 },
 "nbformat": 4,
 "nbformat_minor": 4
}
